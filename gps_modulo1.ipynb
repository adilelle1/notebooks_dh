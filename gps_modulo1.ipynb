{
 "cells": [
  {
   "cell_type": "markdown",
   "source": [
    "## NUMPY"
   ],
   "metadata": {
    "collapsed": false,
    "pycharm": {
     "name": "#%% md\n"
    }
   }
  },
  {
   "cell_type": "code",
   "execution_count": 1,
   "metadata": {
    "collapsed": true,
    "pycharm": {
     "name": "#%%\n"
    }
   },
   "outputs": [
    {
     "data": {
      "text/plain": "array([['10107', '2871', '2', '2003', 'Motorcycles', 'USA'],\n       ['10121', '2765.9', '5', '2003', 'Motorcycles', 'France'],\n       ['10134', '3884.34', '7', '2003', 'Motorcycles', 'France'],\n       ...,\n       ['10386', '5417.57', '3', '2005', 'Ships', 'Spain'],\n       ['10397', '2116.16', '3', '2005', 'Ships', 'France'],\n       ['10414', '3079.44', '5', '2005', 'Ships', 'USA']], dtype='<U16')"
     },
     "execution_count": 1,
     "metadata": {},
     "output_type": "execute_result"
    }
   ],
   "source": [
    "import numpy as np\n",
    "import pandas as pd\n",
    "\n",
    "archivo = r'C:\\Users\\alejo\\dh\\notebooks\\clase_03\\dsad_2021\\M1\\CLASE_03_Numpy\\Data\\sales_data_sample_excercise.csv'\n",
    "\n",
    "data_np = np.genfromtxt(archivo,dtype=str,delimiter='\\t',skip_header=1)\n",
    "data_np"
   ]
  },
  {
   "cell_type": "markdown",
   "source": [
    "## Ejercicio 8\n",
    "\n",
    "¿Cuál fue el año con máximo desvío en las ventas en France?\n",
    "\n",
    "Ayuda: https://docs.scipy.org/doc/numpy/reference/generated/numpy.unique.html"
   ],
   "metadata": {
    "collapsed": false,
    "pycharm": {
     "name": "#%% md\n"
    }
   }
  },
  {
   "cell_type": "code",
   "execution_count": 7,
   "outputs": [
    {
     "data": {
      "text/plain": "array([['10121', '2765.9', '5', '2003', 'Motorcycles', 'France'],\n       ['10134', '3884.34', '7', '2003', 'Motorcycles', 'France'],\n       ['10180', '2497.77', '11', '2003', 'Motorcycles', 'France'],\n       ...,\n       ['10208', '2682.96', '1', '2004', 'Ships', 'France'],\n       ['10315', '2227.6', '10', '2004', 'Ships', 'France'],\n       ['10397', '2116.16', '3', '2005', 'Ships', 'France']], dtype='<U16')"
     },
     "execution_count": 7,
     "metadata": {},
     "output_type": "execute_result"
    }
   ],
   "source": [
    "mask_francia= data_np[:,5] == 'France'\n",
    "data_france = data_np[mask_francia]\n",
    "data_france"
   ],
   "metadata": {
    "collapsed": false,
    "pycharm": {
     "name": "#%%\n"
    }
   }
  },
  {
   "cell_type": "code",
   "execution_count": 20,
   "outputs": [],
   "source": [
    "year_array = data_np[:,3].astype(int)\n",
    "year_francia = year_array[mask_francia]\n",
    "unique_years= np.unique(year_francia)"
   ],
   "metadata": {
    "collapsed": false,
    "pycharm": {
     "name": "#%%\n"
    }
   }
  },
  {
   "cell_type": "code",
   "execution_count": 21,
   "outputs": [
    {
     "data": {
      "text/plain": "array(['2871', '2765.9', '3884.34', ..., '5417.57', '2116.16', '3079.44'],\n      dtype='<U16')"
     },
     "execution_count": 21,
     "metadata": {},
     "output_type": "execute_result"
    }
   ],
   "source": [
    "sales_array = data_np[:,1]\n",
    "sales_france= sales_array[mask_francia]\n",
    "sales_array"
   ],
   "metadata": {
    "collapsed": false,
    "pycharm": {
     "name": "#%%\n"
    }
   }
  },
  {
   "cell_type": "code",
   "execution_count": 23,
   "outputs": [
    {
     "ename": "TypeError",
     "evalue": "cannot perform reduce with flexible type",
     "output_type": "error",
     "traceback": [
      "\u001B[1;31m---------------------------------------------------------------------------\u001B[0m",
      "\u001B[1;31mTypeError\u001B[0m                                 Traceback (most recent call last)",
      "Input \u001B[1;32mIn [23]\u001B[0m, in \u001B[0;36m<cell line: 3>\u001B[1;34m()\u001B[0m\n\u001B[0;32m      3\u001B[0m \u001B[38;5;28;01mfor\u001B[39;00m i \u001B[38;5;129;01min\u001B[39;00m unique_years:\n\u001B[0;32m      4\u001B[0m     year_mask\u001B[38;5;241m=\u001B[39m year_francia \u001B[38;5;241m==\u001B[39m i\n\u001B[1;32m----> 5\u001B[0m     desvio_year_i \u001B[38;5;241m=\u001B[39m \u001B[43mnp\u001B[49m\u001B[38;5;241;43m.\u001B[39;49m\u001B[43mstd\u001B[49m\u001B[43m(\u001B[49m\u001B[43msales_france\u001B[49m\u001B[43m[\u001B[49m\u001B[43myear_mask\u001B[49m\u001B[43m]\u001B[49m\u001B[43m)\u001B[49m\n\u001B[0;32m      6\u001B[0m     desvios_france \u001B[38;5;241m=\u001B[39m np\u001B[38;5;241m.\u001B[39mappend(desvios_france,desvio_year_i)\n\u001B[0;32m      8\u001B[0m desvio_max_mask \u001B[38;5;241m=\u001B[39m desvios_france \u001B[38;5;241m==\u001B[39m desvios_france\u001B[38;5;241m.\u001B[39mmax()\n",
      "File \u001B[1;32m<__array_function__ internals>:5\u001B[0m, in \u001B[0;36mstd\u001B[1;34m(*args, **kwargs)\u001B[0m\n",
      "File \u001B[1;32m~\\anaconda3\\envs\\notebooks\\lib\\site-packages\\numpy\\core\\fromnumeric.py:3496\u001B[0m, in \u001B[0;36mstd\u001B[1;34m(a, axis, dtype, out, ddof, keepdims)\u001B[0m\n\u001B[0;32m   3493\u001B[0m     \u001B[38;5;28;01melse\u001B[39;00m:\n\u001B[0;32m   3494\u001B[0m         \u001B[38;5;28;01mreturn\u001B[39;00m std(axis\u001B[38;5;241m=\u001B[39maxis, dtype\u001B[38;5;241m=\u001B[39mdtype, out\u001B[38;5;241m=\u001B[39mout, ddof\u001B[38;5;241m=\u001B[39mddof, \u001B[38;5;241m*\u001B[39m\u001B[38;5;241m*\u001B[39mkwargs)\n\u001B[1;32m-> 3496\u001B[0m \u001B[38;5;28;01mreturn\u001B[39;00m \u001B[43m_methods\u001B[49m\u001B[38;5;241;43m.\u001B[39;49m\u001B[43m_std\u001B[49m\u001B[43m(\u001B[49m\u001B[43ma\u001B[49m\u001B[43m,\u001B[49m\u001B[43m \u001B[49m\u001B[43maxis\u001B[49m\u001B[38;5;241;43m=\u001B[39;49m\u001B[43maxis\u001B[49m\u001B[43m,\u001B[49m\u001B[43m \u001B[49m\u001B[43mdtype\u001B[49m\u001B[38;5;241;43m=\u001B[39;49m\u001B[43mdtype\u001B[49m\u001B[43m,\u001B[49m\u001B[43m \u001B[49m\u001B[43mout\u001B[49m\u001B[38;5;241;43m=\u001B[39;49m\u001B[43mout\u001B[49m\u001B[43m,\u001B[49m\u001B[43m \u001B[49m\u001B[43mddof\u001B[49m\u001B[38;5;241;43m=\u001B[39;49m\u001B[43mddof\u001B[49m\u001B[43m,\u001B[49m\n\u001B[0;32m   3497\u001B[0m \u001B[43m                     \u001B[49m\u001B[38;5;241;43m*\u001B[39;49m\u001B[38;5;241;43m*\u001B[39;49m\u001B[43mkwargs\u001B[49m\u001B[43m)\u001B[49m\n",
      "File \u001B[1;32m~\\anaconda3\\envs\\notebooks\\lib\\site-packages\\numpy\\core\\_methods.py:233\u001B[0m, in \u001B[0;36m_std\u001B[1;34m(a, axis, dtype, out, ddof, keepdims)\u001B[0m\n\u001B[0;32m    232\u001B[0m \u001B[38;5;28;01mdef\u001B[39;00m \u001B[38;5;21m_std\u001B[39m(a, axis\u001B[38;5;241m=\u001B[39m\u001B[38;5;28;01mNone\u001B[39;00m, dtype\u001B[38;5;241m=\u001B[39m\u001B[38;5;28;01mNone\u001B[39;00m, out\u001B[38;5;241m=\u001B[39m\u001B[38;5;28;01mNone\u001B[39;00m, ddof\u001B[38;5;241m=\u001B[39m\u001B[38;5;241m0\u001B[39m, keepdims\u001B[38;5;241m=\u001B[39m\u001B[38;5;28;01mFalse\u001B[39;00m):\n\u001B[1;32m--> 233\u001B[0m     ret \u001B[38;5;241m=\u001B[39m \u001B[43m_var\u001B[49m\u001B[43m(\u001B[49m\u001B[43ma\u001B[49m\u001B[43m,\u001B[49m\u001B[43m \u001B[49m\u001B[43maxis\u001B[49m\u001B[38;5;241;43m=\u001B[39;49m\u001B[43maxis\u001B[49m\u001B[43m,\u001B[49m\u001B[43m \u001B[49m\u001B[43mdtype\u001B[49m\u001B[38;5;241;43m=\u001B[39;49m\u001B[43mdtype\u001B[49m\u001B[43m,\u001B[49m\u001B[43m \u001B[49m\u001B[43mout\u001B[49m\u001B[38;5;241;43m=\u001B[39;49m\u001B[43mout\u001B[49m\u001B[43m,\u001B[49m\u001B[43m \u001B[49m\u001B[43mddof\u001B[49m\u001B[38;5;241;43m=\u001B[39;49m\u001B[43mddof\u001B[49m\u001B[43m,\u001B[49m\n\u001B[0;32m    234\u001B[0m \u001B[43m               \u001B[49m\u001B[43mkeepdims\u001B[49m\u001B[38;5;241;43m=\u001B[39;49m\u001B[43mkeepdims\u001B[49m\u001B[43m)\u001B[49m\n\u001B[0;32m    236\u001B[0m     \u001B[38;5;28;01mif\u001B[39;00m \u001B[38;5;28misinstance\u001B[39m(ret, mu\u001B[38;5;241m.\u001B[39mndarray):\n\u001B[0;32m    237\u001B[0m         ret \u001B[38;5;241m=\u001B[39m um\u001B[38;5;241m.\u001B[39msqrt(ret, out\u001B[38;5;241m=\u001B[39mret)\n",
      "File \u001B[1;32m~\\anaconda3\\envs\\notebooks\\lib\\site-packages\\numpy\\core\\_methods.py:192\u001B[0m, in \u001B[0;36m_var\u001B[1;34m(a, axis, dtype, out, ddof, keepdims)\u001B[0m\n\u001B[0;32m    187\u001B[0m     dtype \u001B[38;5;241m=\u001B[39m mu\u001B[38;5;241m.\u001B[39mdtype(\u001B[38;5;124m'\u001B[39m\u001B[38;5;124mf8\u001B[39m\u001B[38;5;124m'\u001B[39m)\n\u001B[0;32m    189\u001B[0m \u001B[38;5;66;03m# Compute the mean.\u001B[39;00m\n\u001B[0;32m    190\u001B[0m \u001B[38;5;66;03m# Note that if dtype is not of inexact type then arraymean will\u001B[39;00m\n\u001B[0;32m    191\u001B[0m \u001B[38;5;66;03m# not be either.\u001B[39;00m\n\u001B[1;32m--> 192\u001B[0m arrmean \u001B[38;5;241m=\u001B[39m \u001B[43mumr_sum\u001B[49m\u001B[43m(\u001B[49m\u001B[43marr\u001B[49m\u001B[43m,\u001B[49m\u001B[43m \u001B[49m\u001B[43maxis\u001B[49m\u001B[43m,\u001B[49m\u001B[43m \u001B[49m\u001B[43mdtype\u001B[49m\u001B[43m,\u001B[49m\u001B[43m \u001B[49m\u001B[43mkeepdims\u001B[49m\u001B[38;5;241;43m=\u001B[39;49m\u001B[38;5;28;43;01mTrue\u001B[39;49;00m\u001B[43m)\u001B[49m\n\u001B[0;32m    193\u001B[0m \u001B[38;5;28;01mif\u001B[39;00m \u001B[38;5;28misinstance\u001B[39m(arrmean, mu\u001B[38;5;241m.\u001B[39mndarray):\n\u001B[0;32m    194\u001B[0m     arrmean \u001B[38;5;241m=\u001B[39m um\u001B[38;5;241m.\u001B[39mtrue_divide(\n\u001B[0;32m    195\u001B[0m             arrmean, rcount, out\u001B[38;5;241m=\u001B[39marrmean, casting\u001B[38;5;241m=\u001B[39m\u001B[38;5;124m'\u001B[39m\u001B[38;5;124munsafe\u001B[39m\u001B[38;5;124m'\u001B[39m, subok\u001B[38;5;241m=\u001B[39m\u001B[38;5;28;01mFalse\u001B[39;00m)\n",
      "\u001B[1;31mTypeError\u001B[0m: cannot perform reduce with flexible type"
     ]
    }
   ],
   "source": [
    "desvios_france = np.empty((0,))\n",
    "\n",
    "for i in unique_years:\n",
    "    year_mask= year_francia == i\n",
    "    desvio_year_i = np.std(sales_france[year_mask])\n",
    "    desvios_france = np.append(desvios_france,desvio_year_i)\n",
    "\n",
    "desvio_max_mask = desvios_france == desvios_france.max()\n",
    "\n",
    "print(unique_years[desvio_max_mask][0])"
   ],
   "metadata": {
    "collapsed": false,
    "pycharm": {
     "name": "#%%\n"
    }
   }
  },
  {
   "cell_type": "markdown",
   "source": [
    "## PANDAS"
   ],
   "metadata": {
    "collapsed": false,
    "pycharm": {
     "name": "#%% md\n"
    }
   }
  },
  {
   "cell_type": "code",
   "execution_count": null,
   "outputs": [],
   "source": [
    "data_location = \"../Data/data_filt.csv\"\n",
    "\n",
    "df = pd.read_csv(data_location, sep=\",\", encoding=\"latin1\")\n",
    "data2 = df.rename(columns={'ch06':'edad','htot':'horas_trabajadas','p47t':'ingreso','calif':'calificacion','nivel_ed':'nivel_educativo'})\n"
   ],
   "metadata": {
    "collapsed": false,
    "pycharm": {
     "name": "#%%\n"
    }
   }
  },
  {
   "cell_type": "markdown",
   "source": [
    "## Ejercicio 7\n",
    "\n",
    "Construyamos un objeto `DataFrame` con las columnas nivel_educativo e ingreso_ult_mes de data\n",
    "\n",
    "Seleccionemos las primeras 20 filas de este objeto `DataFrame`\n",
    "\n",
    "Seleccionemos una muestra aleatoria de 500 filas de este objeto `DataFrame`\n",
    "\n",
    "Ayuda:\n",
    "\n",
    "https://pandas.pydata.org/pandas-docs/stable/reference/api/pandas.DataFrame.sample.html?highlight=sample#pandas.DataFrame.sample"
   ],
   "metadata": {
    "collapsed": false,
    "pycharm": {
     "name": "#%% md\n"
    }
   }
  },
  {
   "cell_type": "code",
   "execution_count": null,
   "outputs": [],
   "source": [],
   "metadata": {
    "collapsed": false,
    "pycharm": {
     "name": "#%%\n"
    }
   }
  },
  {
   "cell_type": "markdown",
   "source": [
    "## Ejercicio 10\n",
    "\n",
    "¿Cuál es el promedio de horas trabajadas de los jóvenes entre 14 y 25 años y poco calificados?\n",
    "\n",
    "Ayuda:\n",
    "\n",
    "Combina varias máscaras booleanas"
   ],
   "metadata": {
    "collapsed": false,
    "pycharm": {
     "name": "#%% md\n"
    }
   }
  },
  {
   "cell_type": "code",
   "execution_count": null,
   "outputs": [],
   "source": [],
   "metadata": {
    "collapsed": false,
    "pycharm": {
     "name": "#%%\n"
    }
   }
  },
  {
   "cell_type": "markdown",
   "source": [
    "## PROBA\n"
   ],
   "metadata": {
    "collapsed": false,
    "pycharm": {
     "name": "#%% md\n"
    }
   }
  },
  {
   "cell_type": "code",
   "execution_count": null,
   "outputs": [],
   "source": [
    "import seaborn as sns\n",
    "\n",
    "# local:\n",
    "data_location = '../Data/sales_data_sample_excercise.csv'\n",
    "\n",
    "data_str = np.genfromtxt(data_location, skip_header=1, delimiter='\\t', dtype= str)\n",
    "data_str"
   ],
   "metadata": {
    "collapsed": false,
    "pycharm": {
     "name": "#%%\n"
    }
   }
  },
  {
   "cell_type": "markdown",
   "source": [
    "## Ejercicio 4\n",
    "\n",
    "Ahora queremos simular datos que representen las precios de ventas de USA en el mismo período, usando una distribución uniforme.\n",
    "\n",
    "¿Qué parámetros tiene esa distribución?\n",
    "\n",
    "Generar 100 datos simulados."
   ],
   "metadata": {
    "collapsed": false,
    "pycharm": {
     "name": "#%% md\n"
    }
   }
  },
  {
   "cell_type": "code",
   "execution_count": null,
   "outputs": [],
   "source": [],
   "metadata": {
    "collapsed": false,
    "pycharm": {
     "name": "#%%\n"
    }
   }
  },
  {
   "cell_type": "markdown",
   "source": [],
   "metadata": {
    "collapsed": false,
    "pycharm": {
     "name": "#%% md\n"
    }
   }
  }
 ],
 "metadata": {
  "kernelspec": {
   "display_name": "Python 3",
   "language": "python",
   "name": "python3"
  },
  "language_info": {
   "codemirror_mode": {
    "name": "ipython",
    "version": 2
   },
   "file_extension": ".py",
   "mimetype": "text/x-python",
   "name": "python",
   "nbconvert_exporter": "python",
   "pygments_lexer": "ipython2",
   "version": "2.7.6"
  }
 },
 "nbformat": 4,
 "nbformat_minor": 0
}