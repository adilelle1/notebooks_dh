{
 "cells": [
  {
   "cell_type": "code",
   "execution_count": 2,
   "outputs": [],
   "source": [
    "import numpy as np\n"
   ],
   "metadata": {
    "collapsed": false,
    "pycharm": {
     "name": "#%%\n"
    }
   }
  },
  {
   "cell_type": "code",
   "execution_count": 5,
   "outputs": [
    {
     "data": {
      "text/plain": "array([[0.61284214, 6.29964538, 6.03950453, 3.2211586 , 2.98949791,\n        4.82625345, 9.05954075, 3.43681287],\n       [9.31814085, 1.67904327, 6.58921827, 5.19327422, 3.63994856,\n        9.48822233, 4.62335322, 8.10528478],\n       [6.69598877, 2.26505399, 2.69460818, 8.19791714, 9.80481234,\n        0.53375658, 9.15208036, 4.18222108],\n       [4.53146125, 5.12949844, 1.50203726, 5.46599149, 6.15758714,\n        9.01372034, 3.11499701, 9.67819224],\n       [2.01511316, 1.05468309, 3.68904313, 6.69899771, 3.2804476 ,\n        4.43271536, 0.52432347, 7.63278282]])"
     },
     "execution_count": 5,
     "metadata": {},
     "output_type": "execute_result"
    }
   ],
   "source": [
    "random_generator = np.random.default_rng()\n",
    "\n",
    "low = 0\n",
    "high = 10\n",
    "size = (5,8)\n",
    "two_d_array = random_generator.uniform(low,high,size)\n",
    "two_d_array\n"
   ],
   "metadata": {
    "collapsed": false,
    "pycharm": {
     "name": "#%%\n"
    }
   }
  },
  {
   "cell_type": "code",
   "execution_count": 8,
   "outputs": [
    {
     "ename": "IndexError",
     "evalue": "shape mismatch: indexing arrays could not be broadcast together with shapes (3,) (2,) ",
     "output_type": "error",
     "traceback": [
      "\u001B[1;31m---------------------------------------------------------------------------\u001B[0m",
      "\u001B[1;31mIndexError\u001B[0m                                Traceback (most recent call last)",
      "Input \u001B[1;32mIn [8]\u001B[0m, in \u001B[0;36m<cell line: 3>\u001B[1;34m()\u001B[0m\n\u001B[0;32m      1\u001B[0m filas \u001B[38;5;241m=\u001B[39m [\u001B[38;5;241m0\u001B[39m,\u001B[38;5;241m4\u001B[39m,\u001B[38;5;241m3\u001B[39m]\n\u001B[0;32m      2\u001B[0m columnas \u001B[38;5;241m=\u001B[39m [\u001B[38;5;241m0\u001B[39m,\u001B[38;5;241m7\u001B[39m]\n\u001B[1;32m----> 3\u001B[0m \u001B[43mtwo_d_array\u001B[49m\u001B[43m[\u001B[49m\u001B[43mfilas\u001B[49m\u001B[43m,\u001B[49m\u001B[43mcolumnas\u001B[49m\u001B[43m]\u001B[49m\n",
      "\u001B[1;31mIndexError\u001B[0m: shape mismatch: indexing arrays could not be broadcast together with shapes (3,) (2,) "
     ]
    }
   ],
   "source": [
    "filas = [0,4]\n",
    "columnas = [0,7]\n",
    "two_d_array[filas,columnas]\n"
   ],
   "metadata": {
    "collapsed": false,
    "pycharm": {
     "name": "#%%\n"
    }
   }
  },
  {
   "cell_type": "code",
   "execution_count": 5,
   "outputs": [
    {
     "data": {
      "text/plain": "array([[0, 0, 0, 0, 0],\n       [0, 0, 0, 0, 0],\n       [0, 0, 0, 0, 0],\n       [0, 0, 0, 0, 0],\n       [0, 0, 0, 0, 0],\n       [0, 0, 0, 0, 0],\n       [0, 0, 0, 0, 0],\n       [0, 0, 0, 0, 0],\n       [0, 0, 0, 0, 0],\n       [0, 0, 0, 0, 0]])"
     },
     "execution_count": 5,
     "metadata": {},
     "output_type": "execute_result"
    }
   ],
   "source": [
    "np.zeros((10,5),dtype=int)"
   ],
   "metadata": {
    "collapsed": false,
    "pycharm": {
     "name": "#%%\n"
    }
   }
  },
  {
   "cell_type": "code",
   "execution_count": 7,
   "outputs": [
    {
     "data": {
      "text/plain": "array([[1., 1., 1.],\n       [1., 1., 1.],\n       [1., 1., 1.],\n       [1., 1., 1.],\n       [1., 1., 1.]])"
     },
     "execution_count": 7,
     "metadata": {},
     "output_type": "execute_result"
    }
   ],
   "source": [
    "np.ones(shape=(5,3))"
   ],
   "metadata": {
    "collapsed": false,
    "pycharm": {
     "name": "#%%\n"
    }
   }
  },
  {
   "cell_type": "code",
   "execution_count": 22,
   "outputs": [
    {
     "data": {
      "text/plain": "array([[ True,  True, False, False],\n       [ True,  True,  True,  True],\n       [ True,  True,  True,  True]])"
     },
     "execution_count": 22,
     "metadata": {},
     "output_type": "execute_result"
    }
   ],
   "source": [
    "np.empty((3,4),dtype=bool)"
   ],
   "metadata": {
    "collapsed": false,
    "pycharm": {
     "name": "#%%\n"
    }
   }
  },
  {
   "cell_type": "code",
   "execution_count": 31,
   "outputs": [
    {
     "data": {
      "text/plain": "array([[8.00420346, 4.50835866, 2.81878459, 2.98685054, 5.01913723,\n        7.58550555, 8.55751162, 1.75347781],\n       [4.52705293, 6.50708712, 9.97521137, 8.69592359, 1.72987548,\n        6.17977727, 8.62572151, 5.33497326],\n       [0.24876897, 9.23306563, 5.34397035, 7.61873544, 9.37092355,\n        3.71867816, 3.13380966, 1.89991334],\n       [9.96638317, 5.75162585, 8.31149546, 0.18128841, 1.79191376,\n        1.10371108, 6.75104258, 4.77263696],\n       [6.21520918, 9.5161338 , 6.88358963, 0.79882468, 9.85136106,\n        0.44815996, 8.72038396, 5.29391278],\n       [8.08520117, 0.82528718, 6.73308055, 9.31990305, 8.87380773,\n        6.33158932, 2.55039722, 4.38583917],\n       [1.80937908, 9.79770925, 1.78568384, 4.9934576 , 2.66772572,\n        7.96654025, 2.01173725, 2.16721259],\n       [0.12440377, 3.23164298, 0.91057928, 8.57229133, 5.66165875,\n        3.99869536, 2.17545526, 8.58258091],\n       [8.14496662, 4.43855576, 8.62272716, 5.53912451, 5.72304774,\n        9.82836647, 2.68467326, 3.66822759],\n       [6.66700432, 0.38152277, 5.0966416 , 1.67077529, 3.32130285,\n        7.04519025, 7.67699446, 9.38884018]])"
     },
     "execution_count": 31,
     "metadata": {},
     "output_type": "execute_result"
    }
   ],
   "source": [
    "random_seed = np.random.default_rng(234)\n",
    "random_array = random_seed.uniform(0,10, (10,8))\n",
    "random_array"
   ],
   "metadata": {
    "collapsed": false,
    "pycharm": {
     "name": "#%%\n"
    }
   }
  },
  {
   "cell_type": "code",
   "execution_count": 53,
   "outputs": [
    {
     "data": {
      "text/plain": "9.388840179923161"
     },
     "execution_count": 53,
     "metadata": {},
     "output_type": "execute_result"
    }
   ],
   "source": [
    "random_array[-1,-1]"
   ],
   "metadata": {
    "collapsed": false,
    "pycharm": {
     "name": "#%%\n"
    }
   }
  },
  {
   "cell_type": "code",
   "execution_count": 58,
   "outputs": [
    {
     "data": {
      "text/plain": "array([0, 1, 2, 3, 4])"
     },
     "execution_count": 58,
     "metadata": {},
     "output_type": "execute_result"
    }
   ],
   "source": [
    "cinco= np.arange(5)\n",
    "cinco"
   ],
   "metadata": {
    "collapsed": false,
    "pycharm": {
     "name": "#%%\n"
    }
   }
  },
  {
   "cell_type": "code",
   "execution_count": 59,
   "outputs": [
    {
     "data": {
      "text/plain": "array([10, 11, 12, 13, 14])"
     },
     "execution_count": 59,
     "metadata": {},
     "output_type": "execute_result"
    }
   ],
   "source": [
    "cinco + 10"
   ],
   "metadata": {
    "collapsed": false,
    "pycharm": {
     "name": "#%%\n"
    }
   }
  },
  {
   "cell_type": "code",
   "execution_count": 60,
   "outputs": [
    {
     "data": {
      "text/plain": "array([1, 1, 2, 3, 4])"
     },
     "execution_count": 60,
     "metadata": {},
     "output_type": "execute_result"
    }
   ],
   "source": [
    "cinco + [1,0,0,0,0]"
   ],
   "metadata": {
    "collapsed": false,
    "pycharm": {
     "name": "#%%\n"
    }
   }
  },
  {
   "cell_type": "code",
   "execution_count": 63,
   "outputs": [
    {
     "data": {
      "text/plain": "array([[1, 1, 1, 1, 1],\n       [1, 1, 1, 1, 1],\n       [1, 1, 1, 1, 1],\n       [1, 1, 1, 1, 1],\n       [1, 1, 1, 1, 1]])"
     },
     "execution_count": 63,
     "metadata": {},
     "output_type": "execute_result"
    }
   ],
   "source": [
    "unos = np.ones((5,5),int)\n",
    "unos"
   ],
   "metadata": {
    "collapsed": false,
    "pycharm": {
     "name": "#%%\n"
    }
   }
  },
  {
   "cell_type": "code",
   "execution_count": 61,
   "outputs": [
    {
     "data": {
      "text/plain": "array([[1, 2, 3, 4, 5],\n       [1, 2, 3, 4, 5],\n       [1, 2, 3, 4, 5],\n       [1, 2, 3, 4, 5],\n       [1, 2, 3, 4, 5]])"
     },
     "execution_count": 61,
     "metadata": {},
     "output_type": "execute_result"
    }
   ],
   "source": [
    "cinco + np.ones((5,5),int)"
   ],
   "metadata": {
    "collapsed": false,
    "pycharm": {
     "name": "#%%\n"
    }
   }
  },
  {
   "cell_type": "code",
   "execution_count": 64,
   "outputs": [
    {
     "data": {
      "text/plain": "array([[1, 1, 1, 1, 1],\n       [2, 2, 2, 2, 2],\n       [3, 3, 3, 3, 3],\n       [4, 4, 4, 4, 4],\n       [5, 5, 5, 5, 5]])"
     },
     "execution_count": 64,
     "metadata": {},
     "output_type": "execute_result"
    }
   ],
   "source": [
    "cinco.reshape(5,1) + unos"
   ],
   "metadata": {
    "collapsed": false,
    "pycharm": {
     "name": "#%%\n"
    }
   }
  },
  {
   "cell_type": "code",
   "execution_count": 70,
   "outputs": [
    {
     "data": {
      "text/plain": "array([[1, 3, 5],\n       [4, 6, 8]])"
     },
     "execution_count": 70,
     "metadata": {},
     "output_type": "execute_result"
    }
   ],
   "source": [
    "np.arange(3) + [[1,2,3],[4,5,6]]"
   ],
   "metadata": {
    "collapsed": false,
    "pycharm": {
     "name": "#%%\n"
    }
   }
  },
  {
   "cell_type": "code",
   "execution_count": 71,
   "outputs": [],
   "source": [
    "import pandas as pd\n"
   ],
   "metadata": {
    "collapsed": false,
    "pycharm": {
     "name": "#%%\n"
    }
   }
  },
  {
   "cell_type": "code",
   "execution_count": 75,
   "outputs": [
    {
     "data": {
      "text/plain": "4    NaN\ndtype: object"
     },
     "execution_count": 75,
     "metadata": {},
     "output_type": "execute_result"
    }
   ],
   "source": [
    "pd.Series({2:'a',3:'b',1:\"c\"}, index=[4])"
   ],
   "metadata": {
    "collapsed": false,
    "pycharm": {
     "name": "#%%\n"
    }
   }
  },
  {
   "cell_type": "code",
   "execution_count": 76,
   "outputs": [
    {
     "data": {
      "text/plain": "'C:\\\\Users\\\\alejo\\\\dh\\\\notebooks'"
     },
     "execution_count": 76,
     "metadata": {},
     "output_type": "execute_result"
    }
   ],
   "source": [
    "%pwd\n"
   ],
   "metadata": {
    "collapsed": false,
    "pycharm": {
     "name": "#%%\n"
    }
   }
  },
  {
   "cell_type": "code",
   "execution_count": 86,
   "outputs": [
    {
     "data": {
      "text/plain": "                                           Depth_ID  Depthm  T_degC  O2Sat  \\\nSta_ID                                                                       \n044.0 048.5  19-4904CR-HY-087-0606-04400485-0000B-3       0   10.30   92.8   \n044.0 048.5  19-4904CR-HY-087-0606-04400485-0006A-3       6   18.46  111.8   \n044.0 048.5  19-4904CR-HY-087-0606-04400485-0010A-7      10   10.29   95.0   \n044.0 048.5  19-4904CR-HY-087-0606-04400485-0015A-3      15   10.29   95.3   \n044.0 048.5  19-4904CR-HY-087-0606-04400485-0020A-7      20   10.33   95.1   \n...                                             ...     ...     ...    ...   \n036.7 115.0  19-4911BD-HY-318-2130-03671150-0921A-3     921    3.91    4.8   \n036.7 115.0  19-4911BD-HY-318-2130-03671150-1000A-7    1000    3.73    5.4   \n036.7 115.0  19-4911BD-HY-318-2130-03671150-1100A-7    1100    3.51    6.4   \n036.7 115.0  19-4911BD-HY-318-2130-03671150-1200A-7    1200    3.29    7.3   \n036.7 115.0  19-4911BD-HY-318-2130-03671150-1247A-3    1247    3.18    7.6   \n\n             Salnty  \nSta_ID               \n044.0 048.5  33.030  \n044.0 048.5  32.920  \n044.0 048.5  32.951  \n044.0 048.5  32.990  \n044.0 048.5  33.005  \n...             ...  \n036.7 115.0  34.370  \n036.7 115.0  34.401  \n036.7 115.0  34.440  \n036.7 115.0  34.481  \n036.7 115.0  34.500  \n\n[774 rows x 5 columns]",
      "text/html": "<div>\n<style scoped>\n    .dataframe tbody tr th:only-of-type {\n        vertical-align: middle;\n    }\n\n    .dataframe tbody tr th {\n        vertical-align: top;\n    }\n\n    .dataframe thead th {\n        text-align: right;\n    }\n</style>\n<table border=\"1\" class=\"dataframe\">\n  <thead>\n    <tr style=\"text-align: right;\">\n      <th></th>\n      <th>Depth_ID</th>\n      <th>Depthm</th>\n      <th>T_degC</th>\n      <th>O2Sat</th>\n      <th>Salnty</th>\n    </tr>\n    <tr>\n      <th>Sta_ID</th>\n      <th></th>\n      <th></th>\n      <th></th>\n      <th></th>\n      <th></th>\n    </tr>\n  </thead>\n  <tbody>\n    <tr>\n      <th>044.0 048.5</th>\n      <td>19-4904CR-HY-087-0606-04400485-0000B-3</td>\n      <td>0</td>\n      <td>10.30</td>\n      <td>92.8</td>\n      <td>33.030</td>\n    </tr>\n    <tr>\n      <th>044.0 048.5</th>\n      <td>19-4904CR-HY-087-0606-04400485-0006A-3</td>\n      <td>6</td>\n      <td>18.46</td>\n      <td>111.8</td>\n      <td>32.920</td>\n    </tr>\n    <tr>\n      <th>044.0 048.5</th>\n      <td>19-4904CR-HY-087-0606-04400485-0010A-7</td>\n      <td>10</td>\n      <td>10.29</td>\n      <td>95.0</td>\n      <td>32.951</td>\n    </tr>\n    <tr>\n      <th>044.0 048.5</th>\n      <td>19-4904CR-HY-087-0606-04400485-0015A-3</td>\n      <td>15</td>\n      <td>10.29</td>\n      <td>95.3</td>\n      <td>32.990</td>\n    </tr>\n    <tr>\n      <th>044.0 048.5</th>\n      <td>19-4904CR-HY-087-0606-04400485-0020A-7</td>\n      <td>20</td>\n      <td>10.33</td>\n      <td>95.1</td>\n      <td>33.005</td>\n    </tr>\n    <tr>\n      <th>...</th>\n      <td>...</td>\n      <td>...</td>\n      <td>...</td>\n      <td>...</td>\n      <td>...</td>\n    </tr>\n    <tr>\n      <th>036.7 115.0</th>\n      <td>19-4911BD-HY-318-2130-03671150-0921A-3</td>\n      <td>921</td>\n      <td>3.91</td>\n      <td>4.8</td>\n      <td>34.370</td>\n    </tr>\n    <tr>\n      <th>036.7 115.0</th>\n      <td>19-4911BD-HY-318-2130-03671150-1000A-7</td>\n      <td>1000</td>\n      <td>3.73</td>\n      <td>5.4</td>\n      <td>34.401</td>\n    </tr>\n    <tr>\n      <th>036.7 115.0</th>\n      <td>19-4911BD-HY-318-2130-03671150-1100A-7</td>\n      <td>1100</td>\n      <td>3.51</td>\n      <td>6.4</td>\n      <td>34.440</td>\n    </tr>\n    <tr>\n      <th>036.7 115.0</th>\n      <td>19-4911BD-HY-318-2130-03671150-1200A-7</td>\n      <td>1200</td>\n      <td>3.29</td>\n      <td>7.3</td>\n      <td>34.481</td>\n    </tr>\n    <tr>\n      <th>036.7 115.0</th>\n      <td>19-4911BD-HY-318-2130-03671150-1247A-3</td>\n      <td>1247</td>\n      <td>3.18</td>\n      <td>7.6</td>\n      <td>34.500</td>\n    </tr>\n  </tbody>\n</table>\n<p>774 rows × 5 columns</p>\n</div>"
     },
     "execution_count": 86,
     "metadata": {},
     "output_type": "execute_result"
    }
   ],
   "source": [
    "df = pd.read_csv(r'C:\\Users\\alejo\\dh\\notebooks\\clase_04\\dsad_2021\\M1\\CLASE_04_EstadisticaDescriptiva\\Data\\bottle_reducido.csv',delimiter='\\t', index_col='Sta_ID')\n",
    "df"
   ],
   "metadata": {
    "collapsed": false,
    "pycharm": {
     "name": "#%%\n"
    }
   }
  },
  {
   "cell_type": "code",
   "execution_count": 99,
   "outputs": [
    {
     "data": {
      "text/plain": "             Average\nSta_ID              \n036.7 115.0   355.60\n039.0 096.0   352.82\n041.0 077.0   336.20\n042.0 068.0   337.52\n044.0 048.5   238.18",
      "text/html": "<div>\n<style scoped>\n    .dataframe tbody tr th:only-of-type {\n        vertical-align: middle;\n    }\n\n    .dataframe tbody tr th {\n        vertical-align: top;\n    }\n\n    .dataframe thead th {\n        text-align: right;\n    }\n</style>\n<table border=\"1\" class=\"dataframe\">\n  <thead>\n    <tr style=\"text-align: right;\">\n      <th></th>\n      <th>Average</th>\n    </tr>\n    <tr>\n      <th>Sta_ID</th>\n      <th></th>\n    </tr>\n  </thead>\n  <tbody>\n    <tr>\n      <th>036.7 115.0</th>\n      <td>355.60</td>\n    </tr>\n    <tr>\n      <th>039.0 096.0</th>\n      <td>352.82</td>\n    </tr>\n    <tr>\n      <th>041.0 077.0</th>\n      <td>336.20</td>\n    </tr>\n    <tr>\n      <th>042.0 068.0</th>\n      <td>337.52</td>\n    </tr>\n    <tr>\n      <th>044.0 048.5</th>\n      <td>238.18</td>\n    </tr>\n  </tbody>\n</table>\n</div>"
     },
     "execution_count": 99,
     "metadata": {},
     "output_type": "execute_result"
    }
   ],
   "source": [
    "df.groupby('Sta_ID').mean()['Depthm'].round(2).to_frame(name='Average')"
   ],
   "metadata": {
    "collapsed": false,
    "pycharm": {
     "name": "#%%\n"
    }
   }
  },
  {
   "cell_type": "code",
   "execution_count": 97,
   "outputs": [
    {
     "data": {
      "text/plain": "                                           Depth_ID  Depthm  T_degC  O2Sat  \\\nSta_ID                                                                       \n044.0 048.5  19-4904CR-HY-087-0606-04400485-0000B-3       0   10.30   92.8   \n044.0 048.5  19-4904CR-HY-087-0606-04400485-0006A-3       6   18.46  111.8   \n044.0 048.5  19-4904CR-HY-087-0606-04400485-0010A-7      10   10.29   95.0   \n044.0 048.5  19-4904CR-HY-087-0606-04400485-0015A-3      15   10.29   95.3   \n044.0 048.5  19-4904CR-HY-087-0606-04400485-0020A-7      20   10.33   95.1   \n044.0 048.5  19-4904CR-HY-087-0606-04400485-0030A-7      30   10.39   94.8   \n044.0 048.5  19-4904CR-HY-087-0606-04400485-0031A-3      31   10.40   94.8   \n044.0 048.5  19-4904CR-HY-087-0606-04400485-0047A-3      47   10.36   91.1   \n044.0 048.5  19-4904CR-HY-087-0606-04400485-0050A-7      50   10.35   90.8   \n044.0 048.5  19-4904CR-HY-087-0606-04400485-0064A-3      64   10.25   88.1   \n044.0 048.5  19-4904CR-HY-087-0606-04400485-0075A-7      75   10.05   79.5   \n044.0 048.5  19-4904CR-HY-087-0606-04400485-0098A-3      98    9.54   59.3   \n044.0 048.5  19-4904CR-HY-087-0606-04400485-0100A-7     100    9.50   58.3   \n044.0 048.5  19-4904CR-HY-087-0606-04400485-0125A-7     125    9.05   49.2   \n044.0 048.5  19-4904CR-HY-087-0606-04400485-0132A-3     132    8.93   47.5   \n044.0 048.5  19-4904CR-HY-087-0606-04400485-0150A-7     150    8.66   41.3   \n044.0 048.5  19-4904CR-HY-087-0606-04400485-0197A-3     197    8.04   26.8   \n044.0 048.5  19-4904CR-HY-087-0606-04400485-0200A-7     200    8.01   26.2   \n044.0 048.5  19-4904CR-HY-087-0606-04400485-0250A-7     250    7.53   17.7   \n044.0 048.5  19-4904CR-HY-087-0606-04400485-0300A-7     300    7.11   11.9   \n044.0 048.5  19-4904CR-HY-087-0606-04400485-0382A-3     382    6.55    8.3   \n044.0 048.5  19-4904CR-HY-087-0606-04400485-0400A-7     400    6.41    8.1   \n044.0 048.5  19-4904CR-HY-087-0606-04400485-0500A-7     500    5.66    6.8   \n044.0 048.5  19-4904CR-HY-087-0606-04400485-0569A-3     569    5.20    6.1   \n044.0 048.5  19-4904CR-HY-087-0606-04400485-0600A-7     600    5.06    6.0   \n044.0 048.5  19-4904CR-HY-087-0606-04400485-0700A-7     700    4.60    5.7   \n044.0 048.5  19-4904CR-HY-087-0606-04400485-0800A-7     800    4.14    5.5   \n044.0 048.5  19-4904CR-HY-087-0606-04400485-0818A-3     818    4.06    5.5   \n\n             Salnty  \nSta_ID               \n044.0 048.5  33.030  \n044.0 048.5  32.920  \n044.0 048.5  32.951  \n044.0 048.5  32.990  \n044.0 048.5  33.005  \n044.0 048.5  33.054  \n044.0 048.5  33.060  \n044.0 048.5  33.150  \n044.0 048.5  33.167  \n044.0 048.5  33.260  \n044.0 048.5  33.381  \n044.0 048.5  33.640  \n044.0 048.5  33.656  \n044.0 048.5  33.810  \n044.0 048.5  33.840  \n044.0 048.5  33.891  \n044.0 048.5  33.960  \n044.0 048.5  33.966  \n044.0 048.5  34.058  \n044.0 048.5  34.136  \n044.0 048.5  34.230  \n044.0 048.5  34.232  \n044.0 048.5  34.232  \n044.0 048.5  34.220  \n044.0 048.5  34.241  \n044.0 048.5  34.313  \n044.0 048.5  34.386  \n044.0 048.5  34.400  ",
      "text/html": "<div>\n<style scoped>\n    .dataframe tbody tr th:only-of-type {\n        vertical-align: middle;\n    }\n\n    .dataframe tbody tr th {\n        vertical-align: top;\n    }\n\n    .dataframe thead th {\n        text-align: right;\n    }\n</style>\n<table border=\"1\" class=\"dataframe\">\n  <thead>\n    <tr style=\"text-align: right;\">\n      <th></th>\n      <th>Depth_ID</th>\n      <th>Depthm</th>\n      <th>T_degC</th>\n      <th>O2Sat</th>\n      <th>Salnty</th>\n    </tr>\n    <tr>\n      <th>Sta_ID</th>\n      <th></th>\n      <th></th>\n      <th></th>\n      <th></th>\n      <th></th>\n    </tr>\n  </thead>\n  <tbody>\n    <tr>\n      <th>044.0 048.5</th>\n      <td>19-4904CR-HY-087-0606-04400485-0000B-3</td>\n      <td>0</td>\n      <td>10.30</td>\n      <td>92.8</td>\n      <td>33.030</td>\n    </tr>\n    <tr>\n      <th>044.0 048.5</th>\n      <td>19-4904CR-HY-087-0606-04400485-0006A-3</td>\n      <td>6</td>\n      <td>18.46</td>\n      <td>111.8</td>\n      <td>32.920</td>\n    </tr>\n    <tr>\n      <th>044.0 048.5</th>\n      <td>19-4904CR-HY-087-0606-04400485-0010A-7</td>\n      <td>10</td>\n      <td>10.29</td>\n      <td>95.0</td>\n      <td>32.951</td>\n    </tr>\n    <tr>\n      <th>044.0 048.5</th>\n      <td>19-4904CR-HY-087-0606-04400485-0015A-3</td>\n      <td>15</td>\n      <td>10.29</td>\n      <td>95.3</td>\n      <td>32.990</td>\n    </tr>\n    <tr>\n      <th>044.0 048.5</th>\n      <td>19-4904CR-HY-087-0606-04400485-0020A-7</td>\n      <td>20</td>\n      <td>10.33</td>\n      <td>95.1</td>\n      <td>33.005</td>\n    </tr>\n    <tr>\n      <th>044.0 048.5</th>\n      <td>19-4904CR-HY-087-0606-04400485-0030A-7</td>\n      <td>30</td>\n      <td>10.39</td>\n      <td>94.8</td>\n      <td>33.054</td>\n    </tr>\n    <tr>\n      <th>044.0 048.5</th>\n      <td>19-4904CR-HY-087-0606-04400485-0031A-3</td>\n      <td>31</td>\n      <td>10.40</td>\n      <td>94.8</td>\n      <td>33.060</td>\n    </tr>\n    <tr>\n      <th>044.0 048.5</th>\n      <td>19-4904CR-HY-087-0606-04400485-0047A-3</td>\n      <td>47</td>\n      <td>10.36</td>\n      <td>91.1</td>\n      <td>33.150</td>\n    </tr>\n    <tr>\n      <th>044.0 048.5</th>\n      <td>19-4904CR-HY-087-0606-04400485-0050A-7</td>\n      <td>50</td>\n      <td>10.35</td>\n      <td>90.8</td>\n      <td>33.167</td>\n    </tr>\n    <tr>\n      <th>044.0 048.5</th>\n      <td>19-4904CR-HY-087-0606-04400485-0064A-3</td>\n      <td>64</td>\n      <td>10.25</td>\n      <td>88.1</td>\n      <td>33.260</td>\n    </tr>\n    <tr>\n      <th>044.0 048.5</th>\n      <td>19-4904CR-HY-087-0606-04400485-0075A-7</td>\n      <td>75</td>\n      <td>10.05</td>\n      <td>79.5</td>\n      <td>33.381</td>\n    </tr>\n    <tr>\n      <th>044.0 048.5</th>\n      <td>19-4904CR-HY-087-0606-04400485-0098A-3</td>\n      <td>98</td>\n      <td>9.54</td>\n      <td>59.3</td>\n      <td>33.640</td>\n    </tr>\n    <tr>\n      <th>044.0 048.5</th>\n      <td>19-4904CR-HY-087-0606-04400485-0100A-7</td>\n      <td>100</td>\n      <td>9.50</td>\n      <td>58.3</td>\n      <td>33.656</td>\n    </tr>\n    <tr>\n      <th>044.0 048.5</th>\n      <td>19-4904CR-HY-087-0606-04400485-0125A-7</td>\n      <td>125</td>\n      <td>9.05</td>\n      <td>49.2</td>\n      <td>33.810</td>\n    </tr>\n    <tr>\n      <th>044.0 048.5</th>\n      <td>19-4904CR-HY-087-0606-04400485-0132A-3</td>\n      <td>132</td>\n      <td>8.93</td>\n      <td>47.5</td>\n      <td>33.840</td>\n    </tr>\n    <tr>\n      <th>044.0 048.5</th>\n      <td>19-4904CR-HY-087-0606-04400485-0150A-7</td>\n      <td>150</td>\n      <td>8.66</td>\n      <td>41.3</td>\n      <td>33.891</td>\n    </tr>\n    <tr>\n      <th>044.0 048.5</th>\n      <td>19-4904CR-HY-087-0606-04400485-0197A-3</td>\n      <td>197</td>\n      <td>8.04</td>\n      <td>26.8</td>\n      <td>33.960</td>\n    </tr>\n    <tr>\n      <th>044.0 048.5</th>\n      <td>19-4904CR-HY-087-0606-04400485-0200A-7</td>\n      <td>200</td>\n      <td>8.01</td>\n      <td>26.2</td>\n      <td>33.966</td>\n    </tr>\n    <tr>\n      <th>044.0 048.5</th>\n      <td>19-4904CR-HY-087-0606-04400485-0250A-7</td>\n      <td>250</td>\n      <td>7.53</td>\n      <td>17.7</td>\n      <td>34.058</td>\n    </tr>\n    <tr>\n      <th>044.0 048.5</th>\n      <td>19-4904CR-HY-087-0606-04400485-0300A-7</td>\n      <td>300</td>\n      <td>7.11</td>\n      <td>11.9</td>\n      <td>34.136</td>\n    </tr>\n    <tr>\n      <th>044.0 048.5</th>\n      <td>19-4904CR-HY-087-0606-04400485-0382A-3</td>\n      <td>382</td>\n      <td>6.55</td>\n      <td>8.3</td>\n      <td>34.230</td>\n    </tr>\n    <tr>\n      <th>044.0 048.5</th>\n      <td>19-4904CR-HY-087-0606-04400485-0400A-7</td>\n      <td>400</td>\n      <td>6.41</td>\n      <td>8.1</td>\n      <td>34.232</td>\n    </tr>\n    <tr>\n      <th>044.0 048.5</th>\n      <td>19-4904CR-HY-087-0606-04400485-0500A-7</td>\n      <td>500</td>\n      <td>5.66</td>\n      <td>6.8</td>\n      <td>34.232</td>\n    </tr>\n    <tr>\n      <th>044.0 048.5</th>\n      <td>19-4904CR-HY-087-0606-04400485-0569A-3</td>\n      <td>569</td>\n      <td>5.20</td>\n      <td>6.1</td>\n      <td>34.220</td>\n    </tr>\n    <tr>\n      <th>044.0 048.5</th>\n      <td>19-4904CR-HY-087-0606-04400485-0600A-7</td>\n      <td>600</td>\n      <td>5.06</td>\n      <td>6.0</td>\n      <td>34.241</td>\n    </tr>\n    <tr>\n      <th>044.0 048.5</th>\n      <td>19-4904CR-HY-087-0606-04400485-0700A-7</td>\n      <td>700</td>\n      <td>4.60</td>\n      <td>5.7</td>\n      <td>34.313</td>\n    </tr>\n    <tr>\n      <th>044.0 048.5</th>\n      <td>19-4904CR-HY-087-0606-04400485-0800A-7</td>\n      <td>800</td>\n      <td>4.14</td>\n      <td>5.5</td>\n      <td>34.386</td>\n    </tr>\n    <tr>\n      <th>044.0 048.5</th>\n      <td>19-4904CR-HY-087-0606-04400485-0818A-3</td>\n      <td>818</td>\n      <td>4.06</td>\n      <td>5.5</td>\n      <td>34.400</td>\n    </tr>\n  </tbody>\n</table>\n</div>"
     },
     "execution_count": 97,
     "metadata": {},
     "output_type": "execute_result"
    }
   ],
   "source": [
    "mask = df.index == '044.0 048.5'\n",
    "df[mask]"
   ],
   "metadata": {
    "collapsed": false,
    "pycharm": {
     "name": "#%%\n"
    }
   }
  },
  {
   "cell_type": "code",
   "execution_count": 118,
   "outputs": [
    {
     "data": {
      "text/plain": "  col 0 col 1 col 2 col 3 col 4 col 5 col 6 col 7 col 8 col 9\n0     0     1     2     3     4     5     6     7     8     9\n1    10    11    12    13    14    15    16    17    18    19\n2    20    21    22    23    24    25    26    27    28    29",
      "text/html": "<div>\n<style scoped>\n    .dataframe tbody tr th:only-of-type {\n        vertical-align: middle;\n    }\n\n    .dataframe tbody tr th {\n        vertical-align: top;\n    }\n\n    .dataframe thead tr th {\n        text-align: left;\n    }\n</style>\n<table border=\"1\" class=\"dataframe\">\n  <thead>\n    <tr>\n      <th></th>\n      <th>col 0</th>\n      <th>col 1</th>\n      <th>col 2</th>\n      <th>col 3</th>\n      <th>col 4</th>\n      <th>col 5</th>\n      <th>col 6</th>\n      <th>col 7</th>\n      <th>col 8</th>\n      <th>col 9</th>\n    </tr>\n  </thead>\n  <tbody>\n    <tr>\n      <th>0</th>\n      <td>0</td>\n      <td>1</td>\n      <td>2</td>\n      <td>3</td>\n      <td>4</td>\n      <td>5</td>\n      <td>6</td>\n      <td>7</td>\n      <td>8</td>\n      <td>9</td>\n    </tr>\n    <tr>\n      <th>1</th>\n      <td>10</td>\n      <td>11</td>\n      <td>12</td>\n      <td>13</td>\n      <td>14</td>\n      <td>15</td>\n      <td>16</td>\n      <td>17</td>\n      <td>18</td>\n      <td>19</td>\n    </tr>\n    <tr>\n      <th>2</th>\n      <td>20</td>\n      <td>21</td>\n      <td>22</td>\n      <td>23</td>\n      <td>24</td>\n      <td>25</td>\n      <td>26</td>\n      <td>27</td>\n      <td>28</td>\n      <td>29</td>\n    </tr>\n  </tbody>\n</table>\n</div>"
     },
     "execution_count": 118,
     "metadata": {},
     "output_type": "execute_result"
    }
   ],
   "source": [
    "lista= [0,1,2,3,4,5,6,7,8,9]\n",
    "lista1= [i for i in range(10,20)]\n",
    "lista2= [i for i in range(20,30)]\n",
    "\n",
    "data = pd.DataFrame([lista,lista1,lista2], columns=[[f'col {i}' for i in range(0,10)]])\n",
    "data\n"
   ],
   "metadata": {
    "collapsed": false,
    "pycharm": {
     "name": "#%%\n"
    }
   }
  },
  {
   "cell_type": "code",
   "execution_count": 105,
   "outputs": [
    {
     "data": {
      "text/plain": "       0      1      2      3      4      5      6      7      8      9\n0   True  False  False  False  False  False  False  False  False  False\n1  False  False  False  False  False  False  False  False  False  False\n2  False  False  False  False  False  False  False  False  False  False",
      "text/html": "<div>\n<style scoped>\n    .dataframe tbody tr th:only-of-type {\n        vertical-align: middle;\n    }\n\n    .dataframe tbody tr th {\n        vertical-align: top;\n    }\n\n    .dataframe thead th {\n        text-align: right;\n    }\n</style>\n<table border=\"1\" class=\"dataframe\">\n  <thead>\n    <tr style=\"text-align: right;\">\n      <th></th>\n      <th>0</th>\n      <th>1</th>\n      <th>2</th>\n      <th>3</th>\n      <th>4</th>\n      <th>5</th>\n      <th>6</th>\n      <th>7</th>\n      <th>8</th>\n      <th>9</th>\n    </tr>\n  </thead>\n  <tbody>\n    <tr>\n      <th>0</th>\n      <td>True</td>\n      <td>False</td>\n      <td>False</td>\n      <td>False</td>\n      <td>False</td>\n      <td>False</td>\n      <td>False</td>\n      <td>False</td>\n      <td>False</td>\n      <td>False</td>\n    </tr>\n    <tr>\n      <th>1</th>\n      <td>False</td>\n      <td>False</td>\n      <td>False</td>\n      <td>False</td>\n      <td>False</td>\n      <td>False</td>\n      <td>False</td>\n      <td>False</td>\n      <td>False</td>\n      <td>False</td>\n    </tr>\n    <tr>\n      <th>2</th>\n      <td>False</td>\n      <td>False</td>\n      <td>False</td>\n      <td>False</td>\n      <td>False</td>\n      <td>False</td>\n      <td>False</td>\n      <td>False</td>\n      <td>False</td>\n      <td>False</td>\n    </tr>\n  </tbody>\n</table>\n</div>"
     },
     "execution_count": 105,
     "metadata": {},
     "output_type": "execute_result"
    }
   ],
   "source": [
    "data == 0"
   ],
   "metadata": {
    "collapsed": false,
    "pycharm": {
     "name": "#%%\n"
    }
   }
  },
  {
   "cell_type": "code",
   "execution_count": 107,
   "outputs": [
    {
     "data": {
      "text/plain": "       0      1      2      3      4      5      6      7      8      9\n0   True  False  False  False  False  False  False  False  False  False\n1  False  False  False  False  False  False  False  False  False  False\n2  False  False  False  False  False  False  False  False  False  False",
      "text/html": "<div>\n<style scoped>\n    .dataframe tbody tr th:only-of-type {\n        vertical-align: middle;\n    }\n\n    .dataframe tbody tr th {\n        vertical-align: top;\n    }\n\n    .dataframe thead th {\n        text-align: right;\n    }\n</style>\n<table border=\"1\" class=\"dataframe\">\n  <thead>\n    <tr style=\"text-align: right;\">\n      <th></th>\n      <th>0</th>\n      <th>1</th>\n      <th>2</th>\n      <th>3</th>\n      <th>4</th>\n      <th>5</th>\n      <th>6</th>\n      <th>7</th>\n      <th>8</th>\n      <th>9</th>\n    </tr>\n  </thead>\n  <tbody>\n    <tr>\n      <th>0</th>\n      <td>True</td>\n      <td>False</td>\n      <td>False</td>\n      <td>False</td>\n      <td>False</td>\n      <td>False</td>\n      <td>False</td>\n      <td>False</td>\n      <td>False</td>\n      <td>False</td>\n    </tr>\n    <tr>\n      <th>1</th>\n      <td>False</td>\n      <td>False</td>\n      <td>False</td>\n      <td>False</td>\n      <td>False</td>\n      <td>False</td>\n      <td>False</td>\n      <td>False</td>\n      <td>False</td>\n      <td>False</td>\n    </tr>\n    <tr>\n      <th>2</th>\n      <td>False</td>\n      <td>False</td>\n      <td>False</td>\n      <td>False</td>\n      <td>False</td>\n      <td>False</td>\n      <td>False</td>\n      <td>False</td>\n      <td>False</td>\n      <td>False</td>\n    </tr>\n  </tbody>\n</table>\n</div>"
     },
     "execution_count": 107,
     "metadata": {},
     "output_type": "execute_result"
    }
   ],
   "source": [
    "data.isin([0])"
   ],
   "metadata": {
    "collapsed": false,
    "pycharm": {
     "name": "#%%\n"
    }
   }
  },
  {
   "cell_type": "code",
   "execution_count": 117,
   "outputs": [
    {
     "data": {
      "text/plain": "    0   1   2   3   4   5   6   7   8\n0   0   1   2   3   4   5   6   7   8\n1  10  11  12  13  14  15  16  17  18\n2  20  21  22  23  24  25  26  27  28",
      "text/html": "<div>\n<style scoped>\n    .dataframe tbody tr th:only-of-type {\n        vertical-align: middle;\n    }\n\n    .dataframe tbody tr th {\n        vertical-align: top;\n    }\n\n    .dataframe thead th {\n        text-align: right;\n    }\n</style>\n<table border=\"1\" class=\"dataframe\">\n  <thead>\n    <tr style=\"text-align: right;\">\n      <th></th>\n      <th>0</th>\n      <th>1</th>\n      <th>2</th>\n      <th>3</th>\n      <th>4</th>\n      <th>5</th>\n      <th>6</th>\n      <th>7</th>\n      <th>8</th>\n    </tr>\n  </thead>\n  <tbody>\n    <tr>\n      <th>0</th>\n      <td>0</td>\n      <td>1</td>\n      <td>2</td>\n      <td>3</td>\n      <td>4</td>\n      <td>5</td>\n      <td>6</td>\n      <td>7</td>\n      <td>8</td>\n    </tr>\n    <tr>\n      <th>1</th>\n      <td>10</td>\n      <td>11</td>\n      <td>12</td>\n      <td>13</td>\n      <td>14</td>\n      <td>15</td>\n      <td>16</td>\n      <td>17</td>\n      <td>18</td>\n    </tr>\n    <tr>\n      <th>2</th>\n      <td>20</td>\n      <td>21</td>\n      <td>22</td>\n      <td>23</td>\n      <td>24</td>\n      <td>25</td>\n      <td>26</td>\n      <td>27</td>\n      <td>28</td>\n    </tr>\n  </tbody>\n</table>\n</div>"
     },
     "execution_count": 117,
     "metadata": {},
     "output_type": "execute_result"
    }
   ],
   "source": [
    "data.iloc[:,:-1]"
   ],
   "metadata": {
    "collapsed": false,
    "pycharm": {
     "name": "#%%\n"
    }
   }
  },
  {
   "cell_type": "code",
   "execution_count": 137,
   "outputs": [
    {
     "ename": "TypeError",
     "evalue": "only integer scalar arrays can be converted to a scalar index",
     "output_type": "error",
     "traceback": [
      "\u001B[1;31m---------------------------------------------------------------------------\u001B[0m",
      "\u001B[1;31mTypeError\u001B[0m                                 Traceback (most recent call last)",
      "Input \u001B[1;32mIn [137]\u001B[0m, in \u001B[0;36m<cell line: 1>\u001B[1;34m()\u001B[0m\n\u001B[1;32m----> 1\u001B[0m mask1 \u001B[38;5;241m=\u001B[39m \u001B[43mdata\u001B[49m\u001B[43m[\u001B[49m\u001B[38;5;124;43m'\u001B[39;49m\u001B[38;5;124;43mcol 6\u001B[39;49m\u001B[38;5;124;43m'\u001B[39;49m\u001B[43m]\u001B[49m \u001B[38;5;241m>\u001B[39m\u001B[38;5;241m10\u001B[39m\n\u001B[0;32m      3\u001B[0m data[mask1]\n",
      "File \u001B[1;32m~\\anaconda3\\envs\\notebooks\\lib\\site-packages\\pandas\\core\\frame.py:2878\u001B[0m, in \u001B[0;36mDataFrame.__getitem__\u001B[1;34m(self, key)\u001B[0m\n\u001B[0;32m   2876\u001B[0m         \u001B[38;5;28;01mif\u001B[39;00m \u001B[38;5;28mself\u001B[39m\u001B[38;5;241m.\u001B[39mcolumns\u001B[38;5;241m.\u001B[39mnlevels \u001B[38;5;241m>\u001B[39m \u001B[38;5;241m1\u001B[39m:\n\u001B[0;32m   2877\u001B[0m             \u001B[38;5;28;01mreturn\u001B[39;00m \u001B[38;5;28mself\u001B[39m\u001B[38;5;241m.\u001B[39m_getitem_multilevel(key)\n\u001B[1;32m-> 2878\u001B[0m         \u001B[38;5;28;01mreturn\u001B[39;00m \u001B[38;5;28;43mself\u001B[39;49m\u001B[38;5;241;43m.\u001B[39;49m\u001B[43m_get_item_cache\u001B[49m\u001B[43m(\u001B[49m\u001B[43mkey\u001B[49m\u001B[43m)\u001B[49m\n\u001B[0;32m   2880\u001B[0m \u001B[38;5;66;03m# Do we have a slicer (on rows)?\u001B[39;00m\n\u001B[0;32m   2881\u001B[0m indexer \u001B[38;5;241m=\u001B[39m convert_to_index_sliceable(\u001B[38;5;28mself\u001B[39m, key)\n",
      "File \u001B[1;32m~\\anaconda3\\envs\\notebooks\\lib\\site-packages\\pandas\\core\\generic.py:3543\u001B[0m, in \u001B[0;36mNDFrame._get_item_cache\u001B[1;34m(self, item)\u001B[0m\n\u001B[0;32m   3538\u001B[0m \u001B[38;5;28;01mif\u001B[39;00m res \u001B[38;5;129;01mis\u001B[39;00m \u001B[38;5;28;01mNone\u001B[39;00m:\n\u001B[0;32m   3539\u001B[0m     \u001B[38;5;66;03m# All places that call _get_item_cache have unique columns,\u001B[39;00m\n\u001B[0;32m   3540\u001B[0m     \u001B[38;5;66;03m#  pending resolution of GH#33047\u001B[39;00m\n\u001B[0;32m   3542\u001B[0m     loc \u001B[38;5;241m=\u001B[39m \u001B[38;5;28mself\u001B[39m\u001B[38;5;241m.\u001B[39mcolumns\u001B[38;5;241m.\u001B[39mget_loc(item)\n\u001B[1;32m-> 3543\u001B[0m     values \u001B[38;5;241m=\u001B[39m \u001B[38;5;28;43mself\u001B[39;49m\u001B[38;5;241;43m.\u001B[39;49m\u001B[43m_mgr\u001B[49m\u001B[38;5;241;43m.\u001B[39;49m\u001B[43miget\u001B[49m\u001B[43m(\u001B[49m\u001B[43mloc\u001B[49m\u001B[43m)\u001B[49m\n\u001B[0;32m   3544\u001B[0m     res \u001B[38;5;241m=\u001B[39m \u001B[38;5;28mself\u001B[39m\u001B[38;5;241m.\u001B[39m_box_col_values(values, loc)\n\u001B[0;32m   3546\u001B[0m     cache[item] \u001B[38;5;241m=\u001B[39m res\n",
      "File \u001B[1;32m~\\anaconda3\\envs\\notebooks\\lib\\site-packages\\pandas\\core\\internals\\managers.py:997\u001B[0m, in \u001B[0;36mBlockManager.iget\u001B[1;34m(self, i)\u001B[0m\n\u001B[0;32m    993\u001B[0m \u001B[38;5;28;01mdef\u001B[39;00m \u001B[38;5;21miget\u001B[39m(\u001B[38;5;28mself\u001B[39m, i: \u001B[38;5;28mint\u001B[39m) \u001B[38;5;241m-\u001B[39m\u001B[38;5;241m>\u001B[39m \u001B[38;5;124m\"\u001B[39m\u001B[38;5;124mSingleBlockManager\u001B[39m\u001B[38;5;124m\"\u001B[39m:\n\u001B[0;32m    994\u001B[0m     \u001B[38;5;124;03m\"\"\"\u001B[39;00m\n\u001B[0;32m    995\u001B[0m \u001B[38;5;124;03m    Return the data as a SingleBlockManager.\u001B[39;00m\n\u001B[0;32m    996\u001B[0m \u001B[38;5;124;03m    \"\"\"\u001B[39;00m\n\u001B[1;32m--> 997\u001B[0m     block \u001B[38;5;241m=\u001B[39m \u001B[38;5;28;43mself\u001B[39;49m\u001B[38;5;241;43m.\u001B[39;49m\u001B[43mblocks\u001B[49m\u001B[43m[\u001B[49m\u001B[38;5;28;43mself\u001B[39;49m\u001B[38;5;241;43m.\u001B[39;49m\u001B[43mblknos\u001B[49m\u001B[43m[\u001B[49m\u001B[43mi\u001B[49m\u001B[43m]\u001B[49m\u001B[43m]\u001B[49m\n\u001B[0;32m    998\u001B[0m     values \u001B[38;5;241m=\u001B[39m block\u001B[38;5;241m.\u001B[39miget(\u001B[38;5;28mself\u001B[39m\u001B[38;5;241m.\u001B[39mblklocs[i])\n\u001B[0;32m   1000\u001B[0m     \u001B[38;5;66;03m# shortcut for select a single-dim from a 2-dim BM\u001B[39;00m\n",
      "\u001B[1;31mTypeError\u001B[0m: only integer scalar arrays can be converted to a scalar index"
     ]
    }
   ],
   "source": [
    "mask1 = data['col 6'] >10\n",
    "\n",
    "data[mask1]"
   ],
   "metadata": {
    "collapsed": false,
    "pycharm": {
     "name": "#%%\n"
    }
   }
  },
  {
   "cell_type": "code",
   "execution_count": 129,
   "outputs": [
    {
     "data": {
      "text/plain": "col 0    3\ncol 1    3\ncol 2    3\ncol 3    3\ncol 4    3\ncol 5    3\ncol 6    3\ncol 7    3\ncol 8    3\ncol 9    3\ndtype: int64"
     },
     "execution_count": 129,
     "metadata": {},
     "output_type": "execute_result"
    }
   ],
   "source": [
    "data.count()"
   ],
   "metadata": {
    "collapsed": false,
    "pycharm": {
     "name": "#%%\n"
    }
   }
  },
  {
   "cell_type": "code",
   "execution_count": 3,
   "outputs": [
    {
     "data": {
      "text/plain": "array([ 0,  1,  2,  3,  4,  5,  6,  7,  8,  9, 10, 11, 12, 13, 14])"
     },
     "execution_count": 3,
     "metadata": {},
     "output_type": "execute_result"
    }
   ],
   "source": [
    "array= np.arange(15)\n",
    "array"
   ],
   "metadata": {
    "collapsed": false,
    "pycharm": {
     "name": "#%%\n"
    }
   }
  },
  {
   "cell_type": "code",
   "execution_count": 6,
   "outputs": [
    {
     "data": {
      "text/plain": "array([ 6,  7,  8,  9, 10, 11, 12, 13, 14])"
     },
     "execution_count": 6,
     "metadata": {},
     "output_type": "execute_result"
    }
   ],
   "source": [
    "mask= array > 5\n",
    "array[mask]"
   ],
   "metadata": {
    "collapsed": false,
    "pycharm": {
     "name": "#%%\n"
    }
   }
  },
  {
   "cell_type": "code",
   "execution_count": 17,
   "outputs": [
    {
     "ename": "ValueError",
     "evalue": "The truth value of an array with more than one element is ambiguous. Use a.any() or a.all()",
     "output_type": "error",
     "traceback": [
      "\u001B[1;31m---------------------------------------------------------------------------\u001B[0m",
      "\u001B[1;31mValueError\u001B[0m                                Traceback (most recent call last)",
      "Input \u001B[1;32mIn [17]\u001B[0m, in \u001B[0;36m<cell line: 2>\u001B[1;34m()\u001B[0m\n\u001B[0;32m      1\u001B[0m mask_a \u001B[38;5;241m=\u001B[39m array\u001B[38;5;241m<\u001B[39m\u001B[38;5;241m5\u001B[39m\n\u001B[1;32m----> 2\u001B[0m mask_b \u001B[38;5;241m=\u001B[39m \u001B[38;5;129;43;01mnot\u001B[39;49;00m\u001B[43m \u001B[49m\u001B[43m(\u001B[49m\u001B[43marray\u001B[49m\u001B[43m \u001B[49m\u001B[38;5;241;43m==\u001B[39;49m\u001B[43m \u001B[49m\u001B[38;5;241;43m10\u001B[39;49m\u001B[43m)\u001B[49m\n\u001B[0;32m      3\u001B[0m mask \u001B[38;5;241m=\u001B[39m np\u001B[38;5;241m.\u001B[39mlogical_not(np\u001B[38;5;241m.\u001B[39mlogical_or(mask_a,mask_b))\n\u001B[0;32m      4\u001B[0m array[mask]\n",
      "\u001B[1;31mValueError\u001B[0m: The truth value of an array with more than one element is ambiguous. Use a.any() or a.all()"
     ]
    }
   ],
   "source": [
    "mask_a = array<5\n",
    "mask_b = not ()\n",
    "mask = np.logical_not(np.logical_or(mask_a,mask_b))\n",
    "array[mask]"
   ],
   "metadata": {
    "collapsed": false,
    "pycharm": {
     "name": "#%%\n"
    }
   }
  },
  {
   "cell_type": "code",
   "execution_count": 18,
   "outputs": [],
   "source": [
    "import pandas as pd"
   ],
   "metadata": {
    "collapsed": false,
    "pycharm": {
     "name": "#%%\n"
    }
   }
  },
  {
   "cell_type": "code",
   "execution_count": 19,
   "outputs": [
    {
     "data": {
      "text/plain": "a    0.25\nb    0.50\nc    0.75\nd    1.00\ndtype: float64"
     },
     "execution_count": 19,
     "metadata": {},
     "output_type": "execute_result"
    }
   ],
   "source": [
    "data = pd.Series([0.25, 0.5, 0.75, 1.0], index=['a', 'b', 'c', 'd'])\n",
    "data"
   ],
   "metadata": {
    "collapsed": false,
    "pycharm": {
     "name": "#%%\n"
    }
   }
  },
  {
   "cell_type": "code",
   "execution_count": 20,
   "outputs": [
    {
     "data": {
      "text/plain": "a    0.25\nd    1.00\ndtype: float64"
     },
     "execution_count": 20,
     "metadata": {},
     "output_type": "execute_result"
    }
   ],
   "source": [
    "data.loc[['a','d']]"
   ],
   "metadata": {
    "collapsed": false,
    "pycharm": {
     "name": "#%%\n"
    }
   }
  },
  {
   "cell_type": "code",
   "execution_count": 21,
   "outputs": [
    {
     "data": {
      "text/plain": "a    0.25\nd    1.00\ndtype: float64"
     },
     "execution_count": 21,
     "metadata": {},
     "output_type": "execute_result"
    }
   ],
   "source": [
    "mask = np.logical_or(data.index == 'a', data.index == 'd')\n",
    "data.loc[mask]"
   ],
   "metadata": {
    "collapsed": false,
    "pycharm": {
     "name": "#%%\n"
    }
   }
  },
  {
   "cell_type": "code",
   "execution_count": 22,
   "outputs": [
    {
     "data": {
      "text/plain": "a    0.25\nd    1.00\ndtype: float64"
     },
     "execution_count": 22,
     "metadata": {},
     "output_type": "execute_result"
    }
   ],
   "source": [
    "\n",
    "mask = [x in ['a', 'd'] for x in data.index]\n",
    "data.loc[mask]"
   ],
   "metadata": {
    "collapsed": false,
    "pycharm": {
     "name": "#%%\n"
    }
   }
  },
  {
   "cell_type": "code",
   "execution_count": 23,
   "outputs": [
    {
     "data": {
      "text/plain": "a    0.25\nd    1.00\ndtype: float64"
     },
     "execution_count": 23,
     "metadata": {},
     "output_type": "execute_result"
    }
   ],
   "source": [
    "data[['a', 'd']]"
   ],
   "metadata": {
    "collapsed": false,
    "pycharm": {
     "name": "#%%\n"
    }
   }
  },
  {
   "cell_type": "code",
   "execution_count": 24,
   "outputs": [
    {
     "ename": "KeyError",
     "evalue": "'key of type tuple not found and not a MultiIndex'",
     "output_type": "error",
     "traceback": [
      "\u001B[1;31m---------------------------------------------------------------------------\u001B[0m",
      "\u001B[1;31mKeyError\u001B[0m                                  Traceback (most recent call last)",
      "Input \u001B[1;32mIn [24]\u001B[0m, in \u001B[0;36m<cell line: 1>\u001B[1;34m()\u001B[0m\n\u001B[1;32m----> 1\u001B[0m \u001B[43mdata\u001B[49m\u001B[43m[\u001B[49m\u001B[38;5;124;43m'\u001B[39;49m\u001B[38;5;124;43ma\u001B[39;49m\u001B[38;5;124;43m'\u001B[39;49m\u001B[43m,\u001B[49m\u001B[43m \u001B[49m\u001B[38;5;124;43m'\u001B[39;49m\u001B[38;5;124;43md\u001B[39;49m\u001B[38;5;124;43m'\u001B[39;49m\u001B[43m]\u001B[49m\n",
      "File \u001B[1;32m~\\anaconda3\\envs\\notebooks\\lib\\site-packages\\pandas\\core\\series.py:906\u001B[0m, in \u001B[0;36mSeries.__getitem__\u001B[1;34m(self, key)\u001B[0m\n\u001B[0;32m    903\u001B[0m     key \u001B[38;5;241m=\u001B[39m np\u001B[38;5;241m.\u001B[39masarray(key, dtype\u001B[38;5;241m=\u001B[39m\u001B[38;5;28mbool\u001B[39m)\n\u001B[0;32m    904\u001B[0m     \u001B[38;5;28;01mreturn\u001B[39;00m \u001B[38;5;28mself\u001B[39m\u001B[38;5;241m.\u001B[39m_get_values(key)\n\u001B[1;32m--> 906\u001B[0m \u001B[38;5;28;01mreturn\u001B[39;00m \u001B[38;5;28;43mself\u001B[39;49m\u001B[38;5;241;43m.\u001B[39;49m\u001B[43m_get_with\u001B[49m\u001B[43m(\u001B[49m\u001B[43mkey\u001B[49m\u001B[43m)\u001B[49m\n",
      "File \u001B[1;32m~\\anaconda3\\envs\\notebooks\\lib\\site-packages\\pandas\\core\\series.py:921\u001B[0m, in \u001B[0;36mSeries._get_with\u001B[1;34m(self, key)\u001B[0m\n\u001B[0;32m    916\u001B[0m     \u001B[38;5;28;01mraise\u001B[39;00m \u001B[38;5;167;01mTypeError\u001B[39;00m(\n\u001B[0;32m    917\u001B[0m         \u001B[38;5;124m\"\u001B[39m\u001B[38;5;124mIndexing a Series with DataFrame is not \u001B[39m\u001B[38;5;124m\"\u001B[39m\n\u001B[0;32m    918\u001B[0m         \u001B[38;5;124m\"\u001B[39m\u001B[38;5;124msupported, use the appropriate DataFrame column\u001B[39m\u001B[38;5;124m\"\u001B[39m\n\u001B[0;32m    919\u001B[0m     )\n\u001B[0;32m    920\u001B[0m \u001B[38;5;28;01melif\u001B[39;00m \u001B[38;5;28misinstance\u001B[39m(key, \u001B[38;5;28mtuple\u001B[39m):\n\u001B[1;32m--> 921\u001B[0m     \u001B[38;5;28;01mreturn\u001B[39;00m \u001B[38;5;28;43mself\u001B[39;49m\u001B[38;5;241;43m.\u001B[39;49m\u001B[43m_get_values_tuple\u001B[49m\u001B[43m(\u001B[49m\u001B[43mkey\u001B[49m\u001B[43m)\u001B[49m\n\u001B[0;32m    923\u001B[0m \u001B[38;5;28;01melif\u001B[39;00m \u001B[38;5;129;01mnot\u001B[39;00m is_list_like(key):\n\u001B[0;32m    924\u001B[0m     \u001B[38;5;66;03m# e.g. scalars that aren't recognized by lib.is_scalar, GH#32684\u001B[39;00m\n\u001B[0;32m    925\u001B[0m     \u001B[38;5;28;01mreturn\u001B[39;00m \u001B[38;5;28mself\u001B[39m\u001B[38;5;241m.\u001B[39mloc[key]\n",
      "File \u001B[1;32m~\\anaconda3\\envs\\notebooks\\lib\\site-packages\\pandas\\core\\series.py:956\u001B[0m, in \u001B[0;36mSeries._get_values_tuple\u001B[1;34m(self, key)\u001B[0m\n\u001B[0;32m    953\u001B[0m     \u001B[38;5;28;01mreturn\u001B[39;00m result\n\u001B[0;32m    955\u001B[0m \u001B[38;5;28;01mif\u001B[39;00m \u001B[38;5;129;01mnot\u001B[39;00m \u001B[38;5;28misinstance\u001B[39m(\u001B[38;5;28mself\u001B[39m\u001B[38;5;241m.\u001B[39mindex, MultiIndex):\n\u001B[1;32m--> 956\u001B[0m     \u001B[38;5;28;01mraise\u001B[39;00m \u001B[38;5;167;01mKeyError\u001B[39;00m(\u001B[38;5;124m\"\u001B[39m\u001B[38;5;124mkey of type tuple not found and not a MultiIndex\u001B[39m\u001B[38;5;124m\"\u001B[39m)\n\u001B[0;32m    958\u001B[0m \u001B[38;5;66;03m# If key is contained, would have returned by now\u001B[39;00m\n\u001B[0;32m    959\u001B[0m indexer, new_index \u001B[38;5;241m=\u001B[39m \u001B[38;5;28mself\u001B[39m\u001B[38;5;241m.\u001B[39mindex\u001B[38;5;241m.\u001B[39mget_loc_level(key)\n",
      "\u001B[1;31mKeyError\u001B[0m: 'key of type tuple not found and not a MultiIndex'"
     ]
    }
   ],
   "source": [
    "data['a', 'd']"
   ],
   "metadata": {
    "collapsed": false,
    "pycharm": {
     "name": "#%%\n"
    }
   }
  },
  {
   "cell_type": "code",
   "execution_count": 30,
   "outputs": [
    {
     "data": {
      "text/plain": "   0   1   2\n0  1  10   9\n1  3  12   4\n2  5  18   0\n3  8  21  78",
      "text/html": "<div>\n<style scoped>\n    .dataframe tbody tr th:only-of-type {\n        vertical-align: middle;\n    }\n\n    .dataframe tbody tr th {\n        vertical-align: top;\n    }\n\n    .dataframe thead th {\n        text-align: right;\n    }\n</style>\n<table border=\"1\" class=\"dataframe\">\n  <thead>\n    <tr style=\"text-align: right;\">\n      <th></th>\n      <th>0</th>\n      <th>1</th>\n      <th>2</th>\n    </tr>\n  </thead>\n  <tbody>\n    <tr>\n      <th>0</th>\n      <td>1</td>\n      <td>10</td>\n      <td>9</td>\n    </tr>\n    <tr>\n      <th>1</th>\n      <td>3</td>\n      <td>12</td>\n      <td>4</td>\n    </tr>\n    <tr>\n      <th>2</th>\n      <td>5</td>\n      <td>18</td>\n      <td>0</td>\n    </tr>\n    <tr>\n      <th>3</th>\n      <td>8</td>\n      <td>21</td>\n      <td>78</td>\n    </tr>\n  </tbody>\n</table>\n</div>"
     },
     "execution_count": 30,
     "metadata": {},
     "output_type": "execute_result"
    }
   ],
   "source": [
    "df= pd.DataFrame([[1,3,5,8],[10,12,18,21],[9,4,0,78]])\n",
    "df = df.T\n",
    "df"
   ],
   "metadata": {
    "collapsed": false,
    "pycharm": {
     "name": "#%%\n"
    }
   }
  },
  {
   "cell_type": "code",
   "execution_count": 32,
   "outputs": [
    {
     "data": {
      "text/plain": "     0     1    2\n0  NaN  10.0  NaN\n1  NaN  12.0  4.0\n2  NaN  18.0  0.0\n3  8.0   NaN  NaN",
      "text/html": "<div>\n<style scoped>\n    .dataframe tbody tr th:only-of-type {\n        vertical-align: middle;\n    }\n\n    .dataframe tbody tr th {\n        vertical-align: top;\n    }\n\n    .dataframe thead th {\n        text-align: right;\n    }\n</style>\n<table border=\"1\" class=\"dataframe\">\n  <thead>\n    <tr style=\"text-align: right;\">\n      <th></th>\n      <th>0</th>\n      <th>1</th>\n      <th>2</th>\n    </tr>\n  </thead>\n  <tbody>\n    <tr>\n      <th>0</th>\n      <td>NaN</td>\n      <td>10.0</td>\n      <td>NaN</td>\n    </tr>\n    <tr>\n      <th>1</th>\n      <td>NaN</td>\n      <td>12.0</td>\n      <td>4.0</td>\n    </tr>\n    <tr>\n      <th>2</th>\n      <td>NaN</td>\n      <td>18.0</td>\n      <td>0.0</td>\n    </tr>\n    <tr>\n      <th>3</th>\n      <td>8.0</td>\n      <td>NaN</td>\n      <td>NaN</td>\n    </tr>\n  </tbody>\n</table>\n</div>"
     },
     "execution_count": 32,
     "metadata": {},
     "output_type": "execute_result"
    }
   ],
   "source": [
    "\n",
    "mask1 = (df % 2 == 0)\n",
    "data_pares = df[mask1]\n",
    "mask2 = (df < 50)\n",
    "data_pares[mask2]"
   ],
   "metadata": {
    "collapsed": false,
    "pycharm": {
     "name": "#%%\n"
    }
   }
  },
  {
   "cell_type": "code",
   "execution_count": 33,
   "outputs": [
    {
     "data": {
      "text/plain": "     0     1    2\n0  NaN  10.0  NaN\n1  NaN  12.0  4.0\n2  NaN  18.0  0.0\n3  8.0   NaN  NaN",
      "text/html": "<div>\n<style scoped>\n    .dataframe tbody tr th:only-of-type {\n        vertical-align: middle;\n    }\n\n    .dataframe tbody tr th {\n        vertical-align: top;\n    }\n\n    .dataframe thead th {\n        text-align: right;\n    }\n</style>\n<table border=\"1\" class=\"dataframe\">\n  <thead>\n    <tr style=\"text-align: right;\">\n      <th></th>\n      <th>0</th>\n      <th>1</th>\n      <th>2</th>\n    </tr>\n  </thead>\n  <tbody>\n    <tr>\n      <th>0</th>\n      <td>NaN</td>\n      <td>10.0</td>\n      <td>NaN</td>\n    </tr>\n    <tr>\n      <th>1</th>\n      <td>NaN</td>\n      <td>12.0</td>\n      <td>4.0</td>\n    </tr>\n    <tr>\n      <th>2</th>\n      <td>NaN</td>\n      <td>18.0</td>\n      <td>0.0</td>\n    </tr>\n    <tr>\n      <th>3</th>\n      <td>8.0</td>\n      <td>NaN</td>\n      <td>NaN</td>\n    </tr>\n  </tbody>\n</table>\n</div>"
     },
     "execution_count": 33,
     "metadata": {},
     "output_type": "execute_result"
    }
   ],
   "source": [
    "mask1 = (df % 2 == 0)\n",
    "mask2 = (df < 50)\n",
    "mask = np.logical_and(mask1, mask2)\n",
    "df[mask]"
   ],
   "metadata": {
    "collapsed": false,
    "pycharm": {
     "name": "#%%\n"
    }
   }
  },
  {
   "cell_type": "code",
   "execution_count": 34,
   "outputs": [
    {
     "ename": "ValueError",
     "evalue": "Cannot index with multidimensional key",
     "output_type": "error",
     "traceback": [
      "\u001B[1;31m---------------------------------------------------------------------------\u001B[0m",
      "\u001B[1;31mValueError\u001B[0m                                Traceback (most recent call last)",
      "Input \u001B[1;32mIn [34]\u001B[0m, in \u001B[0;36m<cell line: 4>\u001B[1;34m()\u001B[0m\n\u001B[0;32m      2\u001B[0m mask2 \u001B[38;5;241m=\u001B[39m (df \u001B[38;5;241m<\u001B[39m \u001B[38;5;241m50\u001B[39m) \n\u001B[0;32m      3\u001B[0m mask \u001B[38;5;241m=\u001B[39m np\u001B[38;5;241m.\u001B[39mlogical_and(mask1, mask2) \n\u001B[1;32m----> 4\u001B[0m \u001B[43mdf\u001B[49m\u001B[38;5;241;43m.\u001B[39;49m\u001B[43mloc\u001B[49m\u001B[43m[\u001B[49m\u001B[43mmask\u001B[49m\u001B[43m]\u001B[49m\n",
      "File \u001B[1;32m~\\anaconda3\\envs\\notebooks\\lib\\site-packages\\pandas\\core\\indexing.py:879\u001B[0m, in \u001B[0;36m_LocationIndexer.__getitem__\u001B[1;34m(self, key)\u001B[0m\n\u001B[0;32m    876\u001B[0m axis \u001B[38;5;241m=\u001B[39m \u001B[38;5;28mself\u001B[39m\u001B[38;5;241m.\u001B[39maxis \u001B[38;5;129;01mor\u001B[39;00m \u001B[38;5;241m0\u001B[39m\n\u001B[0;32m    878\u001B[0m maybe_callable \u001B[38;5;241m=\u001B[39m com\u001B[38;5;241m.\u001B[39mapply_if_callable(key, \u001B[38;5;28mself\u001B[39m\u001B[38;5;241m.\u001B[39mobj)\n\u001B[1;32m--> 879\u001B[0m \u001B[38;5;28;01mreturn\u001B[39;00m \u001B[38;5;28;43mself\u001B[39;49m\u001B[38;5;241;43m.\u001B[39;49m\u001B[43m_getitem_axis\u001B[49m\u001B[43m(\u001B[49m\u001B[43mmaybe_callable\u001B[49m\u001B[43m,\u001B[49m\u001B[43m \u001B[49m\u001B[43maxis\u001B[49m\u001B[38;5;241;43m=\u001B[39;49m\u001B[43maxis\u001B[49m\u001B[43m)\u001B[49m\n",
      "File \u001B[1;32m~\\anaconda3\\envs\\notebooks\\lib\\site-packages\\pandas\\core\\indexing.py:1097\u001B[0m, in \u001B[0;36m_LocIndexer._getitem_axis\u001B[1;34m(self, key, axis)\u001B[0m\n\u001B[0;32m   1094\u001B[0m \u001B[38;5;28;01mif\u001B[39;00m \u001B[38;5;129;01mnot\u001B[39;00m (\u001B[38;5;28misinstance\u001B[39m(key, \u001B[38;5;28mtuple\u001B[39m) \u001B[38;5;129;01mand\u001B[39;00m \u001B[38;5;28misinstance\u001B[39m(labels, ABCMultiIndex)):\n\u001B[0;32m   1096\u001B[0m     \u001B[38;5;28;01mif\u001B[39;00m \u001B[38;5;28mhasattr\u001B[39m(key, \u001B[38;5;124m\"\u001B[39m\u001B[38;5;124mndim\u001B[39m\u001B[38;5;124m\"\u001B[39m) \u001B[38;5;129;01mand\u001B[39;00m key\u001B[38;5;241m.\u001B[39mndim \u001B[38;5;241m>\u001B[39m \u001B[38;5;241m1\u001B[39m:\n\u001B[1;32m-> 1097\u001B[0m         \u001B[38;5;28;01mraise\u001B[39;00m \u001B[38;5;167;01mValueError\u001B[39;00m(\u001B[38;5;124m\"\u001B[39m\u001B[38;5;124mCannot index with multidimensional key\u001B[39m\u001B[38;5;124m\"\u001B[39m)\n\u001B[0;32m   1099\u001B[0m     \u001B[38;5;28;01mreturn\u001B[39;00m \u001B[38;5;28mself\u001B[39m\u001B[38;5;241m.\u001B[39m_getitem_iterable(key, axis\u001B[38;5;241m=\u001B[39maxis)\n\u001B[0;32m   1101\u001B[0m \u001B[38;5;66;03m# nested tuple slicing\u001B[39;00m\n",
      "\u001B[1;31mValueError\u001B[0m: Cannot index with multidimensional key"
     ]
    }
   ],
   "source": [
    "mask1 = (df % 2 == 0)\n",
    "mask2 = (df < 50)\n",
    "mask = np.logical_and(mask1, mask2)\n",
    "df.loc[mask]"
   ],
   "metadata": {
    "collapsed": false,
    "pycharm": {
     "name": "#%%\n"
    }
   }
  },
  {
   "cell_type": "code",
   "execution_count": 2,
   "outputs": [
    {
     "name": "stdout",
     "output_type": "stream",
     "text": [
      "Hola soy marcela\n"
     ]
    }
   ],
   "source": [],
   "metadata": {
    "collapsed": false,
    "pycharm": {
     "name": "#%%\n"
    }
   }
  }
 ],
 "metadata": {
  "kernelspec": {
   "display_name": "Python 3 (ipykernel)",
   "language": "python",
   "name": "python3"
  },
  "language_info": {
   "codemirror_mode": {
    "name": "ipython",
    "version": 3
   },
   "file_extension": ".py",
   "mimetype": "text/x-python",
   "name": "python",
   "nbconvert_exporter": "python",
   "pygments_lexer": "ipython3",
   "version": "3.8.13"
  }
 },
 "nbformat": 4,
 "nbformat_minor": 5
}