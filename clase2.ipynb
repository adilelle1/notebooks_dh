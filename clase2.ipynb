{
 "cells": [
  {
   "cell_type": "code",
   "execution_count": 1,
   "outputs": [],
   "source": [
    "from numpy import *"
   ],
   "metadata": {
    "collapsed": false,
    "pycharm": {
     "name": "#%%\n"
    }
   }
  },
  {
   "cell_type": "code",
   "execution_count": 5,
   "outputs": [
    {
     "data": {
      "text/plain": "array([[0.61284214, 6.29964538, 6.03950453, 3.2211586 , 2.98949791,\n        4.82625345, 9.05954075, 3.43681287],\n       [9.31814085, 1.67904327, 6.58921827, 5.19327422, 3.63994856,\n        9.48822233, 4.62335322, 8.10528478],\n       [6.69598877, 2.26505399, 2.69460818, 8.19791714, 9.80481234,\n        0.53375658, 9.15208036, 4.18222108],\n       [4.53146125, 5.12949844, 1.50203726, 5.46599149, 6.15758714,\n        9.01372034, 3.11499701, 9.67819224],\n       [2.01511316, 1.05468309, 3.68904313, 6.69899771, 3.2804476 ,\n        4.43271536, 0.52432347, 7.63278282]])"
     },
     "execution_count": 5,
     "metadata": {},
     "output_type": "execute_result"
    }
   ],
   "source": [
    "random_generator = np.random.default_rng()\n",
    "\n",
    "low = 0\n",
    "high = 10\n",
    "size = (5,8)\n",
    "two_d_array = random_generator.uniform(low,high,size)\n",
    "two_d_array\n"
   ],
   "metadata": {
    "collapsed": false,
    "pycharm": {
     "name": "#%%\n"
    }
   }
  },
  {
   "cell_type": "code",
   "execution_count": 8,
   "outputs": [
    {
     "ename": "IndexError",
     "evalue": "shape mismatch: indexing arrays could not be broadcast together with shapes (3,) (2,) ",
     "output_type": "error",
     "traceback": [
      "\u001B[1;31m---------------------------------------------------------------------------\u001B[0m",
      "\u001B[1;31mIndexError\u001B[0m                                Traceback (most recent call last)",
      "Input \u001B[1;32mIn [8]\u001B[0m, in \u001B[0;36m<cell line: 3>\u001B[1;34m()\u001B[0m\n\u001B[0;32m      1\u001B[0m filas \u001B[38;5;241m=\u001B[39m [\u001B[38;5;241m0\u001B[39m,\u001B[38;5;241m4\u001B[39m,\u001B[38;5;241m3\u001B[39m]\n\u001B[0;32m      2\u001B[0m columnas \u001B[38;5;241m=\u001B[39m [\u001B[38;5;241m0\u001B[39m,\u001B[38;5;241m7\u001B[39m]\n\u001B[1;32m----> 3\u001B[0m \u001B[43mtwo_d_array\u001B[49m\u001B[43m[\u001B[49m\u001B[43mfilas\u001B[49m\u001B[43m,\u001B[49m\u001B[43mcolumnas\u001B[49m\u001B[43m]\u001B[49m\n",
      "\u001B[1;31mIndexError\u001B[0m: shape mismatch: indexing arrays could not be broadcast together with shapes (3,) (2,) "
     ]
    }
   ],
   "source": [
    "filas = [0,4]\n",
    "columnas = [0,7]\n",
    "two_d_array[filas,columnas]\n"
   ],
   "metadata": {
    "collapsed": false,
    "pycharm": {
     "name": "#%%\n"
    }
   }
  }
 ],
 "metadata": {
  "kernelspec": {
   "display_name": "Python 3 (ipykernel)",
   "language": "python",
   "name": "python3"
  },
  "language_info": {
   "codemirror_mode": {
    "name": "ipython",
    "version": 3
   },
   "file_extension": ".py",
   "mimetype": "text/x-python",
   "name": "python",
   "nbconvert_exporter": "python",
   "pygments_lexer": "ipython3",
   "version": "3.8.13"
  }
 },
 "nbformat": 4,
 "nbformat_minor": 5
}