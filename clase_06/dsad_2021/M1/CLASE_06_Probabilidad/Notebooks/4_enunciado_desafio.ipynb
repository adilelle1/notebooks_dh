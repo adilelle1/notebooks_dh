{
 "cells": [
  {
   "cell_type": "code",
   "execution_count": 1,
   "metadata": {
    "pycharm": {
     "name": "#%%\n"
    }
   },
   "outputs": [
    {
     "name": "stdout",
     "output_type": "stream",
     "text": [
      "/media/paulati/Nuevo vol/paula/dh/2021/dsad_2021_paula/common\n",
      "default checking\n",
      "Running command `conda list`... ok\n",
      "jupyterlab=2.2.6 already installed\n",
      "pandas=1.1.5 already installed\n",
      "bokeh=2.2.3 already installed\n",
      "seaborn=0.11.0 already installed\n",
      "matplotlib=3.3.2 already installed\n",
      "ipywidgets=7.5.1 already installed\n",
      "pytest=6.2.1 already installed\n",
      "chardet=4.0.0 already installed\n",
      "psutil=5.7.2 already installed\n",
      "scipy=1.5.2 already installed\n",
      "statsmodels=0.12.1 already installed\n",
      "scikit-learn=0.23.2 already installed\n",
      "xlrd=2.0.1 already installed\n",
      "Running command `conda install --yes nltk=3.5.0`... ok\n",
      "Collecting package metadata (current_repodata.json): ...working... done\n",
      "Solving environment: ...working... done\n",
      "\n",
      "# All requested packages already installed.\n",
      "\n",
      "\n",
      "unidecode=1.1.1 already installed\n",
      "pydotplus=2.0.2 already installed\n",
      "pandas-datareader=0.9.0 already installed\n",
      "flask=1.1.2 already installed\n"
     ]
    }
   ],
   "source": [
    "%run \"../../../common/0_notebooks_base_setup.py\"   "
   ]
  },
  {
   "cell_type": "markdown",
   "metadata": {
    "pycharm": {
     "name": "#%% md\n"
    }
   },
   "source": [
    "---\n",
    "\n",
    "<img src='../../../common/logo_DH.png' align='left' width=35%/>\n"
   ]
  },
  {
   "cell_type": "markdown",
   "metadata": {
    "pycharm": {
     "name": "#%% md\n"
    }
   },
   "source": [
    "En la práctica de la clase de hoy usaremos un dataset de Kaggle que tiene datos de ventas:\n",
    "\n",
    "https://www.kaggle.com/kyanyoga/sample-sales-data\n",
    "\n",
    "Ustedes tienen un subconjunto de los datos disponibles, que usaremos para resolver ejercicios de Numpy, Estadística y Probabilidad."
   ]
  },
  {
   "cell_type": "markdown",
   "metadata": {
    "pycharm": {
     "name": "#%% md\n"
    }
   },
   "source": [
    "## Ejercicio 1\n",
    "Leer los datos del archivo /M1/CLASE_03/Data/sales_data_sample_excercise.csv\n",
    "\n",
    "Este archivo tiene algunos datos numéricos y otros de tipo cadena de caracteres. \n",
    "\n",
    "Las columnas son:\n",
    "\n",
    "* ORDERNUMBER: int, id de la orden\n",
    "\n",
    "* SALES: float, monto abonado\n",
    "\n",
    "* MONTH_ID: int, mes\n",
    "\n",
    "* YEAR_ID: int, año\n",
    "\n",
    "* PRODUCTLINE: str, producto\n",
    "\n",
    "* COUNTRY: str, país de venta\n",
    "\n",
    "¿Recuerdan que todos los elementos de una instancia de ndarray deben ser del mismo tipo? Entonces vamos a leer el archivo y crear una instancia de ndarray de tipo cadena de caracteres.\n",
    "\n",
    "¿Qué pasaría si intentáramos crear una instancia de tipo int? ¿Y de tipo float?\n"
   ]
  },
  {
   "cell_type": "code",
   "execution_count": 1,
   "metadata": {
    "pycharm": {
     "name": "#%%\n"
    }
   },
   "outputs": [
    {
     "data": {
      "text/plain": "array([['10107', '2871', '2', '2003', 'Motorcycles', 'USA'],\n       ['10121', '2765.9', '5', '2003', 'Motorcycles', 'France'],\n       ['10134', '3884.34', '7', '2003', 'Motorcycles', 'France'],\n       ...,\n       ['10386', '5417.57', '3', '2005', 'Ships', 'Spain'],\n       ['10397', '2116.16', '3', '2005', 'Ships', 'France'],\n       ['10414', '3079.44', '5', '2005', 'Ships', 'USA']], dtype='<U16')"
     },
     "execution_count": 1,
     "metadata": {},
     "output_type": "execute_result"
    }
   ],
   "source": [
    "## [BORRAR_PRESENCIAL]\n",
    "\n",
    "import numpy as np\n",
    "import seaborn as sns\n",
    "\n",
    "# local:\n",
    "data_location = '../Data/sales_data_sample_excercise.csv'\n",
    "\n",
    "data_str = np.genfromtxt(data_location, skip_header=1, delimiter='\\t', dtype= str)\n",
    "data_str"
   ]
  },
  {
   "cell_type": "code",
   "execution_count": 2,
   "metadata": {
    "pycharm": {
     "name": "#%%\n"
    }
   },
   "outputs": [
    {
     "data": {
      "text/plain": "array([[10107,  2871,     2,  2003,    -1,    -1],\n       [10121,  2765,     5,  2003,    -1,    -1],\n       [10134,  3884,     7,  2003,    -1,    -1],\n       ...,\n       [10386,  5417,     3,  2005,    -1,    -1],\n       [10397,  2116,     3,  2005,    -1,    -1],\n       [10414,  3079,     5,  2005,    -1,    -1]])"
     },
     "execution_count": 2,
     "metadata": {},
     "output_type": "execute_result"
    }
   ],
   "source": [
    "data_int = np.genfromtxt(data_location, skip_header=1,delimiter='\\t', dtype=int)\n",
    "data_int"
   ]
  },
  {
   "cell_type": "code",
   "execution_count": 3,
   "outputs": [
    {
     "data": {
      "text/plain": "array([[1.01070e+04, 2.87100e+03, 2.00000e+00, 2.00300e+03,         nan,\n                nan],\n       [1.01210e+04, 2.76590e+03, 5.00000e+00, 2.00300e+03,         nan,\n                nan],\n       [1.01340e+04, 3.88434e+03, 7.00000e+00, 2.00300e+03,         nan,\n                nan],\n       ...,\n       [1.03860e+04, 5.41757e+03, 3.00000e+00, 2.00500e+03,         nan,\n                nan],\n       [1.03970e+04, 2.11616e+03, 3.00000e+00, 2.00500e+03,         nan,\n                nan],\n       [1.04140e+04, 3.07944e+03, 5.00000e+00, 2.00500e+03,         nan,\n                nan]])"
     },
     "execution_count": 3,
     "metadata": {},
     "output_type": "execute_result"
    }
   ],
   "source": [
    "data_float = np.genfromtxt(data_location,skip_header=1, delimiter='\\t', dtype=float)\n",
    "data_float"
   ],
   "metadata": {
    "collapsed": false,
    "pycharm": {
     "name": "#%%\n"
    }
   }
  },
  {
   "cell_type": "markdown",
   "metadata": {
    "pycharm": {
     "name": "#%% md\n"
    }
   },
   "source": [
    "## Ejercicio 2\n",
    "\n",
    "Ahora queremos simular datos que representen las precios de ventas de USA en el mismo período, usando una distribución normal.\n",
    "\n",
    "¿Qué parámetros tiene esa distribución?\n",
    "\n",
    "Generar 100 datos simulados."
   ]
  },
  {
   "cell_type": "code",
   "execution_count": 8,
   "metadata": {
    "pycharm": {
     "name": "#%%\n"
    }
   },
   "outputs": [
    {
     "name": "stdout",
     "output_type": "stream",
     "text": [
      "[2871.   2765.9  3884.34 ... 5417.57 2116.16 3079.44]\n"
     ]
    }
   ],
   "source": [
    "sales_vector_str = data_str[:,1]\n",
    "sales_vector = sales_vector_str.astype(float)\n",
    "print(sales_vector)"
   ]
  },
  {
   "cell_type": "code",
   "execution_count": 14,
   "outputs": [
    {
     "data": {
      "text/plain": "array([2871.  , 3746.7 , 5205.27, ..., 1506.96, 4080.72, 3079.44])"
     },
     "execution_count": 14,
     "metadata": {},
     "output_type": "execute_result"
    }
   ],
   "source": [
    "country_vector = data_str[:,-1]\n",
    "\n",
    "ventas_mask = country_vector == 'USA'\n",
    "precio_en_USA = sales_vector[ventas_mask]\n",
    "precio_en_USA"
   ],
   "metadata": {
    "collapsed": false,
    "pycharm": {
     "name": "#%%\n"
    }
   }
  },
  {
   "cell_type": "code",
   "execution_count": 24,
   "outputs": [
    {
     "name": "stdout",
     "output_type": "stream",
     "text": [
      "Media: 3613.5287151394423\n",
      "Mediana: 3236.06\n",
      "Rango: 13541.66\n",
      "Desvio: 1879.9971929724536\n"
     ]
    }
   ],
   "source": [
    "media_sales =np.mean(precio_en_USA)\n",
    "print(f'Media: {media_sales}')\n",
    "print(f'Mediana: {np.median(precio_en_USA)}')\n",
    "print(f'Rango: {max(sales_vector)-min(precio_en_USA)}')\n",
    "desvio_sales = np.std(precio_en_USA)\n",
    "print(f'Desvio: {desvio_sales}')"
   ],
   "metadata": {
    "collapsed": false,
    "pycharm": {
     "name": "#%%\n"
    }
   }
  },
  {
   "cell_type": "code",
   "execution_count": 23,
   "metadata": {
    "pycharm": {
     "name": "#%%\n"
    }
   },
   "outputs": [],
   "source": [
    "random_generator = np.random.default_rng()\n",
    "size_sample = 100\n",
    "random_uniform_cont_data = random_generator.normal(loc=media_sales, scale=desvio_sales,size = size_sample)\n"
   ]
  },
  {
   "cell_type": "markdown",
   "metadata": {
    "pycharm": {
     "name": "#%% md\n"
    }
   },
   "source": [
    "## Ejercicio 3\n",
    "\n",
    "Agregando a los datos originales los datos simulados en el punto anterior, calcular: \n",
    "* Media\n",
    "* Mediana\n",
    "* Rango\n",
    "* Desvío estandard\n",
    "\n",
    "Y comparar con el conjunto sin datos simulados\n",
    "\n",
    "Ayuda: https://docs.scipy.org/doc/numpy/reference/generated/numpy.concatenate.html"
   ]
  },
  {
   "cell_type": "code",
   "execution_count": 26,
   "metadata": {
    "pycharm": {
     "name": "#%%\n"
    }
   },
   "outputs": [
    {
     "name": "stdout",
     "output_type": "stream",
     "text": [
      "Media: 3583.9486596712914\n",
      "Mediana: 3243.13\n",
      "Rango: 15870.036903329088\n",
      "Desvio: 1879.9971929724536\n"
     ]
    }
   ],
   "source": [
    "all_USA_data = np.concatenate((precio_en_USA,random_uniform_cont_data))\n",
    "media_all = np.mean(all_USA_data)\n",
    "print(f'Media: {media_all}')\n",
    "print(f'Mediana: {np.median(all_USA_data)}')\n",
    "print(f'Rango: {max(all_USA_data)-min(all_USA_data)}')\n",
    "desvio_all = np.std(all_USA_data)\n",
    "print(f'Desvio: {desvio_sales}')\n",
    "\n"
   ]
  },
  {
   "cell_type": "markdown",
   "metadata": {
    "pycharm": {
     "name": "#%% md\n"
    }
   },
   "source": [
    "## Ejercicio 4\n",
    "\n",
    "Ahora queremos simular datos que representen las precios de ventas de USA en el mismo período, usando una distribución uniforme.\n",
    "\n",
    "¿Qué parámetros tiene esa distribución?\n",
    "\n",
    "Generar 100 datos simulados."
   ]
  },
  {
   "cell_type": "code",
   "execution_count": null,
   "metadata": {
    "pycharm": {
     "name": "#%%\n"
    }
   },
   "outputs": [],
   "source": []
  },
  {
   "cell_type": "markdown",
   "metadata": {
    "pycharm": {
     "name": "#%% md\n"
    }
   },
   "source": [
    "## Ejercicio 5\n",
    "\n",
    "Agregando a los datos originales los datos simulados en el punto anterior, calcular: \n",
    "* Media\n",
    "* Mediana\n",
    "* Rango\n",
    "* Desvío estandard\n",
    "\n",
    "Y comparar con el conjunto sin datos simulados."
   ]
  },
  {
   "cell_type": "code",
   "execution_count": null,
   "metadata": {
    "pycharm": {
     "name": "#%%\n"
    }
   },
   "outputs": [],
   "source": []
  },
  {
   "cell_type": "markdown",
   "metadata": {
    "pycharm": {
     "name": "#%% md\n"
    }
   },
   "source": [
    "## Ejercicio 6\n",
    "\n",
    "¿Cuál de las dos imputaciones de datos preservó mejor la distribución original?"
   ]
  },
  {
   "cell_type": "code",
   "execution_count": null,
   "metadata": {
    "pycharm": {
     "name": "#%%\n"
    }
   },
   "outputs": [],
   "source": []
  },
  {
   "cell_type": "code",
   "execution_count": 10,
   "metadata": {
    "pycharm": {
     "name": "#%%\n"
    }
   },
   "outputs": [],
   "source": [
    "import seaborn as sns\n",
    "\n",
    "def distribution_plotter(data, label, color = 'steelblue',\n",
    "                         bin_width=200):    \n",
    "    sns.set(rc={\"figure.figsize\": (7, 5)})\n",
    "    sns.set_style(\"white\")    \n",
    "    dist = sns.histplot(data, stat = 'count', kde = False, \n",
    "                        line_kws = {'linewidth':5}, \n",
    "                        binwidth = bin_width,\n",
    "                       color = color)    \n",
    "    dist.set_title('Distribucion ' + label + '\\n', fontsize = 16)\n",
    "    \n",
    "    \n"
   ]
  },
  {
   "cell_type": "code",
   "execution_count": null,
   "metadata": {
    "pycharm": {
     "name": "#%%\n"
    }
   },
   "outputs": [],
   "source": []
  }
 ],
 "metadata": {
  "kernelspec": {
   "display_name": "Python 3",
   "language": "python",
   "name": "python3"
  },
  "language_info": {
   "codemirror_mode": {
    "name": "ipython",
    "version": 3
   },
   "file_extension": ".py",
   "mimetype": "text/x-python",
   "name": "python",
   "nbconvert_exporter": "python",
   "pygments_lexer": "ipython3",
   "version": "3.8.5"
  }
 },
 "nbformat": 4,
 "nbformat_minor": 4
}