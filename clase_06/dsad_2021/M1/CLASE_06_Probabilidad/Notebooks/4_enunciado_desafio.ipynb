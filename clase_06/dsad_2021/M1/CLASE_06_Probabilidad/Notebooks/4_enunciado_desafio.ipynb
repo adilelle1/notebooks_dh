{
 "cells": [
  {
   "cell_type": "code",
   "execution_count": 1,
   "metadata": {
    "pycharm": {
     "name": "#%%\n"
    }
   },
   "outputs": [
    {
     "name": "stdout",
     "output_type": "stream",
     "text": [
      "/media/paulati/Nuevo vol/paula/dh/2021/dsad_2021_paula/common\n",
      "default checking\n",
      "Running command `conda list`... ok\n",
      "jupyterlab=2.2.6 already installed\n",
      "pandas=1.1.5 already installed\n",
      "bokeh=2.2.3 already installed\n",
      "seaborn=0.11.0 already installed\n",
      "matplotlib=3.3.2 already installed\n",
      "ipywidgets=7.5.1 already installed\n",
      "pytest=6.2.1 already installed\n",
      "chardet=4.0.0 already installed\n",
      "psutil=5.7.2 already installed\n",
      "scipy=1.5.2 already installed\n",
      "statsmodels=0.12.1 already installed\n",
      "scikit-learn=0.23.2 already installed\n",
      "xlrd=2.0.1 already installed\n",
      "Running command `conda install --yes nltk=3.5.0`... ok\n",
      "Collecting package metadata (current_repodata.json): ...working... done\n",
      "Solving environment: ...working... done\n",
      "\n",
      "# All requested packages already installed.\n",
      "\n",
      "\n",
      "unidecode=1.1.1 already installed\n",
      "pydotplus=2.0.2 already installed\n",
      "pandas-datareader=0.9.0 already installed\n",
      "flask=1.1.2 already installed\n"
     ]
    }
   ],
   "source": [
    "%run \"../../../common/0_notebooks_base_setup.py\"   "
   ]
  },
  {
   "cell_type": "markdown",
   "metadata": {
    "pycharm": {
     "name": "#%% md\n"
    }
   },
   "source": [
    "---\n",
    "\n",
    "<img src='../../../common/logo_DH.png' align='left' width=35%/>\n"
   ]
  },
  {
   "cell_type": "markdown",
   "metadata": {
    "pycharm": {
     "name": "#%% md\n"
    }
   },
   "source": [
    "En la práctica de la clase de hoy usaremos un dataset de Kaggle que tiene datos de ventas:\n",
    "\n",
    "https://www.kaggle.com/kyanyoga/sample-sales-data\n",
    "\n",
    "Ustedes tienen un subconjunto de los datos disponibles, que usaremos para resolver ejercicios de Numpy, Estadística y Probabilidad."
   ]
  },
  {
   "cell_type": "markdown",
   "metadata": {
    "pycharm": {
     "name": "#%% md\n"
    }
   },
   "source": [
    "## Ejercicio 1\n",
    "Leer los datos del archivo /M1/CLASE_03/Data/sales_data_sample_excercise.csv\n",
    "\n",
    "Este archivo tiene algunos datos numéricos y otros de tipo cadena de caracteres. \n",
    "\n",
    "Las columnas son:\n",
    "\n",
    "* ORDERNUMBER: int, id de la orden\n",
    "\n",
    "* SALES: float, monto abonado\n",
    "\n",
    "* MONTH_ID: int, mes\n",
    "\n",
    "* YEAR_ID: int, año\n",
    "\n",
    "* PRODUCTLINE: str, producto\n",
    "\n",
    "* COUNTRY: str, país de venta\n",
    "\n",
    "¿Recuerdan que todos los elementos de una instancia de ndarray deben ser del mismo tipo? Entonces vamos a leer el archivo y crear una instancia de ndarray de tipo cadena de caracteres.\n",
    "\n",
    "¿Qué pasaría si intentáramos crear una instancia de tipo int? ¿Y de tipo float?\n"
   ]
  },
  {
   "cell_type": "code",
   "execution_count": 4,
   "metadata": {
    "pycharm": {
     "name": "#%%\n"
    }
   },
   "outputs": [
    {
     "data": {
      "text/plain": "array([['10107', '2871', '2', '2003', 'Motorcycles', 'USA'],\n       ['10121', '2765.9', '5', '2003', 'Motorcycles', 'France'],\n       ['10134', '3884.34', '7', '2003', 'Motorcycles', 'France'],\n       ...,\n       ['10386', '5417.57', '3', '2005', 'Ships', 'Spain'],\n       ['10397', '2116.16', '3', '2005', 'Ships', 'France'],\n       ['10414', '3079.44', '5', '2005', 'Ships', 'USA']], dtype='<U16')"
     },
     "execution_count": 4,
     "metadata": {},
     "output_type": "execute_result"
    }
   ],
   "source": [
    "## [BORRAR_PRESENCIAL]\n",
    "\n",
    "import numpy as np\n",
    "import seaborn as sns\n",
    "\n",
    "# local:\n",
    "data_location = '../Data/sales_data_sample_excercise.csv'\n",
    "\n",
    "data= np.genfromtxt(data_location, delimiter='\\t', skip_header=1,dtype=str)\n",
    "data"
   ]
  },
  {
   "cell_type": "code",
   "execution_count": 7,
   "metadata": {
    "pycharm": {
     "name": "#%%\n"
    }
   },
   "outputs": [
    {
     "data": {
      "text/plain": "array([[1.01070e+04, 2.87100e+03, 2.00000e+00, 2.00300e+03,         nan,\n                nan],\n       [1.01210e+04, 2.76590e+03, 5.00000e+00, 2.00300e+03,         nan,\n                nan],\n       [1.01340e+04, 3.88434e+03, 7.00000e+00, 2.00300e+03,         nan,\n                nan],\n       ...,\n       [1.03860e+04, 5.41757e+03, 3.00000e+00, 2.00500e+03,         nan,\n                nan],\n       [1.03970e+04, 2.11616e+03, 3.00000e+00, 2.00500e+03,         nan,\n                nan],\n       [1.04140e+04, 3.07944e+03, 5.00000e+00, 2.00500e+03,         nan,\n                nan]])"
     },
     "execution_count": 7,
     "metadata": {},
     "output_type": "execute_result"
    }
   ],
   "source": [
    "data_float= np.genfromtxt(data_location, delimiter='\\t', skip_header=1,dtype=float)\n",
    "data_float"
   ]
  },
  {
   "cell_type": "code",
   "execution_count": 3,
   "outputs": [
    {
     "data": {
      "text/plain": "array([[1.01070e+04, 2.87100e+03, 2.00000e+00, 2.00300e+03,         nan,\n                nan],\n       [1.01210e+04, 2.76590e+03, 5.00000e+00, 2.00300e+03,         nan,\n                nan],\n       [1.01340e+04, 3.88434e+03, 7.00000e+00, 2.00300e+03,         nan,\n                nan],\n       ...,\n       [1.03860e+04, 5.41757e+03, 3.00000e+00, 2.00500e+03,         nan,\n                nan],\n       [1.03970e+04, 2.11616e+03, 3.00000e+00, 2.00500e+03,         nan,\n                nan],\n       [1.04140e+04, 3.07944e+03, 5.00000e+00, 2.00500e+03,         nan,\n                nan]])"
     },
     "execution_count": 3,
     "metadata": {},
     "output_type": "execute_result"
    }
   ],
   "source": [],
   "metadata": {
    "collapsed": false,
    "pycharm": {
     "name": "#%%\n"
    }
   }
  },
  {
   "cell_type": "markdown",
   "metadata": {
    "pycharm": {
     "name": "#%% md\n"
    }
   },
   "source": [
    "## Ejercicio 2\n",
    "\n",
    "Ahora queremos simular datos que representen las precios de ventas de USA en el mismo período, usando una distribución normal.\n",
    "\n",
    "¿Qué parámetros tiene esa distribución?\n",
    "\n",
    "Generar 100 datos simulados."
   ]
  },
  {
   "cell_type": "code",
   "execution_count": 10,
   "metadata": {
    "pycharm": {
     "name": "#%%\n"
    }
   },
   "outputs": [
    {
     "data": {
      "text/plain": "array([2871.  , 2765.9 , 3884.34, ..., 5417.57, 2116.16, 3079.44])"
     },
     "execution_count": 10,
     "metadata": {},
     "output_type": "execute_result"
    }
   ],
   "source": [
    "sales_array = data_float[:,1]\n",
    "sales_array\n"
   ]
  },
  {
   "cell_type": "code",
   "execution_count": 14,
   "outputs": [],
   "source": [
    "usa_mask= data[:,-1] == 'USA'\n",
    "sales_usa= sales_array[usa_mask]"
   ],
   "metadata": {
    "collapsed": false,
    "pycharm": {
     "name": "#%%\n"
    }
   }
  },
  {
   "cell_type": "code",
   "execution_count": 15,
   "outputs": [],
   "source": [
    "media_usa= np.mean(sales_usa)\n",
    "std_usa = np.std(sales_usa)"
   ],
   "metadata": {
    "collapsed": false,
    "pycharm": {
     "name": "#%%\n"
    }
   }
  },
  {
   "cell_type": "code",
   "execution_count": 16,
   "metadata": {
    "pycharm": {
     "name": "#%%\n"
    }
   },
   "outputs": [
    {
     "data": {
      "text/plain": "array([3956.11935625, 5993.97899001, -782.56191742, 4439.97031321,\n       4511.8086587 , 8177.7699412 , 3500.22269677,  192.88900464,\n       4383.27152086, 2980.50277811, 3259.74839077, 3328.16353268,\n       2786.75170516, 2454.26650605, 4114.40244963,  681.54526181,\n       3221.29775481, 4273.40176199, 5289.12068912, 2820.37768446,\n       3574.43438834, 1441.00900929, 3572.19333678, 3815.27469769,\n       2450.48312313, 3329.22715819, 4533.81473979, 1590.70972876,\n       3070.71429815, 3404.81847706, 4912.33421124, 3374.27714546,\n        880.43109318, -291.20414294, 5237.35846381, 5158.87608918,\n       5012.53050782, 1269.46858101, 4986.10350911, 4829.05443121,\n        -52.66872344, 4719.16683447, 4709.2119399 , 5249.60147165,\n       2531.59361557, 5488.57773173, 2488.25948903, 4581.03117786,\n       6269.69519353, 3482.50947906, 4953.40277572, 4721.74267155,\n       4848.24241768, 4251.94991984, 5753.13321559, 2530.6349534 ,\n       1836.4466915 , 1729.82612961, 3273.78195321, 3491.81226322,\n       6733.16418259, 3642.93262618, 2916.28846256, 1861.00193149,\n       6505.71905779, 3707.73313916, 6186.1452229 , 2805.07288418,\n       5334.1415491 , 1936.02244951, 1547.35411645, 2629.98035826,\n       4551.41141099, 2313.22432731, 1484.03607525, 5085.25480109,\n       5065.9558952 , 4215.60900536, 4345.84316847, 5219.07024052,\n       3585.15026773, 1164.76709853, 4194.59884334, 5859.29414966,\n        966.24339379, 1902.7907512 , 2458.60847364, 1988.43777449,\n       5766.77419682, 2307.35362996,  726.13986977, 4222.18177273,\n       2320.46446551, 8800.50421998, 2758.54950306, 4750.74276264,\n       4290.09285539, 5058.64248845, 3547.30976416, 2354.64825171])"
     },
     "execution_count": 16,
     "metadata": {},
     "output_type": "execute_result"
    }
   ],
   "source": [
    "random_generator= np.random.default_rng()\n",
    "random_normal= random_generator.normal(loc=media_usa,scale=std_usa,size=100)\n",
    "random_normal"
   ]
  },
  {
   "cell_type": "markdown",
   "metadata": {
    "pycharm": {
     "name": "#%% md\n"
    }
   },
   "source": [
    "## Ejercicio 3\n",
    "\n",
    "Agregando a los datos originales los datos simulados en el punto anterior, calcular: \n",
    "* Media\n",
    "* Mediana\n",
    "* Rango\n",
    "* Desvío estandard\n",
    "\n",
    "Y comparar con el conjunto sin datos simulados\n",
    "\n",
    "Ayuda: https://docs.scipy.org/doc/numpy/reference/generated/numpy.concatenate.html"
   ]
  },
  {
   "cell_type": "code",
   "execution_count": 30,
   "metadata": {
    "pycharm": {
     "name": "#%%\n"
    }
   },
   "outputs": [
    {
     "name": "stdout",
     "output_type": "stream",
     "text": [
      "Mean:3612.033507756039\n",
      "Std: 1868.7617680498302\n",
      "Median: 3259.8341953872596\n",
      "Range: 14865.361917415437\n"
     ]
    }
   ],
   "source": [
    "normal_and_original= np.concatenate([sales_usa,random_normal])\n",
    "print(f'Mean:{np.mean(usa_and_original)}')\n",
    "print(f'Std: {np.std(usa_and_original)}')\n",
    "print(f'Median: {np.median(usa_and_original)}')\n",
    "print(f'Range: {np.max(usa_and_original)-np.min(usa_and_original)}')\n"
   ]
  },
  {
   "cell_type": "code",
   "execution_count": 21,
   "outputs": [
    {
     "name": "stdout",
     "output_type": "stream",
     "text": [
      "3613.5287151394423\n",
      "1879.9971929724536\n",
      "3236.06\n",
      "13541.66\n"
     ]
    }
   ],
   "source": [
    "print(media_usa)\n",
    "print(std_usa)\n",
    "print(np.median(sales_usa))\n",
    "print(np.max(sales_usa)-np.min(sales_usa))\n"
   ],
   "metadata": {
    "collapsed": false,
    "pycharm": {
     "name": "#%%\n"
    }
   }
  },
  {
   "cell_type": "markdown",
   "metadata": {
    "pycharm": {
     "name": "#%% md\n"
    }
   },
   "source": [
    "## Ejercicio 4\n",
    "\n",
    "Ahora queremos simular datos que representen las precios de ventas de USA en el mismo período, usando una distribución uniforme.\n",
    "\n",
    "¿Qué parámetros tiene esa distribución?\n",
    "\n",
    "Generar 100 datos simulados."
   ]
  },
  {
   "cell_type": "markdown",
   "source": [],
   "metadata": {
    "collapsed": false,
    "pycharm": {
     "name": "#%% md\n"
    }
   }
  },
  {
   "cell_type": "code",
   "execution_count": 23,
   "metadata": {
    "pycharm": {
     "name": "#%%\n"
    }
   },
   "outputs": [
    {
     "data": {
      "text/plain": "array([10551.32766578,  8335.88487895,  6198.63086877,  2709.49888768,\n        4163.43777429,  5398.56896318,  7601.60247179,  1865.34712116,\n       13077.55602899, 11279.96180187, 13727.10553613,  2149.04305773,\n        1398.30416015,  9355.45483379,  7488.07105389,  6653.91277644,\n        6236.49019053, 13319.36538912, 10570.5051596 ,  3809.75933743,\n        8811.53721244,  4522.11396635,  7379.05904843, 13052.83739579,\n        8395.00816094,  5582.58513241, 13636.35429674, 11175.29497625,\n        2499.56447565,  8934.5893282 ,  5585.66246922, 10367.79544951,\n        3647.13324834,  8905.2971628 ,  2110.06405502, 12847.33082566,\n        4098.72549001,  3426.97324572,  1507.23601749,  5733.04210128,\n        2965.4300899 ,  1757.6227773 , 12285.19305428,  7767.74787244,\n        3450.16796368, 12969.22596573, 11602.6562366 , 13257.7920381 ,\n        1812.55068371,  6620.32017752,  2569.81053475,  8833.79933861,\n        1784.30828788,  9904.65131304, 11460.16795707,  3439.04639693,\n        5530.31170675,  6845.62198577,  5069.34171002,  7259.49055949,\n        8919.36842135,  1249.41107077, 12460.66509433,  7658.90414682,\n        6823.53829033,  6615.21571925,  8258.768177  , 13501.2978599 ,\n       13394.72768665, 13074.44053419,  9704.12430775,  5089.72556116,\n        9199.84376931,  4297.47453201,  6565.10783497,  8918.9697802 ,\n        8730.0409264 ,  8301.65396348,  8802.87167762,  8923.3361193 ,\n        5162.32536416,  5945.20135227,  3764.95805977,  3301.70352427,\n       12701.69715613, 10886.85170235,  7967.37483009,  4132.9380275 ,\n        1941.39153373,  9746.5508522 , 10215.76594844,  7684.00941805,\n        8361.02674728, 13980.53986911, 13652.45784523, 10952.80812396,\n        8077.03425396,  7075.44930167,  9722.66821498, 11820.96514266])"
     },
     "execution_count": 23,
     "metadata": {},
     "output_type": "execute_result"
    }
   ],
   "source": [
    "random_uniform= random_generator.uniform(low=np.min(sales_usa),high=np.max(sales_usa),size=100)\n",
    "random_uniform"
   ]
  },
  {
   "cell_type": "markdown",
   "metadata": {
    "pycharm": {
     "name": "#%% md\n"
    }
   },
   "source": [
    "## Ejercicio 5\n",
    "\n",
    "Agregando a los datos originales los datos simulados en el punto anterior, calcular: \n",
    "* Media\n",
    "* Mediana\n",
    "* Rango\n",
    "* Desvío estandard\n",
    "\n",
    "Y comparar con el conjunto sin datos simulados."
   ]
  },
  {
   "cell_type": "code",
   "execution_count": 24,
   "metadata": {
    "pycharm": {
     "name": "#%%\n"
    }
   },
   "outputs": [
    {
     "name": "stdout",
     "output_type": "stream",
     "text": [
      "Mean:3977.2276462008367\n",
      "Std: 2398.254607592856\n",
      "Median: 3370.8599999999997\n",
      "Range: 13541.66\n"
     ]
    }
   ],
   "source": [
    "uniform_and_original= np.concatenate([sales_usa,random_uniform])\n",
    "print(f'Mean:{np.mean(uniform_and_original)}')\n",
    "print(f'Std: {np.std(uniform_and_original)}')\n",
    "print(f'Median: {np.median(uniform_and_original)}')\n",
    "print(f'Range: {np.max(uniform_and_original)-np.min(uniform_and_original)}')\n"
   ]
  },
  {
   "cell_type": "markdown",
   "metadata": {
    "pycharm": {
     "name": "#%% md\n"
    }
   },
   "source": [
    "## Ejercicio 6\n",
    "\n",
    "¿Cuál de las dos imputaciones de datos preservó mejor la distribución original?"
   ]
  },
  {
   "cell_type": "code",
   "execution_count": null,
   "metadata": {
    "pycharm": {
     "name": "#%%\n"
    }
   },
   "outputs": [],
   "source": []
  },
  {
   "cell_type": "code",
   "execution_count": 25,
   "metadata": {
    "pycharm": {
     "name": "#%%\n"
    }
   },
   "outputs": [],
   "source": [
    "import seaborn as sns\n",
    "\n",
    "def distribution_plotter(data, label, color = 'steelblue',\n",
    "                         bin_width=200):    \n",
    "    sns.set(rc={\"figure.figsize\": (7, 5)})\n",
    "    sns.set_style(\"white\")    \n",
    "    dist = sns.histplot(data, stat = 'count', kde = False, \n",
    "                        line_kws = {'linewidth':5}, \n",
    "                        binwidth = bin_width,\n",
    "                       color = color)    \n",
    "    dist.set_title('Distribucion ' + label + '\\n', fontsize = 16)\n",
    "    \n",
    "    \n"
   ]
  },
  {
   "cell_type": "code",
   "execution_count": 26,
   "metadata": {
    "pycharm": {
     "name": "#%%\n"
    }
   },
   "outputs": [
    {
     "data": {
      "text/plain": "<Figure size 504x360 with 1 Axes>",
      "image/png": "[encoded data removed]"
     },
     "metadata": {},
     "output_type": "display_data"
    }
   ],
   "source": [
    "distribution_plotter(sales_usa,'USA')"
   ]
  },
  {
   "cell_type": "code",
   "execution_count": 31,
   "outputs": [
    {
     "data": {
      "text/plain": "<Figure size 504x360 with 1 Axes>",
      "image/png": "[encoded data removed]"
     },
     "metadata": {},
     "output_type": "display_data"
    }
   ],
   "source": [
    "distribution_plotter(normal_and_original,'normal')"
   ],
   "metadata": {
    "collapsed": false,
    "pycharm": {
     "name": "#%%\n"
    }
   }
  },
  {
   "cell_type": "code",
   "execution_count": 32,
   "outputs": [
    {
     "data": {
      "text/plain": "<Figure size 504x360 with 1 Axes>",
      "image/png": "[encoded data removed]"
     },
     "metadata": {},
     "output_type": "display_data"
    }
   ],
   "source": [
    "distribution_plotter(uniform_and_original,'uniform')"
   ],
   "metadata": {
    "collapsed": false,
    "pycharm": {
     "name": "#%%\n"
    }
   }
  }
 ],
 "metadata": {
  "kernelspec": {
   "display_name": "Python 3",
   "language": "python",
   "name": "python3"
  },
  "language_info": {
   "codemirror_mode": {
    "name": "ipython",
    "version": 3
   },
   "file_extension": ".py",
   "mimetype": "text/x-python",
   "name": "python",
   "nbconvert_exporter": "python",
   "pygments_lexer": "ipython3",
   "version": "3.8.5"
  }
 },
 "nbformat": 4,
 "nbformat_minor": 4
}