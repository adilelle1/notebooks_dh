{
 "cells": [
  {
   "cell_type": "code",
   "execution_count": 1,
   "metadata": {
    "slideshow": {
     "slide_type": "skip"
    },
    "pycharm": {
     "name": "#%%\n"
    }
   },
   "outputs": [],
   "source": [
    "import pandas as pd\n",
    "import geopandas as gpd\n",
    "import matplotlib.pyplot as plt\n",
    "import descartes"
   ]
  },
  {
   "cell_type": "markdown",
   "metadata": {
    "slideshow": {
     "slide_type": "slide"
    },
    "pycharm": {
     "name": "#%% md\n"
    }
   },
   "source": [
    "---\n",
    "\n",
    "<img src='../../../common/logo_DH.png' align='left' width=35%/>"
   ]
  },
  {
   "cell_type": "markdown",
   "metadata": {
    "slideshow": {
     "slide_type": "slide"
    },
    "toc-hr-collapsed": false,
    "pycharm": {
     "name": "#%% md\n"
    }
   },
   "source": [
    "\n",
    "# GeoPandas\n"
   ]
  },
  {
   "cell_type": "markdown",
   "metadata": {
    "slideshow": {
     "slide_type": "slide"
    },
    "pycharm": {
     "name": "#%% md\n"
    }
   },
   "source": [
    "<a id=\"section_toc\"></a> \n",
    "## Tabla de Contenidos\n",
    "\n",
    "[Intro](#section_intro)\n",
    "\n",
    "[Geoseries y GeoDataFrame](#section_geodataframe)\n",
    "\n",
    "[Ejemplo mapa de Argentina y ciudades](#section_ejemplo)\n",
    "\n",
    "$\\hspace{.5cm}$[Ciudades](#section_ciudades)\n",
    "\n",
    "$\\hspace{.5cm}$[Paises](#section_paises)\n",
    "\n",
    "$\\hspace{.5cm}$[Integrando el país con las ciudades](#section_integracion)\n",
    "\n",
    "[Extra: Capitales de países](#section_capitales)\n",
    "\n",
    "---\n"
   ]
  },
  {
   "cell_type": "markdown",
   "metadata": {
    "slideshow": {
     "slide_type": "slide"
    },
    "toc-hr-collapsed": false,
    "pycharm": {
     "name": "#%% md\n"
    }
   },
   "source": [
    "\n",
    "## Geopandas - GeoDataFrame\n"
   ]
  },
  {
   "cell_type": "markdown",
   "metadata": {
    "slideshow": {
     "slide_type": "slide"
    },
    "pycharm": {
     "name": "#%% md\n"
    }
   },
   "source": [
    "<a id=\"section_intro\"></a> \n",
    "###  Intro\n",
    "[volver a TOC](#section_toc)\n",
    "\n",
    "**Geopandas** es una biblioteca que permite trabajar con datos geoespaciales en Python. Para ello, usa las facilidades de otras bibliotecas de Python.\n",
    "\n",
    "- Extiende la funcionalidad de **pandas**. Es decir que se pueden realizar todas las operaciones que se aplican a las *Series* y *DataFrame*. \n",
    "\n",
    "- Provee una interfaz con la libreria **matplotlib** para generar mapas. Las figuras geométricas se pueden mapear facilmente con el método plot().\n",
    "\n",
    "- Permite operaciones sobre los datos geométricos que representan a los datos espaciales (puntos, líneas y polígonos). Para ello hace uso de la libreria **shapely**.\n",
    "\n",
    "- Facilita el acceso a datos en múltiples *formatos de archivos*, extendiendo las operaciones que brinda la librería **fiona**.\n",
    "\n",
    "- Realiza **proyecciones**, es decir, permite usar distintos tipos de coordenadas para referenciar la posición geográfica de los datos geoespaciales.\n",
    "\n",
    "Vamos a analizar cada de uno de estos puntos con más detalle."
   ]
  },
  {
   "cell_type": "markdown",
   "metadata": {
    "slideshow": {
     "slide_type": "slide"
    },
    "pycharm": {
     "name": "#%% md\n"
    }
   },
   "source": [
    "<a id=\"section_geodataframe\"></a> \n",
    "### GeoSeries y GeoDataFrame\n",
    "[volver a TOC](#section_toc)\n",
    "\n",
    "Así como *Pandas* tiene como estructura de datos a las *Series* y *Dataframe*, *Geopandas* tiene algo similar llamado *Geoseries* y *GeoDataFrame*.\n",
    "\n",
    "La diferencia entre ellos es que tanto **GeoSeries** como **GeoDataFrame**, deben contener al menos una columna con tipos de datos geoespaciales. Esta columna se la llama por default *geometry*.\n",
    "\n",
    "La columna *geometry* contiene una forma geométrica que representa la posición espacial del objeto. Por ejemplo, la posicion espacial de un negocio - sus coordenadas- se expresan mediante la forma geométrica *punto*.\n",
    "\n",
    "Las formas geométricas son:\n",
    "- POINT. Un punto\n",
    "- LINESTRING. Una línea\n",
    "- POLYGON. Una superficie\n",
    "\n",
    "También se pueden representar colecciones de formas:\n",
    "\n",
    "- MULTIPOINT. Varios puntos\n",
    "- MULTILINESTRING. Varias líneas\n",
    "- MULTIPOLYGON. Varias superficies"
   ]
  },
  {
   "cell_type": "markdown",
   "metadata": {
    "slideshow": {
     "slide_type": "slide"
    },
    "pycharm": {
     "name": "#%% md\n"
    }
   },
   "source": [
    "<a id=\"section_ejemplo\"></a> \n",
    "### Ejemplo: mapa de Argentina y ciudades\n",
    "[volver a TOC](#section_toc)\n",
    "\n",
    "Vamos a graficar ciudades de Argentina sobre el mapa del país.\n",
    "\n",
    "Se necesitan los datos de las ciudades con sus coordenadas geográficas, su *latitud* y *longitud*. Cada ciudad deberá tener la forma de **punto**.\n",
    "\n",
    "Y por otro lado, un mapa de la Argentina. El mapa deberá tener la forma de **polígono**, representando el contorno del país.\n",
    "\n",
    "<div>\n",
    "    <div class = \"mapa\">\n",
    "        <img src='img/M1_Clase_07_2_001_Mapa_Completo.PNG' alt=\"Mapa de Argentina con ciudades\" width=25% height=40%>\n",
    "        <p><i>Resultado final: Mapa de Argentina con ciudades</i></p>\n",
    "    </div>\n",
    "</div>"
   ]
  },
  {
   "cell_type": "markdown",
   "metadata": {
    "slideshow": {
     "slide_type": "skip"
    },
    "pycharm": {
     "name": "#%% md\n"
    }
   },
   "source": [
    "<div id=\"caja4\" style=\"float:left;width: 100%;\">\n",
    "  <div style=\"float:left;width: 15%;\"><img src=\"../../../common/icons/haciendo_foco.png\" style=\"align:left\"/> </div>\n",
    "    <div style=\"float:left;width: 85%;\"><label>EN <a href=\"https://www.geodatos.net/coordenadas\" target=\"_blank\">https://www.geodatos.net/coordenadas</a> se pueden buscar las coordenadas de las ciudades del mundo.</label></div>\n",
    "</div>\n"
   ]
  },
  {
   "cell_type": "markdown",
   "metadata": {
    "slideshow": {
     "slide_type": "slide"
    },
    "pycharm": {
     "name": "#%% md\n"
    }
   },
   "source": [
    "<a id=\"section_ciudades\"></a> \n",
    "### Ciudades\n",
    "[volver a TOC](#section_toc)\n",
    "\n",
    "Comenzamos generando un *dataframe Pandas* con los datos de las ciudades. Observar que se incluyen los datos geográficos latitud y longitud como *números*, para ubicar en el espacio a las ciudades."
   ]
  },
  {
   "cell_type": "code",
   "execution_count": 2,
   "metadata": {
    "slideshow": {
     "slide_type": "fragment"
    },
    "pycharm": {
     "name": "#%%\n"
    }
   },
   "outputs": [],
   "source": [
    "df_ciudad = pd.DataFrame(\n",
    "    {'Ciudad': ['Buenos Aires', 'Córdoba', 'Rosario', 'Mendoza', 'San Miguel de Tucumán','Bariloche'],\n",
    "     'Provincia': ['CABA', 'Córdoba', 'Santa Fe', 'Mendoza', 'Tucumán','Rio Negro'],\n",
    "     'Latitud':  [-34.61315, -31.4135, -32.94682, -32.89084, -26.82414, -41.14557],\n",
    "     'Longitud': [-58.37723, -64.18105, -60.63932, -68.82717, -65.2226, -71.30822]})"
   ]
  },
  {
   "cell_type": "code",
   "execution_count": 3,
   "metadata": {
    "slideshow": {
     "slide_type": "fragment"
    },
    "pycharm": {
     "name": "#%%\n"
    }
   },
   "outputs": [
    {
     "data": {
      "text/plain": "pandas.core.frame.DataFrame"
     },
     "execution_count": 3,
     "metadata": {},
     "output_type": "execute_result"
    }
   ],
   "source": [
    "type(df_ciudad)"
   ]
  },
  {
   "cell_type": "code",
   "execution_count": 4,
   "metadata": {
    "slideshow": {
     "slide_type": "fragment"
    },
    "pycharm": {
     "name": "#%%\n"
    }
   },
   "outputs": [
    {
     "data": {
      "text/plain": "Ciudad        object\nProvincia     object\nLatitud      float64\nLongitud     float64\ndtype: object"
     },
     "execution_count": 4,
     "metadata": {},
     "output_type": "execute_result"
    }
   ],
   "source": [
    "df_ciudad.dtypes"
   ]
  },
  {
   "cell_type": "markdown",
   "metadata": {
    "slideshow": {
     "slide_type": "slide"
    },
    "pycharm": {
     "name": "#%% md\n"
    }
   },
   "source": [
    "Como latitud y longitud son numéricos, se deben transformar en una forma geométrica para poder representarlos como dato geoespacial.\n",
    "\n",
    "Geopandas lo realiza con el método `points_from_xy`, generando la forma geométrica **POINT**. \n",
    "\n",
    "**IMPORTANTE:** este método tiene dos parámetros, el primero, x, debe recibir la **longitud**, y el segundo, y, la **latitud**. Se puede pensar lógicamente que debe ser a la inversa."
   ]
  },
  {
   "cell_type": "code",
   "execution_count": 5,
   "metadata": {
    "collapsed": false,
    "jupyter": {
     "outputs_hidden": false
    },
    "slideshow": {
     "slide_type": "fragment"
    },
    "pycharm": {
     "name": "#%%\n"
    }
   },
   "outputs": [
    {
     "data": {
      "text/plain": "<GeometryArray>\n[<shapely.geometry.point.Point object at 0x000001EEE5DD7A90>,\n <shapely.geometry.point.Point object at 0x000001EEE1A73220>,\n <shapely.geometry.point.Point object at 0x000001EEE5D63D00>,\n <shapely.geometry.point.Point object at 0x000001EEE15D52E0>,\n <shapely.geometry.point.Point object at 0x000001EEE15B2BB0>,\n <shapely.geometry.point.Point object at 0x000001EEE17156A0>]\nLength: 6, dtype: geometry"
     },
     "execution_count": 5,
     "metadata": {},
     "output_type": "execute_result"
    }
   ],
   "source": [
    "geometria = gpd.points_from_xy(df_ciudad.Longitud, df_ciudad.Latitud)\n",
    "geometria"
   ]
  },
  {
   "cell_type": "markdown",
   "metadata": {
    "slideshow": {
     "slide_type": "slide"
    },
    "pycharm": {
     "name": "#%% md\n"
    }
   },
   "source": [
    "Ahora transformamos el *dataframe* df_ciudad en un *geoDataFrame* llamado geo_arg; se combinan los datos del dataframe con la variable recién creada *geometría* (las coordenadas de la ciudad como forma geométrica).\n",
    "\n",
    "Hay que recordar que los tipos de datos GeoDataFrame requieren al menos una columna con una forma geómetrica. Se recomienda llamarla *geometry*, ya que es el default para guardar este tipo de datos."
   ]
  },
  {
   "cell_type": "code",
   "execution_count": 6,
   "metadata": {
    "collapsed": false,
    "jupyter": {
     "outputs_hidden": false
    },
    "slideshow": {
     "slide_type": "fragment"
    },
    "pycharm": {
     "name": "#%%\n"
    }
   },
   "outputs": [],
   "source": [
    "geo_arg = gpd.GeoDataFrame(df_ciudad, geometry=geometria)"
   ]
  },
  {
   "cell_type": "code",
   "execution_count": 7,
   "metadata": {
    "slideshow": {
     "slide_type": "fragment"
    },
    "pycharm": {
     "name": "#%%\n"
    }
   },
   "outputs": [
    {
     "data": {
      "text/plain": "Ciudad         object\nProvincia      object\nLatitud       float64\nLongitud      float64\ngeometry     geometry\ndtype: object"
     },
     "execution_count": 7,
     "metadata": {},
     "output_type": "execute_result"
    }
   ],
   "source": [
    "geo_arg.dtypes"
   ]
  },
  {
   "cell_type": "code",
   "execution_count": 8,
   "metadata": {
    "slideshow": {
     "slide_type": "fragment"
    },
    "pycharm": {
     "name": "#%%\n"
    }
   },
   "outputs": [
    {
     "data": {
      "text/plain": "                  Ciudad  Provincia   Latitud  Longitud  \\\n0           Buenos Aires       CABA -34.61315 -58.37723   \n1                Córdoba    Córdoba -31.41350 -64.18105   \n2                Rosario   Santa Fe -32.94682 -60.63932   \n3                Mendoza    Mendoza -32.89084 -68.82717   \n4  San Miguel de Tucumán    Tucumán -26.82414 -65.22260   \n5              Bariloche  Rio Negro -41.14557 -71.30822   \n\n                      geometry  \n0  POINT (-58.37723 -34.61315)  \n1  POINT (-64.18105 -31.41350)  \n2  POINT (-60.63932 -32.94682)  \n3  POINT (-68.82717 -32.89084)  \n4  POINT (-65.22260 -26.82414)  \n5  POINT (-71.30822 -41.14557)  ",
      "text/html": "<div>\n<style scoped>\n    .dataframe tbody tr th:only-of-type {\n        vertical-align: middle;\n    }\n\n    .dataframe tbody tr th {\n        vertical-align: top;\n    }\n\n    .dataframe thead th {\n        text-align: right;\n    }\n</style>\n<table border=\"1\" class=\"dataframe\">\n  <thead>\n    <tr style=\"text-align: right;\">\n      <th></th>\n      <th>Ciudad</th>\n      <th>Provincia</th>\n      <th>Latitud</th>\n      <th>Longitud</th>\n      <th>geometry</th>\n    </tr>\n  </thead>\n  <tbody>\n    <tr>\n      <th>0</th>\n      <td>Buenos Aires</td>\n      <td>CABA</td>\n      <td>-34.61315</td>\n      <td>-58.37723</td>\n      <td>POINT (-58.37723 -34.61315)</td>\n    </tr>\n    <tr>\n      <th>1</th>\n      <td>Córdoba</td>\n      <td>Córdoba</td>\n      <td>-31.41350</td>\n      <td>-64.18105</td>\n      <td>POINT (-64.18105 -31.41350)</td>\n    </tr>\n    <tr>\n      <th>2</th>\n      <td>Rosario</td>\n      <td>Santa Fe</td>\n      <td>-32.94682</td>\n      <td>-60.63932</td>\n      <td>POINT (-60.63932 -32.94682)</td>\n    </tr>\n    <tr>\n      <th>3</th>\n      <td>Mendoza</td>\n      <td>Mendoza</td>\n      <td>-32.89084</td>\n      <td>-68.82717</td>\n      <td>POINT (-68.82717 -32.89084)</td>\n    </tr>\n    <tr>\n      <th>4</th>\n      <td>San Miguel de Tucumán</td>\n      <td>Tucumán</td>\n      <td>-26.82414</td>\n      <td>-65.22260</td>\n      <td>POINT (-65.22260 -26.82414)</td>\n    </tr>\n    <tr>\n      <th>5</th>\n      <td>Bariloche</td>\n      <td>Rio Negro</td>\n      <td>-41.14557</td>\n      <td>-71.30822</td>\n      <td>POINT (-71.30822 -41.14557)</td>\n    </tr>\n  </tbody>\n</table>\n</div>"
     },
     "execution_count": 8,
     "metadata": {},
     "output_type": "execute_result"
    }
   ],
   "source": [
    "geo_arg"
   ]
  },
  {
   "cell_type": "markdown",
   "metadata": {
    "slideshow": {
     "slide_type": "slide"
    },
    "pycharm": {
     "name": "#%% md\n"
    }
   },
   "source": [
    "<a id=\"section_paises\"></a> \n",
    "### Países\n",
    "[volver a TOC](#section_toc)\n",
    "\n",
    "Cada pais se representa por sus límites, o contornos. Dentro del tipo de datos geoespacial, usa la forma *POLYGON* o *MULTIPOLYGON*. Geopandas permite leerlos desde un archivo especial llamado *naturalearth_lowres*\n",
    "\n",
    "Este archivo se guarda en una variable del tipo GeoDataFrame, ya que contiene una columna geometry con los polígonos de cada páis, sus contornos."
   ]
  },
  {
   "cell_type": "markdown",
   "metadata": {
    "pycharm": {
     "name": "#%% md\n"
    }
   },
   "source": [
    "<div id=\"caja1\" style=\"float:left;width: 100%;\">\n",
    "  <div style=\"float:left;width: 15%;\"><img src=\"../../../common/icons/para_seguir_pensando.png\" style=\"align:left\"/> </div>\n",
    "    <div style=\"float:left;width: 85%;\"><label>¿Por qué algunos países necesitan un <i>MULTIPOLIGONO</i> en lugar de simplemente un <i>POLIGONO</i>?</label></div>\n",
    "</div>    "
   ]
  },
  {
   "cell_type": "code",
   "execution_count": 9,
   "metadata": {
    "slideshow": {
     "slide_type": "fragment"
    },
    "pycharm": {
     "name": "#%%\n"
    }
   },
   "outputs": [],
   "source": [
    "world = gpd.read_file(gpd.datasets.get_path('naturalearth_lowres'))"
   ]
  },
  {
   "cell_type": "code",
   "execution_count": 10,
   "metadata": {
    "slideshow": {
     "slide_type": "fragment"
    },
    "pycharm": {
     "name": "#%%\n"
    }
   },
   "outputs": [
    {
     "data": {
      "text/plain": "geopandas.geodataframe.GeoDataFrame"
     },
     "execution_count": 10,
     "metadata": {},
     "output_type": "execute_result"
    }
   ],
   "source": [
    "type(world)"
   ]
  },
  {
   "cell_type": "code",
   "execution_count": 11,
   "metadata": {
    "slideshow": {
     "slide_type": "fragment"
    },
    "pycharm": {
     "name": "#%%\n"
    }
   },
   "outputs": [
    {
     "data": {
      "text/plain": "     pop_est      continent                      name iso_a3  gdp_md_est  \\\n0     920938        Oceania                      Fiji    FJI      8374.0   \n1   53950935         Africa                  Tanzania    TZA    150600.0   \n2     603253         Africa                 W. Sahara    ESH       906.5   \n3   35623680  North America                    Canada    CAN   1674000.0   \n4  326625791  North America  United States of America    USA  18560000.0   \n\n                                            geometry  \n0  MULTIPOLYGON (((180.00000 -16.06713, 180.00000...  \n1  POLYGON ((33.90371 -0.95000, 34.07262 -1.05982...  \n2  POLYGON ((-8.66559 27.65643, -8.66512 27.58948...  \n3  MULTIPOLYGON (((-122.84000 49.00000, -122.9742...  \n4  MULTIPOLYGON (((-122.84000 49.00000, -120.0000...  ",
      "text/html": "<div>\n<style scoped>\n    .dataframe tbody tr th:only-of-type {\n        vertical-align: middle;\n    }\n\n    .dataframe tbody tr th {\n        vertical-align: top;\n    }\n\n    .dataframe thead th {\n        text-align: right;\n    }\n</style>\n<table border=\"1\" class=\"dataframe\">\n  <thead>\n    <tr style=\"text-align: right;\">\n      <th></th>\n      <th>pop_est</th>\n      <th>continent</th>\n      <th>name</th>\n      <th>iso_a3</th>\n      <th>gdp_md_est</th>\n      <th>geometry</th>\n    </tr>\n  </thead>\n  <tbody>\n    <tr>\n      <th>0</th>\n      <td>920938</td>\n      <td>Oceania</td>\n      <td>Fiji</td>\n      <td>FJI</td>\n      <td>8374.0</td>\n      <td>MULTIPOLYGON (((180.00000 -16.06713, 180.00000...</td>\n    </tr>\n    <tr>\n      <th>1</th>\n      <td>53950935</td>\n      <td>Africa</td>\n      <td>Tanzania</td>\n      <td>TZA</td>\n      <td>150600.0</td>\n      <td>POLYGON ((33.90371 -0.95000, 34.07262 -1.05982...</td>\n    </tr>\n    <tr>\n      <th>2</th>\n      <td>603253</td>\n      <td>Africa</td>\n      <td>W. Sahara</td>\n      <td>ESH</td>\n      <td>906.5</td>\n      <td>POLYGON ((-8.66559 27.65643, -8.66512 27.58948...</td>\n    </tr>\n    <tr>\n      <th>3</th>\n      <td>35623680</td>\n      <td>North America</td>\n      <td>Canada</td>\n      <td>CAN</td>\n      <td>1674000.0</td>\n      <td>MULTIPOLYGON (((-122.84000 49.00000, -122.9742...</td>\n    </tr>\n    <tr>\n      <th>4</th>\n      <td>326625791</td>\n      <td>North America</td>\n      <td>United States of America</td>\n      <td>USA</td>\n      <td>18560000.0</td>\n      <td>MULTIPOLYGON (((-122.84000 49.00000, -120.0000...</td>\n    </tr>\n  </tbody>\n</table>\n</div>"
     },
     "execution_count": 11,
     "metadata": {},
     "output_type": "execute_result"
    }
   ],
   "source": [
    "world.head()"
   ]
  },
  {
   "cell_type": "markdown",
   "metadata": {
    "slideshow": {
     "slide_type": "slide"
    },
    "pycharm": {
     "name": "#%% md\n"
    }
   },
   "source": [
    "<a id=\"section_integracion\"></a> \n",
    "### Integrando el país con las ciudades\n",
    "[volver a TOC](#section_toc)\n",
    "\n",
    "Ahora creamos el mapa de Argentina con las ciudades. Para realizar gráficos se usa el método *plot* de la variable GeoDataFrame geo_arg, el cual *dibuja la forma que se encuentra en la columna geometry*.\n",
    "\n",
    "Para dibujar el país, une las coordenadas del polígono que representa los límites del país.\n",
    "\n",
    "Para dibujar las ciudades, como solo tiene una coordenada, genera un punto."
   ]
  },
  {
   "cell_type": "code",
   "execution_count": 12,
   "metadata": {
    "slideshow": {
     "slide_type": "fragment"
    },
    "pycharm": {
     "name": "#%%\n"
    }
   },
   "outputs": [
    {
     "data": {
      "text/plain": "<Figure size 432x288 with 1 Axes>",
      "image/png": "[encoded data removed]"
     },
     "metadata": {
      "needs_background": "light"
     },
     "output_type": "display_data"
    }
   ],
   "source": [
    "# Mapa de Argentina\n",
    "ax = world[world.name == 'Argentina'].plot(color='white', edgecolor='black')\n",
    "\n",
    "# Sobre las ciudades superpone el mapa del país\n",
    "geo_arg.plot(ax=ax, color='red')\n",
    "\n",
    "plt.show()"
   ]
  },
  {
   "cell_type": "markdown",
   "metadata": {
    "pycharm": {
     "name": "#%% md\n"
    }
   },
   "source": [
    "<div id=\"caja_binomial_poisson\" style=\"float:left;width: 100%;\">\n",
    "  <div style=\"float:left;width: 15%;\"><img src=\"../../../common/icons/ponete_a_prueba.png\" style=\"align:left\"/> </div>\n",
    "  <div style=\"float:left;width: 85%;\"><label>Intentar dibujar a la ciudad de Viedma, de la provincia de Rio Negro, sobre el mapa de Argentina.<br> Su ubicación geográfica es latitud: -40.81345, longitud: -62.99668</label></div>\n",
    "</div>\n"
   ]
  },
  {
   "cell_type": "markdown",
   "metadata": {
    "slideshow": {
     "slide_type": "skip"
    },
    "pycharm": {
     "name": "#%% md\n"
    }
   },
   "source": [
    "<a id=\"section_capitales\"></a> \n",
    "### Extra: Capitales de países\n",
    "[volver a TOC](#section_toc)\n",
    "\n",
    "Asi como existe un archivo para las figuras de los países, existe otro para los puntos (coordenadas) de las capitales de los países."
   ]
  },
  {
   "cell_type": "code",
   "execution_count": 13,
   "metadata": {
    "slideshow": {
     "slide_type": "skip"
    },
    "pycharm": {
     "name": "#%%\n"
    }
   },
   "outputs": [
    {
     "data": {
      "text/plain": "['naturalearth_cities', 'naturalearth_lowres', 'nybb']"
     },
     "execution_count": 13,
     "metadata": {},
     "output_type": "execute_result"
    }
   ],
   "source": [
    "gpd.datasets.available"
   ]
  },
  {
   "cell_type": "code",
   "execution_count": 14,
   "metadata": {
    "slideshow": {
     "slide_type": "skip"
    },
    "pycharm": {
     "name": "#%%\n"
    }
   },
   "outputs": [
    {
     "data": {
      "text/plain": "           name                   geometry\n0  Vatican City  POINT (12.45339 41.90328)\n1    San Marino  POINT (12.44177 43.93610)\n2         Vaduz   POINT (9.51667 47.13372)\n3    Luxembourg   POINT (6.13000 49.61166)\n4       Palikir  POINT (158.14997 6.91664)",
      "text/html": "<div>\n<style scoped>\n    .dataframe tbody tr th:only-of-type {\n        vertical-align: middle;\n    }\n\n    .dataframe tbody tr th {\n        vertical-align: top;\n    }\n\n    .dataframe thead th {\n        text-align: right;\n    }\n</style>\n<table border=\"1\" class=\"dataframe\">\n  <thead>\n    <tr style=\"text-align: right;\">\n      <th></th>\n      <th>name</th>\n      <th>geometry</th>\n    </tr>\n  </thead>\n  <tbody>\n    <tr>\n      <th>0</th>\n      <td>Vatican City</td>\n      <td>POINT (12.45339 41.90328)</td>\n    </tr>\n    <tr>\n      <th>1</th>\n      <td>San Marino</td>\n      <td>POINT (12.44177 43.93610)</td>\n    </tr>\n    <tr>\n      <th>2</th>\n      <td>Vaduz</td>\n      <td>POINT (9.51667 47.13372)</td>\n    </tr>\n    <tr>\n      <th>3</th>\n      <td>Luxembourg</td>\n      <td>POINT (6.13000 49.61166)</td>\n    </tr>\n    <tr>\n      <th>4</th>\n      <td>Palikir</td>\n      <td>POINT (158.14997 6.91664)</td>\n    </tr>\n  </tbody>\n</table>\n</div>"
     },
     "execution_count": 14,
     "metadata": {},
     "output_type": "execute_result"
    }
   ],
   "source": [
    "world_cities = gpd.read_file(gpd.datasets.get_path('naturalearth_cities'))\n",
    "world_cities.head()"
   ]
  },
  {
   "cell_type": "markdown",
   "metadata": {
    "slideshow": {
     "slide_type": "slide"
    },
    "pycharm": {
     "name": "#%% md\n"
    }
   },
   "source": [
    "---\n",
    "\n",
    "### Referencias\n",
    "\n",
    "Geopandas Documentacion\n",
    "\n",
    "https://geopandas.org/index.html\n",
    "\n",
    "The GeoPandas Cookbook\n",
    "\n",
    "https://www.martinalarcon.org/2018-12-31-d-geopandas/\n",
    "\n",
    "The Shapely User Manual\n",
    "\n",
    "https://shapely.readthedocs.io/en/stable/manual.html"
   ]
  },
  {
   "cell_type": "code",
   "execution_count": 22,
   "metadata": {
    "pycharm": {
     "name": "#%%\n"
    }
   },
   "outputs": [
    {
     "data": {
      "text/plain": "                  Ciudad  Provincia   Latitud  Longitud  \\\n0           Buenos Aires       CABA -34.61315 -58.37723   \n1                Córdoba    Córdoba -31.41350 -64.18105   \n2                Rosario   Santa Fe -32.94682 -60.63932   \n3                Mendoza    Mendoza -32.89084 -68.82717   \n4  San Miguel de Tucumán    Tucumán -26.82414 -65.22260   \n5              Bariloche  Rio Negro -41.14557 -71.30822   \n6                 Viedma  Rio Negro -40.81345 -62.99668   \n7                 Viedma  Rio Negro -40.81345 -62.99668   \n8                 Viedma  Rio Negro -40.81345 -62.99668   \n\n                      geometry  \n0  POINT (-58.37723 -34.61315)  \n1  POINT (-64.18105 -31.41350)  \n2  POINT (-60.63932 -32.94682)  \n3  POINT (-68.82717 -32.89084)  \n4  POINT (-65.22260 -26.82414)  \n5  POINT (-71.30822 -41.14557)  \n6  POINT (-62.99668 -40.81345)  \n7  POINT (-62.99668 -40.81345)  \n8  POINT (-62.99668 -40.81345)  ",
      "text/html": "<div>\n<style scoped>\n    .dataframe tbody tr th:only-of-type {\n        vertical-align: middle;\n    }\n\n    .dataframe tbody tr th {\n        vertical-align: top;\n    }\n\n    .dataframe thead th {\n        text-align: right;\n    }\n</style>\n<table border=\"1\" class=\"dataframe\">\n  <thead>\n    <tr style=\"text-align: right;\">\n      <th></th>\n      <th>Ciudad</th>\n      <th>Provincia</th>\n      <th>Latitud</th>\n      <th>Longitud</th>\n      <th>geometry</th>\n    </tr>\n  </thead>\n  <tbody>\n    <tr>\n      <th>0</th>\n      <td>Buenos Aires</td>\n      <td>CABA</td>\n      <td>-34.61315</td>\n      <td>-58.37723</td>\n      <td>POINT (-58.37723 -34.61315)</td>\n    </tr>\n    <tr>\n      <th>1</th>\n      <td>Córdoba</td>\n      <td>Córdoba</td>\n      <td>-31.41350</td>\n      <td>-64.18105</td>\n      <td>POINT (-64.18105 -31.41350)</td>\n    </tr>\n    <tr>\n      <th>2</th>\n      <td>Rosario</td>\n      <td>Santa Fe</td>\n      <td>-32.94682</td>\n      <td>-60.63932</td>\n      <td>POINT (-60.63932 -32.94682)</td>\n    </tr>\n    <tr>\n      <th>3</th>\n      <td>Mendoza</td>\n      <td>Mendoza</td>\n      <td>-32.89084</td>\n      <td>-68.82717</td>\n      <td>POINT (-68.82717 -32.89084)</td>\n    </tr>\n    <tr>\n      <th>4</th>\n      <td>San Miguel de Tucumán</td>\n      <td>Tucumán</td>\n      <td>-26.82414</td>\n      <td>-65.22260</td>\n      <td>POINT (-65.22260 -26.82414)</td>\n    </tr>\n    <tr>\n      <th>5</th>\n      <td>Bariloche</td>\n      <td>Rio Negro</td>\n      <td>-41.14557</td>\n      <td>-71.30822</td>\n      <td>POINT (-71.30822 -41.14557)</td>\n    </tr>\n    <tr>\n      <th>6</th>\n      <td>Viedma</td>\n      <td>Rio Negro</td>\n      <td>-40.81345</td>\n      <td>-62.99668</td>\n      <td>POINT (-62.99668 -40.81345)</td>\n    </tr>\n    <tr>\n      <th>7</th>\n      <td>Viedma</td>\n      <td>Rio Negro</td>\n      <td>-40.81345</td>\n      <td>-62.99668</td>\n      <td>POINT (-62.99668 -40.81345)</td>\n    </tr>\n    <tr>\n      <th>8</th>\n      <td>Viedma</td>\n      <td>Rio Negro</td>\n      <td>-40.81345</td>\n      <td>-62.99668</td>\n      <td>POINT (-62.99668 -40.81345)</td>\n    </tr>\n  </tbody>\n</table>\n</div>"
     },
     "execution_count": 22,
     "metadata": {},
     "output_type": "execute_result"
    }
   ],
   "source": [
    "df_ciudad= df_ciudad.append({'Ciudad':'Viedma','Provincia':'Rio Negro', 'Latitud':-40.81345,'Longitud':-62.99668},ignore_index=True)\n",
    "geometria = gpd.points_from_xy(df_ciudad.Longitud, df_ciudad.Latitud)\n",
    "geo_arg = gpd.GeoDataFrame(df_ciudad, geometry=geometria)\n"
   ]
  },
  {
   "cell_type": "code",
   "execution_count": 23,
   "outputs": [
    {
     "data": {
      "text/plain": "                  Ciudad  Provincia   Latitud  Longitud  \\\n0           Buenos Aires       CABA -34.61315 -58.37723   \n1                Córdoba    Córdoba -31.41350 -64.18105   \n2                Rosario   Santa Fe -32.94682 -60.63932   \n3                Mendoza    Mendoza -32.89084 -68.82717   \n4  San Miguel de Tucumán    Tucumán -26.82414 -65.22260   \n5              Bariloche  Rio Negro -41.14557 -71.30822   \n6                 Viedma  Rio Negro -40.81345 -62.99668   \n\n                      geometry  \n0  POINT (-58.37723 -34.61315)  \n1  POINT (-64.18105 -31.41350)  \n2  POINT (-60.63932 -32.94682)  \n3  POINT (-68.82717 -32.89084)  \n4  POINT (-65.22260 -26.82414)  \n5  POINT (-71.30822 -41.14557)  \n6  POINT (-62.99668 -40.81345)  ",
      "text/html": "<div>\n<style scoped>\n    .dataframe tbody tr th:only-of-type {\n        vertical-align: middle;\n    }\n\n    .dataframe tbody tr th {\n        vertical-align: top;\n    }\n\n    .dataframe thead th {\n        text-align: right;\n    }\n</style>\n<table border=\"1\" class=\"dataframe\">\n  <thead>\n    <tr style=\"text-align: right;\">\n      <th></th>\n      <th>Ciudad</th>\n      <th>Provincia</th>\n      <th>Latitud</th>\n      <th>Longitud</th>\n      <th>geometry</th>\n    </tr>\n  </thead>\n  <tbody>\n    <tr>\n      <th>0</th>\n      <td>Buenos Aires</td>\n      <td>CABA</td>\n      <td>-34.61315</td>\n      <td>-58.37723</td>\n      <td>POINT (-58.37723 -34.61315)</td>\n    </tr>\n    <tr>\n      <th>1</th>\n      <td>Córdoba</td>\n      <td>Córdoba</td>\n      <td>-31.41350</td>\n      <td>-64.18105</td>\n      <td>POINT (-64.18105 -31.41350)</td>\n    </tr>\n    <tr>\n      <th>2</th>\n      <td>Rosario</td>\n      <td>Santa Fe</td>\n      <td>-32.94682</td>\n      <td>-60.63932</td>\n      <td>POINT (-60.63932 -32.94682)</td>\n    </tr>\n    <tr>\n      <th>3</th>\n      <td>Mendoza</td>\n      <td>Mendoza</td>\n      <td>-32.89084</td>\n      <td>-68.82717</td>\n      <td>POINT (-68.82717 -32.89084)</td>\n    </tr>\n    <tr>\n      <th>4</th>\n      <td>San Miguel de Tucumán</td>\n      <td>Tucumán</td>\n      <td>-26.82414</td>\n      <td>-65.22260</td>\n      <td>POINT (-65.22260 -26.82414)</td>\n    </tr>\n    <tr>\n      <th>5</th>\n      <td>Bariloche</td>\n      <td>Rio Negro</td>\n      <td>-41.14557</td>\n      <td>-71.30822</td>\n      <td>POINT (-71.30822 -41.14557)</td>\n    </tr>\n    <tr>\n      <th>6</th>\n      <td>Viedma</td>\n      <td>Rio Negro</td>\n      <td>-40.81345</td>\n      <td>-62.99668</td>\n      <td>POINT (-62.99668 -40.81345)</td>\n    </tr>\n  </tbody>\n</table>\n</div>"
     },
     "execution_count": 23,
     "metadata": {},
     "output_type": "execute_result"
    }
   ],
   "source": [
    "geo_arg = geo_arg.drop(axis=0,index=[7,8])\n",
    "geo_arg"
   ],
   "metadata": {
    "collapsed": false,
    "pycharm": {
     "name": "#%%\n"
    }
   }
  },
  {
   "cell_type": "code",
   "execution_count": 24,
   "outputs": [
    {
     "data": {
      "text/plain": "<Figure size 432x288 with 1 Axes>",
      "image/png": "[encoded data removed]"
     },
     "metadata": {
      "needs_background": "light"
     },
     "output_type": "display_data"
    }
   ],
   "source": [
    "# Mapa de Argentina\n",
    "ax = world[world.name == 'Argentina'].plot(color='white', edgecolor='black')\n",
    "\n",
    "# Sobre las ciudades superpone el mapa del país\n",
    "geo_arg.plot(ax=ax, color='red')\n",
    "\n",
    "plt.show()"
   ],
   "metadata": {
    "collapsed": false,
    "pycharm": {
     "name": "#%%\n"
    }
   }
  }
 ],
 "metadata": {
  "kernelspec": {
   "display_name": "Python 3",
   "language": "python",
   "name": "python3"
  },
  "language_info": {
   "codemirror_mode": {
    "name": "ipython",
    "version": 3
   },
   "file_extension": ".py",
   "mimetype": "text/x-python",
   "name": "python",
   "nbconvert_exporter": "python",
   "pygments_lexer": "ipython3",
   "version": "3.7.9"
  }
 },
 "nbformat": 4,
 "nbformat_minor": 4
}