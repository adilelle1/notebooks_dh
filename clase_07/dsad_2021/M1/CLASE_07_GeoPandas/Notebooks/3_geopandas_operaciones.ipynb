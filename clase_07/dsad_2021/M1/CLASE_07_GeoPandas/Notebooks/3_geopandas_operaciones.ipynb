{
 "cells": [
  {
   "cell_type": "code",
   "execution_count": 2,
   "metadata": {
    "slideshow": {
     "slide_type": "skip"
    },
    "pycharm": {
     "name": "#%%\n"
    }
   },
   "outputs": [],
   "source": [
    "import pandas as pd\n",
    "import geopandas as gpd\n",
    "import matplotlib.pyplot as plt\n",
    "import descartes"
   ]
  },
  {
   "cell_type": "markdown",
   "metadata": {
    "slideshow": {
     "slide_type": "slide"
    },
    "pycharm": {
     "name": "#%% md\n"
    }
   },
   "source": [
    "---\n",
    "\n",
    "<img src='../../../common/logo_DH.png' align='left' width=35%/>"
   ]
  },
  {
   "cell_type": "markdown",
   "metadata": {
    "slideshow": {
     "slide_type": "slide"
    },
    "toc-hr-collapsed": false,
    "pycharm": {
     "name": "#%% md\n"
    }
   },
   "source": [
    "\n",
    "# GeoPandas\n"
   ]
  },
  {
   "cell_type": "markdown",
   "metadata": {
    "slideshow": {
     "slide_type": "slide"
    },
    "pycharm": {
     "name": "#%% md\n"
    }
   },
   "source": [
    "<a id=\"section_toc\"></a> \n",
    "## Tabla de Contenidos\n",
    "\n",
    "[Intro](#section_intro)\n",
    "\n",
    "[Datos](#section_datos)\n",
    "\n",
    "$\\hspace{.5cm}$[Puntos](#section_puntos)\n",
    "\n",
    "$\\hspace{.5cm}$[Polígonos](#section_poligonos)\n",
    "\n",
    "$\\hspace{.5cm}$[Punto](#section_punto)\n",
    "\n",
    "[Generar una linea entre dos puntos](#section_linea_punto)\n",
    "\n",
    "[Calcular la distancia entre dos puntos](#section_distancia)\n",
    "\n",
    "[Determinar si un punto se encuentra dentro de un polígono](#section_punto_poligono)\n",
    "\n",
    "[Dada una línea, conocer qué poligonos atraviesa](#section_linea_poligono)\n",
    "\n",
    "---\n"
   ]
  },
  {
   "cell_type": "markdown",
   "metadata": {
    "slideshow": {
     "slide_type": "slide"
    },
    "toc-hr-collapsed": false,
    "pycharm": {
     "name": "#%% md\n"
    }
   },
   "source": [
    "## Geopandas - Operaciones"
   ]
  },
  {
   "cell_type": "markdown",
   "metadata": {
    "slideshow": {
     "slide_type": "slide"
    },
    "pycharm": {
     "name": "#%% md\n"
    }
   },
   "source": [
    "<a id=\"section_intro\"></a> \n",
    "###  Intro\n",
    "[volver a TOC](#section_toc)\n",
    "\n",
    "Como vimos anteriormente, *Geopandas* usa como estructura de datos las *GeoSeries* y *GeoDataFrame*, los que contienen al menos una columna con tipos de datos geoespaciales. Esta columna se la llama por default *geometry*.\n",
    "\n",
    "La columna *geometry* contiene una forma geométrica que representa la posición espacial del objeto. Las formas geométricas más comunes son:\n",
    "- <i>POINT</i>. Un punto\n",
    "- <i>LINESTRING</i>. Una línea\n",
    "- <i>POLYGON</i>. Una superficie\n",
    "\n",
    "Es interesante realizar operaciones entre los distintos objetos usando su posición espacial.\n",
    "Vamos a ver algunas de ellas:\n",
    "\n",
    "- Generar una línea entre dos puntos.\n",
    "- Determinar si un punto se encuentra dentro de un polígono.\n",
    "- Dada una línea, conocer qué poligonos atraviesa.\n",
    "- Calcular la distancia entre dos puntos."
   ]
  },
  {
   "cell_type": "markdown",
   "metadata": {
    "slideshow": {
     "slide_type": "slide"
    },
    "pycharm": {
     "name": "#%% md\n"
    }
   },
   "source": [
    "<a id=\"section_datos\"></a> \n",
    "### Datos\n",
    "[volver a TOC](#section_toc)\n",
    "\n",
    "Antes de realizar las operaciones, vamos a ver los datos de ejemplo: localizaciones de Buenos Aires representadas por puntos y polígonos."
   ]
  },
  {
   "cell_type": "markdown",
   "metadata": {
    "slideshow": {
     "slide_type": "slide"
    },
    "pycharm": {
     "name": "#%% md\n"
    }
   },
   "source": [
    "<a id=\"section_puntos\"></a> \n",
    "#### Puntos\n",
    "[volver a TOC](#section_toc)"
   ]
  },
  {
   "cell_type": "markdown",
   "metadata": {
    "slideshow": {
     "slide_type": "slide"
    },
    "pycharm": {
     "name": "#%% md\n"
    }
   },
   "source": [
    "Los **puntos** representan algunos locales bailables de Buenos Aires.\n",
    "\n",
    "Observar que la latitud y la longitud vienen como datos numéricos (*columnas X,Y*), y se transforman en una figura geométrica que se almacena en la columna *geometry*. "
   ]
  },
  {
   "cell_type": "code",
   "execution_count": 3,
   "metadata": {
    "colab": {
     "base_uri": "https://localhost:8080/",
     "height": 289
    },
    "colab_type": "code",
    "executionInfo": {
     "elapsed": 830,
     "status": "ok",
     "timestamp": 1567641541793,
     "user": {
      "displayName": "Julián Ansaldo",
      "photoUrl": "https://lh3.googleusercontent.com/a-/AAuE7mCQI0iy6sTR9TfuLMfXZ90XCqxfdAQtMEcBkjfs1w=s64",
      "userId": "10643095115217147090"
     },
     "user_tz": 180
    },
    "id": "vRpX0jS6G_x5",
    "outputId": "178eafb8-17f3-4205-fcbe-9368fbd51efa",
    "pycharm": {
     "name": "#%%\n"
    }
   },
   "outputs": [
    {
     "data": {
      "text/plain": "           X          Y  NUMERO_REGISTRO       NOMBRE       CALLE NUMERO  \\\n0 -58.393750 -34.605027                1  CASTELBAMBA   RIOBAMBA     345   \n1 -58.378510 -34.596003                2       GOLDEN  ESMERALDA    1040   \n2 -58.374727 -34.612002                3   REY CASTRO       PERU     342   \n3 -58.390154 -34.605531                4    LA FRANCE  SARMIENTO    1656   \n4 -58.371747 -34.601950                5     BAHREIN     LAVALLE     343   \n\n  DIRECCION_NORMALIZADA NUMERO_EXPEDIENTE      CAPACIDAD  CLASE  ...  \\\n0         RIOBAMBA  345        4627093/18   428 personas    \"C\"  ...   \n1       ESMERALDA  1040          10561/05   408 personas  \"C.C\"  ...   \n2             PERU  342        4407796/18   901 personas    \"C\"  ...   \n3       SARMIENTO  1656        3005915/18  1372 personas  \"C.C\"  ...   \n4          LAVALLE  343        2219876/18   880 personas    \"C\"  ...   \n\n  FECHA_DISPOSICION_DE_RECHAZO  NUMERO_DISPOSICION_DE_RECALCULO_CAPACIDAD  \\\n0                          NaN                                        158   \n1                          NaN                                         98   \n2                          NaN                                         67   \n3                          NaN                                        136   \n4                          NaN                                         95   \n\n  FECHA_DISPOSICION_DE_CAPACIDAD  FECHA_DE_ENTREGA_NUEVA_REVALIDA VENCIMIENTO  \\\n0            2005-12-12 00:00:00                       2018-01-25  2018-04-13   \n1            2005-08-08 00:00:00                              NaN         NaN   \n2            2006-04-24 00:00:00                       2018-05-31  2018-09-03   \n3            2005-09-29 00:00:00                       2018-07-13  2018-10-13   \n4            2007-11-06 00:00:00                       2018-06-28  2018-09-30   \n\n        BARRIO    COMUNA      CP       CPA                     geometry  \n0    Balvanera  Comuna 3  1025.0  C1025ABG  POINT (-58.39375 -34.60503)  \n1       Retiro  Comuna 1  1007.0  C1007ABN  POINT (-58.37851 -34.59600)  \n2    Monserrat  Comuna 1  1067.0  C1067AAH  POINT (-58.37473 -34.61200)  \n3  San Nicolas  Comuna 1  1042.0  C1042ABF  POINT (-58.39015 -34.60553)  \n4  San Nicolas  Comuna 1  1047.0  C1047AAG  POINT (-58.37175 -34.60195)  \n\n[5 rows x 26 columns]",
      "text/html": "<div>\n<style scoped>\n    .dataframe tbody tr th:only-of-type {\n        vertical-align: middle;\n    }\n\n    .dataframe tbody tr th {\n        vertical-align: top;\n    }\n\n    .dataframe thead th {\n        text-align: right;\n    }\n</style>\n<table border=\"1\" class=\"dataframe\">\n  <thead>\n    <tr style=\"text-align: right;\">\n      <th></th>\n      <th>X</th>\n      <th>Y</th>\n      <th>NUMERO_REGISTRO</th>\n      <th>NOMBRE</th>\n      <th>CALLE</th>\n      <th>NUMERO</th>\n      <th>DIRECCION_NORMALIZADA</th>\n      <th>NUMERO_EXPEDIENTE</th>\n      <th>CAPACIDAD</th>\n      <th>CLASE</th>\n      <th>...</th>\n      <th>FECHA_DISPOSICION_DE_RECHAZO</th>\n      <th>NUMERO_DISPOSICION_DE_RECALCULO_CAPACIDAD</th>\n      <th>FECHA_DISPOSICION_DE_CAPACIDAD</th>\n      <th>FECHA_DE_ENTREGA_NUEVA_REVALIDA</th>\n      <th>VENCIMIENTO</th>\n      <th>BARRIO</th>\n      <th>COMUNA</th>\n      <th>CP</th>\n      <th>CPA</th>\n      <th>geometry</th>\n    </tr>\n  </thead>\n  <tbody>\n    <tr>\n      <th>0</th>\n      <td>-58.393750</td>\n      <td>-34.605027</td>\n      <td>1</td>\n      <td>CASTELBAMBA</td>\n      <td>RIOBAMBA</td>\n      <td>345</td>\n      <td>RIOBAMBA  345</td>\n      <td>4627093/18</td>\n      <td>428 personas</td>\n      <td>\"C\"</td>\n      <td>...</td>\n      <td>NaN</td>\n      <td>158</td>\n      <td>2005-12-12 00:00:00</td>\n      <td>2018-01-25</td>\n      <td>2018-04-13</td>\n      <td>Balvanera</td>\n      <td>Comuna 3</td>\n      <td>1025.0</td>\n      <td>C1025ABG</td>\n      <td>POINT (-58.39375 -34.60503)</td>\n    </tr>\n    <tr>\n      <th>1</th>\n      <td>-58.378510</td>\n      <td>-34.596003</td>\n      <td>2</td>\n      <td>GOLDEN</td>\n      <td>ESMERALDA</td>\n      <td>1040</td>\n      <td>ESMERALDA  1040</td>\n      <td>10561/05</td>\n      <td>408 personas</td>\n      <td>\"C.C\"</td>\n      <td>...</td>\n      <td>NaN</td>\n      <td>98</td>\n      <td>2005-08-08 00:00:00</td>\n      <td>NaN</td>\n      <td>NaN</td>\n      <td>Retiro</td>\n      <td>Comuna 1</td>\n      <td>1007.0</td>\n      <td>C1007ABN</td>\n      <td>POINT (-58.37851 -34.59600)</td>\n    </tr>\n    <tr>\n      <th>2</th>\n      <td>-58.374727</td>\n      <td>-34.612002</td>\n      <td>3</td>\n      <td>REY CASTRO</td>\n      <td>PERU</td>\n      <td>342</td>\n      <td>PERU  342</td>\n      <td>4407796/18</td>\n      <td>901 personas</td>\n      <td>\"C\"</td>\n      <td>...</td>\n      <td>NaN</td>\n      <td>67</td>\n      <td>2006-04-24 00:00:00</td>\n      <td>2018-05-31</td>\n      <td>2018-09-03</td>\n      <td>Monserrat</td>\n      <td>Comuna 1</td>\n      <td>1067.0</td>\n      <td>C1067AAH</td>\n      <td>POINT (-58.37473 -34.61200)</td>\n    </tr>\n    <tr>\n      <th>3</th>\n      <td>-58.390154</td>\n      <td>-34.605531</td>\n      <td>4</td>\n      <td>LA FRANCE</td>\n      <td>SARMIENTO</td>\n      <td>1656</td>\n      <td>SARMIENTO  1656</td>\n      <td>3005915/18</td>\n      <td>1372 personas</td>\n      <td>\"C.C\"</td>\n      <td>...</td>\n      <td>NaN</td>\n      <td>136</td>\n      <td>2005-09-29 00:00:00</td>\n      <td>2018-07-13</td>\n      <td>2018-10-13</td>\n      <td>San Nicolas</td>\n      <td>Comuna 1</td>\n      <td>1042.0</td>\n      <td>C1042ABF</td>\n      <td>POINT (-58.39015 -34.60553)</td>\n    </tr>\n    <tr>\n      <th>4</th>\n      <td>-58.371747</td>\n      <td>-34.601950</td>\n      <td>5</td>\n      <td>BAHREIN</td>\n      <td>LAVALLE</td>\n      <td>343</td>\n      <td>LAVALLE  343</td>\n      <td>2219876/18</td>\n      <td>880 personas</td>\n      <td>\"C\"</td>\n      <td>...</td>\n      <td>NaN</td>\n      <td>95</td>\n      <td>2007-11-06 00:00:00</td>\n      <td>2018-06-28</td>\n      <td>2018-09-30</td>\n      <td>San Nicolas</td>\n      <td>Comuna 1</td>\n      <td>1047.0</td>\n      <td>C1047AAG</td>\n      <td>POINT (-58.37175 -34.60195)</td>\n    </tr>\n  </tbody>\n</table>\n<p>5 rows × 26 columns</p>\n</div>"
     },
     "execution_count": 3,
     "metadata": {},
     "output_type": "execute_result"
    }
   ],
   "source": [
    "df_locales = pd.read_csv(\"../Data/locales-bailables.csv\", encoding='latin1')\n",
    "geo_locales = gpd.GeoDataFrame(df_locales, geometry = gpd.points_from_xy(df_locales.X, df_locales.Y))\n",
    "geo_locales.head()"
   ]
  },
  {
   "cell_type": "markdown",
   "metadata": {
    "slideshow": {
     "slide_type": "slide"
    },
    "pycharm": {
     "name": "#%% md\n"
    }
   },
   "source": [
    "<a id=\"section_poligonos\"></a> \n",
    "#### Polígonos"
   ]
  },
  {
   "cell_type": "markdown",
   "metadata": {
    "slideshow": {
     "slide_type": "slide"
    },
    "pycharm": {
     "name": "#%% md\n"
    }
   },
   "source": [
    "Los **polígonos** representan los barrios de Buenos Aires.\n",
    "\n",
    "El archivo barrios.csv es del tipo *GeoCSV*, con el formato habitual para los csv pero con una columna del tipo de datos geoespaciales *WKT* con las formas geométricas, donde se indican los contornos o límites de cada barrio.\n",
    "\n",
    "Pero la variable barrios generada a partir de la lectura del archivo es un *DataFrame, NO un GeoDataFrame*. Se debe transformar."
   ]
  },
  {
   "cell_type": "code",
   "execution_count": 4,
   "metadata": {
    "pycharm": {
     "name": "#%%\n"
    }
   },
   "outputs": [
    {
     "data": {
      "text/plain": "                                                 WKT            BARRIO  \\\n0  POLYGON ((-58.4528200492791 -34.5959886570639,...         CHACARITA   \n1  POLYGON ((-58.4655768128541 -34.5965577078058,...          PATERNAL   \n2  POLYGON ((-58.4237529813037 -34.5978273383243,...      VILLA CRESPO   \n3  POLYGON ((-58.4946097568899 -34.6148652395239,...  VILLA DEL PARQUE   \n4  POLYGON ((-58.4128700313089 -34.6141162515854,...           ALMAGRO   \n\n   COMUNA    PERIMETRO          AREA  \n0    15.0  7725.695228  3.118101e+06  \n1    15.0  7087.513295  2.229829e+06  \n2    15.0  8132.699348  3.613584e+06  \n3    11.0  7705.389797  3.399596e+06  \n4     5.0  8537.901368  4.050752e+06  ",
      "text/html": "<div>\n<style scoped>\n    .dataframe tbody tr th:only-of-type {\n        vertical-align: middle;\n    }\n\n    .dataframe tbody tr th {\n        vertical-align: top;\n    }\n\n    .dataframe thead th {\n        text-align: right;\n    }\n</style>\n<table border=\"1\" class=\"dataframe\">\n  <thead>\n    <tr style=\"text-align: right;\">\n      <th></th>\n      <th>WKT</th>\n      <th>BARRIO</th>\n      <th>COMUNA</th>\n      <th>PERIMETRO</th>\n      <th>AREA</th>\n    </tr>\n  </thead>\n  <tbody>\n    <tr>\n      <th>0</th>\n      <td>POLYGON ((-58.4528200492791 -34.5959886570639,...</td>\n      <td>CHACARITA</td>\n      <td>15.0</td>\n      <td>7725.695228</td>\n      <td>3.118101e+06</td>\n    </tr>\n    <tr>\n      <th>1</th>\n      <td>POLYGON ((-58.4655768128541 -34.5965577078058,...</td>\n      <td>PATERNAL</td>\n      <td>15.0</td>\n      <td>7087.513295</td>\n      <td>2.229829e+06</td>\n    </tr>\n    <tr>\n      <th>2</th>\n      <td>POLYGON ((-58.4237529813037 -34.5978273383243,...</td>\n      <td>VILLA CRESPO</td>\n      <td>15.0</td>\n      <td>8132.699348</td>\n      <td>3.613584e+06</td>\n    </tr>\n    <tr>\n      <th>3</th>\n      <td>POLYGON ((-58.4946097568899 -34.6148652395239,...</td>\n      <td>VILLA DEL PARQUE</td>\n      <td>11.0</td>\n      <td>7705.389797</td>\n      <td>3.399596e+06</td>\n    </tr>\n    <tr>\n      <th>4</th>\n      <td>POLYGON ((-58.4128700313089 -34.6141162515854,...</td>\n      <td>ALMAGRO</td>\n      <td>5.0</td>\n      <td>8537.901368</td>\n      <td>4.050752e+06</td>\n    </tr>\n  </tbody>\n</table>\n</div>"
     },
     "execution_count": 4,
     "metadata": {},
     "output_type": "execute_result"
    }
   ],
   "source": [
    "barrios = pd.read_csv(\"../Data/barrios.csv\", encoding='latin1')\n",
    "barrios.head()"
   ]
  },
  {
   "cell_type": "code",
   "execution_count": 5,
   "metadata": {
    "pycharm": {
     "name": "#%%\n"
    }
   },
   "outputs": [
    {
     "data": {
      "text/plain": "pandas.core.frame.DataFrame"
     },
     "execution_count": 5,
     "metadata": {},
     "output_type": "execute_result"
    }
   ],
   "source": [
    "type(barrios)"
   ]
  },
  {
   "cell_type": "markdown",
   "metadata": {
    "slideshow": {
     "slide_type": "slide"
    },
    "pycharm": {
     "name": "#%% md\n"
    }
   },
   "source": [
    "Para convertir de DataFrame a GeoDataFrame a *barrios*, debemos transformar la columna WKT en una columna del tipo *geometry*, el tipo de datos geoespaciales que requiere GeoDataFrame.\n",
    "\n",
    "Para ello, necesitamos la libreria **shapely**. Es la que usa Geopandas para realizar las operaciones entre datos geoespaciales."
   ]
  },
  {
   "cell_type": "markdown",
   "metadata": {
    "slideshow": {
     "slide_type": "skip"
    },
    "pycharm": {
     "name": "#%% md\n"
    }
   },
   "source": [
    "<div id=\"caja4\" style=\"float:left;width: 100%;\">\n",
    "  <div style=\"float:left;width: 15%;\"><img src=\"../../../common/icons/haciendo_foco.png\" style=\"align:left\"/> </div>\n",
    "  <div style=\"float:left;width: 85%;\"><label>GeoPandas, a través de la libreria Shapely, permite multiples operaciones geográficas. Por ejemplo: equals, contains, intersects, within, difference, union, overlaps, etc. <br> Para más información, ver <a href=\"https://shapely.readthedocs.io/en/stable/manual.html\" target=\"_blank\">https://shapely.readthedocs.io/en/stable/manual.html</a> </label></div>\n",
    "</div>"
   ]
  },
  {
   "cell_type": "code",
   "execution_count": 6,
   "metadata": {
    "pycharm": {
     "name": "#%%\n"
    }
   },
   "outputs": [
    {
     "data": {
      "text/plain": "WKT           object\nBARRIO        object\nCOMUNA       float64\nPERIMETRO    float64\nAREA         float64\ndtype: object"
     },
     "execution_count": 6,
     "metadata": {},
     "output_type": "execute_result"
    }
   ],
   "source": [
    "barrios.dtypes"
   ]
  },
  {
   "cell_type": "code",
   "execution_count": 7,
   "metadata": {
    "colab": {},
    "colab_type": "code",
    "id": "F1J5ZR8OVecD",
    "pycharm": {
     "name": "#%%\n"
    }
   },
   "outputs": [],
   "source": [
    "import shapely.wkt\n",
    "barrios[\"WKT\"] = barrios[\"WKT\"].apply(shapely.wkt.loads) \n",
    "geo_barrios = gpd.GeoDataFrame(barrios, geometry='WKT')"
   ]
  },
  {
   "cell_type": "code",
   "execution_count": 9,
   "metadata": {
    "pycharm": {
     "name": "#%%\n"
    }
   },
   "outputs": [
    {
     "data": {
      "text/plain": "geopandas.geodataframe.GeoDataFrame"
     },
     "execution_count": 9,
     "metadata": {},
     "output_type": "execute_result"
    }
   ],
   "source": [
    "type(geo_barrios)"
   ]
  },
  {
   "cell_type": "code",
   "execution_count": 10,
   "metadata": {
    "pycharm": {
     "name": "#%%\n"
    }
   },
   "outputs": [
    {
     "data": {
      "text/plain": "WKT          geometry\nBARRIO         object\nCOMUNA        float64\nPERIMETRO     float64\nAREA          float64\ndtype: object"
     },
     "execution_count": 10,
     "metadata": {},
     "output_type": "execute_result"
    }
   ],
   "source": [
    "barrios.dtypes"
   ]
  },
  {
   "cell_type": "code",
   "execution_count": 11,
   "metadata": {
    "colab": {
     "base_uri": "https://localhost:8080/",
     "height": 289
    },
    "colab_type": "code",
    "executionInfo": {
     "elapsed": 830,
     "status": "ok",
     "timestamp": 1567641541793,
     "user": {
      "displayName": "Julián Ansaldo",
      "photoUrl": "https://lh3.googleusercontent.com/a-/AAuE7mCQI0iy6sTR9TfuLMfXZ90XCqxfdAQtMEcBkjfs1w=s64",
      "userId": "10643095115217147090"
     },
     "user_tz": 180
    },
    "id": "vRpX0jS6G_x5",
    "outputId": "178eafb8-17f3-4205-fcbe-9368fbd51efa",
    "pycharm": {
     "name": "#%%\n"
    }
   },
   "outputs": [
    {
     "data": {
      "text/plain": "<AxesSubplot:>"
     },
     "execution_count": 11,
     "metadata": {},
     "output_type": "execute_result"
    },
    {
     "data": {
      "text/plain": "<Figure size 432x288 with 1 Axes>",
      "image/png": "[encoded data removed]"
     },
     "metadata": {},
     "output_type": "display_data"
    }
   ],
   "source": [
    "geo_barrios.plot()"
   ]
  },
  {
   "cell_type": "markdown",
   "metadata": {
    "pycharm": {
     "name": "#%% md\n"
    }
   },
   "source": [
    "<a id=\"section_punto\"></a> \n",
    "#### Punto"
   ]
  },
  {
   "cell_type": "markdown",
   "metadata": {
    "pycharm": {
     "name": "#%% md\n"
    }
   },
   "source": [
    "A veces necesitamos ingresar la locacion de un lugar en particular.\n",
    "\n",
    "Por ejemplo, vamos a crear un GeoDataFrame que contenga un *Punto*, que representa el dato geoespacial de la sede de Digital House.\n",
    "\n",
    "En este caso, vamos a crear un Punto con la asistencia de *shapely*. Y luego lo transformamos en un DataGeoFrame para poder graficarlo."
   ]
  },
  {
   "cell_type": "code",
   "execution_count": 12,
   "metadata": {
    "colab": {},
    "colab_type": "code",
    "id": "pcpVLTgiG_y2",
    "pycharm": {
     "name": "#%%\n"
    }
   },
   "outputs": [
    {
     "data": {
      "text/plain": "   id                     geometry\n0   1  POINT (-58.44356 -34.54892)",
      "text/html": "<div>\n<style scoped>\n    .dataframe tbody tr th:only-of-type {\n        vertical-align: middle;\n    }\n\n    .dataframe tbody tr th {\n        vertical-align: top;\n    }\n\n    .dataframe thead th {\n        text-align: right;\n    }\n</style>\n<table border=\"1\" class=\"dataframe\">\n  <thead>\n    <tr style=\"text-align: right;\">\n      <th></th>\n      <th>id</th>\n      <th>geometry</th>\n    </tr>\n  </thead>\n  <tbody>\n    <tr>\n      <th>0</th>\n      <td>1</td>\n      <td>POINT (-58.44356 -34.54892)</td>\n    </tr>\n  </tbody>\n</table>\n</div>"
     },
     "execution_count": 12,
     "metadata": {},
     "output_type": "execute_result"
    }
   ],
   "source": [
    "from shapely.geometry import Point\n",
    "p = Point( -58.443555,-34.548921) # dato geoespacial de DH\n",
    "df = pd.DataFrame(data = {'id': [1]}) # Armo un DataFrame\n",
    "geo_dh = gpd.GeoDataFrame(df, geometry=[p]) # lo transformo en GeoDataFrame\n",
    "geo_dh"
   ]
  },
  {
   "cell_type": "code",
   "execution_count": 13,
   "metadata": {
    "pycharm": {
     "name": "#%%\n"
    }
   },
   "outputs": [
    {
     "data": {
      "text/plain": "geopandas.geodataframe.GeoDataFrame"
     },
     "execution_count": 13,
     "metadata": {},
     "output_type": "execute_result"
    }
   ],
   "source": [
    "type(geo_dh)"
   ]
  },
  {
   "cell_type": "markdown",
   "metadata": {
    "pycharm": {
     "name": "#%% md\n"
    }
   },
   "source": [
    "Graficamos el punto que representa a Digital House sobre los barrios de Buenos Aires"
   ]
  },
  {
   "cell_type": "code",
   "execution_count": 14,
   "metadata": {
    "pycharm": {
     "name": "#%%\n"
    }
   },
   "outputs": [
    {
     "data": {
      "text/plain": "<Figure size 432x288 with 1 Axes>",
      "image/png": "[encoded data removed]"
     },
     "metadata": {},
     "output_type": "display_data"
    }
   ],
   "source": [
    "fig, ax = plt.subplots()\n",
    "ax.set_aspect('equal')\n",
    "geo_barrios.plot(ax=ax, color='white', edgecolor='black')\n",
    "geo_dh.plot(ax=ax, marker='o', color='red', markersize=40)\n",
    "plt.show()"
   ]
  },
  {
   "cell_type": "markdown",
   "metadata": {
    "pycharm": {
     "name": "#%% md\n"
    }
   },
   "source": [
    "<div id=\"comisarias\" style=\"float:left;width: 100%;\">\n",
    "  <div style=\"float:left;width: 15%;\"><img src=\"../../../common/icons/ponete_a_prueba.png\" style=\"align:left\"/> </div>\n",
    "  <div style=\"float:left;width: 85%;\"><label>Leer el archivo comisarias.csv, y generar la columna <i>geometry</i> que representa el dato geoespacial de cada comisaria.</label></div>\n",
    "</div>"
   ]
  },
  {
   "cell_type": "markdown",
   "metadata": {
    "slideshow": {
     "slide_type": "slide"
    },
    "pycharm": {
     "name": "#%% md\n"
    }
   },
   "source": [
    "---\n",
    "\n",
    "<a id=\"section_linea_punto\"></a> \n",
    "### Generar una línea entre dos puntos\n",
    "[volver a TOC](#section_toc)\n",
    "\n",
    "A partir de dos *puntos* que representan dos lugares, podemos trazar la *línea* que los une."
   ]
  },
  {
   "cell_type": "markdown",
   "metadata": {
    "slideshow": {
     "slide_type": "slide"
    },
    "pycharm": {
     "name": "#%% md\n"
    }
   },
   "source": [
    "Supongamos que queremos hacer una recorrida por algunos locales bailables. Empezamos en \"REY CASTRO\", luego \"AFRIKA\", \"LA CITY\" y terminamos el mismo día en \"PACHA BS AS\". \n",
    "\n",
    "Queremos conocer el recorrido lineal que vamos a hacer."
   ]
  },
  {
   "cell_type": "markdown",
   "metadata": {
    "slideshow": {
     "slide_type": "slide"
    },
    "pycharm": {
     "name": "#%% md\n"
    }
   },
   "source": [
    "Tenemos que transformar las coordenadas de las columnas X e Y  de los locales bailables, en un tipo de datos Point, para generar la línea entre los puntos.\n",
    "\n",
    "Observar que el tipo de datos *Point* es distinto al tipo de datos *geometry*."
   ]
  },
  {
   "cell_type": "code",
   "execution_count": null,
   "metadata": {
    "pycharm": {
     "name": "#%%\n"
    }
   },
   "outputs": [],
   "source": [
    "punto_rey_castro = Point(geo_locales[geo_locales['NOMBRE']=='REY CASTRO'].X,\n",
    "                         geo_locales[geo_locales['NOMBRE']=='REY CASTRO'].Y)\n",
    "\n",
    "punto_afrika = Point(geo_locales[geo_locales['NOMBRE']=='AFRIKA'].X,\n",
    "                     geo_locales[geo_locales['NOMBRE']=='AFRIKA'].Y)\n",
    "\n",
    "punto_la_city = Point(geo_locales[geo_locales['NOMBRE']=='LA CITY'].X,\n",
    "                      geo_locales[geo_locales['NOMBRE']=='LA CITY'].Y)\n",
    "\n",
    "punto_pacha = Point(geo_locales[geo_locales['NOMBRE']=='PACHA BS AS'].X,\n",
    "                    geo_locales[geo_locales['NOMBRE']=='PACHA BS AS'].Y)"
   ]
  },
  {
   "cell_type": "code",
   "execution_count": null,
   "metadata": {
    "pycharm": {
     "name": "#%%\n"
    }
   },
   "outputs": [],
   "source": [
    "punto_afrika.type"
   ]
  },
  {
   "cell_type": "markdown",
   "metadata": {
    "slideshow": {
     "slide_type": "slide"
    },
    "pycharm": {
     "name": "#%% md\n"
    }
   },
   "source": [
    "Y ahora sí creamos las **líneas** entre dos puntos, usando el método **LineString** de la libreria shapely."
   ]
  },
  {
   "cell_type": "code",
   "execution_count": null,
   "metadata": {
    "slideshow": {
     "slide_type": "fragment"
    },
    "pycharm": {
     "name": "#%%\n"
    }
   },
   "outputs": [],
   "source": [
    "from shapely.geometry import LineString\n",
    "linea_a = LineString([punto_rey_castro, punto_afrika])\n",
    "linea_b = LineString([punto_afrika, punto_la_city])\n",
    "linea_c = LineString([punto_la_city, punto_pacha])"
   ]
  },
  {
   "cell_type": "code",
   "execution_count": null,
   "metadata": {
    "pycharm": {
     "name": "#%%\n"
    }
   },
   "outputs": [],
   "source": [
    "linea_a.type"
   ]
  },
  {
   "cell_type": "markdown",
   "metadata": {
    "slideshow": {
     "slide_type": "slide"
    },
    "pycharm": {
     "name": "#%% md\n"
    }
   },
   "source": [
    "Finalmente, graficamos las líneas sobre los barrios de Buenos Aires.\n",
    "\n",
    "Pero para graficar, necesitamos el método *plot* que se *aplica* a las GeoSeries y GeoDataFrame.\n",
    "\n",
    "Nosotros tenemos hasta ahora puntos y líneas, con los tipos de datos *Point y LineString* respectivamente. Tenemos que generar una GeoSerie con los dos puntos y la línea que los vincula para poder graficarlos."
   ]
  },
  {
   "cell_type": "code",
   "execution_count": null,
   "metadata": {
    "pycharm": {
     "name": "#%%\n"
    }
   },
   "outputs": [],
   "source": [
    "linea_a_geo = gpd.GeoSeries([punto_rey_castro, punto_afrika, linea_a])\n",
    "linea_b_geo = gpd.GeoSeries([punto_afrika, punto_la_city, linea_b])\n",
    "linea_c_geo = gpd.GeoSeries([punto_la_city, punto_pacha, linea_c])"
   ]
  },
  {
   "cell_type": "code",
   "execution_count": null,
   "metadata": {
    "pycharm": {
     "name": "#%%\n"
    }
   },
   "outputs": [],
   "source": [
    "fig, ax = plt.subplots()\n",
    "ax.set_aspect('equal')\n",
    "geo_barrios.plot(ax=ax, color='white', edgecolor='black')\n",
    "linea_a_geo.plot(ax=ax, color='red')\n",
    "linea_b_geo.plot(ax=ax, color='red')\n",
    "linea_c_geo.plot(ax=ax, color='red')\n",
    "plt.show();"
   ]
  },
  {
   "cell_type": "markdown",
   "metadata": {
    "slideshow": {
     "slide_type": "slide"
    },
    "pycharm": {
     "name": "#%% md\n"
    }
   },
   "source": [
    "---\n",
    "\n",
    "<a id=\"section_punto_poligono\"></a> \n",
    "### Determinar si un punto se encuentra dentro de un polígono\n",
    "[volver a TOC](#section_toc)\n",
    "\n",
    "Con el método `GeoDataFrame.contains` podemos ver si un polígono contiene un punto.\n",
    "\n",
    "Como ejemplo, veamos si el local bailable *REY CASTRO* se encuentra en el barrio *MONSERRAT*.\n",
    "\n",
    "Primero generamos dos GeoDataFrame con los datos del barrio y del local bailable."
   ]
  },
  {
   "cell_type": "code",
   "execution_count": null,
   "metadata": {
    "pycharm": {
     "name": "#%%\n"
    }
   },
   "outputs": [],
   "source": [
    "geo_monserrat = geo_barrios.loc[geo_barrios[\"BARRIO\"]==\"MONSERRAT\"]\n",
    "geo_rey_castro = geo_locales[geo_locales['NOMBRE']=='REY CASTRO'] "
   ]
  },
  {
   "cell_type": "code",
   "execution_count": null,
   "metadata": {
    "pycharm": {
     "name": "#%%\n"
    }
   },
   "outputs": [],
   "source": [
    "type(geo_rey_castro)"
   ]
  },
  {
   "cell_type": "markdown",
   "metadata": {
    "slideshow": {
     "slide_type": "slide"
    },
    "pycharm": {
     "name": "#%% md\n"
    }
   },
   "source": [
    "Chequeamos visualmente si se encuentra \"REY CASTRO\" en el barrio \"MONSERRAT\""
   ]
  },
  {
   "cell_type": "code",
   "execution_count": null,
   "metadata": {
    "pycharm": {
     "name": "#%%\n"
    }
   },
   "outputs": [],
   "source": [
    "fig, ax = plt.subplots()\n",
    "ax.set_aspect('equal')\n",
    "geo_monserrat.plot(ax=ax, color='white', edgecolor='black')\n",
    "geo_rey_castro.plot(ax=ax, marker='o', color='red', markersize=40)\n",
    "plt.show();"
   ]
  },
  {
   "cell_type": "markdown",
   "metadata": {
    "pycharm": {
     "name": "#%% md\n"
    }
   },
   "source": [
    "Ahora lo validamos con la función *GeoDataFrame.contains*.\n",
    "\n",
    "Observar que para el local bailable, usamos *punto_rey_castro*, el tipo de datos Point generado anteriormente. Si usamos el GeoDataFrame *geo_rey_castro*, el método contains da error."
   ]
  },
  {
   "cell_type": "code",
   "execution_count": null,
   "metadata": {
    "pycharm": {
     "name": "#%%\n"
    }
   },
   "outputs": [],
   "source": [
    "geo_monserrat.contains(punto_rey_castro)"
   ]
  },
  {
   "cell_type": "markdown",
   "metadata": {
    "slideshow": {
     "slide_type": "slide"
    },
    "pycharm": {
     "name": "#%% md\n"
    }
   },
   "source": [
    "---\n",
    "\n",
    "<a id=\"section_linea_poligono\"></a> \n",
    "### Dada una línea, conocer qué poligonos atraviesa\n",
    "[volver a TOC](#section_toc)\n",
    "\n",
    "Pensando como figuras geométricas, una línea puede pasar por varios polígonos.\n",
    "\n",
    "Como ejemplo, consideremos la linea que trazamos entre los locales bailables \"AFRIKA\" y \"LA CITY\" que generamos con la siguiente sentencia:\n",
    "\n",
    "`linea_b = LineString([punto_afrika, punto_la_city])`\n",
    "\n",
    "Y analicemos que barrios atraviesa."
   ]
  },
  {
   "cell_type": "markdown",
   "metadata": {
    "pycharm": {
     "name": "#%% md\n"
    }
   },
   "source": [
    "El método **crosses** aplicado al GeoDataFrame de los barrios, indica *True* o *False* de acuerdo a si la línea atraviesa o no cada barrio (polígono). Es decir, devuelve un dato tipo *boolean* para indicar si pasa por el polígono.\n",
    "\n",
    "Podemos observar que para los primeros barrios, solo atraviesa al barrio que tiene índice 0."
   ]
  },
  {
   "cell_type": "code",
   "execution_count": null,
   "metadata": {
    "pycharm": {
     "name": "#%%\n"
    }
   },
   "outputs": [],
   "source": [
    "geo_barrios.crosses(linea_b).head()"
   ]
  },
  {
   "cell_type": "markdown",
   "metadata": {
    "pycharm": {
     "name": "#%% md\n"
    }
   },
   "source": [
    "Ahora aplicamos el resultado anterior para obtener los barrios por donde pasa."
   ]
  },
  {
   "cell_type": "code",
   "execution_count": null,
   "metadata": {
    "pycharm": {
     "name": "#%%\n"
    }
   },
   "outputs": [],
   "source": [
    "geo_barrios.loc[geo_barrios.crosses(linea_b), 'BARRIO']"
   ]
  },
  {
   "cell_type": "markdown",
   "metadata": {
    "pycharm": {
     "name": "#%% md\n"
    }
   },
   "source": [
    "Lo podemos verificar visualmente"
   ]
  },
  {
   "cell_type": "code",
   "execution_count": null,
   "metadata": {
    "pycharm": {
     "name": "#%%\n"
    }
   },
   "outputs": [],
   "source": [
    "options = ['CHACARITA','COLEGIALES','VILLA ORTUZAR','PALERMO','RECOLETA'] \n",
    "geo_barrios_recorrida = geo_barrios[geo_barrios['BARRIO'].isin(options)] \n",
    "geo_barrios_recorrida"
   ]
  },
  {
   "cell_type": "code",
   "execution_count": null,
   "metadata": {
    "pycharm": {
     "name": "#%%\n"
    }
   },
   "outputs": [],
   "source": [
    "fig, ax = plt.subplots()\n",
    "ax.set_aspect('equal')\n",
    "geo_barrios_recorrida.plot(ax=ax, color='white', edgecolor='black')\n",
    "linea_b_geo.plot(ax=ax, color='red')\n",
    "plt.show();"
   ]
  },
  {
   "cell_type": "markdown",
   "metadata": {
    "slideshow": {
     "slide_type": "slide"
    },
    "pycharm": {
     "name": "#%% md\n"
    }
   },
   "source": [
    "---\n",
    "\n",
    "<a id=\"section_distancia\"></a> \n",
    "### Calcular la distancia entre dos puntos\n",
    "[volver a TOC](#section_toc)\n",
    "\n",
    "Ahora que sabemos como trazar líneas entre dos puntos, es razonable preguntarse cual es la distancia entre ellos. \n",
    "\n",
    "Vamos a calcular la *distancia* entre la ubicación de Digital House y todos los locales bailables. Y almacenamos la distancia como una nueva columna del GeoDataFrame geo_locales."
   ]
  },
  {
   "cell_type": "markdown",
   "metadata": {
    "pycharm": {
     "name": "#%% md\n"
    }
   },
   "source": [
    "Comencemos calculando una distancia en particular. Por ejemplo, entre el edificio de Digital House y el local bailable \"AFRIKA\". \n",
    "\n",
    "Generamos un punto que identifique la posición geoespacial de cada lugar. Observar que para definir la latitud y longitud de cada lugar, la libreria **geopy** necesita que se exprese como una **tupla**."
   ]
  },
  {
   "cell_type": "code",
   "execution_count": null,
   "metadata": {
    "pycharm": {
     "name": "#%%\n"
    }
   },
   "outputs": [],
   "source": [
    "punto_dh_t = ( -58.443555,-34.548921) # dato geoespacial de DH\n",
    "punto_afrika_t = ( -58.39239, -34.58843) # dato geoespacial de Afrika"
   ]
  },
  {
   "cell_type": "code",
   "execution_count": null,
   "metadata": {
    "pycharm": {
     "name": "#%%\n"
    }
   },
   "outputs": [],
   "source": [
    "type(punto_dh_t)"
   ]
  },
  {
   "cell_type": "markdown",
   "metadata": {
    "pycharm": {
     "name": "#%% md\n"
    }
   },
   "source": [
    "Para calcular distancias entre dos puntos, usamos la libreria **geopy**, el método *distance*.\n",
    "\n",
    "Observar que el resultado se puede expresar en diferentes unidades de medida: meters, kilometers, miles."
   ]
  },
  {
   "cell_type": "code",
   "execution_count": null,
   "metadata": {
    "pycharm": {
     "name": "#%%\n"
    }
   },
   "outputs": [],
   "source": [
    "import geopy.distance\n",
    "dist = geopy.distance.geodesic(punto_dh_t,punto_afrika_t)\n",
    "dist.meters"
   ]
  },
  {
   "cell_type": "code",
   "execution_count": null,
   "metadata": {
    "pycharm": {
     "name": "#%%\n"
    }
   },
   "outputs": [],
   "source": [
    "dist.kilometers"
   ]
  },
  {
   "cell_type": "markdown",
   "metadata": {
    "pycharm": {
     "name": "#%% md\n"
    }
   },
   "source": [
    "Ahora si, calculamos todas las distancias entre Digital House y los locales bailables, y la guardamos como una nueva columna *distancia* en el GeoDataFrame geo_locales."
   ]
  },
  {
   "cell_type": "code",
   "execution_count": null,
   "metadata": {
    "pycharm": {
     "name": "#%%\n"
    }
   },
   "outputs": [],
   "source": [
    "for i in geo_locales.index:\n",
    "    geo_locales.loc[i, 'distancia'] = geopy.distance.geodesic(punto_dh_t,\n",
    "                  (geo_locales.loc[i,'geometry'].x\n",
    "                  ,geo_locales.loc[i,'geometry'].y)).meters"
   ]
  },
  {
   "cell_type": "code",
   "execution_count": null,
   "metadata": {
    "pycharm": {
     "name": "#%%\n"
    }
   },
   "outputs": [],
   "source": [
    "geo_locales.loc[:4, ['distancia','geometry','X', 'Y','NOMBRE','CALLE','NUMERO']]"
   ]
  },
  {
   "cell_type": "markdown",
   "metadata": {
    "pycharm": {
     "name": "#%% md\n"
    }
   },
   "source": [
    "Hoy a la salida de clase quiero ir a bailar al local bailable que esté más cerca (ciencia ficción!!):"
   ]
  },
  {
   "cell_type": "code",
   "execution_count": null,
   "metadata": {
    "pycharm": {
     "name": "#%%\n"
    }
   },
   "outputs": [],
   "source": [
    "geo_locales.loc[geo_locales['distancia'].idxmin(),:]"
   ]
  },
  {
   "cell_type": "markdown",
   "metadata": {
    "pycharm": {
     "name": "#%% md\n"
    }
   },
   "source": [
    "---\n",
    "\n",
    "<div id=\"distancia\" style=\"float:left;width: 100%;\">\n",
    "  <div style=\"float:left;width: 15%;\"><img src=\"../../../common/icons/ponete_a_prueba.png\" style=\"align:left\"/> </div>\n",
    "  <div style=\"float:left;width: 85%;\"><label>Calcular la distancia entre los locales bailables 'LA CITY' y 'PACHA BS AS'.</label></div>\n",
    "</div>"
   ]
  },
  {
   "cell_type": "markdown",
   "metadata": {
    "slideshow": {
     "slide_type": "slide"
    },
    "pycharm": {
     "name": "#%% md\n"
    }
   },
   "source": [
    "---\n",
    "\n",
    "### Referencias\n",
    "\n",
    "Geopandas Documentacion\n",
    "\n",
    "https://geopandas.org/gallery/create_geopandas_from_pandas.html\n",
    "\n",
    "The GeoPandas Cookbook\n",
    "\n",
    "https://www.martinalarcon.org/2018-12-31-d-geopandas/\n",
    "\n",
    "The Shapely User Manual\n",
    "\n",
    "https://shapely.readthedocs.io/en/stable/manual.html\n",
    "\n",
    "GeoPy’s documentation\n",
    "\n",
    "https://geopy.readthedocs.io/en/stable/"
   ]
  },
  {
   "cell_type": "code",
   "execution_count": null,
   "metadata": {
    "pycharm": {
     "name": "#%%\n"
    }
   },
   "outputs": [],
   "source": []
  }
 ],
 "metadata": {
  "kernelspec": {
   "display_name": "Python 3",
   "language": "python",
   "name": "python3"
  },
  "language_info": {
   "codemirror_mode": {
    "name": "ipython",
    "version": 3
   },
   "file_extension": ".py",
   "mimetype": "text/x-python",
   "name": "python",
   "nbconvert_exporter": "python",
   "pygments_lexer": "ipython3",
   "version": "3.7.9"
  }
 },
 "nbformat": 4,
 "nbformat_minor": 4
}