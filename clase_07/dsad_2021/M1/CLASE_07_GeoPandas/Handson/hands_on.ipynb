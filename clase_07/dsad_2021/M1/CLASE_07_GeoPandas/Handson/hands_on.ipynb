{
 "cells": [
  {
   "cell_type": "code",
   "execution_count": 1,
   "metadata": {
    "collapsed": true,
    "pycharm": {
     "name": "#%%\n"
    }
   },
   "outputs": [],
   "source": [
    "import matplotlib.pyplot as plt\n",
    "import pandas as pd\n",
    "import geopandas as gpd\n"
   ]
  },
  {
   "cell_type": "markdown",
   "source": [
    "Ejercicio - ciudades de Colombia\n",
    "Llevar la latitud y longitud a una forma geométrica de Punto, y junto a los datos del DataFrame df_ciudad, generar el GeoDataFrame geo_ciudad.\n",
    "Con el método gpd.points_from_xy(df_locales.X, df_locales.Y) lo realizamos."
   ],
   "metadata": {
    "collapsed": false,
    "pycharm": {
     "name": "#%% md\n"
    }
   }
  },
  {
   "cell_type": "code",
   "execution_count": 2,
   "outputs": [],
   "source": [
    "df_ciudad = pd.DataFrame(\n",
    "    {'Ciudad': ['Bogota','Cali', 'Medellin', 'Barranquilla'],\n",
    "     'Latitud': [4.60971, 3.43722, 6.25184, 10.96854],\n",
    "     'Longitud': [-74.08175, -76.5225, -75.56359, -74.78132]})"
   ],
   "metadata": {
    "collapsed": false,
    "pycharm": {
     "name": "#%%\n"
    }
   }
  },
  {
   "cell_type": "code",
   "execution_count": 13,
   "outputs": [],
   "source": [
    "bogota_mask = df_ciudad['Ciudad']=='Bogota'\n",
    "cali_mask = df_ciudad['Ciudad']=='Cali'\n",
    "medellin_mask = df_ciudad['Ciudad']=='Medellin'\n",
    "barranquilla_mask = df_ciudad['Ciudad']=='Barranquilla'"
   ],
   "metadata": {
    "collapsed": false,
    "pycharm": {
     "name": "#%%\n"
    }
   }
  },
  {
   "cell_type": "code",
   "execution_count": 16,
   "outputs": [
    {
     "data": {
      "text/plain": "         Ciudad   Latitud  Longitud                    geometry\n0        Bogota   4.60971 -74.08175   POINT (-74.08175 4.60971)\n1          Cali   3.43722 -76.52250   POINT (-76.52250 3.43722)\n2      Medellin   6.25184 -75.56359   POINT (-75.56359 6.25184)\n3  Barranquilla  10.96854 -74.78132  POINT (-74.78132 10.96854)",
      "text/html": "<div>\n<style scoped>\n    .dataframe tbody tr th:only-of-type {\n        vertical-align: middle;\n    }\n\n    .dataframe tbody tr th {\n        vertical-align: top;\n    }\n\n    .dataframe thead th {\n        text-align: right;\n    }\n</style>\n<table border=\"1\" class=\"dataframe\">\n  <thead>\n    <tr style=\"text-align: right;\">\n      <th></th>\n      <th>Ciudad</th>\n      <th>Latitud</th>\n      <th>Longitud</th>\n      <th>geometry</th>\n    </tr>\n  </thead>\n  <tbody>\n    <tr>\n      <th>0</th>\n      <td>Bogota</td>\n      <td>4.60971</td>\n      <td>-74.08175</td>\n      <td>POINT (-74.08175 4.60971)</td>\n    </tr>\n    <tr>\n      <th>1</th>\n      <td>Cali</td>\n      <td>3.43722</td>\n      <td>-76.52250</td>\n      <td>POINT (-76.52250 3.43722)</td>\n    </tr>\n    <tr>\n      <th>2</th>\n      <td>Medellin</td>\n      <td>6.25184</td>\n      <td>-75.56359</td>\n      <td>POINT (-75.56359 6.25184)</td>\n    </tr>\n    <tr>\n      <th>3</th>\n      <td>Barranquilla</td>\n      <td>10.96854</td>\n      <td>-74.78132</td>\n      <td>POINT (-74.78132 10.96854)</td>\n    </tr>\n  </tbody>\n</table>\n</div>"
     },
     "execution_count": 16,
     "metadata": {},
     "output_type": "execute_result"
    }
   ],
   "source": [
    "geo_ciudades = gpd.GeoDataFrame(df_ciudad, geometry= gpd.points_from_xy(df_ciudad.Longitud,df_ciudad.Latitud))\n",
    "geo_ciudades"
   ],
   "metadata": {
    "collapsed": false,
    "pycharm": {
     "name": "#%%\n"
    }
   }
  },
  {
   "cell_type": "markdown",
   "source": [
    "Que tipo de datos tiene la nueva columna geometry?"
   ],
   "metadata": {
    "collapsed": false,
    "pycharm": {
     "name": "#%% md\n"
    }
   }
  },
  {
   "cell_type": "code",
   "execution_count": 18,
   "outputs": [
    {
     "data": {
      "text/plain": "geopandas.geodataframe.GeoDataFrame"
     },
     "execution_count": 18,
     "metadata": {},
     "output_type": "execute_result"
    }
   ],
   "source": [
    "type(geo_ciudades)"
   ],
   "metadata": {
    "collapsed": false,
    "pycharm": {
     "name": "#%%\n"
    }
   }
  },
  {
   "cell_type": "markdown",
   "source": [
    "Usar este código para leer el polígono que representa al contorno de Colombia:\n"
   ],
   "metadata": {
    "collapsed": false,
    "pycharm": {
     "name": "#%% md\n"
    }
   }
  },
  {
   "cell_type": "code",
   "execution_count": 19,
   "outputs": [
    {
     "data": {
      "text/plain": "geopandas.geoseries.GeoSeries"
     },
     "execution_count": 19,
     "metadata": {},
     "output_type": "execute_result"
    }
   ],
   "source": [
    "type(geo_ciudades.geometry)"
   ],
   "metadata": {
    "collapsed": false,
    "pycharm": {
     "name": "#%%\n"
    }
   }
  },
  {
   "cell_type": "markdown",
   "source": [
    "Usar este código para leer el polígono que representa al contorno de Colombia:\n"
   ],
   "metadata": {
    "collapsed": false,
    "pycharm": {
     "name": "#%% md\n"
    }
   }
  },
  {
   "cell_type": "code",
   "execution_count": 20,
   "outputs": [
    {
     "data": {
      "text/plain": "     pop_est      continent      name iso_a3  gdp_md_est  \\\n32  47698524  South America  Colombia    COL    688000.0   \n\n                                             geometry  \n32  POLYGON ((-66.87633 1.25336, -67.06505 1.13011...  ",
      "text/html": "<div>\n<style scoped>\n    .dataframe tbody tr th:only-of-type {\n        vertical-align: middle;\n    }\n\n    .dataframe tbody tr th {\n        vertical-align: top;\n    }\n\n    .dataframe thead th {\n        text-align: right;\n    }\n</style>\n<table border=\"1\" class=\"dataframe\">\n  <thead>\n    <tr style=\"text-align: right;\">\n      <th></th>\n      <th>pop_est</th>\n      <th>continent</th>\n      <th>name</th>\n      <th>iso_a3</th>\n      <th>gdp_md_est</th>\n      <th>geometry</th>\n    </tr>\n  </thead>\n  <tbody>\n    <tr>\n      <th>32</th>\n      <td>47698524</td>\n      <td>South America</td>\n      <td>Colombia</td>\n      <td>COL</td>\n      <td>688000.0</td>\n      <td>POLYGON ((-66.87633 1.25336, -67.06505 1.13011...</td>\n    </tr>\n  </tbody>\n</table>\n</div>"
     },
     "execution_count": 20,
     "metadata": {},
     "output_type": "execute_result"
    }
   ],
   "source": [
    "world = gpd.read_file(gpd.datasets.get_path('naturalearth_lowres'))\n",
    "geo_colombia = world[world.name=='Colombia']\n",
    "geo_colombia"
   ],
   "metadata": {
    "collapsed": false,
    "pycharm": {
     "name": "#%%\n"
    }
   }
  },
  {
   "cell_type": "markdown",
   "source": [
    "tipo de datos de geo_col\n"
   ],
   "metadata": {
    "collapsed": false,
    "pycharm": {
     "name": "#%% md\n"
    }
   }
  },
  {
   "cell_type": "code",
   "execution_count": 21,
   "outputs": [
    {
     "data": {
      "text/plain": "geopandas.geodataframe.GeoDataFrame"
     },
     "execution_count": 21,
     "metadata": {},
     "output_type": "execute_result"
    }
   ],
   "source": [
    "type(geo_colombia)"
   ],
   "metadata": {
    "collapsed": false,
    "pycharm": {
     "name": "#%%\n"
    }
   }
  },
  {
   "cell_type": "markdown",
   "source": [
    "Usando la funcion graficar, generar un grafico de las ciudades sobre el mapa del pais."
   ],
   "metadata": {
    "collapsed": false,
    "pycharm": {
     "name": "#%% md\n"
    }
   }
  },
  {
   "cell_type": "code",
   "execution_count": 31,
   "outputs": [
    {
     "data": {
      "text/plain": "<Figure size 432x288 with 1 Axes>",
      "image/png": "[encoded data removed]"
     },
     "metadata": {
      "needs_background": "light"
     },
     "output_type": "display_data"
    }
   ],
   "source": [
    "import matplotlib.pyplot as plt\n",
    "\n",
    "ax = geo_colombia.plot(color='yellow', edgecolor='red')\n",
    "\n",
    "geo_ciudades.plot(ax=ax, color= 'blue')\n",
    "\n",
    "plt.show()"
   ],
   "metadata": {
    "collapsed": false,
    "pycharm": {
     "name": "#%%\n"
    }
   }
  },
  {
   "cell_type": "markdown",
   "source": [
    "Crear una línea entre las ciudades de Bogotá y Barranquilla."
   ],
   "metadata": {
    "collapsed": false,
    "pycharm": {
     "name": "#%% md\n"
    }
   }
  },
  {
   "cell_type": "code",
   "execution_count": 35,
   "outputs": [],
   "source": [
    "from shapely.geometry import Point\n",
    "from shapely.geometry import LineString\n",
    "\n",
    "punto_bog = Point(df_ciudad[bogota_mask]['Longitud'],df_ciudad[bogota_mask]['Latitud'])\n",
    "punto_bar = Point(df_ciudad[barranquilla_mask]['Longitud'],df_ciudad[barranquilla_mask]['Latitud'])\n",
    "punto_med = Point(df_ciudad[medellin_mask]['Longitud'],df_ciudad[medellin_mask]['Latitud'])\n",
    "punto_cal = Point(df_ciudad[cali_mask]['Longitud'],df_ciudad[cali_mask]['Latitud'])\n",
    "\n",
    "linea_bog_bar = LineString([punto_bog,punto_bar])\n",
    "linea_bog_med = LineString([punto_bog,punto_med])\n",
    "linea_bog_cal = LineString([punto_bog,punto_cal])"
   ],
   "metadata": {
    "collapsed": false,
    "pycharm": {
     "name": "#%%\n"
    }
   }
  },
  {
   "cell_type": "code",
   "execution_count": 36,
   "outputs": [],
   "source": [
    "linea_bb_geo = gpd.GeoSeries([punto_bog, punto_bar, linea_bog_bar])\n",
    "linea_bm_geo = gpd.GeoSeries([punto_bog, punto_med, linea_bog_med])\n",
    "linea_bc_geo = gpd.GeoSeries([punto_bog, punto_cal, linea_bog_cal])\n",
    "\n"
   ],
   "metadata": {
    "collapsed": false,
    "pycharm": {
     "name": "#%%\n"
    }
   }
  },
  {
   "cell_type": "code",
   "execution_count": 37,
   "outputs": [
    {
     "data": {
      "text/plain": "<Figure size 432x288 with 1 Axes>",
      "image/png": "[encoded data removed]"
     },
     "metadata": {
      "needs_background": "light"
     },
     "output_type": "display_data"
    }
   ],
   "source": [
    "fig, ax = plt.subplots()\n",
    "ax.set_aspect('equal')\n",
    "geo_colombia.plot(ax=ax,color='yellow', edgecolor='red')\n",
    "linea_bb_geo.plot(ax=ax, color='blue')\n",
    "linea_bm_geo.plot(ax=ax, color='blue')\n",
    "linea_bc_geo.plot(ax=ax, color='blue')\n",
    "plt.show();"
   ],
   "metadata": {
    "collapsed": false,
    "pycharm": {
     "name": "#%%\n"
    }
   }
  }
 ],
 "metadata": {
  "kernelspec": {
   "display_name": "Python 3",
   "language": "python",
   "name": "python3"
  },
  "language_info": {
   "codemirror_mode": {
    "name": "ipython",
    "version": 2
   },
   "file_extension": ".py",
   "mimetype": "text/x-python",
   "name": "python",
   "nbconvert_exporter": "python",
   "pygments_lexer": "ipython2",
   "version": "2.7.6"
  }
 },
 "nbformat": 4,
 "nbformat_minor": 0
}