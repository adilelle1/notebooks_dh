{
 "cells": [
  {
   "cell_type": "markdown",
   "source": [
    "Ejercicio 1\n",
    "Usando los datos de propiedades de Melbourne (../Data/melb_data.csv), queremos imputar los valores faltantes del campo YearBuilt usando la mediana de ese campo por vendedor SellerG\n",
    "\n",
    "¿Cántos valores nulos en el campo YearBuilt hay antes de la imputación?\n",
    "\n",
    "¿Cántos valores nulos en el campo YearBuilt hay después de la imputación?"
   ],
   "metadata": {
    "collapsed": false,
    "pycharm": {
     "name": "#%% md\n"
    }
   }
  },
  {
   "cell_type": "code",
   "execution_count": 2,
   "metadata": {
    "collapsed": true,
    "pycharm": {
     "name": "#%%\n"
    }
   },
   "outputs": [],
   "source": [
    "import pandas as pd\n"
   ]
  },
  {
   "cell_type": "code",
   "execution_count": 1,
   "outputs": [
    {
     "data": {
      "text/plain": "'C:\\\\Users\\\\alejo\\\\dh\\\\notebooks\\\\clase_10'"
     },
     "execution_count": 1,
     "metadata": {},
     "output_type": "execute_result"
    }
   ],
   "source": [
    "%pwd\n"
   ],
   "metadata": {
    "collapsed": false,
    "pycharm": {
     "name": "#%%\n"
    }
   }
  },
  {
   "cell_type": "code",
   "execution_count": 4,
   "outputs": [
    {
     "data": {
      "text/plain": "              Suburb           Address  Rooms Type      Price Method  \\\n0         Abbotsford      85 Turner St      2    h  1480000.0      S   \n1         Abbotsford   25 Bloomburg St      2    h  1035000.0      S   \n2         Abbotsford      5 Charles St      3    h  1465000.0     SP   \n3         Abbotsford  40 Federation La      3    h   850000.0     PI   \n4         Abbotsford       55a Park St      4    h  1600000.0     VB   \n...              ...               ...    ...  ...        ...    ...   \n13575  Wheelers Hill      12 Strada Cr      4    h  1245000.0      S   \n13576   Williamstown     77 Merrett Dr      3    h  1031000.0     SP   \n13577   Williamstown       83 Power St      3    h  1170000.0      S   \n13578   Williamstown      96 Verdon St      4    h  2500000.0     PI   \n13579     Yarraville        6 Agnes St      4    h  1285000.0     SP   \n\n        SellerG        Date  Distance  Postcode  ...  Bathroom  Car  Landsize  \\\n0        Biggin   3/12/2016       2.5    3067.0  ...       1.0  1.0     202.0   \n1        Biggin   4/02/2016       2.5    3067.0  ...       1.0  0.0     156.0   \n2        Biggin   4/03/2017       2.5    3067.0  ...       2.0  0.0     134.0   \n3        Biggin   4/03/2017       2.5    3067.0  ...       2.0  1.0      94.0   \n4        Nelson   4/06/2016       2.5    3067.0  ...       1.0  2.0     120.0   \n...         ...         ...       ...       ...  ...       ...  ...       ...   \n13575     Barry  26/08/2017      16.7    3150.0  ...       2.0  2.0     652.0   \n13576  Williams  26/08/2017       6.8    3016.0  ...       2.0  2.0     333.0   \n13577     Raine  26/08/2017       6.8    3016.0  ...       2.0  4.0     436.0   \n13578   Sweeney  26/08/2017       6.8    3016.0  ...       1.0  5.0     866.0   \n13579   Village  26/08/2017       6.3    3013.0  ...       1.0  1.0     362.0   \n\n       BuildingArea  YearBuilt  CouncilArea Lattitude  Longtitude  \\\n0               NaN        NaN        Yarra -37.79960   144.99840   \n1              79.0     1900.0        Yarra -37.80790   144.99340   \n2             150.0     1900.0        Yarra -37.80930   144.99440   \n3               NaN        NaN        Yarra -37.79690   144.99690   \n4             142.0     2014.0        Yarra -37.80720   144.99410   \n...             ...        ...          ...       ...         ...   \n13575           NaN     1981.0          NaN -37.90562   145.16761   \n13576         133.0     1995.0          NaN -37.85927   144.87904   \n13577           NaN     1997.0          NaN -37.85274   144.88738   \n13578         157.0     1920.0          NaN -37.85908   144.89299   \n13579         112.0     1920.0          NaN -37.81188   144.88449   \n\n                       Regionname Propertycount  \n0           Northern Metropolitan        4019.0  \n1           Northern Metropolitan        4019.0  \n2           Northern Metropolitan        4019.0  \n3           Northern Metropolitan        4019.0  \n4           Northern Metropolitan        4019.0  \n...                           ...           ...  \n13575  South-Eastern Metropolitan        7392.0  \n13576        Western Metropolitan        6380.0  \n13577        Western Metropolitan        6380.0  \n13578        Western Metropolitan        6380.0  \n13579        Western Metropolitan        6543.0  \n\n[13580 rows x 21 columns]",
      "text/html": "<div>\n<style scoped>\n    .dataframe tbody tr th:only-of-type {\n        vertical-align: middle;\n    }\n\n    .dataframe tbody tr th {\n        vertical-align: top;\n    }\n\n    .dataframe thead th {\n        text-align: right;\n    }\n</style>\n<table border=\"1\" class=\"dataframe\">\n  <thead>\n    <tr style=\"text-align: right;\">\n      <th></th>\n      <th>Suburb</th>\n      <th>Address</th>\n      <th>Rooms</th>\n      <th>Type</th>\n      <th>Price</th>\n      <th>Method</th>\n      <th>SellerG</th>\n      <th>Date</th>\n      <th>Distance</th>\n      <th>Postcode</th>\n      <th>...</th>\n      <th>Bathroom</th>\n      <th>Car</th>\n      <th>Landsize</th>\n      <th>BuildingArea</th>\n      <th>YearBuilt</th>\n      <th>CouncilArea</th>\n      <th>Lattitude</th>\n      <th>Longtitude</th>\n      <th>Regionname</th>\n      <th>Propertycount</th>\n    </tr>\n  </thead>\n  <tbody>\n    <tr>\n      <th>0</th>\n      <td>Abbotsford</td>\n      <td>85 Turner St</td>\n      <td>2</td>\n      <td>h</td>\n      <td>1480000.0</td>\n      <td>S</td>\n      <td>Biggin</td>\n      <td>3/12/2016</td>\n      <td>2.5</td>\n      <td>3067.0</td>\n      <td>...</td>\n      <td>1.0</td>\n      <td>1.0</td>\n      <td>202.0</td>\n      <td>NaN</td>\n      <td>NaN</td>\n      <td>Yarra</td>\n      <td>-37.79960</td>\n      <td>144.99840</td>\n      <td>Northern Metropolitan</td>\n      <td>4019.0</td>\n    </tr>\n    <tr>\n      <th>1</th>\n      <td>Abbotsford</td>\n      <td>25 Bloomburg St</td>\n      <td>2</td>\n      <td>h</td>\n      <td>1035000.0</td>\n      <td>S</td>\n      <td>Biggin</td>\n      <td>4/02/2016</td>\n      <td>2.5</td>\n      <td>3067.0</td>\n      <td>...</td>\n      <td>1.0</td>\n      <td>0.0</td>\n      <td>156.0</td>\n      <td>79.0</td>\n      <td>1900.0</td>\n      <td>Yarra</td>\n      <td>-37.80790</td>\n      <td>144.99340</td>\n      <td>Northern Metropolitan</td>\n      <td>4019.0</td>\n    </tr>\n    <tr>\n      <th>2</th>\n      <td>Abbotsford</td>\n      <td>5 Charles St</td>\n      <td>3</td>\n      <td>h</td>\n      <td>1465000.0</td>\n      <td>SP</td>\n      <td>Biggin</td>\n      <td>4/03/2017</td>\n      <td>2.5</td>\n      <td>3067.0</td>\n      <td>...</td>\n      <td>2.0</td>\n      <td>0.0</td>\n      <td>134.0</td>\n      <td>150.0</td>\n      <td>1900.0</td>\n      <td>Yarra</td>\n      <td>-37.80930</td>\n      <td>144.99440</td>\n      <td>Northern Metropolitan</td>\n      <td>4019.0</td>\n    </tr>\n    <tr>\n      <th>3</th>\n      <td>Abbotsford</td>\n      <td>40 Federation La</td>\n      <td>3</td>\n      <td>h</td>\n      <td>850000.0</td>\n      <td>PI</td>\n      <td>Biggin</td>\n      <td>4/03/2017</td>\n      <td>2.5</td>\n      <td>3067.0</td>\n      <td>...</td>\n      <td>2.0</td>\n      <td>1.0</td>\n      <td>94.0</td>\n      <td>NaN</td>\n      <td>NaN</td>\n      <td>Yarra</td>\n      <td>-37.79690</td>\n      <td>144.99690</td>\n      <td>Northern Metropolitan</td>\n      <td>4019.0</td>\n    </tr>\n    <tr>\n      <th>4</th>\n      <td>Abbotsford</td>\n      <td>55a Park St</td>\n      <td>4</td>\n      <td>h</td>\n      <td>1600000.0</td>\n      <td>VB</td>\n      <td>Nelson</td>\n      <td>4/06/2016</td>\n      <td>2.5</td>\n      <td>3067.0</td>\n      <td>...</td>\n      <td>1.0</td>\n      <td>2.0</td>\n      <td>120.0</td>\n      <td>142.0</td>\n      <td>2014.0</td>\n      <td>Yarra</td>\n      <td>-37.80720</td>\n      <td>144.99410</td>\n      <td>Northern Metropolitan</td>\n      <td>4019.0</td>\n    </tr>\n    <tr>\n      <th>...</th>\n      <td>...</td>\n      <td>...</td>\n      <td>...</td>\n      <td>...</td>\n      <td>...</td>\n      <td>...</td>\n      <td>...</td>\n      <td>...</td>\n      <td>...</td>\n      <td>...</td>\n      <td>...</td>\n      <td>...</td>\n      <td>...</td>\n      <td>...</td>\n      <td>...</td>\n      <td>...</td>\n      <td>...</td>\n      <td>...</td>\n      <td>...</td>\n      <td>...</td>\n      <td>...</td>\n    </tr>\n    <tr>\n      <th>13575</th>\n      <td>Wheelers Hill</td>\n      <td>12 Strada Cr</td>\n      <td>4</td>\n      <td>h</td>\n      <td>1245000.0</td>\n      <td>S</td>\n      <td>Barry</td>\n      <td>26/08/2017</td>\n      <td>16.7</td>\n      <td>3150.0</td>\n      <td>...</td>\n      <td>2.0</td>\n      <td>2.0</td>\n      <td>652.0</td>\n      <td>NaN</td>\n      <td>1981.0</td>\n      <td>NaN</td>\n      <td>-37.90562</td>\n      <td>145.16761</td>\n      <td>South-Eastern Metropolitan</td>\n      <td>7392.0</td>\n    </tr>\n    <tr>\n      <th>13576</th>\n      <td>Williamstown</td>\n      <td>77 Merrett Dr</td>\n      <td>3</td>\n      <td>h</td>\n      <td>1031000.0</td>\n      <td>SP</td>\n      <td>Williams</td>\n      <td>26/08/2017</td>\n      <td>6.8</td>\n      <td>3016.0</td>\n      <td>...</td>\n      <td>2.0</td>\n      <td>2.0</td>\n      <td>333.0</td>\n      <td>133.0</td>\n      <td>1995.0</td>\n      <td>NaN</td>\n      <td>-37.85927</td>\n      <td>144.87904</td>\n      <td>Western Metropolitan</td>\n      <td>6380.0</td>\n    </tr>\n    <tr>\n      <th>13577</th>\n      <td>Williamstown</td>\n      <td>83 Power St</td>\n      <td>3</td>\n      <td>h</td>\n      <td>1170000.0</td>\n      <td>S</td>\n      <td>Raine</td>\n      <td>26/08/2017</td>\n      <td>6.8</td>\n      <td>3016.0</td>\n      <td>...</td>\n      <td>2.0</td>\n      <td>4.0</td>\n      <td>436.0</td>\n      <td>NaN</td>\n      <td>1997.0</td>\n      <td>NaN</td>\n      <td>-37.85274</td>\n      <td>144.88738</td>\n      <td>Western Metropolitan</td>\n      <td>6380.0</td>\n    </tr>\n    <tr>\n      <th>13578</th>\n      <td>Williamstown</td>\n      <td>96 Verdon St</td>\n      <td>4</td>\n      <td>h</td>\n      <td>2500000.0</td>\n      <td>PI</td>\n      <td>Sweeney</td>\n      <td>26/08/2017</td>\n      <td>6.8</td>\n      <td>3016.0</td>\n      <td>...</td>\n      <td>1.0</td>\n      <td>5.0</td>\n      <td>866.0</td>\n      <td>157.0</td>\n      <td>1920.0</td>\n      <td>NaN</td>\n      <td>-37.85908</td>\n      <td>144.89299</td>\n      <td>Western Metropolitan</td>\n      <td>6380.0</td>\n    </tr>\n    <tr>\n      <th>13579</th>\n      <td>Yarraville</td>\n      <td>6 Agnes St</td>\n      <td>4</td>\n      <td>h</td>\n      <td>1285000.0</td>\n      <td>SP</td>\n      <td>Village</td>\n      <td>26/08/2017</td>\n      <td>6.3</td>\n      <td>3013.0</td>\n      <td>...</td>\n      <td>1.0</td>\n      <td>1.0</td>\n      <td>362.0</td>\n      <td>112.0</td>\n      <td>1920.0</td>\n      <td>NaN</td>\n      <td>-37.81188</td>\n      <td>144.88449</td>\n      <td>Western Metropolitan</td>\n      <td>6543.0</td>\n    </tr>\n  </tbody>\n</table>\n<p>13580 rows × 21 columns</p>\n</div>"
     },
     "execution_count": 4,
     "metadata": {},
     "output_type": "execute_result"
    }
   ],
   "source": [
    "df = pd.read_csv(r'C:\\Users\\alejo\\dh\\notebooks\\clase_10\\dsad_2021\\M2\\CLASE_10_Visualizacion1\\Data\\melb_data.csv', delimiter= ',')\n",
    "df"
   ],
   "metadata": {
    "collapsed": false,
    "pycharm": {
     "name": "#%%\n"
    }
   }
  },
  {
   "cell_type": "code",
   "execution_count": 18,
   "outputs": [],
   "source": [
    "nulls= df.isnull().sum()"
   ],
   "metadata": {
    "collapsed": false,
    "pycharm": {
     "name": "#%%\n"
    }
   }
  },
  {
   "cell_type": "code",
   "execution_count": 19,
   "outputs": [
    {
     "data": {
      "text/plain": "Suburb            0.000000\nAddress           0.000000\nRooms             0.000000\nType              0.000000\nPrice             0.000000\nMethod            0.000000\nSellerG           0.000000\nDate              0.000000\nDistance          0.000000\nPostcode          0.000000\nBedroom2          0.000000\nBathroom          0.000000\nCar               0.456554\nLandsize          0.000000\nBuildingArea     47.496318\nYearBuilt        39.580265\nCouncilArea      10.081001\nLattitude         0.000000\nLongtitude        0.000000\nRegionname        0.000000\nPropertycount     0.000000\ndtype: float64"
     },
     "execution_count": 19,
     "metadata": {},
     "output_type": "execute_result"
    }
   ],
   "source": [
    "nulls / df.shape[0]*100"
   ],
   "metadata": {
    "collapsed": false,
    "pycharm": {
     "name": "#%%\n"
    }
   }
  },
  {
   "cell_type": "code",
   "execution_count": 20,
   "outputs": [
    {
     "data": {
      "text/plain": "0           NaN\n1        1900.0\n2        1900.0\n3           NaN\n4        2014.0\n          ...  \n13575    1981.0\n13576    1995.0\n13577    1997.0\n13578    1920.0\n13579    1920.0\nName: YearBuilt, Length: 13580, dtype: float64"
     },
     "execution_count": 20,
     "metadata": {},
     "output_type": "execute_result"
    }
   ],
   "source": [
    "df.YearBuilt"
   ],
   "metadata": {
    "collapsed": false,
    "pycharm": {
     "name": "#%%\n"
    }
   }
  },
  {
   "cell_type": "code",
   "execution_count": 23,
   "outputs": [
    {
     "data": {
      "text/plain": "dtype('float64')"
     },
     "execution_count": 23,
     "metadata": {},
     "output_type": "execute_result"
    }
   ],
   "source": [
    "df.YearBuilt.dtype"
   ],
   "metadata": {
    "collapsed": false,
    "pycharm": {
     "name": "#%%\n"
    }
   }
  },
  {
   "cell_type": "code",
   "execution_count": 16,
   "outputs": [
    {
     "data": {
      "text/plain": "1970.0    866\n1960.0    725\n1950.0    580\n1900.0    341\n1980.0    338\n         ... \n1901.0      1\n1921.0      1\n1898.0      1\n1884.0      1\n1897.0      1\nName: YearBuilt, Length: 144, dtype: int64"
     },
     "execution_count": 16,
     "metadata": {},
     "output_type": "execute_result"
    }
   ],
   "source": [
    "df.YearBuilt.value_counts()"
   ],
   "metadata": {
    "collapsed": false,
    "pycharm": {
     "name": "#%%\n"
    }
   }
  },
  {
   "cell_type": "code",
   "execution_count": 54,
   "outputs": [
    {
     "data": {
      "text/plain": "1970.0    1447\n1960.0    1237\n1950.0     974\n1980.0     563\n1900.0     539\n          ... \n1893.0       1\n1932.0       1\n1901.0       1\n1933.0       1\n1884.0       1\nName: YearBuilt, Length: 144, dtype: int64"
     },
     "execution_count": 54,
     "metadata": {},
     "output_type": "execute_result"
    }
   ],
   "source": [
    "df.YearBuilt.value_counts()\n"
   ],
   "metadata": {
    "collapsed": false,
    "pycharm": {
     "name": "#%%\n"
    }
   }
  },
  {
   "cell_type": "code",
   "execution_count": 30,
   "outputs": [
    {
     "data": {
      "text/plain": "1196.0"
     },
     "execution_count": 30,
     "metadata": {},
     "output_type": "execute_result"
    }
   ],
   "source": [
    "df.YearBuilt.min()"
   ],
   "metadata": {
    "collapsed": false,
    "pycharm": {
     "name": "#%%\n"
    }
   }
  },
  {
   "cell_type": "code",
   "execution_count": 31,
   "outputs": [
    {
     "data": {
      "text/plain": "2018.0"
     },
     "execution_count": 31,
     "metadata": {},
     "output_type": "execute_result"
    }
   ],
   "source": [
    "df.YearBuilt.max()"
   ],
   "metadata": {
    "collapsed": false,
    "pycharm": {
     "name": "#%%\n"
    }
   }
  },
  {
   "cell_type": "code",
   "execution_count": 55,
   "outputs": [
    {
     "data": {
      "text/plain": "<AxesSubplot:>"
     },
     "execution_count": 55,
     "metadata": {},
     "output_type": "execute_result"
    },
    {
     "data": {
      "text/plain": "<Figure size 432x288 with 1 Axes>",
      "image/png": "[encoded data removed]"
     },
     "metadata": {},
     "output_type": "display_data"
    }
   ],
   "source": [
    "df.YearBuilt.hist(bins=[i for i in range(1800,2019,1)])"
   ],
   "metadata": {
    "collapsed": false,
    "pycharm": {
     "name": "#%%\n"
    }
   }
  },
  {
   "cell_type": "code",
   "execution_count": 37,
   "outputs": [
    {
     "data": {
      "text/plain": "1964.6842169408897"
     },
     "execution_count": 37,
     "metadata": {},
     "output_type": "execute_result"
    }
   ],
   "source": [
    "df.YearBuilt.mean()"
   ],
   "metadata": {
    "collapsed": false,
    "pycharm": {
     "name": "#%%\n"
    }
   }
  },
  {
   "cell_type": "code",
   "execution_count": 42,
   "outputs": [],
   "source": [
    "df[\"YearBuilt\"].fillna(method=\"ffill\",inplace=True)\n",
    "#use un bfill para el primero que no tenia nada arriba"
   ],
   "metadata": {
    "collapsed": false,
    "pycharm": {
     "name": "#%%\n"
    }
   }
  },
  {
   "cell_type": "code",
   "execution_count": 48,
   "outputs": [
    {
     "data": {
      "text/plain": "Price      BuildingArea\n131000.0   155.0           1\n145000.0   164.0           1\n170000.0   26.0            1\n185000.0   43.0            1\n200000.0   35.0            1\n                          ..\n6400000.0  308.0           1\n6500000.0  365.0           1\n7650000.0  284.0           1\n8000000.0  464.3           1\n9000000.0  117.0           1\nName: Price, Length: 6723, dtype: int64"
     },
     "execution_count": 48,
     "metadata": {},
     "output_type": "execute_result"
    }
   ],
   "source": [
    "df.groupby(by=['Price','BuildingArea'])['Price'].count()\n"
   ],
   "metadata": {
    "collapsed": false,
    "pycharm": {
     "name": "#%%\n"
    }
   }
  },
  {
   "cell_type": "code",
   "execution_count": 53,
   "outputs": [
    {
     "data": {
      "text/plain": "dtype('float64')"
     },
     "execution_count": 53,
     "metadata": {},
     "output_type": "execute_result"
    }
   ],
   "source": [
    "df.BuildingArea.dtype"
   ],
   "metadata": {
    "collapsed": false,
    "pycharm": {
     "name": "#%%\n"
    }
   }
  },
  {
   "cell_type": "code",
   "execution_count": 52,
   "outputs": [
    {
     "ename": "ValueError",
     "evalue": "x must be a label or position",
     "output_type": "error",
     "traceback": [
      "\u001B[1;31m---------------------------------------------------------------------------\u001B[0m",
      "\u001B[1;31mValueError\u001B[0m                                Traceback (most recent call last)",
      "Input \u001B[1;32mIn [52]\u001B[0m, in \u001B[0;36m<cell line: 1>\u001B[1;34m()\u001B[0m\n\u001B[1;32m----> 1\u001B[0m \u001B[43mdf\u001B[49m\u001B[38;5;241;43m.\u001B[39;49m\u001B[43mplot\u001B[49m\u001B[43m(\u001B[49m\u001B[43mx\u001B[49m\u001B[38;5;241;43m=\u001B[39;49m\u001B[43m[\u001B[49m\u001B[38;5;124;43m'\u001B[39;49m\u001B[38;5;124;43mBuildingArea\u001B[39;49m\u001B[38;5;124;43m'\u001B[39;49m\u001B[43m]\u001B[49m\u001B[43m,\u001B[49m\u001B[43my\u001B[49m\u001B[38;5;241;43m=\u001B[39;49m\u001B[38;5;124;43m'\u001B[39;49m\u001B[38;5;124;43mPrice\u001B[39;49m\u001B[38;5;124;43m'\u001B[39;49m\u001B[43m)\u001B[49m\n",
      "File \u001B[1;32m~\\anaconda3\\envs\\notebooks\\lib\\site-packages\\pandas\\plotting\\_core.py:915\u001B[0m, in \u001B[0;36mPlotAccessor.__call__\u001B[1;34m(self, *args, **kwargs)\u001B[0m\n\u001B[0;32m    913\u001B[0m         x \u001B[38;5;241m=\u001B[39m data_cols[x]\n\u001B[0;32m    914\u001B[0m     \u001B[38;5;28;01melif\u001B[39;00m \u001B[38;5;129;01mnot\u001B[39;00m \u001B[38;5;28misinstance\u001B[39m(data[x], ABCSeries):\n\u001B[1;32m--> 915\u001B[0m         \u001B[38;5;28;01mraise\u001B[39;00m \u001B[38;5;167;01mValueError\u001B[39;00m(\u001B[38;5;124m\"\u001B[39m\u001B[38;5;124mx must be a label or position\u001B[39m\u001B[38;5;124m\"\u001B[39m)\n\u001B[0;32m    916\u001B[0m     data \u001B[38;5;241m=\u001B[39m data\u001B[38;5;241m.\u001B[39mset_index(x)\n\u001B[0;32m    917\u001B[0m \u001B[38;5;28;01mif\u001B[39;00m y \u001B[38;5;129;01mis\u001B[39;00m \u001B[38;5;129;01mnot\u001B[39;00m \u001B[38;5;28;01mNone\u001B[39;00m:\n\u001B[0;32m    918\u001B[0m     \u001B[38;5;66;03m# check if we have y as int or list of ints\u001B[39;00m\n",
      "\u001B[1;31mValueError\u001B[0m: x must be a label or position"
     ]
    }
   ],
   "source": [
    "df.plot(x=['BuildingArea'],y='Price')"
   ],
   "metadata": {
    "collapsed": false,
    "pycharm": {
     "name": "#%%\n"
    }
   }
  }
 ],
 "metadata": {
  "kernelspec": {
   "display_name": "Python 3",
   "language": "python",
   "name": "python3"
  },
  "language_info": {
   "codemirror_mode": {
    "name": "ipython",
    "version": 2
   },
   "file_extension": ".py",
   "mimetype": "text/x-python",
   "name": "python",
   "nbconvert_exporter": "python",
   "pygments_lexer": "ipython2",
   "version": "2.7.6"
  }
 },
 "nbformat": 4,
 "nbformat_minor": 0
}