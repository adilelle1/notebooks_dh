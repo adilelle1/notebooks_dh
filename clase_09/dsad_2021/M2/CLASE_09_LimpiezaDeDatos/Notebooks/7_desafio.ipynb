{
 "cells": [
  {
   "cell_type": "code",
   "execution_count": null,
   "metadata": {
    "pycharm": {
     "name": "#%%\n"
    }
   },
   "outputs": [],
   "source": [
    "# initial setup\n",
    "%run \"../../../common/0_notebooks_base_setup.py\"\n"
   ]
  },
  {
   "cell_type": "markdown",
   "metadata": {
    "pycharm": {
     "name": "#%% md\n"
    }
   },
   "source": [
    "---\n",
    "\n",
    "<img src='../../../common/logo_DH.png' align='left' width=35%/>\n"
   ]
  },
  {
   "cell_type": "markdown",
   "metadata": {
    "pycharm": {
     "name": "#%% md\n"
    }
   },
   "source": [
    "# Limpieza de datos. Apply. Expresiones regulares."
   ]
  },
  {
   "cell_type": "markdown",
   "metadata": {
    "pycharm": {
     "name": "#%% md\n"
    }
   },
   "source": [
    "La limpieza es un paso necesario en todo proyecto de datos. \n",
    "\n",
    "Podemos resumir el proceso de limpieza de datos en las siguientes cinco tareas:\n",
    "\n",
    "**1. Resolver problemas de formato y asignar tipos de datos correctos.**\n",
    "\n",
    "Por ejemplo, cuando al pasar de CSV a Pandas una fecha no se importa correctamente como puede ser el caso de un campo fecha donde se importa 20090609231247 en lugar de 2009-06-09 23:12:47.\n",
    "\n",
    "El formato en que se encuentran los datos determina qué operaciones pueden realizarse sobre ellos.\n",
    "\n",
    "**2. Estandarizar categorías.**\n",
    "\n",
    "Cuando los datos se recolectaron con un sisstema que no tiene valores tipificadaos, valores que representan la misma categoría pueden estar expresados de forma distinta. Por ejemplo: Arg, AR, Argentina\n",
    "\n",
    "**3. Corregir valores erróneos.**\n",
    "\n",
    "Por ejemplo: un valor numérico o inválido para describir el género; o una edad representada por un número negativo o mucho mayor que 100.\n",
    "\n",
    "**4. Completar datos faltantes.**\n",
    "\n",
    "Los datasets del mundo real suelen venir con datos faltantes que responden a información que se perdió o nunca se recolectó. Existen varias técnicas para completar datos faltantes. Al proceso de completar datos faltantes se lo llama \"imputación\".\n",
    "\n",
    "**5. Organizar el dataset.**\n",
    "\n",
    "Es importante estructurar las filas y columnas de la forma más conveniente. Para hacerlo se pueden aplicar las reglas del \"tidy data\".\n"
   ]
  },
  {
   "cell_type": "markdown",
   "metadata": {
    "pycharm": {
     "name": "#%% md\n"
    }
   },
   "source": [
    "\n",
    "## Dataset\n",
    "\n",
    "El Met (Metropolitan Museum of Art) provee datasets de información de más de 420.000 piezas de arte en su colección.\n",
    "\n",
    "https://github.com/metmuseum/openaccess/\n",
    "\n",
    "Los problemas que presentan este dataset incluyen:\n",
    "* Valores faltantes\n",
    "* Posibles duplicaciones\n",
    "* Campos con mezcla de campos de tipo numérico con cadenas de caracteres\n",
    "\n",
    "En esta clase vamos a detectar algunos de los qué campos presentan problemas, y solucionarlos usando las herramientas que adquirimos en las prácticas guiadas.\n"
   ]
  },
  {
   "cell_type": "markdown",
   "metadata": {
    "pycharm": {
     "name": "#%% md\n"
    }
   },
   "source": [
    "## Ejercicio 1:\n",
    "\n",
    "Vamos a leer en la variable `data` los datos del archivo /M2/CLASE_05_Limpieza_de_datos/Data/MetObjects_sample.csv en un `DataFrame` de pandas con el método `read_csv` \n",
    "\n",
    "Veamos cuántas filas y columnas tiene el DataFrame data"
   ]
  },
  {
   "cell_type": "code",
   "execution_count": 5,
   "metadata": {
    "pycharm": {
     "name": "#%%\n"
    }
   },
   "outputs": [
    {
     "data": {
      "text/plain": "'C:\\\\Users\\\\alejo\\\\dh\\\\notebooks\\\\clase_09\\\\dsad_2021\\\\M2\\\\CLASE_09_LimpiezaDeDatos\\\\Notebooks'"
     },
     "execution_count": 5,
     "metadata": {},
     "output_type": "execute_result"
    }
   ],
   "source": [
    "import pandas as pd\n",
    "%pwd"
   ]
  },
  {
   "cell_type": "code",
   "execution_count": 6,
   "outputs": [
    {
     "data": {
      "text/plain": "      Unnamed: 0       Object Number  Is Highlight  Is Public Domain  \\\n0         297513       Inst.1980.3.1         False             False   \n1         366196          175T49 R43          True             False   \n2         380983              WW.550         False             False   \n3         379184              WW.211         False             False   \n4         472119          24.63.2060         False             False   \n...          ...                 ...           ...               ...   \n4738       55188               CP288         False             False   \n4739      333892        1979.292.676         False             False   \n4740      189623        1979.206.698         False             False   \n4741      213869            53.605.2         False             False   \n4742      473188  Burdick 335, V31.4         False             False   \n\n      Is Timeline Work  Object ID                                 Department  \\\n0                False     442985                                Islamic Art   \n1                False     591826                              The Libraries   \n2                False     650203                        Drawings and Prints   \n3                False     647832                        Drawings and Prints   \n4                False     838838                        Drawings and Prints   \n...                ...        ...                                        ...   \n4738             False      63654                                  Asian Art   \n4739             False     496985                Modern and Contemporary Art   \n4740              True     312885  Arts of Africa, Oceania, and the Americas   \n4741             False     345597                        Drawings and Prints   \n4742             False     841114                        Drawings and Prints   \n\n     AccessionYear              Object Name  \\\n0              NaN  Illustrated single work   \n1              NaN                      NaN   \n2              NaN                    Print   \n3              NaN                    Print   \n4              NaN                    Print   \n...            ...                      ...   \n4738          1941                    Print   \n4739          1979                  Drawing   \n4740          1979                     Bowl   \n4741          1953                     Book   \n4742          1963                    Print   \n\n                                                  Title  ... Excavation River  \\\n0                               Illustrated Single Work  ...        NaN   NaN   \n1                                   Vita del Tintoretto  ...        NaN   NaN   \n2                                 Flowers and Dragonfly  ...        NaN   NaN   \n3     Old Karlsbad: City Tower (Alt-Karlsbad Stadtturm)  ...        NaN   NaN   \n4                   Victor Hugo, published in Le Masque  ...        NaN   NaN   \n...                                                 ...  ...        ...   ...   \n4738                                                NaN  ...        NaN   NaN   \n4739                     Untitled (female nude studies)  ...        NaN   NaN   \n4740                                               Bowl  ...        NaN   NaN   \n4741  Anatomia ex Caspari Bartolini Parentis Institu...  ...        NaN   NaN   \n4742  Roy \"Peewee\" Chantler from Dominion Chocolate ...  ...        NaN   NaN   \n\n           Classification                        Rights and Reproduction  \\\n0                 Codices                                            NaN   \n1                     NaN                                            NaN   \n2                  Prints                                            NaN   \n3                  Prints                                            NaN   \n4                  Prints                                            NaN   \n...                   ...                                            ...   \n4738               Prints                                            NaN   \n4739             Drawings  © 2020 Artists Rights Society (ARS), New York   \n4740  Ceramics-Containers                                            NaN   \n4741                Books                                            NaN   \n4742      Prints|Ephemera                                            NaN   \n\n                                          Link Resource  \\\n0     http://www.metmuseum.org/art/collection/search...   \n1     http://www.metmuseum.org/art/collection/search...   \n2     http://www.metmuseum.org/art/collection/search...   \n3     http://www.metmuseum.org/art/collection/search...   \n4     http://www.metmuseum.org/art/collection/search...   \n...                                                 ...   \n4738  http://www.metmuseum.org/art/collection/search...   \n4739  http://www.metmuseum.org/art/collection/search...   \n4740  http://www.metmuseum.org/art/collection/search...   \n4741  http://www.metmuseum.org/art/collection/search...   \n4742  http://www.metmuseum.org/art/collection/search...   \n\n                          Object Wikidata URL Metadata Date  \\\n0                                         NaN           NaN   \n1     https://www.wikidata.org/wiki/Q29385980           NaN   \n2                                         NaN           NaN   \n3                                         NaN           NaN   \n4                                         NaN           NaN   \n...                                       ...           ...   \n4738                                      NaN           NaN   \n4739                                      NaN           NaN   \n4740                                      NaN           NaN   \n4741                                      NaN           NaN   \n4742                                      NaN           NaN   \n\n                                    Repository                 Tags  \\\n0     Metropolitan Museum of Art, New York, NY          Abstraction   \n1     Metropolitan Museum of Art, New York, NY                  NaN   \n2     Metropolitan Museum of Art, New York, NY  Dragonflies|Flowers   \n3     Metropolitan Museum of Art, New York, NY               Towers   \n4     Metropolitan Museum of Art, New York, NY                  NaN   \n...                                        ...                  ...   \n4738  Metropolitan Museum of Art, New York, NY                  NaN   \n4739  Metropolitan Museum of Art, New York, NY                  NaN   \n4740  Metropolitan Museum of Art, New York, NY                  NaN   \n4741  Metropolitan Museum of Art, New York, NY                  NaN   \n4742  Metropolitan Museum of Art, New York, NY                  NaN   \n\n                                           Tags AAT URL  \n0             http://vocab.getty.edu/page/aat/300056508  \n1                                                   NaN  \n2     http://vocab.getty.edu/page/aat/300310476|http...  \n3             http://vocab.getty.edu/page/aat/300004847  \n4                                                   NaN  \n...                                                 ...  \n4738                                                NaN  \n4739                                                NaN  \n4740                                                NaN  \n4741                                                NaN  \n4742                                                NaN  \n\n[4743 rows x 52 columns]",
      "text/html": "<div>\n<style scoped>\n    .dataframe tbody tr th:only-of-type {\n        vertical-align: middle;\n    }\n\n    .dataframe tbody tr th {\n        vertical-align: top;\n    }\n\n    .dataframe thead th {\n        text-align: right;\n    }\n</style>\n<table border=\"1\" class=\"dataframe\">\n  <thead>\n    <tr style=\"text-align: right;\">\n      <th></th>\n      <th>Unnamed: 0</th>\n      <th>Object Number</th>\n      <th>Is Highlight</th>\n      <th>Is Public Domain</th>\n      <th>Is Timeline Work</th>\n      <th>Object ID</th>\n      <th>Department</th>\n      <th>AccessionYear</th>\n      <th>Object Name</th>\n      <th>Title</th>\n      <th>...</th>\n      <th>Excavation</th>\n      <th>River</th>\n      <th>Classification</th>\n      <th>Rights and Reproduction</th>\n      <th>Link Resource</th>\n      <th>Object Wikidata URL</th>\n      <th>Metadata Date</th>\n      <th>Repository</th>\n      <th>Tags</th>\n      <th>Tags AAT URL</th>\n    </tr>\n  </thead>\n  <tbody>\n    <tr>\n      <th>0</th>\n      <td>297513</td>\n      <td>Inst.1980.3.1</td>\n      <td>False</td>\n      <td>False</td>\n      <td>False</td>\n      <td>442985</td>\n      <td>Islamic Art</td>\n      <td>NaN</td>\n      <td>Illustrated single work</td>\n      <td>Illustrated Single Work</td>\n      <td>...</td>\n      <td>NaN</td>\n      <td>NaN</td>\n      <td>Codices</td>\n      <td>NaN</td>\n      <td>http://www.metmuseum.org/art/collection/search...</td>\n      <td>NaN</td>\n      <td>NaN</td>\n      <td>Metropolitan Museum of Art, New York, NY</td>\n      <td>Abstraction</td>\n      <td>http://vocab.getty.edu/page/aat/300056508</td>\n    </tr>\n    <tr>\n      <th>1</th>\n      <td>366196</td>\n      <td>175T49 R43</td>\n      <td>True</td>\n      <td>False</td>\n      <td>False</td>\n      <td>591826</td>\n      <td>The Libraries</td>\n      <td>NaN</td>\n      <td>NaN</td>\n      <td>Vita del Tintoretto</td>\n      <td>...</td>\n      <td>NaN</td>\n      <td>NaN</td>\n      <td>NaN</td>\n      <td>NaN</td>\n      <td>http://www.metmuseum.org/art/collection/search...</td>\n      <td>https://www.wikidata.org/wiki/Q29385980</td>\n      <td>NaN</td>\n      <td>Metropolitan Museum of Art, New York, NY</td>\n      <td>NaN</td>\n      <td>NaN</td>\n    </tr>\n    <tr>\n      <th>2</th>\n      <td>380983</td>\n      <td>WW.550</td>\n      <td>False</td>\n      <td>False</td>\n      <td>False</td>\n      <td>650203</td>\n      <td>Drawings and Prints</td>\n      <td>NaN</td>\n      <td>Print</td>\n      <td>Flowers and Dragonfly</td>\n      <td>...</td>\n      <td>NaN</td>\n      <td>NaN</td>\n      <td>Prints</td>\n      <td>NaN</td>\n      <td>http://www.metmuseum.org/art/collection/search...</td>\n      <td>NaN</td>\n      <td>NaN</td>\n      <td>Metropolitan Museum of Art, New York, NY</td>\n      <td>Dragonflies|Flowers</td>\n      <td>http://vocab.getty.edu/page/aat/300310476|http...</td>\n    </tr>\n    <tr>\n      <th>3</th>\n      <td>379184</td>\n      <td>WW.211</td>\n      <td>False</td>\n      <td>False</td>\n      <td>False</td>\n      <td>647832</td>\n      <td>Drawings and Prints</td>\n      <td>NaN</td>\n      <td>Print</td>\n      <td>Old Karlsbad: City Tower (Alt-Karlsbad Stadtturm)</td>\n      <td>...</td>\n      <td>NaN</td>\n      <td>NaN</td>\n      <td>Prints</td>\n      <td>NaN</td>\n      <td>http://www.metmuseum.org/art/collection/search...</td>\n      <td>NaN</td>\n      <td>NaN</td>\n      <td>Metropolitan Museum of Art, New York, NY</td>\n      <td>Towers</td>\n      <td>http://vocab.getty.edu/page/aat/300004847</td>\n    </tr>\n    <tr>\n      <th>4</th>\n      <td>472119</td>\n      <td>24.63.2060</td>\n      <td>False</td>\n      <td>False</td>\n      <td>False</td>\n      <td>838838</td>\n      <td>Drawings and Prints</td>\n      <td>NaN</td>\n      <td>Print</td>\n      <td>Victor Hugo, published in Le Masque</td>\n      <td>...</td>\n      <td>NaN</td>\n      <td>NaN</td>\n      <td>Prints</td>\n      <td>NaN</td>\n      <td>http://www.metmuseum.org/art/collection/search...</td>\n      <td>NaN</td>\n      <td>NaN</td>\n      <td>Metropolitan Museum of Art, New York, NY</td>\n      <td>NaN</td>\n      <td>NaN</td>\n    </tr>\n    <tr>\n      <th>...</th>\n      <td>...</td>\n      <td>...</td>\n      <td>...</td>\n      <td>...</td>\n      <td>...</td>\n      <td>...</td>\n      <td>...</td>\n      <td>...</td>\n      <td>...</td>\n      <td>...</td>\n      <td>...</td>\n      <td>...</td>\n      <td>...</td>\n      <td>...</td>\n      <td>...</td>\n      <td>...</td>\n      <td>...</td>\n      <td>...</td>\n      <td>...</td>\n      <td>...</td>\n      <td>...</td>\n    </tr>\n    <tr>\n      <th>4738</th>\n      <td>55188</td>\n      <td>CP288</td>\n      <td>False</td>\n      <td>False</td>\n      <td>False</td>\n      <td>63654</td>\n      <td>Asian Art</td>\n      <td>1941</td>\n      <td>Print</td>\n      <td>NaN</td>\n      <td>...</td>\n      <td>NaN</td>\n      <td>NaN</td>\n      <td>Prints</td>\n      <td>NaN</td>\n      <td>http://www.metmuseum.org/art/collection/search...</td>\n      <td>NaN</td>\n      <td>NaN</td>\n      <td>Metropolitan Museum of Art, New York, NY</td>\n      <td>NaN</td>\n      <td>NaN</td>\n    </tr>\n    <tr>\n      <th>4739</th>\n      <td>333892</td>\n      <td>1979.292.676</td>\n      <td>False</td>\n      <td>False</td>\n      <td>False</td>\n      <td>496985</td>\n      <td>Modern and Contemporary Art</td>\n      <td>1979</td>\n      <td>Drawing</td>\n      <td>Untitled (female nude studies)</td>\n      <td>...</td>\n      <td>NaN</td>\n      <td>NaN</td>\n      <td>Drawings</td>\n      <td>© 2020 Artists Rights Society (ARS), New York</td>\n      <td>http://www.metmuseum.org/art/collection/search...</td>\n      <td>NaN</td>\n      <td>NaN</td>\n      <td>Metropolitan Museum of Art, New York, NY</td>\n      <td>NaN</td>\n      <td>NaN</td>\n    </tr>\n    <tr>\n      <th>4740</th>\n      <td>189623</td>\n      <td>1979.206.698</td>\n      <td>False</td>\n      <td>False</td>\n      <td>True</td>\n      <td>312885</td>\n      <td>Arts of Africa, Oceania, and the Americas</td>\n      <td>1979</td>\n      <td>Bowl</td>\n      <td>Bowl</td>\n      <td>...</td>\n      <td>NaN</td>\n      <td>NaN</td>\n      <td>Ceramics-Containers</td>\n      <td>NaN</td>\n      <td>http://www.metmuseum.org/art/collection/search...</td>\n      <td>NaN</td>\n      <td>NaN</td>\n      <td>Metropolitan Museum of Art, New York, NY</td>\n      <td>NaN</td>\n      <td>NaN</td>\n    </tr>\n    <tr>\n      <th>4741</th>\n      <td>213869</td>\n      <td>53.605.2</td>\n      <td>False</td>\n      <td>False</td>\n      <td>False</td>\n      <td>345597</td>\n      <td>Drawings and Prints</td>\n      <td>1953</td>\n      <td>Book</td>\n      <td>Anatomia ex Caspari Bartolini Parentis Institu...</td>\n      <td>...</td>\n      <td>NaN</td>\n      <td>NaN</td>\n      <td>Books</td>\n      <td>NaN</td>\n      <td>http://www.metmuseum.org/art/collection/search...</td>\n      <td>NaN</td>\n      <td>NaN</td>\n      <td>Metropolitan Museum of Art, New York, NY</td>\n      <td>NaN</td>\n      <td>NaN</td>\n    </tr>\n    <tr>\n      <th>4742</th>\n      <td>473188</td>\n      <td>Burdick 335, V31.4</td>\n      <td>False</td>\n      <td>False</td>\n      <td>False</td>\n      <td>841114</td>\n      <td>Drawings and Prints</td>\n      <td>1963</td>\n      <td>Print</td>\n      <td>Roy \"Peewee\" Chantler from Dominion Chocolate ...</td>\n      <td>...</td>\n      <td>NaN</td>\n      <td>NaN</td>\n      <td>Prints|Ephemera</td>\n      <td>NaN</td>\n      <td>http://www.metmuseum.org/art/collection/search...</td>\n      <td>NaN</td>\n      <td>NaN</td>\n      <td>Metropolitan Museum of Art, New York, NY</td>\n      <td>NaN</td>\n      <td>NaN</td>\n    </tr>\n  </tbody>\n</table>\n<p>4743 rows × 52 columns</p>\n</div>"
     },
     "execution_count": 6,
     "metadata": {},
     "output_type": "execute_result"
    }
   ],
   "source": [
    "data = pd.read_csv('../Data/MetObjects_sample.csv')\n",
    "data"
   ],
   "metadata": {
    "collapsed": false,
    "pycharm": {
     "name": "#%%\n"
    }
   }
  },
  {
   "cell_type": "code",
   "execution_count": 7,
   "outputs": [
    {
     "data": {
      "text/plain": "(4743, 52)"
     },
     "execution_count": 7,
     "metadata": {},
     "output_type": "execute_result"
    }
   ],
   "source": [
    "data.shape"
   ],
   "metadata": {
    "collapsed": false,
    "pycharm": {
     "name": "#%%\n"
    }
   }
  },
  {
   "cell_type": "code",
   "execution_count": 9,
   "outputs": [
    {
     "data": {
      "text/plain": "          Unnamed: 0      Object ID  Object Begin Date  Object End Date  \\\ncount    4743.000000    4743.000000        4743.000000      4743.000000   \nmean   216360.524352  349914.853468         922.516551      1277.942652   \nstd    147068.129692  254708.952972        1812.407735       999.496033   \nmin        91.000000     100.000000       -7000.000000     -5800.000000   \n25%     62156.000000   71677.000000         618.000000       907.000000   \n50%    201678.000000  327502.000000        1722.000000      1795.000000   \n75%    349776.000000  554746.000000        1875.000000      1899.000000   \nmax    474367.000000  843981.000000        2015.000000      2025.000000   \n\n       Metadata Date  \ncount            0.0  \nmean             NaN  \nstd              NaN  \nmin              NaN  \n25%              NaN  \n50%              NaN  \n75%              NaN  \nmax              NaN  ",
      "text/html": "<div>\n<style scoped>\n    .dataframe tbody tr th:only-of-type {\n        vertical-align: middle;\n    }\n\n    .dataframe tbody tr th {\n        vertical-align: top;\n    }\n\n    .dataframe thead th {\n        text-align: right;\n    }\n</style>\n<table border=\"1\" class=\"dataframe\">\n  <thead>\n    <tr style=\"text-align: right;\">\n      <th></th>\n      <th>Unnamed: 0</th>\n      <th>Object ID</th>\n      <th>Object Begin Date</th>\n      <th>Object End Date</th>\n      <th>Metadata Date</th>\n    </tr>\n  </thead>\n  <tbody>\n    <tr>\n      <th>count</th>\n      <td>4743.000000</td>\n      <td>4743.000000</td>\n      <td>4743.000000</td>\n      <td>4743.000000</td>\n      <td>0.0</td>\n    </tr>\n    <tr>\n      <th>mean</th>\n      <td>216360.524352</td>\n      <td>349914.853468</td>\n      <td>922.516551</td>\n      <td>1277.942652</td>\n      <td>NaN</td>\n    </tr>\n    <tr>\n      <th>std</th>\n      <td>147068.129692</td>\n      <td>254708.952972</td>\n      <td>1812.407735</td>\n      <td>999.496033</td>\n      <td>NaN</td>\n    </tr>\n    <tr>\n      <th>min</th>\n      <td>91.000000</td>\n      <td>100.000000</td>\n      <td>-7000.000000</td>\n      <td>-5800.000000</td>\n      <td>NaN</td>\n    </tr>\n    <tr>\n      <th>25%</th>\n      <td>62156.000000</td>\n      <td>71677.000000</td>\n      <td>618.000000</td>\n      <td>907.000000</td>\n      <td>NaN</td>\n    </tr>\n    <tr>\n      <th>50%</th>\n      <td>201678.000000</td>\n      <td>327502.000000</td>\n      <td>1722.000000</td>\n      <td>1795.000000</td>\n      <td>NaN</td>\n    </tr>\n    <tr>\n      <th>75%</th>\n      <td>349776.000000</td>\n      <td>554746.000000</td>\n      <td>1875.000000</td>\n      <td>1899.000000</td>\n      <td>NaN</td>\n    </tr>\n    <tr>\n      <th>max</th>\n      <td>474367.000000</td>\n      <td>843981.000000</td>\n      <td>2015.000000</td>\n      <td>2025.000000</td>\n      <td>NaN</td>\n    </tr>\n  </tbody>\n</table>\n</div>"
     },
     "execution_count": 9,
     "metadata": {},
     "output_type": "execute_result"
    }
   ],
   "source": [
    "data.describe()"
   ],
   "metadata": {
    "collapsed": false,
    "pycharm": {
     "name": "#%%\n"
    }
   }
  },
  {
   "cell_type": "code",
   "execution_count": 13,
   "outputs": [
    {
     "data": {
      "text/plain": "Unnamed: 0                   int64\nObject Number               object\nIs Highlight                  bool\nIs Public Domain              bool\nIs Timeline Work              bool\nObject ID                    int64\nDepartment                  object\nAccessionYear               object\nObject Name                 object\nTitle                       object\nCulture                     object\nPeriod                      object\nDynasty                     object\nReign                       object\nPortfolio                   object\nArtist Role                 object\nArtist Prefix               object\nArtist Display Name         object\nArtist Display Bio          object\nArtist Suffix               object\nArtist Alpha Sort           object\nArtist Nationality          object\nArtist Begin Date           object\nArtist End Date             object\nArtist Gender               object\nArtist ULAN URL             object\nArtist Wikidata URL         object\nObject Date                 object\nObject Begin Date            int64\nObject End Date              int64\nMedium                      object\nDimensions                  object\nCredit Line                 object\nGeography Type              object\nCity                        object\nState                       object\nCounty                      object\nCountry                     object\nRegion                      object\nSubregion                   object\nLocale                      object\nLocus                       object\nExcavation                  object\nRiver                       object\nClassification              object\nRights and Reproduction     object\nLink Resource               object\nObject Wikidata URL         object\nMetadata Date              float64\nRepository                  object\nTags                        object\nTags AAT URL                object\ndtype: object"
     },
     "execution_count": 13,
     "metadata": {},
     "output_type": "execute_result"
    }
   ],
   "source": [
    "data.dtypes"
   ],
   "metadata": {
    "collapsed": false,
    "pycharm": {
     "name": "#%%\n"
    }
   }
  },
  {
   "cell_type": "markdown",
   "metadata": {
    "pycharm": {
     "name": "#%% md\n"
    }
   },
   "source": [
    "## Ejercicio 2: Formato y tipos de datos\n",
    "\n",
    "Vamos a ver de qué tipo de datos es cada columna del DataFrame, y vamos a convertir o dar formato **a alguna de las columnas** que tienen tipo de datos incorrecto.\n",
    "\n",
    "### 2.a Detectar las columnas que tienen tipo de datos incorrecto"
   ]
  },
  {
   "cell_type": "code",
   "execution_count": 14,
   "metadata": {
    "pycharm": {
     "name": "#%%\n"
    }
   },
   "outputs": [
    {
     "data": {
      "text/plain": "   Unnamed: 0  Object Number  Is Highlight  Is Public Domain  \\\n0      297513  Inst.1980.3.1         False             False   \n1      366196     175T49 R43          True             False   \n2      380983         WW.550         False             False   \n3      379184         WW.211         False             False   \n4      472119     24.63.2060         False             False   \n\n   Is Timeline Work  Object ID           Department AccessionYear  \\\n0             False     442985          Islamic Art           NaN   \n1             False     591826        The Libraries           NaN   \n2             False     650203  Drawings and Prints           NaN   \n3             False     647832  Drawings and Prints           NaN   \n4             False     838838  Drawings and Prints           NaN   \n\n               Object Name                                              Title  \\\n0  Illustrated single work                            Illustrated Single Work   \n1                      NaN                                Vita del Tintoretto   \n2                    Print                              Flowers and Dragonfly   \n3                    Print  Old Karlsbad: City Tower (Alt-Karlsbad Stadtturm)   \n4                    Print                Victor Hugo, published in Le Masque   \n\n   ... Excavation River Classification Rights and Reproduction  \\\n0  ...        NaN   NaN        Codices                     NaN   \n1  ...        NaN   NaN            NaN                     NaN   \n2  ...        NaN   NaN         Prints                     NaN   \n3  ...        NaN   NaN         Prints                     NaN   \n4  ...        NaN   NaN         Prints                     NaN   \n\n                                       Link Resource  \\\n0  http://www.metmuseum.org/art/collection/search...   \n1  http://www.metmuseum.org/art/collection/search...   \n2  http://www.metmuseum.org/art/collection/search...   \n3  http://www.metmuseum.org/art/collection/search...   \n4  http://www.metmuseum.org/art/collection/search...   \n\n                       Object Wikidata URL Metadata Date  \\\n0                                      NaN           NaN   \n1  https://www.wikidata.org/wiki/Q29385980           NaN   \n2                                      NaN           NaN   \n3                                      NaN           NaN   \n4                                      NaN           NaN   \n\n                                 Repository                 Tags  \\\n0  Metropolitan Museum of Art, New York, NY          Abstraction   \n1  Metropolitan Museum of Art, New York, NY                  NaN   \n2  Metropolitan Museum of Art, New York, NY  Dragonflies|Flowers   \n3  Metropolitan Museum of Art, New York, NY               Towers   \n4  Metropolitan Museum of Art, New York, NY                  NaN   \n\n                                        Tags AAT URL  \n0          http://vocab.getty.edu/page/aat/300056508  \n1                                                NaN  \n2  http://vocab.getty.edu/page/aat/300310476|http...  \n3          http://vocab.getty.edu/page/aat/300004847  \n4                                                NaN  \n\n[5 rows x 52 columns]",
      "text/html": "<div>\n<style scoped>\n    .dataframe tbody tr th:only-of-type {\n        vertical-align: middle;\n    }\n\n    .dataframe tbody tr th {\n        vertical-align: top;\n    }\n\n    .dataframe thead th {\n        text-align: right;\n    }\n</style>\n<table border=\"1\" class=\"dataframe\">\n  <thead>\n    <tr style=\"text-align: right;\">\n      <th></th>\n      <th>Unnamed: 0</th>\n      <th>Object Number</th>\n      <th>Is Highlight</th>\n      <th>Is Public Domain</th>\n      <th>Is Timeline Work</th>\n      <th>Object ID</th>\n      <th>Department</th>\n      <th>AccessionYear</th>\n      <th>Object Name</th>\n      <th>Title</th>\n      <th>...</th>\n      <th>Excavation</th>\n      <th>River</th>\n      <th>Classification</th>\n      <th>Rights and Reproduction</th>\n      <th>Link Resource</th>\n      <th>Object Wikidata URL</th>\n      <th>Metadata Date</th>\n      <th>Repository</th>\n      <th>Tags</th>\n      <th>Tags AAT URL</th>\n    </tr>\n  </thead>\n  <tbody>\n    <tr>\n      <th>0</th>\n      <td>297513</td>\n      <td>Inst.1980.3.1</td>\n      <td>False</td>\n      <td>False</td>\n      <td>False</td>\n      <td>442985</td>\n      <td>Islamic Art</td>\n      <td>NaN</td>\n      <td>Illustrated single work</td>\n      <td>Illustrated Single Work</td>\n      <td>...</td>\n      <td>NaN</td>\n      <td>NaN</td>\n      <td>Codices</td>\n      <td>NaN</td>\n      <td>http://www.metmuseum.org/art/collection/search...</td>\n      <td>NaN</td>\n      <td>NaN</td>\n      <td>Metropolitan Museum of Art, New York, NY</td>\n      <td>Abstraction</td>\n      <td>http://vocab.getty.edu/page/aat/300056508</td>\n    </tr>\n    <tr>\n      <th>1</th>\n      <td>366196</td>\n      <td>175T49 R43</td>\n      <td>True</td>\n      <td>False</td>\n      <td>False</td>\n      <td>591826</td>\n      <td>The Libraries</td>\n      <td>NaN</td>\n      <td>NaN</td>\n      <td>Vita del Tintoretto</td>\n      <td>...</td>\n      <td>NaN</td>\n      <td>NaN</td>\n      <td>NaN</td>\n      <td>NaN</td>\n      <td>http://www.metmuseum.org/art/collection/search...</td>\n      <td>https://www.wikidata.org/wiki/Q29385980</td>\n      <td>NaN</td>\n      <td>Metropolitan Museum of Art, New York, NY</td>\n      <td>NaN</td>\n      <td>NaN</td>\n    </tr>\n    <tr>\n      <th>2</th>\n      <td>380983</td>\n      <td>WW.550</td>\n      <td>False</td>\n      <td>False</td>\n      <td>False</td>\n      <td>650203</td>\n      <td>Drawings and Prints</td>\n      <td>NaN</td>\n      <td>Print</td>\n      <td>Flowers and Dragonfly</td>\n      <td>...</td>\n      <td>NaN</td>\n      <td>NaN</td>\n      <td>Prints</td>\n      <td>NaN</td>\n      <td>http://www.metmuseum.org/art/collection/search...</td>\n      <td>NaN</td>\n      <td>NaN</td>\n      <td>Metropolitan Museum of Art, New York, NY</td>\n      <td>Dragonflies|Flowers</td>\n      <td>http://vocab.getty.edu/page/aat/300310476|http...</td>\n    </tr>\n    <tr>\n      <th>3</th>\n      <td>379184</td>\n      <td>WW.211</td>\n      <td>False</td>\n      <td>False</td>\n      <td>False</td>\n      <td>647832</td>\n      <td>Drawings and Prints</td>\n      <td>NaN</td>\n      <td>Print</td>\n      <td>Old Karlsbad: City Tower (Alt-Karlsbad Stadtturm)</td>\n      <td>...</td>\n      <td>NaN</td>\n      <td>NaN</td>\n      <td>Prints</td>\n      <td>NaN</td>\n      <td>http://www.metmuseum.org/art/collection/search...</td>\n      <td>NaN</td>\n      <td>NaN</td>\n      <td>Metropolitan Museum of Art, New York, NY</td>\n      <td>Towers</td>\n      <td>http://vocab.getty.edu/page/aat/300004847</td>\n    </tr>\n    <tr>\n      <th>4</th>\n      <td>472119</td>\n      <td>24.63.2060</td>\n      <td>False</td>\n      <td>False</td>\n      <td>False</td>\n      <td>838838</td>\n      <td>Drawings and Prints</td>\n      <td>NaN</td>\n      <td>Print</td>\n      <td>Victor Hugo, published in Le Masque</td>\n      <td>...</td>\n      <td>NaN</td>\n      <td>NaN</td>\n      <td>Prints</td>\n      <td>NaN</td>\n      <td>http://www.metmuseum.org/art/collection/search...</td>\n      <td>NaN</td>\n      <td>NaN</td>\n      <td>Metropolitan Museum of Art, New York, NY</td>\n      <td>NaN</td>\n      <td>NaN</td>\n    </tr>\n  </tbody>\n</table>\n<p>5 rows × 52 columns</p>\n</div>"
     },
     "execution_count": 14,
     "metadata": {},
     "output_type": "execute_result"
    }
   ],
   "source": [
    "data.head()"
   ]
  },
  {
   "cell_type": "markdown",
   "metadata": {
    "pycharm": {
     "name": "#%% md\n"
    }
   },
   "source": [
    "### 2.b AccessionYear\n",
    "\n",
    "Analizar la columna AccessionYear que fue leída como object, y debería ser int.\n",
    "\n",
    "¿Qué valores toma ese campo? ¿Cómo se distribuyen esos valores? ¿Hay valores nulos?\n",
    "\n",
    "Queremos extraer el dato año de los valores no numéricos, y crear una nueva columna en el DataFrame de tipo int que se llame AccessionYearClean y tenga estos valores.\n",
    "\n",
    "Para eso vamos a usar expresiones regulares, apply y lambda.\n",
    "\n",
    "Observación: si la columna tiene valores NaN no vamos a poder convertirla al tipo int. Una opción es reemplazar los valores NaN por algún entero antes de convertir (`fillna`). La otra opción es dejar la columna como tipo float (el tipo de NaN es float).\n"
   ]
  },
  {
   "cell_type": "code",
   "execution_count": 15,
   "metadata": {
    "pycharm": {
     "name": "#%%\n"
    }
   },
   "outputs": [
    {
     "data": {
      "text/plain": "<bound method IndexOpsMixin.value_counts of 0        NaN\n1        NaN\n2        NaN\n3        NaN\n4        NaN\n        ... \n4738    1941\n4739    1979\n4740    1979\n4741    1953\n4742    1963\nName: AccessionYear, Length: 4743, dtype: object>"
     },
     "execution_count": 15,
     "metadata": {},
     "output_type": "execute_result"
    }
   ],
   "source": [
    "data.AccessionYear.value_counts"
   ]
  },
  {
   "cell_type": "code",
   "execution_count": 25,
   "outputs": [
    {
     "data": {
      "text/plain": "0        True\n1        True\n2        True\n3        True\n4        True\n        ...  \n4738    False\n4739    False\n4740    False\n4741    False\n4742    False\nName: AccessionYear, Length: 4743, dtype: bool"
     },
     "execution_count": 25,
     "metadata": {},
     "output_type": "execute_result"
    }
   ],
   "source": [
    "data['AccessionYear'].isna()\n"
   ],
   "metadata": {
    "collapsed": false,
    "pycharm": {
     "name": "#%%\n"
    }
   }
  },
  {
   "cell_type": "code",
   "execution_count": 23,
   "outputs": [],
   "source": [
    "import re\n",
    "import numpy as np\n",
    "year_pattern = \"(\\d)?\\d\\d\\d$\"\n",
    "\n",
    "year_pattern_regex = re.compile(year_pattern)\n",
    "\n",
    "result = data['AccessionYear']\n",
    "\n",
    "data_year_match = result.apply(lambda x:  x if x is np.NaN else year_pattern_regex.search(x))\n",
    "\n",
    "mask_data_year_match_notnull = data_year_match.notnull()\n",
    "\n",
    "data.loc[mask_data_year_match_notnull, \"ObjectDateClean\"] = data_year_match[mask_data_year_match_notnull].apply(lambda x: x.group(0))"
   ],
   "metadata": {
    "collapsed": false,
    "pycharm": {
     "name": "#%%\n"
    }
   }
  },
  {
   "cell_type": "code",
   "execution_count": 38,
   "outputs": [
    {
     "data": {
      "text/plain": "                            Object Date ObjectDateClean\n1003                                NaN            1992\n1004                                NaN            1991\n1005                                NaN            1975\n1006                                NaN            1930\n1007                                NaN            1874\n...                                 ...             ...\n4738                  1782, 2nd edition            1941\n4739                           ca. 1938            1979\n4740  3rd century B.C.–A.D. 4th century            1979\n4741                               1669            1953\n4742                           ca. 1925            1963\n\n[3740 rows x 2 columns]",
      "text/html": "<div>\n<style scoped>\n    .dataframe tbody tr th:only-of-type {\n        vertical-align: middle;\n    }\n\n    .dataframe tbody tr th {\n        vertical-align: top;\n    }\n\n    .dataframe thead th {\n        text-align: right;\n    }\n</style>\n<table border=\"1\" class=\"dataframe\">\n  <thead>\n    <tr style=\"text-align: right;\">\n      <th></th>\n      <th>Object Date</th>\n      <th>ObjectDateClean</th>\n    </tr>\n  </thead>\n  <tbody>\n    <tr>\n      <th>1003</th>\n      <td>NaN</td>\n      <td>1992</td>\n    </tr>\n    <tr>\n      <th>1004</th>\n      <td>NaN</td>\n      <td>1991</td>\n    </tr>\n    <tr>\n      <th>1005</th>\n      <td>NaN</td>\n      <td>1975</td>\n    </tr>\n    <tr>\n      <th>1006</th>\n      <td>NaN</td>\n      <td>1930</td>\n    </tr>\n    <tr>\n      <th>1007</th>\n      <td>NaN</td>\n      <td>1874</td>\n    </tr>\n    <tr>\n      <th>...</th>\n      <td>...</td>\n      <td>...</td>\n    </tr>\n    <tr>\n      <th>4738</th>\n      <td>1782, 2nd edition</td>\n      <td>1941</td>\n    </tr>\n    <tr>\n      <th>4739</th>\n      <td>ca. 1938</td>\n      <td>1979</td>\n    </tr>\n    <tr>\n      <th>4740</th>\n      <td>3rd century B.C.–A.D. 4th century</td>\n      <td>1979</td>\n    </tr>\n    <tr>\n      <th>4741</th>\n      <td>1669</td>\n      <td>1953</td>\n    </tr>\n    <tr>\n      <th>4742</th>\n      <td>ca. 1925</td>\n      <td>1963</td>\n    </tr>\n  </tbody>\n</table>\n<p>3740 rows × 2 columns</p>\n</div>"
     },
     "execution_count": 38,
     "metadata": {},
     "output_type": "execute_result"
    }
   ],
   "source": [
    "data.loc[mask_data_year_match_notnull, [\"Object Date\", \"ObjectDateClean\"]]\n"
   ],
   "metadata": {
    "collapsed": false,
    "pycharm": {
     "name": "#%%\n"
    }
   }
  },
  {
   "cell_type": "markdown",
   "metadata": {
    "pycharm": {
     "name": "#%% md\n"
    }
   },
   "source": [
    "## Ejercicio 3: Categorias - Valores erróneos\n",
    "\n",
    "Miremos ahora el campo \"Artist Gender\"\n",
    "\n",
    "¿Qué valores toma ese campo? ¿Cómo se distribuyen esos valores? ¿Hay valores nulos?\n",
    "\n",
    "Queremos definir como categorías válidas Male, Female y Unknown\n",
    "\n",
    "Y crear una nueva columna en el DataFrame que se llame ArtistGenderClean y tenga estos valores.\n",
    "\n",
    "Para eso vamos a usar expresiones regulares, apply y lambda.\n",
    "\n",
    "¿Podemos deducir cómo está representada la categoría Male en el dataset original?\n",
    "\n",
    "Nota: La propuesta que hacemos para limpiar este campo no es del todo correcta, y vamos a ver por qué más adelante. Pero sirve como ejercicio.\n"
   ]
  },
  {
   "cell_type": "code",
   "execution_count": null,
   "metadata": {
    "pycharm": {
     "name": "#%%\n"
    }
   },
   "outputs": [],
   "source": []
  },
  {
   "cell_type": "markdown",
   "metadata": {
    "pycharm": {
     "name": "#%% md\n"
    }
   },
   "source": [
    "## Ejercicio 4: Imputación\n",
    "\n",
    "Vamos a analizar ahora los campos \"Object Date\", \"Object Begin Date\", \"Object End Date\"\n",
    "\n",
    "**4.a ¿Cuántos valores nulos hay en \"Object Date\"? ¿Cuántos en \"Object Begin Date\"? ¿Cuántos en \"Object End Date\"?**\n"
   ]
  },
  {
   "cell_type": "code",
   "execution_count": null,
   "metadata": {
    "pycharm": {
     "name": "#%%\n"
    }
   },
   "outputs": [],
   "source": []
  },
  {
   "cell_type": "markdown",
   "metadata": {
    "pycharm": {
     "name": "#%% md\n"
    }
   },
   "source": [
    "**4.b Usaremos los valores de \"Object Begin Date\" o \"Object End Date\" para imputar los valores de \"Object Date\" con alguno de esos dos campos.**\n",
    "\n",
    "1) Vamos a crear una columna nueva (\"Object Date 4b\") donde copiamos todos los datos de Object Date (para no cambiar los valores originales y nos sirvan para el próximo ejercicio)\n",
    "\n",
    "2) Vamos a rellenar la columna \"Object Date 4b\" con la estrategia que planteamos."
   ]
  },
  {
   "cell_type": "code",
   "execution_count": null,
   "metadata": {
    "pycharm": {
     "name": "#%%\n"
    }
   },
   "outputs": [],
   "source": []
  },
  {
   "cell_type": "markdown",
   "metadata": {
    "pycharm": {
     "name": "#%% md\n"
    }
   },
   "source": [
    "**4.c Usaremos aleatoriamente los valores de \"Object Begin Date\" o \"Object End Date\" para imputar los valores de \"Object Date\" con alguno de esos dos campos.**\n",
    "\n",
    "Para eso definimos una función get_fill_value que recibe como parámetro una fila da data, y si el valor del campo \"Object Date\" es nulo devuelve aleatoriamente el valor del campo \"Object Begin Date\" u \"Object End Date\" de ese registro.\n",
    "\n",
    "(En este ejercicio practicamos todo!)"
   ]
  },
  {
   "cell_type": "code",
   "execution_count": null,
   "metadata": {
    "pycharm": {
     "name": "#%%\n"
    }
   },
   "outputs": [],
   "source": []
  },
  {
   "cell_type": "markdown",
   "metadata": {
    "pycharm": {
     "name": "#%% md\n"
    }
   },
   "source": [
    "Vamos a contar ahora cuántos registros rellenó con los valores de Object Begin Date y cuántos con Object End Date"
   ]
  },
  {
   "cell_type": "code",
   "execution_count": null,
   "metadata": {
    "pycharm": {
     "name": "#%%\n"
    }
   },
   "outputs": [],
   "source": []
  },
  {
   "cell_type": "markdown",
   "metadata": {
    "pycharm": {
     "name": "#%% md\n"
    }
   },
   "source": [
    "## Nota: Organizar el dataset\n",
    "\n",
    "Para llevar a cabo esta tarea necesitamos algunas herramientas que veremos en la segunda parte de Pandas.\n",
    "\n",
    "En esa clase vamos a volver a este ejercicio y resolver este punto.\n",
    "\n",
    "Los campos que vamos a analizar son \"Artist Nationality\" y \"Artist Display Name\""
   ]
  },
  {
   "cell_type": "code",
   "execution_count": null,
   "metadata": {
    "pycharm": {
     "name": "#%%\n"
    }
   },
   "outputs": [],
   "source": [
    "data[\"Artist Nationality\"].value_counts()"
   ]
  },
  {
   "cell_type": "code",
   "execution_count": null,
   "metadata": {
    "pycharm": {
     "name": "#%%\n"
    }
   },
   "outputs": [],
   "source": [
    "data[\"Artist Display Name\"].value_counts() "
   ]
  }
 ],
 "metadata": {
  "kernelspec": {
   "display_name": "Python 3",
   "language": "python",
   "name": "python3"
  },
  "language_info": {
   "codemirror_mode": {
    "name": "ipython",
    "version": 3
   },
   "file_extension": ".py",
   "mimetype": "text/x-python",
   "name": "python",
   "nbconvert_exporter": "python",
   "pygments_lexer": "ipython3",
   "version": "3.8.5"
  }
 },
 "nbformat": 4,
 "nbformat_minor": 4
}