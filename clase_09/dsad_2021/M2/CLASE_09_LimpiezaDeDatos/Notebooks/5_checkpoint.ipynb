{
 "cells": [
  {
   "cell_type": "code",
   "execution_count": 1,
   "metadata": {
    "pycharm": {
     "name": "#%%\n"
    }
   },
   "outputs": [
    {
     "name": "stdout",
     "output_type": "stream",
     "text": [
      "/media/paulati/Nuevo vol/paula/dh/2021/dsad_2021/common\n",
      "default checking\n",
      "Running command `conda list`... ok\n",
      "jupyterlab=2.2.6 already installed\n",
      "pandas=1.1.5 already installed\n",
      "bokeh=2.2.3 already installed\n",
      "seaborn=0.11.0 already installed\n",
      "matplotlib=3.3.2 already installed\n",
      "ipywidgets=7.5.1 already installed\n",
      "pytest=6.2.1 already installed\n",
      "chardet=4.0.0 already installed\n",
      "psutil=5.7.2 already installed\n",
      "scipy=1.5.2 already installed\n",
      "statsmodels=0.12.1 already installed\n",
      "scikit-learn=0.23.2 already installed\n",
      "xlrd=2.0.1 already installed\n",
      "Running command `conda install --yes nltk=3.5.0`... ok\n",
      "Collecting package metadata (current_repodata.json): ...working... done\n",
      "Solving environment: ...working... done\n",
      "\n",
      "# All requested packages already installed.\n",
      "\n",
      "\n",
      "unidecode=1.1.1 already installed\n",
      "pydotplus=2.0.2 already installed\n",
      "pandas-datareader=0.9.0 already installed\n",
      "flask=1.1.2 already installed\n"
     ]
    }
   ],
   "source": [
    "# initial setup\n",
    "import pandas as pd\n",
    "%run \"../../../common/0_notebooks_base_setup.py\"\n"
   ]
  },
  {
   "cell_type": "markdown",
   "metadata": {
    "pycharm": {
     "name": "#%% md\n"
    }
   },
   "source": [
    "Los temas que vimos en esta parte son limpieza de datos, expresiones regulares, funciones lambda, apply .\n",
    "\n",
    "La idea de esta práctica es ejercitar los puntos que vamos a necesitar en la clase presencial.\n",
    "\n",
    "Usaremos el dataset de las obras del Met (The Metropolitan Museum of Art)\n",
    "\n",
    "https://github.com/metmuseum/openaccess/\n",
    "\n"
   ]
  },
  {
   "cell_type": "markdown",
   "metadata": {
    "pycharm": {
     "name": "#%% md\n"
    }
   },
   "source": [
    "## Ejercicio 1\n",
    "Vamos a leer en la variable `data` los datos del archivo /M2/CLASE_05_Limpieza_de_datos/Data/MetObjects_sample.csv en un `DataFrame` de pandas con el método `read_csv` \n",
    "\n",
    "Veamos de qué tipos de datos son las columnas.\n"
   ]
  },
  {
   "cell_type": "code",
   "execution_count": 3,
   "outputs": [],
   "source": [
    "import pandas as pd"
   ],
   "metadata": {
    "collapsed": false,
    "pycharm": {
     "name": "#%%\n"
    }
   }
  },
  {
   "cell_type": "code",
   "execution_count": 5,
   "metadata": {
    "pycharm": {
     "name": "#%%\n"
    }
   },
   "outputs": [
    {
     "data": {
      "text/plain": "      Unnamed: 0       Object Number  Is Highlight  Is Public Domain  \\\n0         297513       Inst.1980.3.1         False             False   \n1         366196          175T49 R43          True             False   \n2         380983              WW.550         False             False   \n3         379184              WW.211         False             False   \n4         472119          24.63.2060         False             False   \n...          ...                 ...           ...               ...   \n4738       55188               CP288         False             False   \n4739      333892        1979.292.676         False             False   \n4740      189623        1979.206.698         False             False   \n4741      213869            53.605.2         False             False   \n4742      473188  Burdick 335, V31.4         False             False   \n\n      Is Timeline Work  Object ID                                 Department  \\\n0                False     442985                                Islamic Art   \n1                False     591826                              The Libraries   \n2                False     650203                        Drawings and Prints   \n3                False     647832                        Drawings and Prints   \n4                False     838838                        Drawings and Prints   \n...                ...        ...                                        ...   \n4738             False      63654                                  Asian Art   \n4739             False     496985                Modern and Contemporary Art   \n4740              True     312885  Arts of Africa, Oceania, and the Americas   \n4741             False     345597                        Drawings and Prints   \n4742             False     841114                        Drawings and Prints   \n\n     AccessionYear              Object Name  \\\n0              NaN  Illustrated single work   \n1              NaN                      NaN   \n2              NaN                    Print   \n3              NaN                    Print   \n4              NaN                    Print   \n...            ...                      ...   \n4738          1941                    Print   \n4739          1979                  Drawing   \n4740          1979                     Bowl   \n4741          1953                     Book   \n4742          1963                    Print   \n\n                                                  Title  ... Excavation River  \\\n0                               Illustrated Single Work  ...        NaN   NaN   \n1                                   Vita del Tintoretto  ...        NaN   NaN   \n2                                 Flowers and Dragonfly  ...        NaN   NaN   \n3     Old Karlsbad: City Tower (Alt-Karlsbad Stadtturm)  ...        NaN   NaN   \n4                   Victor Hugo, published in Le Masque  ...        NaN   NaN   \n...                                                 ...  ...        ...   ...   \n4738                                                NaN  ...        NaN   NaN   \n4739                     Untitled (female nude studies)  ...        NaN   NaN   \n4740                                               Bowl  ...        NaN   NaN   \n4741  Anatomia ex Caspari Bartolini Parentis Institu...  ...        NaN   NaN   \n4742  Roy \"Peewee\" Chantler from Dominion Chocolate ...  ...        NaN   NaN   \n\n           Classification                        Rights and Reproduction  \\\n0                 Codices                                            NaN   \n1                     NaN                                            NaN   \n2                  Prints                                            NaN   \n3                  Prints                                            NaN   \n4                  Prints                                            NaN   \n...                   ...                                            ...   \n4738               Prints                                            NaN   \n4739             Drawings  © 2020 Artists Rights Society (ARS), New York   \n4740  Ceramics-Containers                                            NaN   \n4741                Books                                            NaN   \n4742      Prints|Ephemera                                            NaN   \n\n                                          Link Resource  \\\n0     http://www.metmuseum.org/art/collection/search...   \n1     http://www.metmuseum.org/art/collection/search...   \n2     http://www.metmuseum.org/art/collection/search...   \n3     http://www.metmuseum.org/art/collection/search...   \n4     http://www.metmuseum.org/art/collection/search...   \n...                                                 ...   \n4738  http://www.metmuseum.org/art/collection/search...   \n4739  http://www.metmuseum.org/art/collection/search...   \n4740  http://www.metmuseum.org/art/collection/search...   \n4741  http://www.metmuseum.org/art/collection/search...   \n4742  http://www.metmuseum.org/art/collection/search...   \n\n                          Object Wikidata URL Metadata Date  \\\n0                                         NaN           NaN   \n1     https://www.wikidata.org/wiki/Q29385980           NaN   \n2                                         NaN           NaN   \n3                                         NaN           NaN   \n4                                         NaN           NaN   \n...                                       ...           ...   \n4738                                      NaN           NaN   \n4739                                      NaN           NaN   \n4740                                      NaN           NaN   \n4741                                      NaN           NaN   \n4742                                      NaN           NaN   \n\n                                    Repository                 Tags  \\\n0     Metropolitan Museum of Art, New York, NY          Abstraction   \n1     Metropolitan Museum of Art, New York, NY                  NaN   \n2     Metropolitan Museum of Art, New York, NY  Dragonflies|Flowers   \n3     Metropolitan Museum of Art, New York, NY               Towers   \n4     Metropolitan Museum of Art, New York, NY                  NaN   \n...                                        ...                  ...   \n4738  Metropolitan Museum of Art, New York, NY                  NaN   \n4739  Metropolitan Museum of Art, New York, NY                  NaN   \n4740  Metropolitan Museum of Art, New York, NY                  NaN   \n4741  Metropolitan Museum of Art, New York, NY                  NaN   \n4742  Metropolitan Museum of Art, New York, NY                  NaN   \n\n                                           Tags AAT URL  \n0             http://vocab.getty.edu/page/aat/300056508  \n1                                                   NaN  \n2     http://vocab.getty.edu/page/aat/300310476|http...  \n3             http://vocab.getty.edu/page/aat/300004847  \n4                                                   NaN  \n...                                                 ...  \n4738                                                NaN  \n4739                                                NaN  \n4740                                                NaN  \n4741                                                NaN  \n4742                                                NaN  \n\n[4743 rows x 52 columns]",
      "text/html": "<div>\n<style scoped>\n    .dataframe tbody tr th:only-of-type {\n        vertical-align: middle;\n    }\n\n    .dataframe tbody tr th {\n        vertical-align: top;\n    }\n\n    .dataframe thead th {\n        text-align: right;\n    }\n</style>\n<table border=\"1\" class=\"dataframe\">\n  <thead>\n    <tr style=\"text-align: right;\">\n      <th></th>\n      <th>Unnamed: 0</th>\n      <th>Object Number</th>\n      <th>Is Highlight</th>\n      <th>Is Public Domain</th>\n      <th>Is Timeline Work</th>\n      <th>Object ID</th>\n      <th>Department</th>\n      <th>AccessionYear</th>\n      <th>Object Name</th>\n      <th>Title</th>\n      <th>...</th>\n      <th>Excavation</th>\n      <th>River</th>\n      <th>Classification</th>\n      <th>Rights and Reproduction</th>\n      <th>Link Resource</th>\n      <th>Object Wikidata URL</th>\n      <th>Metadata Date</th>\n      <th>Repository</th>\n      <th>Tags</th>\n      <th>Tags AAT URL</th>\n    </tr>\n  </thead>\n  <tbody>\n    <tr>\n      <th>0</th>\n      <td>297513</td>\n      <td>Inst.1980.3.1</td>\n      <td>False</td>\n      <td>False</td>\n      <td>False</td>\n      <td>442985</td>\n      <td>Islamic Art</td>\n      <td>NaN</td>\n      <td>Illustrated single work</td>\n      <td>Illustrated Single Work</td>\n      <td>...</td>\n      <td>NaN</td>\n      <td>NaN</td>\n      <td>Codices</td>\n      <td>NaN</td>\n      <td>http://www.metmuseum.org/art/collection/search...</td>\n      <td>NaN</td>\n      <td>NaN</td>\n      <td>Metropolitan Museum of Art, New York, NY</td>\n      <td>Abstraction</td>\n      <td>http://vocab.getty.edu/page/aat/300056508</td>\n    </tr>\n    <tr>\n      <th>1</th>\n      <td>366196</td>\n      <td>175T49 R43</td>\n      <td>True</td>\n      <td>False</td>\n      <td>False</td>\n      <td>591826</td>\n      <td>The Libraries</td>\n      <td>NaN</td>\n      <td>NaN</td>\n      <td>Vita del Tintoretto</td>\n      <td>...</td>\n      <td>NaN</td>\n      <td>NaN</td>\n      <td>NaN</td>\n      <td>NaN</td>\n      <td>http://www.metmuseum.org/art/collection/search...</td>\n      <td>https://www.wikidata.org/wiki/Q29385980</td>\n      <td>NaN</td>\n      <td>Metropolitan Museum of Art, New York, NY</td>\n      <td>NaN</td>\n      <td>NaN</td>\n    </tr>\n    <tr>\n      <th>2</th>\n      <td>380983</td>\n      <td>WW.550</td>\n      <td>False</td>\n      <td>False</td>\n      <td>False</td>\n      <td>650203</td>\n      <td>Drawings and Prints</td>\n      <td>NaN</td>\n      <td>Print</td>\n      <td>Flowers and Dragonfly</td>\n      <td>...</td>\n      <td>NaN</td>\n      <td>NaN</td>\n      <td>Prints</td>\n      <td>NaN</td>\n      <td>http://www.metmuseum.org/art/collection/search...</td>\n      <td>NaN</td>\n      <td>NaN</td>\n      <td>Metropolitan Museum of Art, New York, NY</td>\n      <td>Dragonflies|Flowers</td>\n      <td>http://vocab.getty.edu/page/aat/300310476|http...</td>\n    </tr>\n    <tr>\n      <th>3</th>\n      <td>379184</td>\n      <td>WW.211</td>\n      <td>False</td>\n      <td>False</td>\n      <td>False</td>\n      <td>647832</td>\n      <td>Drawings and Prints</td>\n      <td>NaN</td>\n      <td>Print</td>\n      <td>Old Karlsbad: City Tower (Alt-Karlsbad Stadtturm)</td>\n      <td>...</td>\n      <td>NaN</td>\n      <td>NaN</td>\n      <td>Prints</td>\n      <td>NaN</td>\n      <td>http://www.metmuseum.org/art/collection/search...</td>\n      <td>NaN</td>\n      <td>NaN</td>\n      <td>Metropolitan Museum of Art, New York, NY</td>\n      <td>Towers</td>\n      <td>http://vocab.getty.edu/page/aat/300004847</td>\n    </tr>\n    <tr>\n      <th>4</th>\n      <td>472119</td>\n      <td>24.63.2060</td>\n      <td>False</td>\n      <td>False</td>\n      <td>False</td>\n      <td>838838</td>\n      <td>Drawings and Prints</td>\n      <td>NaN</td>\n      <td>Print</td>\n      <td>Victor Hugo, published in Le Masque</td>\n      <td>...</td>\n      <td>NaN</td>\n      <td>NaN</td>\n      <td>Prints</td>\n      <td>NaN</td>\n      <td>http://www.metmuseum.org/art/collection/search...</td>\n      <td>NaN</td>\n      <td>NaN</td>\n      <td>Metropolitan Museum of Art, New York, NY</td>\n      <td>NaN</td>\n      <td>NaN</td>\n    </tr>\n    <tr>\n      <th>...</th>\n      <td>...</td>\n      <td>...</td>\n      <td>...</td>\n      <td>...</td>\n      <td>...</td>\n      <td>...</td>\n      <td>...</td>\n      <td>...</td>\n      <td>...</td>\n      <td>...</td>\n      <td>...</td>\n      <td>...</td>\n      <td>...</td>\n      <td>...</td>\n      <td>...</td>\n      <td>...</td>\n      <td>...</td>\n      <td>...</td>\n      <td>...</td>\n      <td>...</td>\n      <td>...</td>\n    </tr>\n    <tr>\n      <th>4738</th>\n      <td>55188</td>\n      <td>CP288</td>\n      <td>False</td>\n      <td>False</td>\n      <td>False</td>\n      <td>63654</td>\n      <td>Asian Art</td>\n      <td>1941</td>\n      <td>Print</td>\n      <td>NaN</td>\n      <td>...</td>\n      <td>NaN</td>\n      <td>NaN</td>\n      <td>Prints</td>\n      <td>NaN</td>\n      <td>http://www.metmuseum.org/art/collection/search...</td>\n      <td>NaN</td>\n      <td>NaN</td>\n      <td>Metropolitan Museum of Art, New York, NY</td>\n      <td>NaN</td>\n      <td>NaN</td>\n    </tr>\n    <tr>\n      <th>4739</th>\n      <td>333892</td>\n      <td>1979.292.676</td>\n      <td>False</td>\n      <td>False</td>\n      <td>False</td>\n      <td>496985</td>\n      <td>Modern and Contemporary Art</td>\n      <td>1979</td>\n      <td>Drawing</td>\n      <td>Untitled (female nude studies)</td>\n      <td>...</td>\n      <td>NaN</td>\n      <td>NaN</td>\n      <td>Drawings</td>\n      <td>© 2020 Artists Rights Society (ARS), New York</td>\n      <td>http://www.metmuseum.org/art/collection/search...</td>\n      <td>NaN</td>\n      <td>NaN</td>\n      <td>Metropolitan Museum of Art, New York, NY</td>\n      <td>NaN</td>\n      <td>NaN</td>\n    </tr>\n    <tr>\n      <th>4740</th>\n      <td>189623</td>\n      <td>1979.206.698</td>\n      <td>False</td>\n      <td>False</td>\n      <td>True</td>\n      <td>312885</td>\n      <td>Arts of Africa, Oceania, and the Americas</td>\n      <td>1979</td>\n      <td>Bowl</td>\n      <td>Bowl</td>\n      <td>...</td>\n      <td>NaN</td>\n      <td>NaN</td>\n      <td>Ceramics-Containers</td>\n      <td>NaN</td>\n      <td>http://www.metmuseum.org/art/collection/search...</td>\n      <td>NaN</td>\n      <td>NaN</td>\n      <td>Metropolitan Museum of Art, New York, NY</td>\n      <td>NaN</td>\n      <td>NaN</td>\n    </tr>\n    <tr>\n      <th>4741</th>\n      <td>213869</td>\n      <td>53.605.2</td>\n      <td>False</td>\n      <td>False</td>\n      <td>False</td>\n      <td>345597</td>\n      <td>Drawings and Prints</td>\n      <td>1953</td>\n      <td>Book</td>\n      <td>Anatomia ex Caspari Bartolini Parentis Institu...</td>\n      <td>...</td>\n      <td>NaN</td>\n      <td>NaN</td>\n      <td>Books</td>\n      <td>NaN</td>\n      <td>http://www.metmuseum.org/art/collection/search...</td>\n      <td>NaN</td>\n      <td>NaN</td>\n      <td>Metropolitan Museum of Art, New York, NY</td>\n      <td>NaN</td>\n      <td>NaN</td>\n    </tr>\n    <tr>\n      <th>4742</th>\n      <td>473188</td>\n      <td>Burdick 335, V31.4</td>\n      <td>False</td>\n      <td>False</td>\n      <td>False</td>\n      <td>841114</td>\n      <td>Drawings and Prints</td>\n      <td>1963</td>\n      <td>Print</td>\n      <td>Roy \"Peewee\" Chantler from Dominion Chocolate ...</td>\n      <td>...</td>\n      <td>NaN</td>\n      <td>NaN</td>\n      <td>Prints|Ephemera</td>\n      <td>NaN</td>\n      <td>http://www.metmuseum.org/art/collection/search...</td>\n      <td>NaN</td>\n      <td>NaN</td>\n      <td>Metropolitan Museum of Art, New York, NY</td>\n      <td>NaN</td>\n      <td>NaN</td>\n    </tr>\n  </tbody>\n</table>\n<p>4743 rows × 52 columns</p>\n</div>"
     },
     "execution_count": 5,
     "metadata": {},
     "output_type": "execute_result"
    }
   ],
   "source": [
    "data = pd.read_csv('../Data/MetObjects_sample.csv')\n",
    "data"
   ]
  },
  {
   "cell_type": "code",
   "execution_count": 6,
   "outputs": [
    {
     "data": {
      "text/plain": "Unnamed: 0                   int64\nObject Number               object\nIs Highlight                  bool\nIs Public Domain              bool\nIs Timeline Work              bool\nObject ID                    int64\nDepartment                  object\nAccessionYear               object\nObject Name                 object\nTitle                       object\nCulture                     object\nPeriod                      object\nDynasty                     object\nReign                       object\nPortfolio                   object\nArtist Role                 object\nArtist Prefix               object\nArtist Display Name         object\nArtist Display Bio          object\nArtist Suffix               object\nArtist Alpha Sort           object\nArtist Nationality          object\nArtist Begin Date           object\nArtist End Date             object\nArtist Gender               object\nArtist ULAN URL             object\nArtist Wikidata URL         object\nObject Date                 object\nObject Begin Date            int64\nObject End Date              int64\nMedium                      object\nDimensions                  object\nCredit Line                 object\nGeography Type              object\nCity                        object\nState                       object\nCounty                      object\nCountry                     object\nRegion                      object\nSubregion                   object\nLocale                      object\nLocus                       object\nExcavation                  object\nRiver                       object\nClassification              object\nRights and Reproduction     object\nLink Resource               object\nObject Wikidata URL         object\nMetadata Date              float64\nRepository                  object\nTags                        object\nTags AAT URL                object\ndtype: object"
     },
     "execution_count": 6,
     "metadata": {},
     "output_type": "execute_result"
    }
   ],
   "source": [
    "data.dtypes"
   ],
   "metadata": {
    "collapsed": false,
    "pycharm": {
     "name": "#%%\n"
    }
   }
  },
  {
   "cell_type": "markdown",
   "metadata": {
    "pycharm": {
     "name": "#%% md\n"
    }
   },
   "source": [
    "## Ejercicio 2\n",
    "¿Qué campos tienen valores nulos? ¿Qué porcentaje de nulos tienen cada uno de ellos?"
   ]
  },
  {
   "cell_type": "code",
   "execution_count": 7,
   "outputs": [
    {
     "data": {
      "text/plain": "Unnamed: 0                    0\nObject Number                 0\nIs Highlight                  0\nIs Public Domain              0\nIs Timeline Work              0\nObject ID                     0\nDepartment                    0\nAccessionYear              1000\nObject Name                  88\nTitle                       829\nCulture                    2425\nPeriod                     3424\nDynasty                    4559\nReign                      4672\nPortfolio                  4599\nArtist Role                2359\nArtist Prefix              4007\nArtist Display Name        2345\nArtist Display Bio         2631\nArtist Suffix              4664\nArtist Alpha Sort          2345\nArtist Nationality         3169\nArtist Begin Date          2646\nArtist End Date            2655\nArtist Gender              3751\nArtist ULAN URL            2964\nArtist Wikidata URL        3430\nObject Date                1570\nObject Begin Date             0\nObject End Date               0\nMedium                      132\nDimensions                  508\nCredit Line                  60\nGeography Type             4210\nCity                       4481\nState                      4725\nCounty                     4674\nCountry                    4081\nRegion                     4536\nSubregion                  4609\nLocale                     4663\nLocus                      4712\nExcavation                 4670\nRiver                      4731\nClassification              450\nRights and Reproduction    4615\nLink Resource                 0\nObject Wikidata URL        4526\nMetadata Date              4743\nRepository                    0\nTags                       2487\nTags AAT URL               2487\ndtype: int64"
     },
     "execution_count": 7,
     "metadata": {},
     "output_type": "execute_result"
    }
   ],
   "source": [
    "data.isnull().sum()"
   ],
   "metadata": {
    "collapsed": false,
    "pycharm": {
     "name": "#%%\n"
    }
   }
  },
  {
   "cell_type": "code",
   "execution_count": 10,
   "outputs": [
    {
     "data": {
      "text/plain": "4743"
     },
     "execution_count": 10,
     "metadata": {},
     "output_type": "execute_result"
    }
   ],
   "source": [
    "len(data)"
   ],
   "metadata": {
    "collapsed": false,
    "pycharm": {
     "name": "#%%\n"
    }
   }
  },
  {
   "cell_type": "code",
   "execution_count": 9,
   "metadata": {
    "pycharm": {
     "name": "#%%\n"
    }
   },
   "outputs": [
    {
     "data": {
      "text/plain": "Unnamed: 0                   0.000000\nObject Number                0.000000\nIs Highlight                 0.000000\nIs Public Domain             0.000000\nIs Timeline Work             0.000000\nObject ID                    0.000000\nDepartment                   0.000000\nAccessionYear               21.083702\nObject Name                  1.855366\nTitle                       17.478389\nCulture                     51.127978\nPeriod                      72.190597\nDynasty                     96.120599\nReign                       98.503057\nPortfolio                   96.963947\nArtist Role                 49.736454\nArtist Prefix               84.482395\nArtist Display Name         49.441282\nArtist Display Bio          55.471221\nArtist Suffix               98.334388\nArtist Alpha Sort           49.441282\nArtist Nationality          66.814253\nArtist Begin Date           55.787476\nArtist End Date             55.977230\nArtist Gender               79.084967\nArtist ULAN URL             62.492094\nArtist Wikidata URL         72.317099\nObject Date                 33.101413\nObject Begin Date            0.000000\nObject End Date              0.000000\nMedium                       2.783049\nDimensions                  10.710521\nCredit Line                  1.265022\nGeography Type              88.762387\nCity                        94.476070\nState                       99.620493\nCounty                      98.545225\nCountry                     86.042589\nRegion                      95.635674\nSubregion                   97.174784\nLocale                      98.313304\nLocus                       99.346405\nExcavation                  98.460890\nRiver                       99.746996\nClassification               9.487666\nRights and Reproduction     97.301286\nLink Resource                0.000000\nObject Wikidata URL         95.424837\nMetadata Date              100.000000\nRepository                   0.000000\nTags                        52.435168\nTags AAT URL                52.435168\ndtype: float64"
     },
     "execution_count": 9,
     "metadata": {},
     "output_type": "execute_result"
    }
   ],
   "source": [
    "data.isnull().sum()/len(data)*100"
   ]
  },
  {
   "cell_type": "markdown",
   "metadata": {
    "pycharm": {
     "name": "#%% md\n"
    }
   },
   "source": [
    "## Ejercicio 3\n",
    "\n",
    "Analicemos la columna Object Date\n",
    "\n",
    "¿Qué formato tienen los valores de este campo? ¿Qué patrones pueden identificar?\n",
    "\n",
    "Sugerencia: recuerden el método value_counts\n",
    "https://pandas.pydata.org/pandas-docs/stable/reference/api/pandas.Series.value_counts.html"
   ]
  },
  {
   "cell_type": "code",
   "execution_count": 16,
   "outputs": [],
   "source": [
    "object_date_series = data['Object Date']"
   ],
   "metadata": {
    "collapsed": false,
    "pycharm": {
     "name": "#%%\n"
    }
   }
  },
  {
   "cell_type": "code",
   "execution_count": 17,
   "metadata": {
    "pycharm": {
     "name": "#%%\n"
    }
   },
   "outputs": [
    {
     "data": {
      "text/plain": "19th century           130\n18th century            80\n17th century            65\n1912                    54\n1911                    50\n                      ... \n1740–1802                1\nfall/winter 1986–87      1\nca. 1549                 1\n1817–40                  1\n1546                     1\nName: Object Date, Length: 1378, dtype: int64"
     },
     "execution_count": 17,
     "metadata": {},
     "output_type": "execute_result"
    }
   ],
   "source": [
    "object_date_series.value_counts()"
   ]
  },
  {
   "cell_type": "markdown",
   "metadata": {
    "pycharm": {
     "name": "#%% md\n"
    }
   },
   "source": [
    "## Ejercicio 4\n",
    "\n",
    "Usando expresiones regulares, apply y funciones lambda, creemos un nuevo campo \"ObjectDateClean\" que sea de tipo numérico y tenga el valor del año corresponiente a cada registro extrayéndolo del campo ObjectDate.\n",
    "\n",
    "¿Qué características tienen los valores de los registros que no verificaron ningún patrón de los definidos?\n",
    "\n",
    "Ayuda: Identifiquemos los patrones y decidamos cómo extraer el año de los valores de los registros que verifican cada uno de esos patrones. Después, de a un patrón, usemos la estrategia que definimos antes para extraer el valor del año de los registros que lo verifican."
   ]
  },
  {
   "cell_type": "code",
   "execution_count": 18,
   "outputs": [
    {
     "data": {
      "text/plain": "1570"
     },
     "execution_count": 18,
     "metadata": {},
     "output_type": "execute_result"
    }
   ],
   "source": [
    "null_mask = object_date_series.isnull()\n",
    "null_mask.sum()"
   ],
   "metadata": {
    "collapsed": false,
    "pycharm": {
     "name": "#%%\n"
    }
   }
  },
  {
   "cell_type": "code",
   "execution_count": 19,
   "metadata": {
    "pycharm": {
     "name": "#%%\n"
    }
   },
   "outputs": [],
   "source": [
    "import re \n",
    "import numpy as np \n",
    "\n",
    "year_pattern = \"(\\d)?\\d\\d\\d$\"\n",
    "year_pattern_regex = re.compile(year_pattern)\n",
    "\n",
    "data_year_match = object_date_series.apply(lambda x:  x if x is np.NaN else year_pattern_regex.search(x))\n",
    "\n",
    "mask_data_year_match_notnull = data_year_match.notnull()\n",
    "\n",
    "data.loc[mask_data_year_match_notnull, \"ObjectDateClean\"] = data_year_match[mask_data_year_match_notnull].apply(lambda x: x.group(0))"
   ]
  },
  {
   "cell_type": "code",
   "execution_count": 20,
   "metadata": {
    "pycharm": {
     "name": "#%%\n"
    }
   },
   "outputs": [
    {
     "data": {
      "text/plain": "        Object Date ObjectDateClean\n1              1642            1642\n2              1911            1911\n3              1909            1909\n4     June 20, 1867            1867\n5          ca. 1878            1878\n...             ...             ...\n4733      1900–1907            1907\n4734           1883            1883\n4739       ca. 1938            1938\n4741           1669            1669\n4742       ca. 1925            1925\n\n[1434 rows x 2 columns]",
      "text/html": "<div>\n<style scoped>\n    .dataframe tbody tr th:only-of-type {\n        vertical-align: middle;\n    }\n\n    .dataframe tbody tr th {\n        vertical-align: top;\n    }\n\n    .dataframe thead th {\n        text-align: right;\n    }\n</style>\n<table border=\"1\" class=\"dataframe\">\n  <thead>\n    <tr style=\"text-align: right;\">\n      <th></th>\n      <th>Object Date</th>\n      <th>ObjectDateClean</th>\n    </tr>\n  </thead>\n  <tbody>\n    <tr>\n      <th>1</th>\n      <td>1642</td>\n      <td>1642</td>\n    </tr>\n    <tr>\n      <th>2</th>\n      <td>1911</td>\n      <td>1911</td>\n    </tr>\n    <tr>\n      <th>3</th>\n      <td>1909</td>\n      <td>1909</td>\n    </tr>\n    <tr>\n      <th>4</th>\n      <td>June 20, 1867</td>\n      <td>1867</td>\n    </tr>\n    <tr>\n      <th>5</th>\n      <td>ca. 1878</td>\n      <td>1878</td>\n    </tr>\n    <tr>\n      <th>...</th>\n      <td>...</td>\n      <td>...</td>\n    </tr>\n    <tr>\n      <th>4733</th>\n      <td>1900–1907</td>\n      <td>1907</td>\n    </tr>\n    <tr>\n      <th>4734</th>\n      <td>1883</td>\n      <td>1883</td>\n    </tr>\n    <tr>\n      <th>4739</th>\n      <td>ca. 1938</td>\n      <td>1938</td>\n    </tr>\n    <tr>\n      <th>4741</th>\n      <td>1669</td>\n      <td>1669</td>\n    </tr>\n    <tr>\n      <th>4742</th>\n      <td>ca. 1925</td>\n      <td>1925</td>\n    </tr>\n  </tbody>\n</table>\n<p>1434 rows × 2 columns</p>\n</div>"
     },
     "execution_count": 20,
     "metadata": {},
     "output_type": "execute_result"
    }
   ],
   "source": [
    "data.loc[mask_data_year_match_notnull, [\"Object Date\", \"ObjectDateClean\"]]\n",
    "\n"
   ]
  },
  {
   "cell_type": "code",
   "execution_count": 22,
   "outputs": [
    {
     "data": {
      "text/plain": "1912    57\n1911    51\n1910    38\n1888    32\n1907    26\n        ..\n1841     1\n1687     1\n1795     1\n1816     1\n2005     1\nName: ObjectDateClean, Length: 372, dtype: int64"
     },
     "execution_count": 22,
     "metadata": {},
     "output_type": "execute_result"
    }
   ],
   "source": [
    "data['ObjectDateClean'].value_counts()"
   ],
   "metadata": {
    "collapsed": false,
    "pycharm": {
     "name": "#%%\n"
    }
   }
  },
  {
   "cell_type": "markdown",
   "metadata": {
    "pycharm": {
     "name": "#%% md\n"
    }
   },
   "source": [
    "Posiblemente veamos que nos faltó considerar:\n",
    "* los valores terminados en BC o B.C., y marcar esos años como negativos \n",
    "* considerar los períodos que tienen siglos, en lugar de años\n",
    "* borrar las C. que aparecen de sufijo\n",
    "* Considerar pallabras mals escritas como \"cenutry\"\n",
    "\n",
    "Si tienen ganas de seguir practicando pueden resolver algunos de éstos.\n"
   ]
  }
 ],
 "metadata": {
  "kernelspec": {
   "display_name": "Python 3",
   "language": "python",
   "name": "python3"
  },
  "language_info": {
   "codemirror_mode": {
    "name": "ipython",
    "version": 3
   },
   "file_extension": ".py",
   "mimetype": "text/x-python",
   "name": "python",
   "nbconvert_exporter": "python",
   "pygments_lexer": "ipython3",
   "version": "3.8.5"
  }
 },
 "nbformat": 4,
 "nbformat_minor": 4
}