{
 "cells": [
  {
   "cell_type": "code",
   "execution_count": 4,
   "metadata": {
    "pycharm": {
     "name": "#%%\n"
    }
   },
   "outputs": [
    {
     "name": "stdout",
     "output_type": "stream",
     "text": [
      "/media/paulati/Nuevo vol/paula/dh/2021/dsad_2021_paula/common\n",
      "default checking\n",
      "Running command `conda list`... ok\n",
      "jupyterlab=2.2.6 already installed\n",
      "pandas=1.1.5 already installed\n",
      "bokeh=2.2.3 already installed\n",
      "seaborn=0.11.0 already installed\n",
      "matplotlib=3.3.2 already installed\n",
      "ipywidgets=7.5.1 already installed\n",
      "pytest=6.2.1 already installed\n",
      "chardet=4.0.0 already installed\n",
      "psutil=5.7.2 already installed\n",
      "scipy=1.5.2 already installed\n",
      "statsmodels=0.12.1 already installed\n",
      "scikit-learn=0.23.2 already installed\n",
      "xlrd=2.0.1 already installed\n",
      "Running command `conda install --yes nltk=3.5.0`... ok\n",
      "Collecting package metadata (current_repodata.json): ...working... done\n",
      "Solving environment: ...working... done\n",
      "\n",
      "# All requested packages already installed.\n",
      "\n",
      "\n",
      "unidecode=1.1.1 already installed\n",
      "pydotplus=2.0.2 already installed\n",
      "pandas-datareader=0.9.0 already installed\n",
      "flask=1.1.2 already installed\n"
     ]
    }
   ],
   "source": [
    "%run \"../../../common/0_notebooks_base_setup.py\""
   ]
  },
  {
   "cell_type": "markdown",
   "metadata": {
    "pycharm": {
     "name": "#%% md\n"
    }
   },
   "source": [
    "---\n",
    "\n",
    "<img src='../../../common/logo_DH.png' align='left' width=35%/>\n"
   ]
  },
  {
   "cell_type": "markdown",
   "metadata": {
    "pycharm": {
     "name": "#%% md\n"
    }
   },
   "source": [
    "## Dataset\n",
    "\n",
    "En la práctica de la clase de hoy usaremos una versión muy resumida de datos de la Encuesta Permanentes de Hogares (relevamiento llevado adelante por el INDEC). Se trata de una encuesta continua que tiene como objetivo fundamental generar información sobre el funcionamiento del mercado de trabajo.\n",
    "\n",
    "Solamente utilizaremos algunas variables (edad, nivel educativo, cantidad de horas trabajadas, calificación de la tarea e ingreso laboral) y algunos casos (los ocupados, es decir, aquellos que han trabajado al menos una hora en la semana anterior al relevamiento).\n"
   ]
  },
  {
   "cell_type": "markdown",
   "metadata": {
    "pycharm": {
     "name": "#%% md\n"
    }
   },
   "source": [
    "Importamos la biblioteca pandas y asignamos pd como alias:"
   ]
  },
  {
   "cell_type": "code",
   "execution_count": 1,
   "metadata": {
    "pycharm": {
     "name": "#%%\n"
    }
   },
   "outputs": [],
   "source": [
    "import pandas as pd"
   ]
  },
  {
   "cell_type": "markdown",
   "metadata": {
    "pycharm": {
     "name": "#%% md\n"
    }
   },
   "source": [
    "## Ejercicio 1\n",
    "\n",
    "Vamos a leer los datos del archivo /M1/CLASE_04/Data/data_filt.csv en un `DataFrame` de pandas con el método `read_csv`\n",
    "\n",
    "https://pandas.pydata.org/pandas-docs/stable/reference/api/pandas.read_csv.html\n",
    "\n",
    "\n",
    "Este archivo tiene algunos datos numéricos y otros de tipo cadena de caracteres. \n",
    "\n",
    "Las columnas son:\n",
    "\n",
    "\"ch06\",\"nivel_ed\",\"htot\",\"calif\",\"p47t\"\n",
    "\n",
    "* ch06: int, edad\n",
    "\n",
    "* nivel_ed: string, nivel educativo\n",
    "\n",
    "* htot: int, cantidad de horas totales trabajadas en el período\n",
    "\n",
    "* calif: string, calificación de la tarea\n",
    "\n",
    "* p47t: int, ingreso\n",
    "\n"
   ]
  },
  {
   "cell_type": "code",
   "execution_count": 2,
   "metadata": {
    "pycharm": {
     "name": "#%%\n"
    }
   },
   "outputs": [],
   "source": [
    "# local:\n",
    "data_location = \"../Data/data_filt.csv\"\n",
    "\n",
    "df = pd.read_csv(data_location, sep=\",\", encoding=\"latin1\")\n",
    "data2 = df.rename(columns={'ch06':'edad','htot':'horas_trabajadas','p47t':'ingreso','calif':'calificacion','nivel_ed':'nivel_educativo'})\n"
   ]
  },
  {
   "cell_type": "markdown",
   "metadata": {
    "pycharm": {
     "name": "#%% md\n"
    }
   },
   "source": [
    "## Ejercicio 2\n",
    "\n",
    "Miremos ahora los primeros tres registros del `DataFrame` data, y los ultimos cinco registros.\n",
    "\n",
    "¿Cuántas filas tiene data? ¿Y cuántas columnas?\n",
    "\n",
    "Ayudas:\n",
    "\n",
    "https://pandas.pydata.org/pandas-docs/stable/reference/api/pandas.DataFrame.head.html?highlight=head#pandas.DataFrame.head\n",
    "\n",
    "https://pandas.pydata.org/pandas-docs/stable/reference/api/pandas.DataFrame.tail.html?highlight=tail#pandas.DataFrame.tail\n",
    "\n",
    "https://pandas.pydata.org/pandas-docs/stable/reference/api/pandas.DataFrame.shape.html?highlight=shape#pandas.DataFrame.shape\n",
    "\n",
    "https://pandas.pydata.org/pandas-docs/stable/reference/api/pandas.DataFrame.info.html?highlight=info\n"
   ]
  },
  {
   "cell_type": "code",
   "execution_count": 3,
   "metadata": {
    "pycharm": {
     "name": "#%%\n"
    }
   },
   "outputs": [
    {
     "data": {
      "text/plain": "       edad    nivel_educativo  horas_trabajadas     calificacion  ingreso\n0        46        1_H/Sec inc                45  2_Op./No calif.   6000.0\n1        26  2_Sec. comp y más                25  2_Op./No calif.   5000.0\n2        47  2_Sec. comp y más                25  2_Op./No calif.   5000.0\n3        52        1_H/Sec inc                90  2_Op./No calif.  11000.0\n4        45        1_H/Sec inc                44  2_Op./No calif.   9500.0\n...     ...                ...               ...              ...      ...\n23443    45  2_Sec. comp y más                50  2_Op./No calif.   4000.0\n23444    58        1_H/Sec inc                30  2_Op./No calif.   5000.0\n23445    36  2_Sec. comp y más                40  2_Op./No calif.  13000.0\n23446    49        1_H/Sec inc                40  2_Op./No calif.   4000.0\n23447    36        1_H/Sec inc                54  2_Op./No calif.   8000.0\n\n[23448 rows x 5 columns]",
      "text/html": "<div>\n<style scoped>\n    .dataframe tbody tr th:only-of-type {\n        vertical-align: middle;\n    }\n\n    .dataframe tbody tr th {\n        vertical-align: top;\n    }\n\n    .dataframe thead th {\n        text-align: right;\n    }\n</style>\n<table border=\"1\" class=\"dataframe\">\n  <thead>\n    <tr style=\"text-align: right;\">\n      <th></th>\n      <th>edad</th>\n      <th>nivel_educativo</th>\n      <th>horas_trabajadas</th>\n      <th>calificacion</th>\n      <th>ingreso</th>\n    </tr>\n  </thead>\n  <tbody>\n    <tr>\n      <th>0</th>\n      <td>46</td>\n      <td>1_H/Sec inc</td>\n      <td>45</td>\n      <td>2_Op./No calif.</td>\n      <td>6000.0</td>\n    </tr>\n    <tr>\n      <th>1</th>\n      <td>26</td>\n      <td>2_Sec. comp y más</td>\n      <td>25</td>\n      <td>2_Op./No calif.</td>\n      <td>5000.0</td>\n    </tr>\n    <tr>\n      <th>2</th>\n      <td>47</td>\n      <td>2_Sec. comp y más</td>\n      <td>25</td>\n      <td>2_Op./No calif.</td>\n      <td>5000.0</td>\n    </tr>\n    <tr>\n      <th>3</th>\n      <td>52</td>\n      <td>1_H/Sec inc</td>\n      <td>90</td>\n      <td>2_Op./No calif.</td>\n      <td>11000.0</td>\n    </tr>\n    <tr>\n      <th>4</th>\n      <td>45</td>\n      <td>1_H/Sec inc</td>\n      <td>44</td>\n      <td>2_Op./No calif.</td>\n      <td>9500.0</td>\n    </tr>\n    <tr>\n      <th>...</th>\n      <td>...</td>\n      <td>...</td>\n      <td>...</td>\n      <td>...</td>\n      <td>...</td>\n    </tr>\n    <tr>\n      <th>23443</th>\n      <td>45</td>\n      <td>2_Sec. comp y más</td>\n      <td>50</td>\n      <td>2_Op./No calif.</td>\n      <td>4000.0</td>\n    </tr>\n    <tr>\n      <th>23444</th>\n      <td>58</td>\n      <td>1_H/Sec inc</td>\n      <td>30</td>\n      <td>2_Op./No calif.</td>\n      <td>5000.0</td>\n    </tr>\n    <tr>\n      <th>23445</th>\n      <td>36</td>\n      <td>2_Sec. comp y más</td>\n      <td>40</td>\n      <td>2_Op./No calif.</td>\n      <td>13000.0</td>\n    </tr>\n    <tr>\n      <th>23446</th>\n      <td>49</td>\n      <td>1_H/Sec inc</td>\n      <td>40</td>\n      <td>2_Op./No calif.</td>\n      <td>4000.0</td>\n    </tr>\n    <tr>\n      <th>23447</th>\n      <td>36</td>\n      <td>1_H/Sec inc</td>\n      <td>54</td>\n      <td>2_Op./No calif.</td>\n      <td>8000.0</td>\n    </tr>\n  </tbody>\n</table>\n<p>23448 rows × 5 columns</p>\n</div>"
     },
     "execution_count": 3,
     "metadata": {},
     "output_type": "execute_result"
    }
   ],
   "source": [
    "data2"
   ]
  },
  {
   "cell_type": "code",
   "execution_count": 4,
   "outputs": [
    {
     "data": {
      "text/plain": "(23448, 5)"
     },
     "execution_count": 4,
     "metadata": {},
     "output_type": "execute_result"
    }
   ],
   "source": [
    "data2.shape"
   ],
   "metadata": {
    "collapsed": false,
    "pycharm": {
     "name": "#%%\n"
    }
   }
  },
  {
   "cell_type": "code",
   "execution_count": 5,
   "outputs": [
    {
     "data": {
      "text/plain": "   edad    nivel_educativo  horas_trabajadas     calificacion  ingreso\n0    46        1_H/Sec inc                45  2_Op./No calif.   6000.0\n1    26  2_Sec. comp y más                25  2_Op./No calif.   5000.0\n2    47  2_Sec. comp y más                25  2_Op./No calif.   5000.0",
      "text/html": "<div>\n<style scoped>\n    .dataframe tbody tr th:only-of-type {\n        vertical-align: middle;\n    }\n\n    .dataframe tbody tr th {\n        vertical-align: top;\n    }\n\n    .dataframe thead th {\n        text-align: right;\n    }\n</style>\n<table border=\"1\" class=\"dataframe\">\n  <thead>\n    <tr style=\"text-align: right;\">\n      <th></th>\n      <th>edad</th>\n      <th>nivel_educativo</th>\n      <th>horas_trabajadas</th>\n      <th>calificacion</th>\n      <th>ingreso</th>\n    </tr>\n  </thead>\n  <tbody>\n    <tr>\n      <th>0</th>\n      <td>46</td>\n      <td>1_H/Sec inc</td>\n      <td>45</td>\n      <td>2_Op./No calif.</td>\n      <td>6000.0</td>\n    </tr>\n    <tr>\n      <th>1</th>\n      <td>26</td>\n      <td>2_Sec. comp y más</td>\n      <td>25</td>\n      <td>2_Op./No calif.</td>\n      <td>5000.0</td>\n    </tr>\n    <tr>\n      <th>2</th>\n      <td>47</td>\n      <td>2_Sec. comp y más</td>\n      <td>25</td>\n      <td>2_Op./No calif.</td>\n      <td>5000.0</td>\n    </tr>\n  </tbody>\n</table>\n</div>"
     },
     "execution_count": 5,
     "metadata": {},
     "output_type": "execute_result"
    }
   ],
   "source": [
    "data2.head(3)"
   ],
   "metadata": {
    "collapsed": false,
    "pycharm": {
     "name": "#%%\n"
    }
   }
  },
  {
   "cell_type": "code",
   "execution_count": 6,
   "outputs": [
    {
     "data": {
      "text/plain": "       edad    nivel_educativo  horas_trabajadas     calificacion  ingreso\n23443    45  2_Sec. comp y más                50  2_Op./No calif.   4000.0\n23444    58        1_H/Sec inc                30  2_Op./No calif.   5000.0\n23445    36  2_Sec. comp y más                40  2_Op./No calif.  13000.0\n23446    49        1_H/Sec inc                40  2_Op./No calif.   4000.0\n23447    36        1_H/Sec inc                54  2_Op./No calif.   8000.0",
      "text/html": "<div>\n<style scoped>\n    .dataframe tbody tr th:only-of-type {\n        vertical-align: middle;\n    }\n\n    .dataframe tbody tr th {\n        vertical-align: top;\n    }\n\n    .dataframe thead th {\n        text-align: right;\n    }\n</style>\n<table border=\"1\" class=\"dataframe\">\n  <thead>\n    <tr style=\"text-align: right;\">\n      <th></th>\n      <th>edad</th>\n      <th>nivel_educativo</th>\n      <th>horas_trabajadas</th>\n      <th>calificacion</th>\n      <th>ingreso</th>\n    </tr>\n  </thead>\n  <tbody>\n    <tr>\n      <th>23443</th>\n      <td>45</td>\n      <td>2_Sec. comp y más</td>\n      <td>50</td>\n      <td>2_Op./No calif.</td>\n      <td>4000.0</td>\n    </tr>\n    <tr>\n      <th>23444</th>\n      <td>58</td>\n      <td>1_H/Sec inc</td>\n      <td>30</td>\n      <td>2_Op./No calif.</td>\n      <td>5000.0</td>\n    </tr>\n    <tr>\n      <th>23445</th>\n      <td>36</td>\n      <td>2_Sec. comp y más</td>\n      <td>40</td>\n      <td>2_Op./No calif.</td>\n      <td>13000.0</td>\n    </tr>\n    <tr>\n      <th>23446</th>\n      <td>49</td>\n      <td>1_H/Sec inc</td>\n      <td>40</td>\n      <td>2_Op./No calif.</td>\n      <td>4000.0</td>\n    </tr>\n    <tr>\n      <th>23447</th>\n      <td>36</td>\n      <td>1_H/Sec inc</td>\n      <td>54</td>\n      <td>2_Op./No calif.</td>\n      <td>8000.0</td>\n    </tr>\n  </tbody>\n</table>\n</div>"
     },
     "execution_count": 6,
     "metadata": {},
     "output_type": "execute_result"
    }
   ],
   "source": [
    "data2.tail(5)"
   ],
   "metadata": {
    "collapsed": false,
    "pycharm": {
     "name": "#%%\n"
    }
   }
  },
  {
   "cell_type": "markdown",
   "metadata": {
    "pycharm": {
     "name": "#%% md\n"
    }
   },
   "source": [
    "## Ejercicio 3\n",
    "\n",
    "¿Cuáles son los nombres de las columnas del `DataFrame` data?\n",
    "\n",
    "¿Cuál es el índice del `DataFrame` data?\n",
    "\n",
    "Ayudas:\n",
    "\n",
    "https://pandas.pydata.org/pandas-docs/stable/reference/api/pandas.DataFrame.columns.html?highlight=columns#pandas.DataFrame.columns\n",
    "\n",
    "https://pandas.pydata.org/pandas-docs/stable/reference/api/pandas.DataFrame.index.html?highlight=index#pandas.DataFrame.index\n"
   ]
  },
  {
   "cell_type": "code",
   "execution_count": 7,
   "metadata": {
    "pycharm": {
     "name": "#%%\n"
    }
   },
   "outputs": [
    {
     "data": {
      "text/plain": "Index(['edad', 'nivel_educativo', 'horas_trabajadas', 'calificacion',\n       'ingreso'],\n      dtype='object')"
     },
     "execution_count": 7,
     "metadata": {},
     "output_type": "execute_result"
    }
   ],
   "source": [
    "data2.columns"
   ]
  },
  {
   "cell_type": "markdown",
   "metadata": {
    "pycharm": {
     "name": "#%% md\n"
    }
   },
   "source": [
    "Renombremos ahora los columnas para que queden con estos valores:\n",
    "\n",
    "['edad', 'nivel_educativo', 'hs_trabajados', 'calif_ocupacional', 'ingreso_ult_mes']"
   ]
  },
  {
   "cell_type": "code",
   "execution_count": 8,
   "metadata": {
    "pycharm": {
     "name": "#%%\n"
    }
   },
   "outputs": [],
   "source": [
    "data2 = df.rename(columns={'ch06':'edad','htot':'horas_trabajadas','p47t':'ingreso','calif':'calificacion','nivel_ed':'nivel_educativo'})"
   ]
  },
  {
   "cell_type": "markdown",
   "metadata": {
    "pycharm": {
     "name": "#%% md\n"
    }
   },
   "source": [
    "## Ejercicio 4 \n",
    "\n",
    "¿Cuál es el tipo de datos de la cuarta columna de data?"
   ]
  },
  {
   "cell_type": "code",
   "execution_count": 13,
   "metadata": {
    "pycharm": {
     "name": "#%%\n"
    }
   },
   "outputs": [],
   "source": []
  },
  {
   "cell_type": "markdown",
   "metadata": {
    "pycharm": {
     "name": "#%% md\n"
    }
   },
   "source": [
    "## Ejercicio 5 \n",
    "\n",
    "¿Cómo están distribuidos los niveles educativos? ¿Cuál es el más común?\n",
    "\n",
    "Ayuda:\n",
    "\n",
    "https://pandas.pydata.org/pandas-docs/stable/reference/api/pandas.Series.value_counts.html?highlight=value_counts#pandas.Series.value_counts\n"
   ]
  },
  {
   "cell_type": "code",
   "execution_count": 15,
   "metadata": {
    "pycharm": {
     "name": "#%%\n"
    }
   },
   "outputs": [
    {
     "data": {
      "text/plain": "2_Sec. comp y más    14634\n1_H/Sec inc           8814\nName: nivel_educativo, dtype: int64"
     },
     "execution_count": 15,
     "metadata": {},
     "output_type": "execute_result"
    }
   ],
   "source": [
    "data2.nivel_educativo.value_counts()\n"
   ]
  },
  {
   "cell_type": "markdown",
   "metadata": {
    "pycharm": {
     "name": "#%% md\n"
    }
   },
   "source": [
    "## Ejercicio 6\n",
    "\n",
    "¿Cuál es el ingreso medio de la población? "
   ]
  },
  {
   "cell_type": "code",
   "execution_count": 17,
   "metadata": {
    "pycharm": {
     "name": "#%%\n"
    }
   },
   "outputs": [
    {
     "data": {
      "text/plain": "8107.905834186285"
     },
     "execution_count": 17,
     "metadata": {},
     "output_type": "execute_result"
    }
   ],
   "source": [
    "data2.ingreso.mean()"
   ]
  },
  {
   "cell_type": "markdown",
   "metadata": {
    "pycharm": {
     "name": "#%% md\n"
    }
   },
   "source": [
    "## Ejercicio 7\n",
    "\n",
    "Construyamos un objeto `DataFrame` con las columnas nivel_educativo e ingreso_ult_mes de data\n",
    "\n",
    "Seleccionemos las primeras 20 filas de este objeto `DataFrame`\n",
    "\n",
    "Seleccionemos una muestra aleatoria de 500 filas de este objeto `DataFrame`\n",
    "\n",
    "Ayuda:\n",
    "\n",
    "https://pandas.pydata.org/pandas-docs/stable/reference/api/pandas.DataFrame.sample.html?highlight=sample#pandas.DataFrame.sample"
   ]
  },
  {
   "cell_type": "code",
   "execution_count": 25,
   "metadata": {
    "pycharm": {
     "name": "#%%\n"
    }
   },
   "outputs": [
    {
     "data": {
      "text/plain": "         nivel_educativo ingreso\n0            1_H/Sec inc    6000\n1      2_Sec. comp y más    5000\n2      2_Sec. comp y más    5000\n3            1_H/Sec inc   11000\n4            1_H/Sec inc    9500\n...                  ...     ...\n23443  2_Sec. comp y más    4000\n23444        1_H/Sec inc    5000\n23445  2_Sec. comp y más   13000\n23446        1_H/Sec inc    4000\n23447        1_H/Sec inc    8000\n\n[23448 rows x 2 columns]",
      "text/html": "<div>\n<style scoped>\n    .dataframe tbody tr th:only-of-type {\n        vertical-align: middle;\n    }\n\n    .dataframe tbody tr th {\n        vertical-align: top;\n    }\n\n    .dataframe thead th {\n        text-align: right;\n    }\n</style>\n<table border=\"1\" class=\"dataframe\">\n  <thead>\n    <tr style=\"text-align: right;\">\n      <th></th>\n      <th>nivel_educativo</th>\n      <th>ingreso</th>\n    </tr>\n  </thead>\n  <tbody>\n    <tr>\n      <th>0</th>\n      <td>1_H/Sec inc</td>\n      <td>6000</td>\n    </tr>\n    <tr>\n      <th>1</th>\n      <td>2_Sec. comp y más</td>\n      <td>5000</td>\n    </tr>\n    <tr>\n      <th>2</th>\n      <td>2_Sec. comp y más</td>\n      <td>5000</td>\n    </tr>\n    <tr>\n      <th>3</th>\n      <td>1_H/Sec inc</td>\n      <td>11000</td>\n    </tr>\n    <tr>\n      <th>4</th>\n      <td>1_H/Sec inc</td>\n      <td>9500</td>\n    </tr>\n    <tr>\n      <th>...</th>\n      <td>...</td>\n      <td>...</td>\n    </tr>\n    <tr>\n      <th>23443</th>\n      <td>2_Sec. comp y más</td>\n      <td>4000</td>\n    </tr>\n    <tr>\n      <th>23444</th>\n      <td>1_H/Sec inc</td>\n      <td>5000</td>\n    </tr>\n    <tr>\n      <th>23445</th>\n      <td>2_Sec. comp y más</td>\n      <td>13000</td>\n    </tr>\n    <tr>\n      <th>23446</th>\n      <td>1_H/Sec inc</td>\n      <td>4000</td>\n    </tr>\n    <tr>\n      <th>23447</th>\n      <td>1_H/Sec inc</td>\n      <td>8000</td>\n    </tr>\n  </tbody>\n</table>\n<p>23448 rows × 2 columns</p>\n</div>"
     },
     "execution_count": 25,
     "metadata": {},
     "output_type": "execute_result"
    }
   ],
   "source": [
    "data3 = pd.DataFrame([data2.nivel_educativo,data2.ingreso])\n",
    "data3 = data3.T\n",
    "data3"
   ]
  },
  {
   "cell_type": "code",
   "execution_count": 26,
   "outputs": [
    {
     "data": {
      "text/plain": "      nivel_educativo ingreso\n0         1_H/Sec inc    6000\n1   2_Sec. comp y más    5000\n2   2_Sec. comp y más    5000\n3         1_H/Sec inc   11000\n4         1_H/Sec inc    9500\n5   2_Sec. comp y más    6000\n6   2_Sec. comp y más    9000\n7         1_H/Sec inc    4260\n8         1_H/Sec inc    3800\n9   2_Sec. comp y más   10517\n10        1_H/Sec inc    8300\n11  2_Sec. comp y más    4900\n12  2_Sec. comp y más   11000\n13  2_Sec. comp y más    9000\n14        1_H/Sec inc    3500\n15        1_H/Sec inc    8000\n16        1_H/Sec inc    2500\n17        1_H/Sec inc    7500\n18        1_H/Sec inc    5000\n19        1_H/Sec inc    5500",
      "text/html": "<div>\n<style scoped>\n    .dataframe tbody tr th:only-of-type {\n        vertical-align: middle;\n    }\n\n    .dataframe tbody tr th {\n        vertical-align: top;\n    }\n\n    .dataframe thead th {\n        text-align: right;\n    }\n</style>\n<table border=\"1\" class=\"dataframe\">\n  <thead>\n    <tr style=\"text-align: right;\">\n      <th></th>\n      <th>nivel_educativo</th>\n      <th>ingreso</th>\n    </tr>\n  </thead>\n  <tbody>\n    <tr>\n      <th>0</th>\n      <td>1_H/Sec inc</td>\n      <td>6000</td>\n    </tr>\n    <tr>\n      <th>1</th>\n      <td>2_Sec. comp y más</td>\n      <td>5000</td>\n    </tr>\n    <tr>\n      <th>2</th>\n      <td>2_Sec. comp y más</td>\n      <td>5000</td>\n    </tr>\n    <tr>\n      <th>3</th>\n      <td>1_H/Sec inc</td>\n      <td>11000</td>\n    </tr>\n    <tr>\n      <th>4</th>\n      <td>1_H/Sec inc</td>\n      <td>9500</td>\n    </tr>\n    <tr>\n      <th>5</th>\n      <td>2_Sec. comp y más</td>\n      <td>6000</td>\n    </tr>\n    <tr>\n      <th>6</th>\n      <td>2_Sec. comp y más</td>\n      <td>9000</td>\n    </tr>\n    <tr>\n      <th>7</th>\n      <td>1_H/Sec inc</td>\n      <td>4260</td>\n    </tr>\n    <tr>\n      <th>8</th>\n      <td>1_H/Sec inc</td>\n      <td>3800</td>\n    </tr>\n    <tr>\n      <th>9</th>\n      <td>2_Sec. comp y más</td>\n      <td>10517</td>\n    </tr>\n    <tr>\n      <th>10</th>\n      <td>1_H/Sec inc</td>\n      <td>8300</td>\n    </tr>\n    <tr>\n      <th>11</th>\n      <td>2_Sec. comp y más</td>\n      <td>4900</td>\n    </tr>\n    <tr>\n      <th>12</th>\n      <td>2_Sec. comp y más</td>\n      <td>11000</td>\n    </tr>\n    <tr>\n      <th>13</th>\n      <td>2_Sec. comp y más</td>\n      <td>9000</td>\n    </tr>\n    <tr>\n      <th>14</th>\n      <td>1_H/Sec inc</td>\n      <td>3500</td>\n    </tr>\n    <tr>\n      <th>15</th>\n      <td>1_H/Sec inc</td>\n      <td>8000</td>\n    </tr>\n    <tr>\n      <th>16</th>\n      <td>1_H/Sec inc</td>\n      <td>2500</td>\n    </tr>\n    <tr>\n      <th>17</th>\n      <td>1_H/Sec inc</td>\n      <td>7500</td>\n    </tr>\n    <tr>\n      <th>18</th>\n      <td>1_H/Sec inc</td>\n      <td>5000</td>\n    </tr>\n    <tr>\n      <th>19</th>\n      <td>1_H/Sec inc</td>\n      <td>5500</td>\n    </tr>\n  </tbody>\n</table>\n</div>"
     },
     "execution_count": 26,
     "metadata": {},
     "output_type": "execute_result"
    }
   ],
   "source": [
    "data3.head(20)"
   ],
   "metadata": {
    "collapsed": false,
    "pycharm": {
     "name": "#%%\n"
    }
   }
  },
  {
   "cell_type": "code",
   "execution_count": 27,
   "outputs": [
    {
     "data": {
      "text/plain": "         nivel_educativo ingreso\n14769        1_H/Sec inc    5000\n15521        1_H/Sec inc    6000\n6062   2_Sec. comp y más    5000\n1009   2_Sec. comp y más    7000\n1788   2_Sec. comp y más   10000\n...                  ...     ...\n20103  2_Sec. comp y más   13000\n17280  2_Sec. comp y más   21000\n13878  2_Sec. comp y más   15000\n14760        1_H/Sec inc    2800\n14497  2_Sec. comp y más    7000\n\n[500 rows x 2 columns]",
      "text/html": "<div>\n<style scoped>\n    .dataframe tbody tr th:only-of-type {\n        vertical-align: middle;\n    }\n\n    .dataframe tbody tr th {\n        vertical-align: top;\n    }\n\n    .dataframe thead th {\n        text-align: right;\n    }\n</style>\n<table border=\"1\" class=\"dataframe\">\n  <thead>\n    <tr style=\"text-align: right;\">\n      <th></th>\n      <th>nivel_educativo</th>\n      <th>ingreso</th>\n    </tr>\n  </thead>\n  <tbody>\n    <tr>\n      <th>14769</th>\n      <td>1_H/Sec inc</td>\n      <td>5000</td>\n    </tr>\n    <tr>\n      <th>15521</th>\n      <td>1_H/Sec inc</td>\n      <td>6000</td>\n    </tr>\n    <tr>\n      <th>6062</th>\n      <td>2_Sec. comp y más</td>\n      <td>5000</td>\n    </tr>\n    <tr>\n      <th>1009</th>\n      <td>2_Sec. comp y más</td>\n      <td>7000</td>\n    </tr>\n    <tr>\n      <th>1788</th>\n      <td>2_Sec. comp y más</td>\n      <td>10000</td>\n    </tr>\n    <tr>\n      <th>...</th>\n      <td>...</td>\n      <td>...</td>\n    </tr>\n    <tr>\n      <th>20103</th>\n      <td>2_Sec. comp y más</td>\n      <td>13000</td>\n    </tr>\n    <tr>\n      <th>17280</th>\n      <td>2_Sec. comp y más</td>\n      <td>21000</td>\n    </tr>\n    <tr>\n      <th>13878</th>\n      <td>2_Sec. comp y más</td>\n      <td>15000</td>\n    </tr>\n    <tr>\n      <th>14760</th>\n      <td>1_H/Sec inc</td>\n      <td>2800</td>\n    </tr>\n    <tr>\n      <th>14497</th>\n      <td>2_Sec. comp y más</td>\n      <td>7000</td>\n    </tr>\n  </tbody>\n</table>\n<p>500 rows × 2 columns</p>\n</div>"
     },
     "execution_count": 27,
     "metadata": {},
     "output_type": "execute_result"
    }
   ],
   "source": [
    "data3.sample(500)"
   ],
   "metadata": {
    "collapsed": false,
    "pycharm": {
     "name": "#%%\n"
    }
   }
  },
  {
   "cell_type": "markdown",
   "metadata": {
    "pycharm": {
     "name": "#%% md\n"
    }
   },
   "source": [
    "## Ejercicio 8\n",
    "\n",
    "Construyamos un objeto `DataFrame` con todas las columnas de data excluyendo nivel_educativo.\n",
    "\n",
    "Ayuda: \n",
    "\n",
    "Construir una máscara booleana de los nombres de las columnas.\n"
   ]
  },
  {
   "cell_type": "code",
   "execution_count": 31,
   "metadata": {
    "pycharm": {
     "name": "#%%\n"
    }
   },
   "outputs": [
    {
     "ename": "KeyError",
     "evalue": "\"None of [Index(['edad', 'horas_trabajadas', 'ingreso', 'calificacion'], dtype='object')] are in the [index]\"",
     "output_type": "error",
     "traceback": [
      "\u001B[1;31m---------------------------------------------------------------------------\u001B[0m",
      "\u001B[1;31mKeyError\u001B[0m                                  Traceback (most recent call last)",
      "Input \u001B[1;32mIn [31]\u001B[0m, in \u001B[0;36m<cell line: 3>\u001B[1;34m()\u001B[0m\n\u001B[0;32m      1\u001B[0m nueva_data \u001B[38;5;241m=\u001B[39m [\u001B[38;5;124m'\u001B[39m\u001B[38;5;124medad\u001B[39m\u001B[38;5;124m'\u001B[39m,\u001B[38;5;124m'\u001B[39m\u001B[38;5;124mhoras_trabajadas\u001B[39m\u001B[38;5;124m'\u001B[39m,\u001B[38;5;124m'\u001B[39m\u001B[38;5;124mingreso\u001B[39m\u001B[38;5;124m'\u001B[39m,\u001B[38;5;124m'\u001B[39m\u001B[38;5;124mcalificacion\u001B[39m\u001B[38;5;124m'\u001B[39m]\n\u001B[1;32m----> 3\u001B[0m data4\u001B[38;5;241m=\u001B[39m pd\u001B[38;5;241m.\u001B[39mDataFrame(\u001B[43mdata3\u001B[49m\u001B[38;5;241;43m.\u001B[39;49m\u001B[43mloc\u001B[49m\u001B[43m[\u001B[49m\u001B[43mnueva_data\u001B[49m\u001B[43m]\u001B[49m)\n",
      "File \u001B[1;32m~\\anaconda3\\envs\\notebooks\\lib\\site-packages\\pandas\\core\\indexing.py:879\u001B[0m, in \u001B[0;36m_LocationIndexer.__getitem__\u001B[1;34m(self, key)\u001B[0m\n\u001B[0;32m    876\u001B[0m axis \u001B[38;5;241m=\u001B[39m \u001B[38;5;28mself\u001B[39m\u001B[38;5;241m.\u001B[39maxis \u001B[38;5;129;01mor\u001B[39;00m \u001B[38;5;241m0\u001B[39m\n\u001B[0;32m    878\u001B[0m maybe_callable \u001B[38;5;241m=\u001B[39m com\u001B[38;5;241m.\u001B[39mapply_if_callable(key, \u001B[38;5;28mself\u001B[39m\u001B[38;5;241m.\u001B[39mobj)\n\u001B[1;32m--> 879\u001B[0m \u001B[38;5;28;01mreturn\u001B[39;00m \u001B[38;5;28;43mself\u001B[39;49m\u001B[38;5;241;43m.\u001B[39;49m\u001B[43m_getitem_axis\u001B[49m\u001B[43m(\u001B[49m\u001B[43mmaybe_callable\u001B[49m\u001B[43m,\u001B[49m\u001B[43m \u001B[49m\u001B[43maxis\u001B[49m\u001B[38;5;241;43m=\u001B[39;49m\u001B[43maxis\u001B[49m\u001B[43m)\u001B[49m\n",
      "File \u001B[1;32m~\\anaconda3\\envs\\notebooks\\lib\\site-packages\\pandas\\core\\indexing.py:1099\u001B[0m, in \u001B[0;36m_LocIndexer._getitem_axis\u001B[1;34m(self, key, axis)\u001B[0m\n\u001B[0;32m   1096\u001B[0m     \u001B[38;5;28;01mif\u001B[39;00m \u001B[38;5;28mhasattr\u001B[39m(key, \u001B[38;5;124m\"\u001B[39m\u001B[38;5;124mndim\u001B[39m\u001B[38;5;124m\"\u001B[39m) \u001B[38;5;129;01mand\u001B[39;00m key\u001B[38;5;241m.\u001B[39mndim \u001B[38;5;241m>\u001B[39m \u001B[38;5;241m1\u001B[39m:\n\u001B[0;32m   1097\u001B[0m         \u001B[38;5;28;01mraise\u001B[39;00m \u001B[38;5;167;01mValueError\u001B[39;00m(\u001B[38;5;124m\"\u001B[39m\u001B[38;5;124mCannot index with multidimensional key\u001B[39m\u001B[38;5;124m\"\u001B[39m)\n\u001B[1;32m-> 1099\u001B[0m     \u001B[38;5;28;01mreturn\u001B[39;00m \u001B[38;5;28;43mself\u001B[39;49m\u001B[38;5;241;43m.\u001B[39;49m\u001B[43m_getitem_iterable\u001B[49m\u001B[43m(\u001B[49m\u001B[43mkey\u001B[49m\u001B[43m,\u001B[49m\u001B[43m \u001B[49m\u001B[43maxis\u001B[49m\u001B[38;5;241;43m=\u001B[39;49m\u001B[43maxis\u001B[49m\u001B[43m)\u001B[49m\n\u001B[0;32m   1101\u001B[0m \u001B[38;5;66;03m# nested tuple slicing\u001B[39;00m\n\u001B[0;32m   1102\u001B[0m \u001B[38;5;28;01mif\u001B[39;00m is_nested_tuple(key, labels):\n",
      "File \u001B[1;32m~\\anaconda3\\envs\\notebooks\\lib\\site-packages\\pandas\\core\\indexing.py:1037\u001B[0m, in \u001B[0;36m_LocIndexer._getitem_iterable\u001B[1;34m(self, key, axis)\u001B[0m\n\u001B[0;32m   1034\u001B[0m \u001B[38;5;28mself\u001B[39m\u001B[38;5;241m.\u001B[39m_validate_key(key, axis)\n\u001B[0;32m   1036\u001B[0m \u001B[38;5;66;03m# A collection of keys\u001B[39;00m\n\u001B[1;32m-> 1037\u001B[0m keyarr, indexer \u001B[38;5;241m=\u001B[39m \u001B[38;5;28;43mself\u001B[39;49m\u001B[38;5;241;43m.\u001B[39;49m\u001B[43m_get_listlike_indexer\u001B[49m\u001B[43m(\u001B[49m\u001B[43mkey\u001B[49m\u001B[43m,\u001B[49m\u001B[43m \u001B[49m\u001B[43maxis\u001B[49m\u001B[43m,\u001B[49m\u001B[43m \u001B[49m\u001B[43mraise_missing\u001B[49m\u001B[38;5;241;43m=\u001B[39;49m\u001B[38;5;28;43;01mFalse\u001B[39;49;00m\u001B[43m)\u001B[49m\n\u001B[0;32m   1038\u001B[0m \u001B[38;5;28;01mreturn\u001B[39;00m \u001B[38;5;28mself\u001B[39m\u001B[38;5;241m.\u001B[39mobj\u001B[38;5;241m.\u001B[39m_reindex_with_indexers(\n\u001B[0;32m   1039\u001B[0m     {axis: [keyarr, indexer]}, copy\u001B[38;5;241m=\u001B[39m\u001B[38;5;28;01mTrue\u001B[39;00m, allow_dups\u001B[38;5;241m=\u001B[39m\u001B[38;5;28;01mTrue\u001B[39;00m\n\u001B[0;32m   1040\u001B[0m )\n",
      "File \u001B[1;32m~\\anaconda3\\envs\\notebooks\\lib\\site-packages\\pandas\\core\\indexing.py:1254\u001B[0m, in \u001B[0;36m_LocIndexer._get_listlike_indexer\u001B[1;34m(self, key, axis, raise_missing)\u001B[0m\n\u001B[0;32m   1251\u001B[0m \u001B[38;5;28;01melse\u001B[39;00m:\n\u001B[0;32m   1252\u001B[0m     keyarr, indexer, new_indexer \u001B[38;5;241m=\u001B[39m ax\u001B[38;5;241m.\u001B[39m_reindex_non_unique(keyarr)\n\u001B[1;32m-> 1254\u001B[0m \u001B[38;5;28;43mself\u001B[39;49m\u001B[38;5;241;43m.\u001B[39;49m\u001B[43m_validate_read_indexer\u001B[49m\u001B[43m(\u001B[49m\u001B[43mkeyarr\u001B[49m\u001B[43m,\u001B[49m\u001B[43m \u001B[49m\u001B[43mindexer\u001B[49m\u001B[43m,\u001B[49m\u001B[43m \u001B[49m\u001B[43maxis\u001B[49m\u001B[43m,\u001B[49m\u001B[43m \u001B[49m\u001B[43mraise_missing\u001B[49m\u001B[38;5;241;43m=\u001B[39;49m\u001B[43mraise_missing\u001B[49m\u001B[43m)\u001B[49m\n\u001B[0;32m   1255\u001B[0m \u001B[38;5;28;01mreturn\u001B[39;00m keyarr, indexer\n",
      "File \u001B[1;32m~\\anaconda3\\envs\\notebooks\\lib\\site-packages\\pandas\\core\\indexing.py:1298\u001B[0m, in \u001B[0;36m_LocIndexer._validate_read_indexer\u001B[1;34m(self, key, indexer, axis, raise_missing)\u001B[0m\n\u001B[0;32m   1296\u001B[0m \u001B[38;5;28;01mif\u001B[39;00m missing \u001B[38;5;241m==\u001B[39m \u001B[38;5;28mlen\u001B[39m(indexer):\n\u001B[0;32m   1297\u001B[0m     axis_name \u001B[38;5;241m=\u001B[39m \u001B[38;5;28mself\u001B[39m\u001B[38;5;241m.\u001B[39mobj\u001B[38;5;241m.\u001B[39m_get_axis_name(axis)\n\u001B[1;32m-> 1298\u001B[0m     \u001B[38;5;28;01mraise\u001B[39;00m \u001B[38;5;167;01mKeyError\u001B[39;00m(\u001B[38;5;124mf\u001B[39m\u001B[38;5;124m\"\u001B[39m\u001B[38;5;124mNone of [\u001B[39m\u001B[38;5;132;01m{\u001B[39;00mkey\u001B[38;5;132;01m}\u001B[39;00m\u001B[38;5;124m] are in the [\u001B[39m\u001B[38;5;132;01m{\u001B[39;00maxis_name\u001B[38;5;132;01m}\u001B[39;00m\u001B[38;5;124m]\u001B[39m\u001B[38;5;124m\"\u001B[39m)\n\u001B[0;32m   1300\u001B[0m \u001B[38;5;66;03m# We (temporarily) allow for some missing keys with .loc, except in\u001B[39;00m\n\u001B[0;32m   1301\u001B[0m \u001B[38;5;66;03m# some cases (e.g. setting) in which \"raise_missing\" will be False\u001B[39;00m\n\u001B[0;32m   1302\u001B[0m \u001B[38;5;28;01mif\u001B[39;00m raise_missing:\n",
      "\u001B[1;31mKeyError\u001B[0m: \"None of [Index(['edad', 'horas_trabajadas', 'ingreso', 'calificacion'], dtype='object')] are in the [index]\""
     ]
    }
   ],
   "source": [
    "nueva_data = ['edad','horas_trabajadas','ingreso','calificacion']\n",
    "\n",
    "data4= pd.DataFrame(data3.loc[nueva_data])"
   ]
  },
  {
   "cell_type": "code",
   "execution_count": 38,
   "outputs": [
    {
     "data": {
      "text/plain": "       edad    nivel_educativo  horas_trabajadas     calificacion  ingreso\n0        46        1_H/Sec inc                45  2_Op./No calif.   6000.0\n1        26  2_Sec. comp y más                25  2_Op./No calif.   5000.0\n2        47  2_Sec. comp y más                25  2_Op./No calif.   5000.0\n3        52        1_H/Sec inc                90  2_Op./No calif.  11000.0\n4        45        1_H/Sec inc                44  2_Op./No calif.   9500.0\n...     ...                ...               ...              ...      ...\n23443    45  2_Sec. comp y más                50  2_Op./No calif.   4000.0\n23444    58        1_H/Sec inc                30  2_Op./No calif.   5000.0\n23445    36  2_Sec. comp y más                40  2_Op./No calif.  13000.0\n23446    49        1_H/Sec inc                40  2_Op./No calif.   4000.0\n23447    36        1_H/Sec inc                54  2_Op./No calif.   8000.0\n\n[23448 rows x 5 columns]",
      "text/html": "<div>\n<style scoped>\n    .dataframe tbody tr th:only-of-type {\n        vertical-align: middle;\n    }\n\n    .dataframe tbody tr th {\n        vertical-align: top;\n    }\n\n    .dataframe thead th {\n        text-align: right;\n    }\n</style>\n<table border=\"1\" class=\"dataframe\">\n  <thead>\n    <tr style=\"text-align: right;\">\n      <th></th>\n      <th>edad</th>\n      <th>nivel_educativo</th>\n      <th>horas_trabajadas</th>\n      <th>calificacion</th>\n      <th>ingreso</th>\n    </tr>\n  </thead>\n  <tbody>\n    <tr>\n      <th>0</th>\n      <td>46</td>\n      <td>1_H/Sec inc</td>\n      <td>45</td>\n      <td>2_Op./No calif.</td>\n      <td>6000.0</td>\n    </tr>\n    <tr>\n      <th>1</th>\n      <td>26</td>\n      <td>2_Sec. comp y más</td>\n      <td>25</td>\n      <td>2_Op./No calif.</td>\n      <td>5000.0</td>\n    </tr>\n    <tr>\n      <th>2</th>\n      <td>47</td>\n      <td>2_Sec. comp y más</td>\n      <td>25</td>\n      <td>2_Op./No calif.</td>\n      <td>5000.0</td>\n    </tr>\n    <tr>\n      <th>3</th>\n      <td>52</td>\n      <td>1_H/Sec inc</td>\n      <td>90</td>\n      <td>2_Op./No calif.</td>\n      <td>11000.0</td>\n    </tr>\n    <tr>\n      <th>4</th>\n      <td>45</td>\n      <td>1_H/Sec inc</td>\n      <td>44</td>\n      <td>2_Op./No calif.</td>\n      <td>9500.0</td>\n    </tr>\n    <tr>\n      <th>...</th>\n      <td>...</td>\n      <td>...</td>\n      <td>...</td>\n      <td>...</td>\n      <td>...</td>\n    </tr>\n    <tr>\n      <th>23443</th>\n      <td>45</td>\n      <td>2_Sec. comp y más</td>\n      <td>50</td>\n      <td>2_Op./No calif.</td>\n      <td>4000.0</td>\n    </tr>\n    <tr>\n      <th>23444</th>\n      <td>58</td>\n      <td>1_H/Sec inc</td>\n      <td>30</td>\n      <td>2_Op./No calif.</td>\n      <td>5000.0</td>\n    </tr>\n    <tr>\n      <th>23445</th>\n      <td>36</td>\n      <td>2_Sec. comp y más</td>\n      <td>40</td>\n      <td>2_Op./No calif.</td>\n      <td>13000.0</td>\n    </tr>\n    <tr>\n      <th>23446</th>\n      <td>49</td>\n      <td>1_H/Sec inc</td>\n      <td>40</td>\n      <td>2_Op./No calif.</td>\n      <td>4000.0</td>\n    </tr>\n    <tr>\n      <th>23447</th>\n      <td>36</td>\n      <td>1_H/Sec inc</td>\n      <td>54</td>\n      <td>2_Op./No calif.</td>\n      <td>8000.0</td>\n    </tr>\n  </tbody>\n</table>\n<p>23448 rows × 5 columns</p>\n</div>"
     },
     "execution_count": 38,
     "metadata": {},
     "output_type": "execute_result"
    }
   ],
   "source": [
    "data2"
   ],
   "metadata": {
    "collapsed": false,
    "pycharm": {
     "name": "#%%\n"
    }
   }
  },
  {
   "cell_type": "markdown",
   "metadata": {
    "pycharm": {
     "name": "#%% md\n"
    }
   },
   "source": [
    "## Ejercicio 9\n",
    "\n",
    "Ordenar data según la columna edad en forma decreciente.\n",
    "\n",
    "Ayuda: \n",
    "\n",
    "https://pandas.pydata.org/pandas-docs/stable/reference/api/pandas.DataFrame.sort_values.html?highlight=sort_values#pandas.DataFrame.sort_values\n"
   ]
  },
  {
   "cell_type": "code",
   "execution_count": 40,
   "metadata": {
    "pycharm": {
     "name": "#%%\n"
    }
   },
   "outputs": [
    {
     "data": {
      "text/plain": "       edad    nivel_educativo  horas_trabajadas     calificacion  ingreso\n22574    93        1_H/Sec inc                20  2_Op./No calif.   8000.0\n16461    85  2_Sec. comp y más                40    1_Prof./Tecn.  20700.0\n16954    85  2_Sec. comp y más                36  2_Op./No calif.   8250.0\n23317    84        1_H/Sec inc                25  2_Op./No calif.   9900.0\n4340     84        1_H/Sec inc                36  2_Op./No calif.   7500.0\n...     ...                ...               ...              ...      ...\n15198    13        1_H/Sec inc                 6  2_Op./No calif.    800.0\n5698     12        1_H/Sec inc                 5  2_Op./No calif.    250.0\n15308    12        1_H/Sec inc                 7  2_Op./No calif.    250.0\n19856    12        1_H/Sec inc                15  2_Op./No calif.   1200.0\n20050    12        1_H/Sec inc                20  2_Op./No calif.   1600.0\n\n[23448 rows x 5 columns]",
      "text/html": "<div>\n<style scoped>\n    .dataframe tbody tr th:only-of-type {\n        vertical-align: middle;\n    }\n\n    .dataframe tbody tr th {\n        vertical-align: top;\n    }\n\n    .dataframe thead th {\n        text-align: right;\n    }\n</style>\n<table border=\"1\" class=\"dataframe\">\n  <thead>\n    <tr style=\"text-align: right;\">\n      <th></th>\n      <th>edad</th>\n      <th>nivel_educativo</th>\n      <th>horas_trabajadas</th>\n      <th>calificacion</th>\n      <th>ingreso</th>\n    </tr>\n  </thead>\n  <tbody>\n    <tr>\n      <th>22574</th>\n      <td>93</td>\n      <td>1_H/Sec inc</td>\n      <td>20</td>\n      <td>2_Op./No calif.</td>\n      <td>8000.0</td>\n    </tr>\n    <tr>\n      <th>16461</th>\n      <td>85</td>\n      <td>2_Sec. comp y más</td>\n      <td>40</td>\n      <td>1_Prof./Tecn.</td>\n      <td>20700.0</td>\n    </tr>\n    <tr>\n      <th>16954</th>\n      <td>85</td>\n      <td>2_Sec. comp y más</td>\n      <td>36</td>\n      <td>2_Op./No calif.</td>\n      <td>8250.0</td>\n    </tr>\n    <tr>\n      <th>23317</th>\n      <td>84</td>\n      <td>1_H/Sec inc</td>\n      <td>25</td>\n      <td>2_Op./No calif.</td>\n      <td>9900.0</td>\n    </tr>\n    <tr>\n      <th>4340</th>\n      <td>84</td>\n      <td>1_H/Sec inc</td>\n      <td>36</td>\n      <td>2_Op./No calif.</td>\n      <td>7500.0</td>\n    </tr>\n    <tr>\n      <th>...</th>\n      <td>...</td>\n      <td>...</td>\n      <td>...</td>\n      <td>...</td>\n      <td>...</td>\n    </tr>\n    <tr>\n      <th>15198</th>\n      <td>13</td>\n      <td>1_H/Sec inc</td>\n      <td>6</td>\n      <td>2_Op./No calif.</td>\n      <td>800.0</td>\n    </tr>\n    <tr>\n      <th>5698</th>\n      <td>12</td>\n      <td>1_H/Sec inc</td>\n      <td>5</td>\n      <td>2_Op./No calif.</td>\n      <td>250.0</td>\n    </tr>\n    <tr>\n      <th>15308</th>\n      <td>12</td>\n      <td>1_H/Sec inc</td>\n      <td>7</td>\n      <td>2_Op./No calif.</td>\n      <td>250.0</td>\n    </tr>\n    <tr>\n      <th>19856</th>\n      <td>12</td>\n      <td>1_H/Sec inc</td>\n      <td>15</td>\n      <td>2_Op./No calif.</td>\n      <td>1200.0</td>\n    </tr>\n    <tr>\n      <th>20050</th>\n      <td>12</td>\n      <td>1_H/Sec inc</td>\n      <td>20</td>\n      <td>2_Op./No calif.</td>\n      <td>1600.0</td>\n    </tr>\n  </tbody>\n</table>\n<p>23448 rows × 5 columns</p>\n</div>"
     },
     "execution_count": 40,
     "metadata": {},
     "output_type": "execute_result"
    }
   ],
   "source": [
    "data2.sort_values(by=['edad'],ascending=False)"
   ]
  },
  {
   "cell_type": "markdown",
   "metadata": {
    "pycharm": {
     "name": "#%% md\n"
    }
   },
   "source": [
    "## Ejercicio 10\n",
    "\n",
    "¿Cuál es el promedio de horas trabajadas de los jóvenes entre 14 y 25 años y poco calificados?\n",
    "\n",
    "Ayuda:\n",
    "    \n",
    "Combina varias máscaras booleanas"
   ]
  },
  {
   "cell_type": "code",
   "execution_count": 48,
   "metadata": {
    "pycharm": {
     "name": "#%%\n"
    }
   },
   "outputs": [
    {
     "data": {
      "text/plain": "edad                  21.399402\nhoras_trabajadas      38.014959\ningreso             4392.124159\ndtype: float64"
     },
     "execution_count": 48,
     "metadata": {},
     "output_type": "execute_result"
    }
   ],
   "source": [
    "jovenes = (data2['edad'] >=14) & (data2['edad'] <=25)\n",
    "poco_calificados= data2['nivel_educativo'] == '1_H/Sec inc'\n",
    "\n",
    "data2[jovenes & poco_calificados].mean()"
   ]
  },
  {
   "cell_type": "code",
   "execution_count": 79,
   "outputs": [
    {
     "data": {
      "text/plain": "edad                 16.266667\nhs_trabajados        27.161905\ningreso_ult_mes    2542.914286\ndtype: float64"
     },
     "execution_count": 79,
     "metadata": {},
     "output_type": "execute_result"
    }
   ],
   "source": [],
   "metadata": {
    "collapsed": false,
    "pycharm": {
     "name": "#%%\n"
    }
   }
  },
  {
   "cell_type": "markdown",
   "metadata": {
    "pycharm": {
     "name": "#%% md\n"
    }
   },
   "source": [
    "## Ejercicio 11\n",
    "\n",
    "Generemos un nuevo dataframe con los trabajadores que ganan más del promedio de ingresos general y están por debajo de la cantidad media de horas trabajadas. ¿Cuántos trabajadores se encuentran en esta condición? ¿Cuál es su edad mediana?\n",
    "\n",
    "Ayuda:\n",
    "\n",
    "Calcular el promedio de ingresos y la media de horas trabajadas\n",
    "\n",
    "Construir máscaras booleanas con estos valores\n",
    "\n",
    "Indexar data con la combinación de las máscaras construidas\n"
   ]
  },
  {
   "cell_type": "code",
   "execution_count": 52,
   "outputs": [
    {
     "data": {
      "text/plain": "       edad    nivel_educativo  horas_trabajadas     calificacion  ingreso\n10       72        1_H/Sec inc                15    1_Prof./Tecn.   8300.0\n12       43  2_Sec. comp y más                15    1_Prof./Tecn.  11000.0\n47       33  2_Sec. comp y más                39    1_Prof./Tecn.   9500.0\n48       55        1_H/Sec inc                30  2_Op./No calif.  13000.0\n88       46        1_H/Sec inc                36    1_Prof./Tecn.  10000.0\n...     ...                ...               ...              ...      ...\n23393    30  2_Sec. comp y más                30  2_Op./No calif.  10000.0\n23397    46  2_Sec. comp y más                36  2_Op./No calif.  10100.0\n23398    38  2_Sec. comp y más                35  2_Op./No calif.   8500.0\n23430    62  2_Sec. comp y más                30    1_Prof./Tecn.   8500.0\n23442    41  2_Sec. comp y más                39  2_Op./No calif.   9500.0\n\n[2132 rows x 5 columns]",
      "text/html": "<div>\n<style scoped>\n    .dataframe tbody tr th:only-of-type {\n        vertical-align: middle;\n    }\n\n    .dataframe tbody tr th {\n        vertical-align: top;\n    }\n\n    .dataframe thead th {\n        text-align: right;\n    }\n</style>\n<table border=\"1\" class=\"dataframe\">\n  <thead>\n    <tr style=\"text-align: right;\">\n      <th></th>\n      <th>edad</th>\n      <th>nivel_educativo</th>\n      <th>horas_trabajadas</th>\n      <th>calificacion</th>\n      <th>ingreso</th>\n    </tr>\n  </thead>\n  <tbody>\n    <tr>\n      <th>10</th>\n      <td>72</td>\n      <td>1_H/Sec inc</td>\n      <td>15</td>\n      <td>1_Prof./Tecn.</td>\n      <td>8300.0</td>\n    </tr>\n    <tr>\n      <th>12</th>\n      <td>43</td>\n      <td>2_Sec. comp y más</td>\n      <td>15</td>\n      <td>1_Prof./Tecn.</td>\n      <td>11000.0</td>\n    </tr>\n    <tr>\n      <th>47</th>\n      <td>33</td>\n      <td>2_Sec. comp y más</td>\n      <td>39</td>\n      <td>1_Prof./Tecn.</td>\n      <td>9500.0</td>\n    </tr>\n    <tr>\n      <th>48</th>\n      <td>55</td>\n      <td>1_H/Sec inc</td>\n      <td>30</td>\n      <td>2_Op./No calif.</td>\n      <td>13000.0</td>\n    </tr>\n    <tr>\n      <th>88</th>\n      <td>46</td>\n      <td>1_H/Sec inc</td>\n      <td>36</td>\n      <td>1_Prof./Tecn.</td>\n      <td>10000.0</td>\n    </tr>\n    <tr>\n      <th>...</th>\n      <td>...</td>\n      <td>...</td>\n      <td>...</td>\n      <td>...</td>\n      <td>...</td>\n    </tr>\n    <tr>\n      <th>23393</th>\n      <td>30</td>\n      <td>2_Sec. comp y más</td>\n      <td>30</td>\n      <td>2_Op./No calif.</td>\n      <td>10000.0</td>\n    </tr>\n    <tr>\n      <th>23397</th>\n      <td>46</td>\n      <td>2_Sec. comp y más</td>\n      <td>36</td>\n      <td>2_Op./No calif.</td>\n      <td>10100.0</td>\n    </tr>\n    <tr>\n      <th>23398</th>\n      <td>38</td>\n      <td>2_Sec. comp y más</td>\n      <td>35</td>\n      <td>2_Op./No calif.</td>\n      <td>8500.0</td>\n    </tr>\n    <tr>\n      <th>23430</th>\n      <td>62</td>\n      <td>2_Sec. comp y más</td>\n      <td>30</td>\n      <td>1_Prof./Tecn.</td>\n      <td>8500.0</td>\n    </tr>\n    <tr>\n      <th>23442</th>\n      <td>41</td>\n      <td>2_Sec. comp y más</td>\n      <td>39</td>\n      <td>2_Op./No calif.</td>\n      <td>9500.0</td>\n    </tr>\n  </tbody>\n</table>\n<p>2132 rows × 5 columns</p>\n</div>"
     },
     "execution_count": 52,
     "metadata": {},
     "output_type": "execute_result"
    }
   ],
   "source": [
    "ingreso_mayor_avg= data2['ingreso'] > data2['ingreso'].mean()\n",
    "horas_menor_avg = data2['horas_trabajadas'] < data2['horas_trabajadas'].mean()\n",
    "\n",
    "nuevo_df = pd.DataFrame(data2[ingreso_mayor_avg & horas_menor_avg])\n",
    "nuevo_df"
   ],
   "metadata": {
    "collapsed": false,
    "pycharm": {
     "name": "#%%\n"
    }
   }
  },
  {
   "cell_type": "code",
   "execution_count": 89,
   "outputs": [
    {
     "data": {
      "text/plain": "       edad    nivel_educativo  hs_trabajados calif_ocupacional  \\\n10       72        1_H/Sec inc             15     1_Prof./Tecn.   \n12       43  2_Sec. comp y más             15     1_Prof./Tecn.   \n47       33  2_Sec. comp y más             39     1_Prof./Tecn.   \n48       55        1_H/Sec inc             30   2_Op./No calif.   \n88       46        1_H/Sec inc             36     1_Prof./Tecn.   \n...     ...                ...            ...               ...   \n23393    30  2_Sec. comp y más             30   2_Op./No calif.   \n23397    46  2_Sec. comp y más             36   2_Op./No calif.   \n23398    38  2_Sec. comp y más             35   2_Op./No calif.   \n23430    62  2_Sec. comp y más             30     1_Prof./Tecn.   \n23442    41  2_Sec. comp y más             39   2_Op./No calif.   \n\n       ingreso_ult_mes  \n10              8300.0  \n12             11000.0  \n47              9500.0  \n48             13000.0  \n88             10000.0  \n...                ...  \n23393          10000.0  \n23397          10100.0  \n23398           8500.0  \n23430           8500.0  \n23442           9500.0  \n\n[2132 rows x 5 columns]",
      "text/html": "<div>\n<style scoped>\n    .dataframe tbody tr th:only-of-type {\n        vertical-align: middle;\n    }\n\n    .dataframe tbody tr th {\n        vertical-align: top;\n    }\n\n    .dataframe thead th {\n        text-align: right;\n    }\n</style>\n<table border=\"1\" class=\"dataframe\">\n  <thead>\n    <tr style=\"text-align: right;\">\n      <th></th>\n      <th>edad</th>\n      <th>nivel_educativo</th>\n      <th>hs_trabajados</th>\n      <th>calif_ocupacional</th>\n      <th>ingreso_ult_mes</th>\n    </tr>\n  </thead>\n  <tbody>\n    <tr>\n      <th>10</th>\n      <td>72</td>\n      <td>1_H/Sec inc</td>\n      <td>15</td>\n      <td>1_Prof./Tecn.</td>\n      <td>8300.0</td>\n    </tr>\n    <tr>\n      <th>12</th>\n      <td>43</td>\n      <td>2_Sec. comp y más</td>\n      <td>15</td>\n      <td>1_Prof./Tecn.</td>\n      <td>11000.0</td>\n    </tr>\n    <tr>\n      <th>47</th>\n      <td>33</td>\n      <td>2_Sec. comp y más</td>\n      <td>39</td>\n      <td>1_Prof./Tecn.</td>\n      <td>9500.0</td>\n    </tr>\n    <tr>\n      <th>48</th>\n      <td>55</td>\n      <td>1_H/Sec inc</td>\n      <td>30</td>\n      <td>2_Op./No calif.</td>\n      <td>13000.0</td>\n    </tr>\n    <tr>\n      <th>88</th>\n      <td>46</td>\n      <td>1_H/Sec inc</td>\n      <td>36</td>\n      <td>1_Prof./Tecn.</td>\n      <td>10000.0</td>\n    </tr>\n    <tr>\n      <th>...</th>\n      <td>...</td>\n      <td>...</td>\n      <td>...</td>\n      <td>...</td>\n      <td>...</td>\n    </tr>\n    <tr>\n      <th>23393</th>\n      <td>30</td>\n      <td>2_Sec. comp y más</td>\n      <td>30</td>\n      <td>2_Op./No calif.</td>\n      <td>10000.0</td>\n    </tr>\n    <tr>\n      <th>23397</th>\n      <td>46</td>\n      <td>2_Sec. comp y más</td>\n      <td>36</td>\n      <td>2_Op./No calif.</td>\n      <td>10100.0</td>\n    </tr>\n    <tr>\n      <th>23398</th>\n      <td>38</td>\n      <td>2_Sec. comp y más</td>\n      <td>35</td>\n      <td>2_Op./No calif.</td>\n      <td>8500.0</td>\n    </tr>\n    <tr>\n      <th>23430</th>\n      <td>62</td>\n      <td>2_Sec. comp y más</td>\n      <td>30</td>\n      <td>1_Prof./Tecn.</td>\n      <td>8500.0</td>\n    </tr>\n    <tr>\n      <th>23442</th>\n      <td>41</td>\n      <td>2_Sec. comp y más</td>\n      <td>39</td>\n      <td>2_Op./No calif.</td>\n      <td>9500.0</td>\n    </tr>\n  </tbody>\n</table>\n<p>2132 rows × 5 columns</p>\n</div>"
     },
     "execution_count": 89,
     "metadata": {},
     "output_type": "execute_result"
    }
   ],
   "source": [],
   "metadata": {
    "collapsed": false,
    "pycharm": {
     "name": "#%%\n"
    }
   }
  },
  {
   "cell_type": "code",
   "execution_count": 87,
   "outputs": [
    {
     "data": {
      "text/plain": "              edad  hs_trabajados  ingreso_ult_mes\ncount  2132.000000    2132.000000      2132.000000\nmean     45.046904      28.575047     13718.699343\nstd      12.900320       7.192760      7637.810681\nmin      18.000000       1.000000      8150.000000\n25%      35.000000      25.000000      9800.000000\n50%      44.000000      30.000000     11900.000000\n75%      54.000000      35.000000     15000.000000\nmax      85.000000      39.000000    130000.000000",
      "text/html": "<div>\n<style scoped>\n    .dataframe tbody tr th:only-of-type {\n        vertical-align: middle;\n    }\n\n    .dataframe tbody tr th {\n        vertical-align: top;\n    }\n\n    .dataframe thead th {\n        text-align: right;\n    }\n</style>\n<table border=\"1\" class=\"dataframe\">\n  <thead>\n    <tr style=\"text-align: right;\">\n      <th></th>\n      <th>edad</th>\n      <th>hs_trabajados</th>\n      <th>ingreso_ult_mes</th>\n    </tr>\n  </thead>\n  <tbody>\n    <tr>\n      <th>count</th>\n      <td>2132.000000</td>\n      <td>2132.000000</td>\n      <td>2132.000000</td>\n    </tr>\n    <tr>\n      <th>mean</th>\n      <td>45.046904</td>\n      <td>28.575047</td>\n      <td>13718.699343</td>\n    </tr>\n    <tr>\n      <th>std</th>\n      <td>12.900320</td>\n      <td>7.192760</td>\n      <td>7637.810681</td>\n    </tr>\n    <tr>\n      <th>min</th>\n      <td>18.000000</td>\n      <td>1.000000</td>\n      <td>8150.000000</td>\n    </tr>\n    <tr>\n      <th>25%</th>\n      <td>35.000000</td>\n      <td>25.000000</td>\n      <td>9800.000000</td>\n    </tr>\n    <tr>\n      <th>50%</th>\n      <td>44.000000</td>\n      <td>30.000000</td>\n      <td>11900.000000</td>\n    </tr>\n    <tr>\n      <th>75%</th>\n      <td>54.000000</td>\n      <td>35.000000</td>\n      <td>15000.000000</td>\n    </tr>\n    <tr>\n      <th>max</th>\n      <td>85.000000</td>\n      <td>39.000000</td>\n      <td>130000.000000</td>\n    </tr>\n  </tbody>\n</table>\n</div>"
     },
     "execution_count": 87,
     "metadata": {},
     "output_type": "execute_result"
    }
   ],
   "source": [],
   "metadata": {
    "collapsed": false,
    "pycharm": {
     "name": "#%%\n"
    }
   }
  },
  {
   "cell_type": "markdown",
   "source": [],
   "metadata": {
    "collapsed": false,
    "pycharm": {
     "name": "#%% md\n"
    }
   }
  }
 ],
 "metadata": {
  "kernelspec": {
   "display_name": "Python 3",
   "language": "python",
   "name": "python3"
  },
  "language_info": {
   "codemirror_mode": {
    "name": "ipython",
    "version": 3
   },
   "file_extension": ".py",
   "mimetype": "text/x-python",
   "name": "python",
   "nbconvert_exporter": "python",
   "pygments_lexer": "ipython3",
   "version": "3.8.5"
  }
 },
 "nbformat": 4,
 "nbformat_minor": 4
}