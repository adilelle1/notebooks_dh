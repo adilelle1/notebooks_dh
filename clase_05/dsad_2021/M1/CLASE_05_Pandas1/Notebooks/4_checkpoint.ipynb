{
 "cells": [
  {
   "cell_type": "code",
   "execution_count": 4,
   "metadata": {
    "pycharm": {
     "name": "#%%\n"
    }
   },
   "outputs": [
    {
     "name": "stdout",
     "output_type": "stream",
     "text": [
      "/media/paulati/Nuevo vol/paula/dh/2021/dsad_2021_paula/common\n",
      "default checking\n",
      "Running command `conda list`... ok\n",
      "jupyterlab=2.2.6 already installed\n",
      "pandas=1.1.5 already installed\n",
      "bokeh=2.2.3 already installed\n",
      "seaborn=0.11.0 already installed\n",
      "matplotlib=3.3.2 already installed\n",
      "ipywidgets=7.5.1 already installed\n",
      "pytest=6.2.1 already installed\n",
      "chardet=4.0.0 already installed\n",
      "psutil=5.7.2 already installed\n",
      "scipy=1.5.2 already installed\n",
      "statsmodels=0.12.1 already installed\n",
      "scikit-learn=0.23.2 already installed\n",
      "xlrd=2.0.1 already installed\n",
      "Running command `conda install --yes nltk=3.5.0`... ok\n",
      "Collecting package metadata (current_repodata.json): ...working... done\n",
      "Solving environment: ...working... done\n",
      "\n",
      "# All requested packages already installed.\n",
      "\n",
      "\n",
      "unidecode=1.1.1 already installed\n",
      "pydotplus=2.0.2 already installed\n",
      "pandas-datareader=0.9.0 already installed\n",
      "flask=1.1.2 already installed\n"
     ]
    }
   ],
   "source": [
    "%run \"../../../common/0_notebooks_base_setup.py\""
   ]
  },
  {
   "cell_type": "markdown",
   "metadata": {
    "pycharm": {
     "name": "#%% md\n"
    }
   },
   "source": [
    "---\n",
    "\n",
    "<img src='../../../common/logo_DH.png' align='left' width=35%/>\n"
   ]
  },
  {
   "cell_type": "markdown",
   "metadata": {
    "pycharm": {
     "name": "#%% md\n"
    }
   },
   "source": [
    "## Documentación pandas\n",
    "\n",
    "https://pandas.pydata.org/pandas-docs/stable/index.html\n",
    "\n",
    " "
   ]
  },
  {
   "cell_type": "markdown",
   "metadata": {
    "pycharm": {
     "name": "#%% md\n"
    }
   },
   "source": [
    "## Dataset\n",
    "\n",
    "El dataset que usaremos es una versión muy resumida de datos de la Encuesta Permanentes de Hogares (relevamiento llevado adelante por el INDEC). Se trata de una encuesta continua que tiene como objetivo fundamental generar información sobre el funcionamiento del mercado de trabajo.\n",
    "\n",
    "Solamente utilizaremos algunas variables (edad, nivel educativo, cantidad de horas trabajadas, calificación de la tarea e ingreso laboral) y algunos casos (los ocupados, es decir, aquellos que han trabajado al menos una hora en la semana anterior al relevamiento).\n",
    "\n",
    "Este dataset es el mismo que emplearemos en la clase presencial, y en estos ejercicios buscamos  familiarizarnos con él y revisar algunos temas.\n"
   ]
  },
  {
   "cell_type": "markdown",
   "metadata": {
    "pycharm": {
     "name": "#%% md\n"
    }
   },
   "source": [
    "Importamos la biblioteca pandas y asignamos pd como alias:"
   ]
  },
  {
   "cell_type": "code",
   "execution_count": 1,
   "metadata": {
    "pycharm": {
     "name": "#%%\n"
    }
   },
   "outputs": [],
   "source": [
    "import pandas as pd"
   ]
  },
  {
   "cell_type": "markdown",
   "metadata": {
    "pycharm": {
     "name": "#%% md\n"
    }
   },
   "source": [
    "## Ejercicio 1\n",
    "\n",
    "Busquemos en la documentación de pandas la sintaxis del método `read_csv` y leamos en un `DataFrame` llamado data los datos del archivo /M1/CLASE_04/Data/data_filt.csv \n",
    "\n",
    "Este archivo tiene algunos datos numéricos y otros de tipo cadena de caracteres. \n",
    "\n",
    "Las columnas son:\n",
    "\n",
    "* ch06: int, edad\n",
    "\n",
    "* nivel_ed: string, nivel educativo\n",
    "\n",
    "* htot: int, cantidad de horas totales trabajadas en el período\n",
    "\n",
    "* calif: string, calificación de la tarea\n",
    "\n",
    "* p47t: int, ingreso\n",
    "\n"
   ]
  },
  {
   "cell_type": "code",
   "execution_count": 6,
   "metadata": {
    "pycharm": {
     "name": "#%%\n"
    }
   },
   "outputs": [],
   "source": [
    "data_location = r'C:\\Users\\alejo\\dh\\notebooks\\clase_05\\dsad_2021\\M1\\CLASE_05_Pandas1\\Data\\data_filt.csv'"
   ]
  },
  {
   "cell_type": "code",
   "execution_count": 17,
   "outputs": [
    {
     "data": {
      "text/plain": "       ch06           nivel_ed  htot            calif     p47t\n0        46        1_H/Sec inc    45  2_Op./No calif.   6000.0\n1        26  2_Sec. comp y más    25  2_Op./No calif.   5000.0\n2        47  2_Sec. comp y más    25  2_Op./No calif.   5000.0\n3        52        1_H/Sec inc    90  2_Op./No calif.  11000.0\n4        45        1_H/Sec inc    44  2_Op./No calif.   9500.0\n...     ...                ...   ...              ...      ...\n23443    45  2_Sec. comp y más    50  2_Op./No calif.   4000.0\n23444    58        1_H/Sec inc    30  2_Op./No calif.   5000.0\n23445    36  2_Sec. comp y más    40  2_Op./No calif.  13000.0\n23446    49        1_H/Sec inc    40  2_Op./No calif.   4000.0\n23447    36        1_H/Sec inc    54  2_Op./No calif.   8000.0\n\n[23448 rows x 5 columns]",
      "text/html": "<div>\n<style scoped>\n    .dataframe tbody tr th:only-of-type {\n        vertical-align: middle;\n    }\n\n    .dataframe tbody tr th {\n        vertical-align: top;\n    }\n\n    .dataframe thead th {\n        text-align: right;\n    }\n</style>\n<table border=\"1\" class=\"dataframe\">\n  <thead>\n    <tr style=\"text-align: right;\">\n      <th></th>\n      <th>ch06</th>\n      <th>nivel_ed</th>\n      <th>htot</th>\n      <th>calif</th>\n      <th>p47t</th>\n    </tr>\n  </thead>\n  <tbody>\n    <tr>\n      <th>0</th>\n      <td>46</td>\n      <td>1_H/Sec inc</td>\n      <td>45</td>\n      <td>2_Op./No calif.</td>\n      <td>6000.0</td>\n    </tr>\n    <tr>\n      <th>1</th>\n      <td>26</td>\n      <td>2_Sec. comp y más</td>\n      <td>25</td>\n      <td>2_Op./No calif.</td>\n      <td>5000.0</td>\n    </tr>\n    <tr>\n      <th>2</th>\n      <td>47</td>\n      <td>2_Sec. comp y más</td>\n      <td>25</td>\n      <td>2_Op./No calif.</td>\n      <td>5000.0</td>\n    </tr>\n    <tr>\n      <th>3</th>\n      <td>52</td>\n      <td>1_H/Sec inc</td>\n      <td>90</td>\n      <td>2_Op./No calif.</td>\n      <td>11000.0</td>\n    </tr>\n    <tr>\n      <th>4</th>\n      <td>45</td>\n      <td>1_H/Sec inc</td>\n      <td>44</td>\n      <td>2_Op./No calif.</td>\n      <td>9500.0</td>\n    </tr>\n    <tr>\n      <th>...</th>\n      <td>...</td>\n      <td>...</td>\n      <td>...</td>\n      <td>...</td>\n      <td>...</td>\n    </tr>\n    <tr>\n      <th>23443</th>\n      <td>45</td>\n      <td>2_Sec. comp y más</td>\n      <td>50</td>\n      <td>2_Op./No calif.</td>\n      <td>4000.0</td>\n    </tr>\n    <tr>\n      <th>23444</th>\n      <td>58</td>\n      <td>1_H/Sec inc</td>\n      <td>30</td>\n      <td>2_Op./No calif.</td>\n      <td>5000.0</td>\n    </tr>\n    <tr>\n      <th>23445</th>\n      <td>36</td>\n      <td>2_Sec. comp y más</td>\n      <td>40</td>\n      <td>2_Op./No calif.</td>\n      <td>13000.0</td>\n    </tr>\n    <tr>\n      <th>23446</th>\n      <td>49</td>\n      <td>1_H/Sec inc</td>\n      <td>40</td>\n      <td>2_Op./No calif.</td>\n      <td>4000.0</td>\n    </tr>\n    <tr>\n      <th>23447</th>\n      <td>36</td>\n      <td>1_H/Sec inc</td>\n      <td>54</td>\n      <td>2_Op./No calif.</td>\n      <td>8000.0</td>\n    </tr>\n  </tbody>\n</table>\n<p>23448 rows × 5 columns</p>\n</div>"
     },
     "execution_count": 17,
     "metadata": {},
     "output_type": "execute_result"
    }
   ],
   "source": [
    "data = pd.read_csv(data_location,sep=',', encoding='latin-1')\n",
    "\n",
    "data"
   ],
   "metadata": {
    "collapsed": false,
    "pycharm": {
     "name": "#%%\n"
    }
   }
  },
  {
   "cell_type": "markdown",
   "metadata": {
    "pycharm": {
     "name": "#%% md\n"
    }
   },
   "source": [
    "## Ejercicio 2\n",
    "\n",
    "Repasemos el concepto de índice y columnas de un `DataFrame`\n",
    "\n",
    "Accedamos al índice (nombres de las filas) del `DataFrame` data\n",
    "\n",
    "Accedamos a los nombres de columnas del `DataFrame` data\n"
   ]
  },
  {
   "cell_type": "code",
   "execution_count": 9,
   "metadata": {
    "pycharm": {
     "name": "#%%\n"
    }
   },
   "outputs": [
    {
     "data": {
      "text/plain": "   ch06           nivel_ed  htot            calif     p47t\n0    46        1_H/Sec inc    45  2_Op./No calif.   6000.0\n1    26  2_Sec. comp y más    25  2_Op./No calif.   5000.0\n2    47  2_Sec. comp y más    25  2_Op./No calif.   5000.0\n3    52        1_H/Sec inc    90  2_Op./No calif.  11000.0\n4    45        1_H/Sec inc    44  2_Op./No calif.   9500.0",
      "text/html": "<div>\n<style scoped>\n    .dataframe tbody tr th:only-of-type {\n        vertical-align: middle;\n    }\n\n    .dataframe tbody tr th {\n        vertical-align: top;\n    }\n\n    .dataframe thead th {\n        text-align: right;\n    }\n</style>\n<table border=\"1\" class=\"dataframe\">\n  <thead>\n    <tr style=\"text-align: right;\">\n      <th></th>\n      <th>ch06</th>\n      <th>nivel_ed</th>\n      <th>htot</th>\n      <th>calif</th>\n      <th>p47t</th>\n    </tr>\n  </thead>\n  <tbody>\n    <tr>\n      <th>0</th>\n      <td>46</td>\n      <td>1_H/Sec inc</td>\n      <td>45</td>\n      <td>2_Op./No calif.</td>\n      <td>6000.0</td>\n    </tr>\n    <tr>\n      <th>1</th>\n      <td>26</td>\n      <td>2_Sec. comp y más</td>\n      <td>25</td>\n      <td>2_Op./No calif.</td>\n      <td>5000.0</td>\n    </tr>\n    <tr>\n      <th>2</th>\n      <td>47</td>\n      <td>2_Sec. comp y más</td>\n      <td>25</td>\n      <td>2_Op./No calif.</td>\n      <td>5000.0</td>\n    </tr>\n    <tr>\n      <th>3</th>\n      <td>52</td>\n      <td>1_H/Sec inc</td>\n      <td>90</td>\n      <td>2_Op./No calif.</td>\n      <td>11000.0</td>\n    </tr>\n    <tr>\n      <th>4</th>\n      <td>45</td>\n      <td>1_H/Sec inc</td>\n      <td>44</td>\n      <td>2_Op./No calif.</td>\n      <td>9500.0</td>\n    </tr>\n  </tbody>\n</table>\n</div>"
     },
     "execution_count": 9,
     "metadata": {},
     "output_type": "execute_result"
    }
   ],
   "source": [
    "data.head(5)\n"
   ]
  },
  {
   "cell_type": "markdown",
   "metadata": {
    "pycharm": {
     "name": "#%% md\n"
    }
   },
   "source": [
    "Vamos a modificar ahora el índice de data, así el valor del índice no coincide con la posición y podemos notar diferencias en los ejercicios que siguen."
   ]
  },
  {
   "cell_type": "code",
   "execution_count": 22,
   "metadata": {
    "pycharm": {
     "name": "#%%\n"
    }
   },
   "outputs": [
    {
     "name": "stdout",
     "output_type": "stream",
     "text": [
      "RangeIndex(start=7, stop=23455, step=1)\n"
     ]
    },
    {
     "data": {
      "text/plain": "    ch06           nivel_ed  htot            calif     p47t\n7     46        1_H/Sec inc    45  2_Op./No calif.   6000.0\n8     26  2_Sec. comp y más    25  2_Op./No calif.   5000.0\n9     47  2_Sec. comp y más    25  2_Op./No calif.   5000.0\n10    52        1_H/Sec inc    90  2_Op./No calif.  11000.0\n11    45        1_H/Sec inc    44  2_Op./No calif.   9500.0",
      "text/html": "<div>\n<style scoped>\n    .dataframe tbody tr th:only-of-type {\n        vertical-align: middle;\n    }\n\n    .dataframe tbody tr th {\n        vertical-align: top;\n    }\n\n    .dataframe thead th {\n        text-align: right;\n    }\n</style>\n<table border=\"1\" class=\"dataframe\">\n  <thead>\n    <tr style=\"text-align: right;\">\n      <th></th>\n      <th>ch06</th>\n      <th>nivel_ed</th>\n      <th>htot</th>\n      <th>calif</th>\n      <th>p47t</th>\n    </tr>\n  </thead>\n  <tbody>\n    <tr>\n      <th>7</th>\n      <td>46</td>\n      <td>1_H/Sec inc</td>\n      <td>45</td>\n      <td>2_Op./No calif.</td>\n      <td>6000.0</td>\n    </tr>\n    <tr>\n      <th>8</th>\n      <td>26</td>\n      <td>2_Sec. comp y más</td>\n      <td>25</td>\n      <td>2_Op./No calif.</td>\n      <td>5000.0</td>\n    </tr>\n    <tr>\n      <th>9</th>\n      <td>47</td>\n      <td>2_Sec. comp y más</td>\n      <td>25</td>\n      <td>2_Op./No calif.</td>\n      <td>5000.0</td>\n    </tr>\n    <tr>\n      <th>10</th>\n      <td>52</td>\n      <td>1_H/Sec inc</td>\n      <td>90</td>\n      <td>2_Op./No calif.</td>\n      <td>11000.0</td>\n    </tr>\n    <tr>\n      <th>11</th>\n      <td>45</td>\n      <td>1_H/Sec inc</td>\n      <td>44</td>\n      <td>2_Op./No calif.</td>\n      <td>9500.0</td>\n    </tr>\n  </tbody>\n</table>\n</div>"
     },
     "execution_count": 22,
     "metadata": {},
     "output_type": "execute_result"
    }
   ],
   "source": [
    "\n",
    "data.index = data.index + 7\n",
    "print(data.index)\n",
    "data.head(5)"
   ]
  },
  {
   "cell_type": "markdown",
   "metadata": {
    "pycharm": {
     "name": "#%% md\n"
    }
   },
   "source": [
    "## Ejercicio 3\n",
    "\n",
    "Repasemos el uso de `loc` e `iloc`\n",
    "\n",
    "* `loc` nos permite acceder a un elemento por su índice\n",
    "\n",
    "* `iloc` nos permite acceder a un elemento por su posición\n",
    "\n",
    "Leamos con `loc` y con `iloc` la cuarta fila de data\n",
    "\n",
    "¿Cómo accedemos al valor del índice en la cuarta fila?"
   ]
  },
  {
   "cell_type": "code",
   "execution_count": 32,
   "metadata": {
    "pycharm": {
     "name": "#%%\n"
    }
   },
   "outputs": [
    {
     "data": {
      "text/plain": "   ch06     nivel_ed  htot            calif    p47t\n7    46  1_H/Sec inc    45  2_Op./No calif.  6000.0",
      "text/html": "<div>\n<style scoped>\n    .dataframe tbody tr th:only-of-type {\n        vertical-align: middle;\n    }\n\n    .dataframe tbody tr th {\n        vertical-align: top;\n    }\n\n    .dataframe thead th {\n        text-align: right;\n    }\n</style>\n<table border=\"1\" class=\"dataframe\">\n  <thead>\n    <tr style=\"text-align: right;\">\n      <th></th>\n      <th>ch06</th>\n      <th>nivel_ed</th>\n      <th>htot</th>\n      <th>calif</th>\n      <th>p47t</th>\n    </tr>\n  </thead>\n  <tbody>\n    <tr>\n      <th>7</th>\n      <td>46</td>\n      <td>1_H/Sec inc</td>\n      <td>45</td>\n      <td>2_Op./No calif.</td>\n      <td>6000.0</td>\n    </tr>\n  </tbody>\n</table>\n</div>"
     },
     "execution_count": 32,
     "metadata": {},
     "output_type": "execute_result"
    }
   ],
   "source": [
    "data.loc[:7,:]"
   ]
  },
  {
   "cell_type": "code",
   "execution_count": 38,
   "outputs": [],
   "source": [
    "fila4 = data.iloc[3:4,:]"
   ],
   "metadata": {
    "collapsed": false,
    "pycharm": {
     "name": "#%%\n"
    }
   }
  },
  {
   "cell_type": "code",
   "execution_count": 39,
   "outputs": [
    {
     "data": {
      "text/plain": "RangeIndex(start=10, stop=11, step=1)"
     },
     "execution_count": 39,
     "metadata": {},
     "output_type": "execute_result"
    }
   ],
   "source": [
    "fila4.index"
   ],
   "metadata": {
    "collapsed": false,
    "pycharm": {
     "name": "#%%\n"
    }
   }
  },
  {
   "cell_type": "markdown",
   "metadata": {
    "pycharm": {
     "name": "#%% md\n"
    }
   },
   "source": [
    "\n",
    "## Ejercicio 4\n",
    "\n",
    "Repasemos el uso de `loc` combinado con máscaras booleanas.\n",
    "\n",
    "Queremos construir un objeto `DataFrame` con los registros de edad menor a 15 o mayor igual a 70.\n"
   ]
  },
  {
   "cell_type": "code",
   "execution_count": 54,
   "outputs": [],
   "source": [
    "edad_70= (data.ch06 >= 70)\n",
    "df1 = data.loc[edad_70,:]"
   ],
   "metadata": {
    "collapsed": false,
    "pycharm": {
     "name": "#%%\n"
    }
   }
  },
  {
   "cell_type": "code",
   "execution_count": 55,
   "metadata": {
    "pycharm": {
     "name": "#%%\n"
    }
   },
   "outputs": [],
   "source": [
    "edad_15 = (data.ch06 < 15)\n",
    "df2 =data.loc[edad_15 ,:]\n"
   ]
  },
  {
   "cell_type": "code",
   "execution_count": 56,
   "outputs": [
    {
     "data": {
      "text/plain": "       ch06           nivel_ed  htot            calif     p47t\n17       72        1_H/Sec inc    15    1_Prof./Tecn.   8300.0\n251      71  2_Sec. comp y más     8    1_Prof./Tecn.   7102.0\n416      71        1_H/Sec inc    63  2_Op./No calif.  11800.0\n663      72  2_Sec. comp y más    44    1_Prof./Tecn.  17000.0\n773      84  2_Sec. comp y más    30    1_Prof./Tecn.   7800.0\n...     ...                ...   ...              ...      ...\n16666    13        1_H/Sec inc    60  2_Op./No calif.   3000.0\n17978    14        1_H/Sec inc     9  2_Op./No calif.   1350.0\n19663    14        1_H/Sec inc     5  2_Op./No calif.    150.0\n19863    12        1_H/Sec inc    15  2_Op./No calif.   1200.0\n20057    12        1_H/Sec inc    20  2_Op./No calif.   1600.0\n\n[289 rows x 5 columns]",
      "text/html": "<div>\n<style scoped>\n    .dataframe tbody tr th:only-of-type {\n        vertical-align: middle;\n    }\n\n    .dataframe tbody tr th {\n        vertical-align: top;\n    }\n\n    .dataframe thead th {\n        text-align: right;\n    }\n</style>\n<table border=\"1\" class=\"dataframe\">\n  <thead>\n    <tr style=\"text-align: right;\">\n      <th></th>\n      <th>ch06</th>\n      <th>nivel_ed</th>\n      <th>htot</th>\n      <th>calif</th>\n      <th>p47t</th>\n    </tr>\n  </thead>\n  <tbody>\n    <tr>\n      <th>17</th>\n      <td>72</td>\n      <td>1_H/Sec inc</td>\n      <td>15</td>\n      <td>1_Prof./Tecn.</td>\n      <td>8300.0</td>\n    </tr>\n    <tr>\n      <th>251</th>\n      <td>71</td>\n      <td>2_Sec. comp y más</td>\n      <td>8</td>\n      <td>1_Prof./Tecn.</td>\n      <td>7102.0</td>\n    </tr>\n    <tr>\n      <th>416</th>\n      <td>71</td>\n      <td>1_H/Sec inc</td>\n      <td>63</td>\n      <td>2_Op./No calif.</td>\n      <td>11800.0</td>\n    </tr>\n    <tr>\n      <th>663</th>\n      <td>72</td>\n      <td>2_Sec. comp y más</td>\n      <td>44</td>\n      <td>1_Prof./Tecn.</td>\n      <td>17000.0</td>\n    </tr>\n    <tr>\n      <th>773</th>\n      <td>84</td>\n      <td>2_Sec. comp y más</td>\n      <td>30</td>\n      <td>1_Prof./Tecn.</td>\n      <td>7800.0</td>\n    </tr>\n    <tr>\n      <th>...</th>\n      <td>...</td>\n      <td>...</td>\n      <td>...</td>\n      <td>...</td>\n      <td>...</td>\n    </tr>\n    <tr>\n      <th>16666</th>\n      <td>13</td>\n      <td>1_H/Sec inc</td>\n      <td>60</td>\n      <td>2_Op./No calif.</td>\n      <td>3000.0</td>\n    </tr>\n    <tr>\n      <th>17978</th>\n      <td>14</td>\n      <td>1_H/Sec inc</td>\n      <td>9</td>\n      <td>2_Op./No calif.</td>\n      <td>1350.0</td>\n    </tr>\n    <tr>\n      <th>19663</th>\n      <td>14</td>\n      <td>1_H/Sec inc</td>\n      <td>5</td>\n      <td>2_Op./No calif.</td>\n      <td>150.0</td>\n    </tr>\n    <tr>\n      <th>19863</th>\n      <td>12</td>\n      <td>1_H/Sec inc</td>\n      <td>15</td>\n      <td>2_Op./No calif.</td>\n      <td>1200.0</td>\n    </tr>\n    <tr>\n      <th>20057</th>\n      <td>12</td>\n      <td>1_H/Sec inc</td>\n      <td>20</td>\n      <td>2_Op./No calif.</td>\n      <td>1600.0</td>\n    </tr>\n  </tbody>\n</table>\n<p>289 rows × 5 columns</p>\n</div>"
     },
     "execution_count": 56,
     "metadata": {},
     "output_type": "execute_result"
    }
   ],
   "source": [
    "frames= [df1,df2]\n",
    "result = pd.concat(frames)\n",
    "result\n"
   ],
   "metadata": {
    "collapsed": false,
    "pycharm": {
     "name": "#%%\n"
    }
   }
  },
  {
   "cell_type": "markdown",
   "metadata": {
    "pycharm": {
     "name": "#%% md\n"
    }
   },
   "source": [
    "## Ejercicio 5\n",
    "\n",
    "Calculemos algunas métricas sobre un objeto `DataFrame`\n",
    "\n",
    "* Promedio de edad\n",
    "\n",
    "* Máximo de horas trabajadas\n",
    "\n",
    "* Mediana de ingreso"
   ]
  },
  {
   "cell_type": "code",
   "execution_count": 57,
   "metadata": {
    "pycharm": {
     "name": "#%%\n"
    }
   },
   "outputs": [],
   "source": [
    "import numpy as np\n"
   ]
  },
  {
   "cell_type": "code",
   "execution_count": 58,
   "metadata": {
    "pycharm": {
     "name": "#%%\n"
    }
   },
   "outputs": [
    {
     "data": {
      "text/plain": "40.455689184578645"
     },
     "execution_count": 58,
     "metadata": {},
     "output_type": "execute_result"
    }
   ],
   "source": [
    "np.mean(data.ch06)"
   ]
  },
  {
   "cell_type": "code",
   "execution_count": 59,
   "outputs": [
    {
     "data": {
      "text/plain": "168"
     },
     "execution_count": 59,
     "metadata": {},
     "output_type": "execute_result"
    }
   ],
   "source": [
    "np.max(data.htot)"
   ],
   "metadata": {
    "collapsed": false,
    "pycharm": {
     "name": "#%%\n"
    }
   }
  },
  {
   "cell_type": "code",
   "execution_count": 60,
   "outputs": [
    {
     "data": {
      "text/plain": "7000.0"
     },
     "execution_count": 60,
     "metadata": {},
     "output_type": "execute_result"
    }
   ],
   "source": [
    "np.median(data.p47t)"
   ],
   "metadata": {
    "collapsed": false,
    "pycharm": {
     "name": "#%%\n"
    }
   }
  },
  {
   "cell_type": "code",
   "execution_count": 64,
   "outputs": [],
   "source": [
    "data2 = data.rename(columns={'ch06':'edad','htot':'horas_trabajadas','p47t':'ingreso','calif':'calificacion','nivel_ed':'nivel_educativo'})\n"
   ],
   "metadata": {
    "collapsed": false,
    "pycharm": {
     "name": "#%%\n"
    }
   }
  },
  {
   "cell_type": "code",
   "execution_count": 65,
   "outputs": [
    {
     "data": {
      "text/plain": "       edad    nivel_educativo  horas_trabajadas     calificacion  ingreso\n7        46        1_H/Sec inc                45  2_Op./No calif.   6000.0\n8        26  2_Sec. comp y más                25  2_Op./No calif.   5000.0\n9        47  2_Sec. comp y más                25  2_Op./No calif.   5000.0\n10       52        1_H/Sec inc                90  2_Op./No calif.  11000.0\n11       45        1_H/Sec inc                44  2_Op./No calif.   9500.0\n...     ...                ...               ...              ...      ...\n23450    45  2_Sec. comp y más                50  2_Op./No calif.   4000.0\n23451    58        1_H/Sec inc                30  2_Op./No calif.   5000.0\n23452    36  2_Sec. comp y más                40  2_Op./No calif.  13000.0\n23453    49        1_H/Sec inc                40  2_Op./No calif.   4000.0\n23454    36        1_H/Sec inc                54  2_Op./No calif.   8000.0\n\n[23448 rows x 5 columns]",
      "text/html": "<div>\n<style scoped>\n    .dataframe tbody tr th:only-of-type {\n        vertical-align: middle;\n    }\n\n    .dataframe tbody tr th {\n        vertical-align: top;\n    }\n\n    .dataframe thead th {\n        text-align: right;\n    }\n</style>\n<table border=\"1\" class=\"dataframe\">\n  <thead>\n    <tr style=\"text-align: right;\">\n      <th></th>\n      <th>edad</th>\n      <th>nivel_educativo</th>\n      <th>horas_trabajadas</th>\n      <th>calificacion</th>\n      <th>ingreso</th>\n    </tr>\n  </thead>\n  <tbody>\n    <tr>\n      <th>7</th>\n      <td>46</td>\n      <td>1_H/Sec inc</td>\n      <td>45</td>\n      <td>2_Op./No calif.</td>\n      <td>6000.0</td>\n    </tr>\n    <tr>\n      <th>8</th>\n      <td>26</td>\n      <td>2_Sec. comp y más</td>\n      <td>25</td>\n      <td>2_Op./No calif.</td>\n      <td>5000.0</td>\n    </tr>\n    <tr>\n      <th>9</th>\n      <td>47</td>\n      <td>2_Sec. comp y más</td>\n      <td>25</td>\n      <td>2_Op./No calif.</td>\n      <td>5000.0</td>\n    </tr>\n    <tr>\n      <th>10</th>\n      <td>52</td>\n      <td>1_H/Sec inc</td>\n      <td>90</td>\n      <td>2_Op./No calif.</td>\n      <td>11000.0</td>\n    </tr>\n    <tr>\n      <th>11</th>\n      <td>45</td>\n      <td>1_H/Sec inc</td>\n      <td>44</td>\n      <td>2_Op./No calif.</td>\n      <td>9500.0</td>\n    </tr>\n    <tr>\n      <th>...</th>\n      <td>...</td>\n      <td>...</td>\n      <td>...</td>\n      <td>...</td>\n      <td>...</td>\n    </tr>\n    <tr>\n      <th>23450</th>\n      <td>45</td>\n      <td>2_Sec. comp y más</td>\n      <td>50</td>\n      <td>2_Op./No calif.</td>\n      <td>4000.0</td>\n    </tr>\n    <tr>\n      <th>23451</th>\n      <td>58</td>\n      <td>1_H/Sec inc</td>\n      <td>30</td>\n      <td>2_Op./No calif.</td>\n      <td>5000.0</td>\n    </tr>\n    <tr>\n      <th>23452</th>\n      <td>36</td>\n      <td>2_Sec. comp y más</td>\n      <td>40</td>\n      <td>2_Op./No calif.</td>\n      <td>13000.0</td>\n    </tr>\n    <tr>\n      <th>23453</th>\n      <td>49</td>\n      <td>1_H/Sec inc</td>\n      <td>40</td>\n      <td>2_Op./No calif.</td>\n      <td>4000.0</td>\n    </tr>\n    <tr>\n      <th>23454</th>\n      <td>36</td>\n      <td>1_H/Sec inc</td>\n      <td>54</td>\n      <td>2_Op./No calif.</td>\n      <td>8000.0</td>\n    </tr>\n  </tbody>\n</table>\n<p>23448 rows × 5 columns</p>\n</div>"
     },
     "execution_count": 65,
     "metadata": {},
     "output_type": "execute_result"
    }
   ],
   "source": [
    "data2"
   ],
   "metadata": {
    "collapsed": false,
    "pycharm": {
     "name": "#%%\n"
    }
   }
  }
 ],
 "metadata": {
  "kernelspec": {
   "display_name": "Python 3",
   "language": "python",
   "name": "python3"
  },
  "language_info": {
   "codemirror_mode": {
    "name": "ipython",
    "version": 3
   },
   "file_extension": ".py",
   "mimetype": "text/x-python",
   "name": "python",
   "nbconvert_exporter": "python",
   "pygments_lexer": "ipython3",
   "version": "3.8.5"
  }
 },
 "nbformat": 4,
 "nbformat_minor": 4
}