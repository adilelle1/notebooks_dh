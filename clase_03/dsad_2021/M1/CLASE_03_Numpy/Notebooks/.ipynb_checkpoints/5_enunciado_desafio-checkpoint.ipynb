{
 "cells": [
  {
   "cell_type": "code",
   "execution_count": 1,
   "metadata": {
    "pycharm": {
     "name": "#%%\n"
    }
   },
   "outputs": [
    {
     "name": "stdout",
     "output_type": "stream",
     "text": [
      "/media/paulati/Nuevo vol/paula/dh/2021/dsad_2021_paula/common\n",
      "default checking\n",
      "Running command `conda list`... ok\n",
      "jupyterlab=2.2.6 already installed\n",
      "pandas=1.1.5 already installed\n",
      "bokeh=2.2.3 already installed\n",
      "seaborn=0.11.0 already installed\n",
      "matplotlib=3.3.2 already installed\n",
      "ipywidgets=7.5.1 already installed\n",
      "pytest=6.2.1 already installed\n",
      "chardet=4.0.0 already installed\n",
      "psutil=5.7.2 already installed\n",
      "scipy=1.5.2 already installed\n",
      "statsmodels=0.12.1 already installed\n",
      "scikit-learn=0.23.2 already installed\n",
      "xlrd=2.0.1 already installed\n",
      "Running command `conda install --yes nltk=3.5.0`... ok\n",
      "Collecting package metadata (current_repodata.json): ...working... done\n",
      "Solving environment: ...working... done\n",
      "\n",
      "# All requested packages already installed.\n",
      "\n",
      "\n",
      "unidecode=1.1.1 already installed\n",
      "pydotplus=2.0.2 already installed\n",
      "pandas-datareader=0.9.0 already installed\n",
      "flask=1.1.2 already installed\n"
     ]
    }
   ],
   "source": [
    "# settings local:\n",
    "%run \"../../../common/0_notebooks_base_setup.py\"   "
   ]
  },
  {
   "cell_type": "markdown",
   "metadata": {
    "pycharm": {
     "name": "#%% md\n"
    }
   },
   "source": [
    "---\n",
    "\n",
    "<img src='../../../common/logo_DH.png' align='left' width=35%/>\n"
   ]
  },
  {
   "cell_type": "markdown",
   "metadata": {
    "pycharm": {
     "name": "#%% md\n"
    }
   },
   "source": [
    "En la práctica de la clase de hoy usaremos un dataset de Kaggle que tiene datos de ventas:\n",
    "\n",
    "https://www.kaggle.com/kyanyoga/sample-sales-data\n",
    "\n",
    "Ustedes tienen un subconjunto de los datos disponibles, que usaremos para resolver ejercicios de Numpy."
   ]
  },
  {
   "cell_type": "markdown",
   "metadata": {
    "pycharm": {
     "name": "#%% md\n"
    }
   },
   "source": [
    "## Ejercicio 1\n",
    "\n",
    "Leer los datos del archivo /M1/CLASE_03_Numpy/Data/sales_data_sample_excercise.csv\n",
    "\n",
    "Este archivo tiene algunos datos numéricos y otros de tipo cadena de caracteres. \n",
    "\n",
    "Las columnas son:\n",
    "\n",
    "* ORDERNUMBER: int, id de la orden\n",
    "\n",
    "* SALES: float, monto abonado\n",
    "\n",
    "* MONTH_ID: int, mes\n",
    "\n",
    "* YEAR_ID: int, año\n",
    "\n",
    "* PRODUCTLINE: str, producto\n",
    "\n",
    "* COUNTRY: str, país de venta\n",
    "\n",
    "¿Recuerdan que todos los elementos de una instancia de ndarray deben ser del mismo tipo? Entonces vamos a leer el archivo y crear una instancia de ndarray de tipo cadena de caracteres.\n",
    "\n",
    "¿Qué pasaría si intentáramos crear una instancia de tipo int? ¿Y de tipo float?\n"
   ]
  },
  {
   "cell_type": "code",
   "execution_count": 1,
   "metadata": {
    "pycharm": {
     "name": "#%%\n"
    }
   },
   "outputs": [],
   "source": [
    "import numpy as np"
   ]
  },
  {
   "cell_type": "code",
   "execution_count": 2,
   "outputs": [
    {
     "data": {
      "text/plain": "'C:\\\\Users\\\\alejo\\\\dh\\\\notebooks\\\\clase_03\\\\dsad_2021\\\\M1\\\\CLASE_03_Numpy\\\\Notebooks\\\\.ipynb_checkpoints'"
     },
     "execution_count": 2,
     "metadata": {},
     "output_type": "execute_result"
    }
   ],
   "source": [
    "%pwd"
   ],
   "metadata": {
    "collapsed": false,
    "pycharm": {
     "name": "#%%\n"
    }
   }
  },
  {
   "cell_type": "code",
   "execution_count": 19,
   "outputs": [
    {
     "data": {
      "text/plain": "array([['10107', '2871', '2', '2003', 'Motorcycles', 'USA'],\n       ['10121', '2765.9', '5', '2003', 'Motorcycles', 'France'],\n       ['10134', '3884.34', '7', '2003', 'Motorcycles', 'France'],\n       ...,\n       ['10386', '5417.57', '3', '2005', 'Ships', 'Spain'],\n       ['10397', '2116.16', '3', '2005', 'Ships', 'France'],\n       ['10414', '3079.44', '5', '2005', 'Ships', 'USA']], dtype='<U16')"
     },
     "execution_count": 19,
     "metadata": {},
     "output_type": "execute_result"
    }
   ],
   "source": [
    "archivo= '../../Data/sales_data_sample_excercise.csv'\n",
    "\n",
    "data_str = np.genfromtxt(archivo, skip_header=1, delimiter='\\t',dtype=str)\n",
    "data_str"
   ],
   "metadata": {
    "collapsed": false,
    "pycharm": {
     "name": "#%%\n"
    }
   }
  },
  {
   "cell_type": "code",
   "execution_count": 13,
   "outputs": [
    {
     "data": {
      "text/plain": "array([[10107,  2871,     2,  2003,    -1,    -1],\n       [10121,  2765,     5,  2003,    -1,    -1],\n       [10134,  3884,     7,  2003,    -1,    -1],\n       ...,\n       [10386,  5417,     3,  2005,    -1,    -1],\n       [10397,  2116,     3,  2005,    -1,    -1],\n       [10414,  3079,     5,  2005,    -1,    -1]])"
     },
     "execution_count": 13,
     "metadata": {},
     "output_type": "execute_result"
    }
   ],
   "source": [
    "data_int = np.genfromtxt(archivo, skip_header=1, delimiter='\\t', dtype=int)\n",
    "data_int"
   ],
   "metadata": {
    "collapsed": false,
    "pycharm": {
     "name": "#%%\n"
    }
   }
  },
  {
   "cell_type": "code",
   "execution_count": 14,
   "outputs": [
    {
     "data": {
      "text/plain": "array([[1.01070e+04, 2.87100e+03, 2.00000e+00, 2.00300e+03,         nan,\n                nan],\n       [1.01210e+04, 2.76590e+03, 5.00000e+00, 2.00300e+03,         nan,\n                nan],\n       [1.01340e+04, 3.88434e+03, 7.00000e+00, 2.00300e+03,         nan,\n                nan],\n       ...,\n       [1.03860e+04, 5.41757e+03, 3.00000e+00, 2.00500e+03,         nan,\n                nan],\n       [1.03970e+04, 2.11616e+03, 3.00000e+00, 2.00500e+03,         nan,\n                nan],\n       [1.04140e+04, 3.07944e+03, 5.00000e+00, 2.00500e+03,         nan,\n                nan]])"
     },
     "execution_count": 14,
     "metadata": {},
     "output_type": "execute_result"
    }
   ],
   "source": [
    "data_float = np.genfromtxt(archivo, skip_header=1, delimiter='\\t', dtype=float)\n",
    "data_float"
   ],
   "metadata": {
    "collapsed": false,
    "pycharm": {
     "name": "#%%\n"
    }
   }
  },
  {
   "cell_type": "markdown",
   "metadata": {
    "pycharm": {
     "name": "#%% md\n"
    }
   },
   "source": [
    "## Ejercicio 2\n",
    "\n",
    "Crear un array numérico que tenga como valores las columna SALES y otro array de str que tenga como valores la columna COUNTRY\n",
    "\n",
    "Ayuda: https://docs.scipy.org/doc/numpy/reference/generated/numpy.ndarray.astype.html"
   ]
  },
  {
   "cell_type": "code",
   "execution_count": 15,
   "metadata": {
    "pycharm": {
     "name": "#%%\n"
    }
   },
   "outputs": [
    {
     "data": {
      "text/plain": "array([2871.  , 2765.9 , 3884.34, ..., 5417.57, 2116.16, 3079.44])"
     },
     "execution_count": 15,
     "metadata": {},
     "output_type": "execute_result"
    }
   ],
   "source": [
    "sales_array = data_float[:,1]\n",
    "sales_array"
   ]
  },
  {
   "cell_type": "code",
   "execution_count": 20,
   "outputs": [
    {
     "data": {
      "text/plain": "array(['USA', 'France', 'France', ..., 'Spain', 'France', 'USA'],\n      dtype='<U16')"
     },
     "execution_count": 20,
     "metadata": {},
     "output_type": "execute_result"
    }
   ],
   "source": [
    "country_array = data_str[:,-1]\n",
    "country_array"
   ],
   "metadata": {
    "collapsed": false,
    "pycharm": {
     "name": "#%%\n"
    }
   }
  },
  {
   "cell_type": "markdown",
   "metadata": {
    "pycharm": {
     "name": "#%% md\n"
    }
   },
   "source": [
    "## Ejercicio 3\n",
    "\n",
    "¿Cuál fue el monto mínimo de una venta? ¿Cuál fue el monto máximo?"
   ]
  },
  {
   "cell_type": "code",
   "execution_count": 22,
   "metadata": {
    "pycharm": {
     "name": "#%%\n"
    }
   },
   "outputs": [
    {
     "name": "stdout",
     "output_type": "stream",
     "text": [
      "Minimo: 482.13\n",
      "Maximo: 14082.8\n"
     ]
    }
   ],
   "source": [
    "minimo= np.min(sales_array)\n",
    "maximo= np.max(sales_array)\n",
    "print(f'Minimo: {minimo}\\n'\n",
    "      f'Maximo: {maximo}')"
   ]
  },
  {
   "cell_type": "markdown",
   "metadata": {
    "pycharm": {
     "name": "#%% md\n"
    }
   },
   "source": [
    "## Ejercicio 4\n",
    "\n",
    "¿Cuántas ventas se hicieron en Spain?\n",
    "\n",
    "Ayuda: boolean indexing\n"
   ]
  },
  {
   "cell_type": "code",
   "execution_count": 25,
   "metadata": {
    "pycharm": {
     "name": "#%%\n"
    }
   },
   "outputs": [
    {
     "data": {
      "text/plain": "array([ 7516.08,  7329.06, 12001.  ,  5887.35,  9218.16,  5324.4 ,\n        1962.22,  3347.74,  3930.4 ,  4904.  ,  8378.58,  2513.28,\n        2439.57,  7969.36,  3447.78,  5958.5 ,  5393.64,  4801.52,\n        2711.66,  2254.8 ,  4946.76,  7036.89,  6952.12,  3651.56,\n        4615.78,  4516.22,  5069.66,  2694.72,  5951.34,  5195.85,\n        4180.44,  3857.  ,  7182.  ,  4186.73,  3735.72,  4684.8 ,\n        2515.32,  2309.58,  3053.28,  1164.4 ,  4492.36,  2923.2 ,\n        1449.76,  6567.96,  1364.25,  5967.  ,  5399.55,  3846.15,\n        1339.8 ,  4840.87,  3457.92,  7381.16,  6549.2 ,  2428.  ,\n        6712.93,  1322.16,  2255.84,  1331.1 ,  3772.61,  5984.14,\n        2159.96,   728.4 ,  3843.99,  5498.08,  3604.23,  4931.6 ,\n        2795.86,  2647.04,  1859.7 ,  2913.53,  3394.23,  1570.17,\n        2202.48,  7492.4 ,  9534.5 ,  5950.34,   990.78,  4910.4 ,\n        5278.68,  5127.2 ,  2795.27,  3525.6 ,  3390.2 ,  1394.16,\n        4036.04,  2697.6 ,  2793.71,  3441.37,  2921.7 ,  3340.51,\n        5544.02,  3641.57,  3675.63,  5191.12,  1476.48,  4556.99,\n        4409.72,  8291.04,  5554.4 ,  7132.68,  2991.68,  6869.05,\n        3353.02, 11887.8 ,  4837.18,  2573.46,  3070.52,  3814.64,\n        3340.48,  2839.32,  2464.  ,  3128.92,  3035.88,  5127.04,\n        3177.91,  4149.07,  6357.6 ,  3616.64,  2266.56,  1657.57,\n        4609.64,  2538.8 ,  4103.46,  1266.1 ,  5348.5 ,  2528.25,\n        5340.9 ,  6376.58,  3358.31,  3376.64,  3962.88,  1834.36,\n        2611.  ,  5090.5 ,  3023.1 ,  1640.24,  7083.  ,  2314.69,\n        7110.8 ,  5302.8 ,  1556.62,  4203.5 ,  3289.86,  1575.08,\n        1674.75,  4536.  ,  3374.71,  2398.72,  2273.7 ,  3441.82,\n        1942.15,  1863.41,  2314.4 ,  2673.44,  2018.72,  1558.99,\n        1104.6 ,  3550.05,  2399.85,  2218.5 ,  3970.56,  3858.1 ,\n        3310.92,  1376.43,  1189.44,   683.8 ,  2257.92,  4398.9 ,\n        5456.4 ,  6083.  ,  4534.6 ,  1711.22,   913.92,  2349.06,\n        1764.75,  1845.45,  3415.77,  3496.32,  3520.6 ,  5981.42,\n        5684.65,  8498.  ,  3199.98,  2896.65,  3966.3 ,  3918.53,\n        2620.8 ,  1350.  ,  1742.4 ,  1336.44,  1767.43,  2985.84,\n        6089.6 ,  1789.4 ,  1082.1 ,  1611.36,  2182.44,  5580.96,\n        4595.41,  1596.76,   777.  ,  1476.28,  1386.72,  5856.85,\n        3266.1 ,  3910.4 ,  3021.  ,  2149.74,  2344.98,  2076.  ,\n        3478.64,  2206.6 ,  2747.8 ,  1910.84,  3236.1 ,  2231.6 ,\n        4039.26,  6168.  ,  4236.14,  3953.18,  1900.36,  4273.29,\n        1508.5 ,  6996.42,  6949.67,  5302.72,  1757.91,  2948.16,\n        3006.12,  1534.72,   965.04,  4086.29,  2921.62,  5795.72,\n        6311.2 ,  1972.11,  5207.75,  4253.2 ,  3576.12,  3467.2 ,\n        1962.09,  6847.  ,  3565.92,  3390.8 ,  3167.  ,  2670.92,\n        4894.17,  4141.33,  4607.36,  6386.94,  4428.  ,  2642.01,\n        6482.85,  1517.54,  1513.54,  3298.4 ,  1666.7 ,  2071.41,\n        1704.5 ,  1701.76,  2259.72,   925.3 ,  3227.63,  2445.6 ,\n        4406.4 ,  1587.08,  1808.4 ,  1630.2 ,  3139.99,  5669.64,\n        2702.04,  2797.9 ,  3164.4 ,  2307.24,  3600.24,  4326.8 ,\n        1355.13,   820.4 ,  1860.53,  2024.8 ,  3705.24,  4948.2 ,\n        2928.42,  2213.4 ,  3087.05,  3460.86,  1705.92,  1779.71,\n        6490.88,  2282.28,  2668.8 ,  2780.81,  1824.  ,  1487.41,\n        3526.82,  1863.36,  4954.08,  3361.2 ,  2658.  ,  3104.  ,\n        2711.88,  2738.54,  2924.32,  2172.48,  4142.16,  2487.04,\n        2994.75,  4826.25,  3102.08,  2451.84,  3939.5 ,  2185.15,\n        5017.57,  4597.2 ,  2650.56,  3761.37,  3722.32,  2691.09,\n        4094.51,  2052.  ,  3018.88,  4219.2 ,  4407.5 ,  4055.04,\n        2488.32,  2397.54,  4143.6 ,  2204.6 ,  2526.48,  3267.25,\n        2854.75,  2864.4 ,  2487.45,  3801.6 ,  1209.59,  1199.31,\n        4357.5 ,  3003.  ,  2009.2 ,  2109.66,  2244.4 ,  5417.57])"
     },
     "execution_count": 25,
     "metadata": {},
     "output_type": "execute_result"
    }
   ],
   "source": [
    "spain_mask = data_str[:,-1] == 'Spain'\n",
    "spain_sales= sales_array[spain_mask]\n",
    "spain_sales"
   ]
  },
  {
   "cell_type": "markdown",
   "metadata": {
    "pycharm": {
     "name": "#%% md\n"
    }
   },
   "source": [
    "## Ejercicio 5\n",
    "\n",
    "¿Qué porcentaje de las ventas se hicieron en Spain?\n"
   ]
  },
  {
   "cell_type": "code",
   "execution_count": 32,
   "metadata": {
    "pycharm": {
     "name": "#%%\n"
    }
   },
   "outputs": [
    {
     "name": "stdout",
     "output_type": "stream",
     "text": [
      "342\n",
      "2823\n",
      "12.11%\n"
     ]
    }
   ],
   "source": [
    "print(len(spain_sales))\n",
    "print(len(sales_array))\n",
    "print(f'{round(len(spain_sales) / len(sales_array) * 100, 2)}%')\n"
   ]
  },
  {
   "cell_type": "markdown",
   "metadata": {
    "pycharm": {
     "name": "#%% md\n"
    }
   },
   "source": [
    "## Ejercicio 6\n",
    "\n",
    "¿Cuál es el país de la venta de precio máximo? ¿Cuál es el id de esa venta?\n",
    "\n",
    "Ayuda: boolean indexing"
   ]
  },
  {
   "cell_type": "code",
   "execution_count": 42,
   "metadata": {
    "pycharm": {
     "name": "#%%\n"
    }
   },
   "outputs": [
    {
     "data": {
      "text/plain": "array(['10407', '14082.8', '4', '2005', 'Vintage Cars', 'USA'],\n      dtype='<U16')"
     },
     "execution_count": 42,
     "metadata": {},
     "output_type": "execute_result"
    }
   ],
   "source": [
    "mask_max=sales_array.argmax()\n",
    "data_str[mask_max]"
   ]
  },
  {
   "cell_type": "code",
   "execution_count": 43,
   "outputs": [
    {
     "data": {
      "text/plain": "array([['10407', '14082.8', '4', '2005', 'Vintage Cars', 'USA']],\n      dtype='<U16')"
     },
     "execution_count": 43,
     "metadata": {},
     "output_type": "execute_result"
    }
   ],
   "source": [
    "mask_max2 = data_float[:,1] == maximo\n",
    "data_str[mask_max2]"
   ],
   "metadata": {
    "collapsed": false,
    "pycharm": {
     "name": "#%%\n"
    }
   }
  },
  {
   "cell_type": "markdown",
   "metadata": {
    "pycharm": {
     "name": "#%% md\n"
    }
   },
   "source": [
    "## Ejercicio 7\n",
    "\n",
    "¿Cuál es el precio promedio de ventas en France? ¿Cuál es el desvío?"
   ]
  },
  {
   "cell_type": "code",
   "execution_count": 46,
   "metadata": {
    "pycharm": {
     "name": "#%%\n"
    }
   },
   "outputs": [
    {
     "name": "stdout",
     "output_type": "stream",
     "text": [
      "Average: 3537.9507006369427\n",
      "Std: 1939.214360481481\n"
     ]
    }
   ],
   "source": [
    "france_mask = data_str[:,-1] == 'France'\n",
    "fr_sales = sales_array[france_mask]\n",
    "print(f'Average: {np.mean(fr_sales)}\\n'\n",
    "      f'Std: {np.std(fr_sales)}')"
   ]
  },
  {
   "cell_type": "markdown",
   "metadata": {
    "pycharm": {
     "name": "#%% md\n"
    }
   },
   "source": [
    "## Ejercicio 8\n",
    "\n",
    "¿Cuál fue el año con máximo desvío en las ventas en France?\n",
    "\n",
    "Ayuda: https://docs.scipy.org/doc/numpy/reference/generated/numpy.unique.html"
   ]
  },
  {
   "cell_type": "code",
   "execution_count": 49,
   "metadata": {
    "pycharm": {
     "name": "#%%\n"
    }
   },
   "outputs": [
    {
     "name": "stdout",
     "output_type": "stream",
     "text": [
      "In 2003 the standard deviation was 1860.7718844747073\n",
      "In 2004 the standard deviation was 1837.8438485766644\n",
      "In 2005 the standard deviation was 2241.7723043613423\n"
     ]
    }
   ],
   "source": [
    "unique_years = np.unique(data_str[:,3])\n",
    "for year in unique_years:\n",
    "      year_mask= data_str[:,3]==year\n",
    "      var = sales_array[france_mask & year_mask]\n",
    "      print(f'In {year} the standard deviation was {np.std(var)}')\n"
   ]
  }
 ],
 "metadata": {
  "kernelspec": {
   "display_name": "Python 3",
   "language": "python",
   "name": "python3"
  },
  "language_info": {
   "codemirror_mode": {
    "name": "ipython",
    "version": 3
   },
   "file_extension": ".py",
   "mimetype": "text/x-python",
   "name": "python",
   "nbconvert_exporter": "python",
   "pygments_lexer": "ipython3",
   "version": "3.8.5"
  }
 },
 "nbformat": 4,
 "nbformat_minor": 4
}