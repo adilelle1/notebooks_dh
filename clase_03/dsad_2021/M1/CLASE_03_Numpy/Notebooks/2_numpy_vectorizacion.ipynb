{
 "cells": [
  {
   "cell_type": "code",
   "execution_count": 1,
   "metadata": {
    "pycharm": {
     "name": "#%%\n"
    }
   },
   "outputs": [
    {
     "name": "stdout",
     "output_type": "stream",
     "text": [
      "C:\\Users\\alejo\\dh\\notebooks\\clase_03\\dsad_2021\\common\n",
      "default checking\n",
      "Running command `conda list`... ok\n",
      "Running command `conda install --yes jupyterlab=2.2.6`... ok\n",
      "Collecting package metadata (current_repodata.json): ...working... done\n",
      "Solving environment: ...working... failed with initial frozen solve. Retrying with flexible solve.\n",
      "Collecting package metadata (repodata.json): ...working... done\n",
      "Solving environment: ...working... done\n",
      "\n",
      "## Package Plan ##\n",
      "\n",
      "  environment location: C:\\Users\\alejo\\anaconda3\\envs\\notebooks\n",
      "\n",
      "  added / updated specs:\n",
      "    - jupyterlab=2.2.6\n",
      "\n",
      "\n",
      "The following packages will be SUPERSEDED by a higher-priority channel:\n",
      "\n",
      "  jupyterlab         pkgs/main/win-64::jupyterlab-3.4.4-py~ --> pkgs/main/noarch::jupyterlab-2.2.6-pyhd3eb1b0_1\n",
      "  jupyterlab_server  pkgs/main/win-64::jupyterlab_server-2~ --> pkgs/main/noarch::jupyterlab_server-1.2.0-py_0\n",
      "\n",
      "\n",
      "Preparing transaction: ...working... done\n",
      "Verifying transaction: ...working... done\n",
      "Executing transaction: ...working... done\n",
      "\n",
      "Running command `conda install --yes pandas=1.1.5`... ok\n",
      "Collecting package metadata (current_repodata.json): ...working... done\n",
      "Solving environment: ...working... failed with initial frozen solve. Retrying with flexible solve.\n",
      "Collecting package metadata (repodata.json): ...working... done\n",
      "Solving environment: ...working... done\n",
      "\n",
      "## Package Plan ##\n",
      "\n",
      "  environment location: C:\\Users\\alejo\\anaconda3\\envs\\notebooks\n",
      "\n",
      "  added / updated specs:\n",
      "    - pandas=1.1.5\n",
      "\n",
      "\n",
      "The following NEW packages will be INSTALLED:\n",
      "\n",
      "  blas               pkgs/main/win-64::blas-1.0-mkl\n",
      "  intel-openmp       pkgs/main/win-64::intel-openmp-2021.4.0-haa95532_3556\n",
      "  mkl                pkgs/main/win-64::mkl-2021.4.0-haa95532_640\n",
      "  mkl-service        pkgs/main/win-64::mkl-service-2.4.0-py38h2bbff1b_0\n",
      "  mkl_fft            pkgs/main/win-64::mkl_fft-1.3.1-py38h277e83a_0\n",
      "  mkl_random         pkgs/main/win-64::mkl_random-1.2.2-py38hf11a4ad_0\n",
      "  numpy              pkgs/main/win-64::numpy-1.23.1-py38h7a0a035_0\n",
      "  numpy-base         pkgs/main/win-64::numpy-base-1.23.1-py38hca35cd5_0\n",
      "  pandas             pkgs/main/win-64::pandas-1.1.5-py38hf11a4ad_0\n",
      "\n",
      "\n",
      "Preparing transaction: ...working... done\n",
      "Verifying transaction: ...working... done\n",
      "Executing transaction: ...working... done\n",
      "\n",
      "Running command `conda install --yes bokeh=2.2.3`... ok\n",
      "Collecting package metadata (current_repodata.json): ...working... done\n",
      "Solving environment: ...working... failed with initial frozen solve. Retrying with flexible solve.\n",
      "Collecting package metadata (repodata.json): ...working... done\n",
      "Solving environment: ...working... done\n",
      "\n",
      "## Package Plan ##\n",
      "\n",
      "  environment location: C:\\Users\\alejo\\anaconda3\\envs\\notebooks\n",
      "\n",
      "  added / updated specs:\n",
      "    - bokeh=2.2.3\n",
      "\n",
      "\n",
      "The following NEW packages will be INSTALLED:\n",
      "\n",
      "  bokeh              pkgs/main/win-64::bokeh-2.2.3-py38_0\n",
      "  freetype           pkgs/main/win-64::freetype-2.10.4-hd328e21_0\n",
      "  lerc               pkgs/main/win-64::lerc-3.0-hd77b12b_0\n",
      "  libdeflate         pkgs/main/win-64::libdeflate-1.8-h2bbff1b_5\n",
      "  libtiff            pkgs/main/win-64::libtiff-4.4.0-h8a3f274_0\n",
      "  pillow             pkgs/main/win-64::pillow-9.2.0-py38hdc2b20a_1\n",
      "  pyyaml             pkgs/main/win-64::pyyaml-6.0-py38h2bbff1b_1\n",
      "  tk                 pkgs/main/win-64::tk-8.6.12-h2bbff1b_0\n",
      "  xz                 pkgs/main/win-64::xz-5.2.5-h8cc25b3_1\n",
      "  yaml               pkgs/main/win-64::yaml-0.2.5-he774522_0\n",
      "\n",
      "\n",
      "Preparing transaction: ...working... done\n",
      "Verifying transaction: ...working... done\n",
      "Executing transaction: ...working... done\n",
      "\n",
      "Running command `conda install --yes seaborn=0.11.0`... ok\n",
      "Collecting package metadata (current_repodata.json): ...working... done\n",
      "Solving environment: ...working... failed with initial frozen solve. Retrying with flexible solve.\n",
      "Collecting package metadata (repodata.json): ...working... done\n",
      "Solving environment: ...working... done\n",
      "\n",
      "## Package Plan ##\n",
      "\n",
      "  environment location: C:\\Users\\alejo\\anaconda3\\envs\\notebooks\n",
      "\n",
      "  added / updated specs:\n",
      "    - seaborn=0.11.0\n",
      "\n",
      "\n",
      "The following NEW packages will be INSTALLED:\n",
      "\n",
      "  brotli             pkgs/main/win-64::brotli-1.0.9-h2bbff1b_7\n",
      "  brotli-bin         pkgs/main/win-64::brotli-bin-1.0.9-h2bbff1b_7\n",
      "  cycler             pkgs/main/noarch::cycler-0.11.0-pyhd3eb1b0_0\n",
      "  fonttools          pkgs/main/noarch::fonttools-4.25.0-pyhd3eb1b0_0\n",
      "  icc_rt             pkgs/main/win-64::icc_rt-2019.0.0-h0cc432a_1\n",
      "  kiwisolver         pkgs/main/win-64::kiwisolver-1.4.2-py38hd77b12b_0\n",
      "  libbrotlicommon    pkgs/main/win-64::libbrotlicommon-1.0.9-h2bbff1b_7\n",
      "  libbrotlidec       pkgs/main/win-64::libbrotlidec-1.0.9-h2bbff1b_7\n",
      "  libbrotlienc       pkgs/main/win-64::libbrotlienc-1.0.9-h2bbff1b_7\n",
      "  matplotlib         pkgs/main/win-64::matplotlib-3.5.1-py38haa95532_1\n",
      "  matplotlib-base    pkgs/main/win-64::matplotlib-base-3.5.1-py38hd77b12b_1\n",
      "  munkres            pkgs/main/noarch::munkres-1.1.4-py_0\n",
      "  scipy              pkgs/main/win-64::scipy-1.7.3-py38h0a974cb_0\n",
      "  seaborn            pkgs/main/noarch::seaborn-0.11.0-py_0\n",
      "\n",
      "\n",
      "Preparing transaction: ...working... done\n",
      "Verifying transaction: ...working... done\n",
      "Executing transaction: ...working... done\n",
      "\n",
      "Running command `conda install --yes matplotlib=3.3.2`... ok\n",
      "Collecting package metadata (current_repodata.json): ...working... done\n",
      "Solving environment: ...working... failed with initial frozen solve. Retrying with flexible solve.\n",
      "Collecting package metadata (repodata.json): ...working... done\n",
      "Solving environment: ...working... done\n",
      "\n",
      "## Package Plan ##\n",
      "\n",
      "  environment location: C:\\Users\\alejo\\anaconda3\\envs\\notebooks\n",
      "\n",
      "  added / updated specs:\n",
      "    - matplotlib=3.3.2\n",
      "\n",
      "\n",
      "The following packages will be DOWNGRADED:\n",
      "\n",
      "  matplotlib                           3.5.1-py38haa95532_1 --> 3.3.2-haa95532_0\n",
      "  matplotlib-base                      3.5.1-py38hd77b12b_1 --> 3.3.2-py38hba9282a_0\n",
      "\n",
      "\n",
      "Preparing transaction: ...working... done\n",
      "Verifying transaction: ...working... done\n",
      "Executing transaction: ...working... done\n",
      "\n",
      "Running command `conda install --yes ipywidgets=7.5.1`... ok\n",
      "Collecting package metadata (current_repodata.json): ...working... done\n",
      "Solving environment: ...working... failed with initial frozen solve. Retrying with flexible solve.\n",
      "Collecting package metadata (repodata.json): ...working... done\n",
      "Solving environment: ...working... done\n",
      "\n",
      "## Package Plan ##\n",
      "\n",
      "  environment location: C:\\Users\\alejo\\anaconda3\\envs\\notebooks\n",
      "\n",
      "  added / updated specs:\n",
      "    - ipywidgets=7.5.1\n",
      "\n",
      "\n",
      "The following packages will be DOWNGRADED:\n",
      "\n",
      "  ipywidgets                             7.6.5-pyhd3eb1b0_1 --> 7.5.1-py_1\n",
      "\n",
      "\n",
      "Preparing transaction: ...working... done\n",
      "Verifying transaction: ...working... done\n",
      "Executing transaction: ...working... done\n",
      "\n",
      "Running command `conda install --yes pytest=6.2.1`... ok\n",
      "Collecting package metadata (current_repodata.json): ...working... done\n",
      "Solving environment: ...working... failed with initial frozen solve. Retrying with flexible solve.\n",
      "Collecting package metadata (repodata.json): ...working... done\n",
      "Solving environment: ...working... done\n",
      "\n",
      "## Package Plan ##\n",
      "\n",
      "  environment location: C:\\Users\\alejo\\anaconda3\\envs\\notebooks\n",
      "\n",
      "  added / updated specs:\n",
      "    - pytest=6.2.1\n",
      "\n",
      "\n",
      "The following NEW packages will be INSTALLED:\n",
      "\n",
      "  atomicwrites       pkgs/main/noarch::atomicwrites-1.4.0-py_0\n",
      "  iniconfig          pkgs/main/noarch::iniconfig-1.1.1-pyhd3eb1b0_0\n",
      "  more-itertools     pkgs/main/noarch::more-itertools-8.12.0-pyhd3eb1b0_0\n",
      "  pluggy             pkgs/main/win-64::pluggy-0.13.1-py38haa95532_0\n",
      "  py                 pkgs/main/noarch::py-1.11.0-pyhd3eb1b0_0\n",
      "  pytest             pkgs/main/win-64::pytest-6.2.1-py38haa95532_0\n",
      "\n",
      "\n",
      "Preparing transaction: ...working... done\n",
      "Verifying transaction: ...working... done\n",
      "Executing transaction: ...working... done\n",
      "\n",
      "Running command `conda install --yes chardet=4.0.0`... ok\n",
      "Collecting package metadata (current_repodata.json): ...working... done\n",
      "Solving environment: ...working... done\n",
      "\n",
      "## Package Plan ##\n",
      "\n",
      "  environment location: C:\\Users\\alejo\\anaconda3\\envs\\notebooks\n",
      "\n",
      "  added / updated specs:\n",
      "    - chardet=4.0.0\n",
      "\n",
      "\n",
      "The following NEW packages will be INSTALLED:\n",
      "\n",
      "  chardet            pkgs/main/win-64::chardet-4.0.0-py38haa95532_1003\n",
      "\n",
      "\n",
      "Preparing transaction: ...working... done\n",
      "Verifying transaction: ...working... done\n",
      "Executing transaction: ...working... done\n",
      "\n",
      "Running command `conda install --yes psutil=5.7.2`... ok\n",
      "Collecting package metadata (current_repodata.json): ...working... done\n",
      "Solving environment: ...working... failed with initial frozen solve. Retrying with flexible solve.\n",
      "Collecting package metadata (repodata.json): ...working... done\n",
      "Solving environment: ...working... done\n",
      "\n",
      "## Package Plan ##\n",
      "\n",
      "  environment location: C:\\Users\\alejo\\anaconda3\\envs\\notebooks\n",
      "\n",
      "  added / updated specs:\n",
      "    - psutil=5.7.2\n",
      "\n",
      "\n",
      "The following NEW packages will be INSTALLED:\n",
      "\n",
      "  psutil             pkgs/main/win-64::psutil-5.7.2-py38he774522_0\n",
      "\n",
      "\n",
      "Preparing transaction: ...working... done\n",
      "Verifying transaction: ...working... done\n",
      "Executing transaction: ...working... done\n",
      "\n",
      "Running command `conda install --yes scipy=1.5.2`... ok\n",
      "Collecting package metadata (current_repodata.json): ...working... done\n",
      "Solving environment: ...working... failed with initial frozen solve. Retrying with flexible solve.\n",
      "Collecting package metadata (repodata.json): ...working... done\n",
      "Solving environment: ...working... done\n",
      "\n",
      "## Package Plan ##\n",
      "\n",
      "  environment location: C:\\Users\\alejo\\anaconda3\\envs\\notebooks\n",
      "\n",
      "  added / updated specs:\n",
      "    - scipy=1.5.2\n",
      "\n",
      "\n",
      "The following packages will be DOWNGRADED:\n",
      "\n",
      "  mkl                                 2021.4.0-haa95532_640 --> 2020.2-256\n",
      "  mkl-service                          2.4.0-py38h2bbff1b_0 --> 2.3.0-py38h196d8e1_0\n",
      "  mkl_fft                              1.3.1-py38h277e83a_0 --> 1.3.0-py38h46781fe_0\n",
      "  mkl_random                           1.2.2-py38hf11a4ad_0 --> 1.1.1-py38h47e9c7a_0\n",
      "  numpy                               1.23.1-py38h7a0a035_0 --> 1.19.2-py38hadc3359_0\n",
      "  numpy-base                          1.23.1-py38hca35cd5_0 --> 1.19.2-py38ha3acd2a_0\n",
      "  scipy                                1.7.3-py38h0a974cb_0 --> 1.5.2-py38h14eb087_0\n",
      "\n",
      "\n",
      "Preparing transaction: ...working... done\n",
      "Verifying transaction: ...working... done\n",
      "Executing transaction: ...working... done\n",
      "\n",
      "Running command `conda install --yes statsmodels=0.12.1`... ok\n",
      "Collecting package metadata (current_repodata.json): ...working... done\n",
      "Solving environment: ...working... failed with initial frozen solve. Retrying with flexible solve.\n",
      "Collecting package metadata (repodata.json): ...working... done\n",
      "Solving environment: ...working... done\n",
      "\n",
      "## Package Plan ##\n",
      "\n",
      "  environment location: C:\\Users\\alejo\\anaconda3\\envs\\notebooks\n",
      "\n",
      "  added / updated specs:\n",
      "    - statsmodels=0.12.1\n",
      "\n",
      "\n",
      "The following NEW packages will be INSTALLED:\n",
      "\n",
      "  patsy              pkgs/main/win-64::patsy-0.5.2-py38haa95532_1\n",
      "  statsmodels        pkgs/main/win-64::statsmodels-0.12.1-py38h2bbff1b_0\n",
      "\n",
      "\n",
      "Preparing transaction: ...working... done\n",
      "Verifying transaction: ...working... done\n",
      "Executing transaction: ...working... done\n",
      "\n",
      "Running command `conda install --yes scikit-learn=0.23.2`... ok\n",
      "Collecting package metadata (current_repodata.json): ...working... done\n",
      "Solving environment: ...working... failed with initial frozen solve. Retrying with flexible solve.\n",
      "Collecting package metadata (repodata.json): ...working... done\n",
      "Solving environment: ...working... done\n",
      "\n",
      "## Package Plan ##\n",
      "\n",
      "  environment location: C:\\Users\\alejo\\anaconda3\\envs\\notebooks\n",
      "\n",
      "  added / updated specs:\n",
      "    - scikit-learn=0.23.2\n",
      "\n",
      "\n",
      "The following NEW packages will be INSTALLED:\n",
      "\n",
      "  joblib             pkgs/main/noarch::joblib-1.1.0-pyhd3eb1b0_0\n",
      "  scikit-learn       pkgs/main/win-64::scikit-learn-0.23.2-py38h47e9c7a_0\n",
      "  threadpoolctl      pkgs/main/noarch::threadpoolctl-2.2.0-pyh0d69192_0\n",
      "\n",
      "\n",
      "Preparing transaction: ...working... done\n",
      "Verifying transaction: ...working... done\n",
      "Executing transaction: ...working... done\n",
      "\n",
      "Running command `conda install --yes xlrd=2.0.1`... ok\n",
      "Collecting package metadata (current_repodata.json): ...working... done\n",
      "Solving environment: ...working... done\n",
      "\n",
      "## Package Plan ##\n",
      "\n",
      "  environment location: C:\\Users\\alejo\\anaconda3\\envs\\notebooks\n",
      "\n",
      "  added / updated specs:\n",
      "    - xlrd=2.0.1\n",
      "\n",
      "\n",
      "The following NEW packages will be INSTALLED:\n",
      "\n",
      "  xlrd               pkgs/main/noarch::xlrd-2.0.1-pyhd3eb1b0_0\n",
      "\n",
      "\n",
      "Preparing transaction: ...working... done\n",
      "Verifying transaction: ...working... done\n",
      "Executing transaction: ...working... done\n",
      "\n",
      "Running command `conda install --yes nltk=3.5.0`... ok\n",
      "Collecting package metadata (current_repodata.json): ...working... done\n",
      "Solving environment: ...working... failed with initial frozen solve. Retrying with flexible solve.\n",
      "Collecting package metadata (repodata.json): ...working... done\n",
      "Solving environment: ...working... done\n",
      "\n",
      "## Package Plan ##\n",
      "\n",
      "  environment location: C:\\Users\\alejo\\anaconda3\\envs\\notebooks\n",
      "\n",
      "  added / updated specs:\n",
      "    - nltk=3.5.0\n",
      "\n",
      "\n",
      "The following NEW packages will be INSTALLED:\n",
      "\n",
      "  click              pkgs/main/win-64::click-8.0.4-py38haa95532_0\n",
      "  nltk               pkgs/main/noarch::nltk-3.5-py_0\n",
      "  regex              pkgs/main/win-64::regex-2022.7.9-py38h2bbff1b_0\n",
      "  tqdm               pkgs/main/win-64::tqdm-4.64.0-py38haa95532_0\n",
      "\n",
      "\n",
      "Preparing transaction: ...working... done\n",
      "Verifying transaction: ...working... done\n",
      "Executing transaction: ...working... done\n",
      "\n",
      "Running command `conda install --yes unidecode=1.1.1`... ok\n",
      "Collecting package metadata (current_repodata.json): ...working... done\n",
      "Solving environment: ...working... failed with initial frozen solve. Retrying with flexible solve.\n",
      "Collecting package metadata (repodata.json): ...working... done\n",
      "Solving environment: ...working... done\n",
      "\n",
      "## Package Plan ##\n",
      "\n",
      "  environment location: C:\\Users\\alejo\\anaconda3\\envs\\notebooks\n",
      "\n",
      "  added / updated specs:\n",
      "    - unidecode=1.1.1\n",
      "\n",
      "\n",
      "The following NEW packages will be INSTALLED:\n",
      "\n",
      "  unidecode          pkgs/main/noarch::unidecode-1.1.1-py_0\n",
      "\n",
      "\n",
      "Preparing transaction: ...working... done\n",
      "Verifying transaction: ...working... done\n",
      "Executing transaction: ...working... done\n",
      "\n",
      "Running command `conda install --yes pydotplus=2.0.2`... ok\n",
      "Collecting package metadata (current_repodata.json): ...working... done\n",
      "Solving environment: ...working... done\n",
      "\n",
      "## Package Plan ##\n",
      "\n",
      "  environment location: C:\\Users\\alejo\\anaconda3\\envs\\notebooks\n",
      "\n",
      "  added / updated specs:\n",
      "    - pydotplus=2.0.2\n",
      "\n",
      "\n",
      "The following NEW packages will be INSTALLED:\n",
      "\n",
      "  cairo              pkgs/main/win-64::cairo-1.16.0-he04af86_2\n",
      "  expat              pkgs/main/win-64::expat-2.4.4-h6c2663c_0\n",
      "  fribidi            pkgs/main/win-64::fribidi-1.0.10-h62dcd97_0\n",
      "  getopt-win32       pkgs/main/win-64::getopt-win32-0.1-h2bbff1b_0\n",
      "  graphite2          pkgs/main/win-64::graphite2-1.3.14-hd77b12b_1\n",
      "  graphviz           pkgs/main/win-64::graphviz-2.50.0-hdb8b0d4_0\n",
      "  gts                pkgs/main/win-64::gts-0.7.6-h63ab5a1_3\n",
      "  harfbuzz           pkgs/main/win-64::harfbuzz-4.3.0-hda2c7e1_0\n",
      "  libgd              pkgs/main/win-64::libgd-2.3.3-ha43c60c_1\n",
      "  pango              pkgs/main/win-64::pango-1.50.7-h78c2152_0\n",
      "  pixman             pkgs/main/win-64::pixman-0.40.0-h2bbff1b_1\n",
      "  pydotplus          pkgs/main/noarch::pydotplus-2.0.2-py_3\n",
      "\n",
      "\n",
      "Preparing transaction: ...working... done\n",
      "Verifying transaction: ...working... done\n",
      "Executing transaction: ...working... done\n",
      "\n",
      "Running command `conda install --yes pandas-datareader=0.9.0`... ok\n",
      "Collecting package metadata (current_repodata.json): ...working... done\n",
      "Solving environment: ...working... failed with initial frozen solve. Retrying with flexible solve.\n",
      "Collecting package metadata (repodata.json): ...working... done\n",
      "Solving environment: ...working... done\n",
      "\n",
      "## Package Plan ##\n",
      "\n",
      "  environment location: C:\\Users\\alejo\\anaconda3\\envs\\notebooks\n",
      "\n",
      "  added / updated specs:\n",
      "    - pandas-datareader=0.9.0\n",
      "\n",
      "\n",
      "The following NEW packages will be INSTALLED:\n",
      "\n",
      "  lxml               pkgs/main/win-64::lxml-4.9.1-py38h1985fb9_0\n",
      "  pandas-datareader  pkgs/main/noarch::pandas-datareader-0.9.0-py_0\n",
      "\n",
      "\n",
      "Preparing transaction: ...working... done\n",
      "Verifying transaction: ...working... done\n",
      "Executing transaction: ...working... done\n",
      "\n",
      "Running command `conda install --yes flask=1.1.2`... ok\n",
      "Collecting package metadata (current_repodata.json): ...working... done\n",
      "Solving environment: ...working... done\n",
      "\n",
      "## Package Plan ##\n",
      "\n",
      "  environment location: C:\\Users\\alejo\\anaconda3\\envs\\notebooks\n",
      "\n",
      "  added / updated specs:\n",
      "    - flask=1.1.2\n",
      "\n",
      "\n",
      "The following NEW packages will be INSTALLED:\n",
      "\n",
      "  dataclasses        pkgs/main/noarch::dataclasses-0.8-pyh6d0b6a4_7\n",
      "  flask              pkgs/main/noarch::flask-1.1.2-pyhd3eb1b0_0\n",
      "  itsdangerous       pkgs/main/noarch::itsdangerous-2.0.1-pyhd3eb1b0_0\n",
      "  werkzeug           pkgs/main/noarch::werkzeug-2.0.3-pyhd3eb1b0_0\n",
      "\n",
      "\n",
      "Preparing transaction: ...working... done\n",
      "Verifying transaction: ...working... done\n",
      "Executing transaction: ...working... done\n",
      "\n"
     ]
    }
   ],
   "source": [
    "%run \"../../../common/0_notebooks_base_setup.py\"\n",
    "from dhtest import test_2_numpy_vectorizacion"
   ]
  },
  {
   "cell_type": "markdown",
   "metadata": {
    "pycharm": {
     "name": "#%% md\n"
    }
   },
   "source": [
    "---\n",
    "\n",
    "<img src='../../../common/logo_DH.png' align='left' width=35%/>\n"
   ]
  },
  {
   "cell_type": "markdown",
   "metadata": {
    "pycharm": {
     "name": "#%% md\n"
    }
   },
   "source": [
    "# Numpy"
   ]
  },
  {
   "cell_type": "markdown",
   "metadata": {
    "pycharm": {
     "name": "#%% md\n"
    }
   },
   "source": [
    "<a id=\"section_toc\"></a> \n",
    "## Tabla de Contenidos\n",
    "\n",
    "[Intro](#section_intro)\n",
    "\n",
    "[Universal Functions](#section_ufunc)\n",
    "\n",
    "[Métodos matemáticos y estadísticos](#section_statistical)\n",
    "\n",
    "[Broadcasting](#section_broadcasting)\n",
    "\n",
    "---"
   ]
  },
  {
   "cell_type": "markdown",
   "metadata": {
    "toc-hr-collapsed": false,
    "pycharm": {
     "name": "#%% md\n"
    }
   },
   "source": [
    "## Vectorización\n",
    "\n",
    "<a id=\"section_intro\"></a> \n",
    "### Intro\n",
    "[volver a TOC](#section_toc)\n",
    "\n",
    "En esta notebook vamos a usar funciones que se ejecutan en forma vectorial, es decir que realizan operaciones sobre cada uno de los elementos de un array sin usar loops, y por eso son mucho más eficientes.\n",
    "\n",
    "Las operaciones vectorizadas trabajan sobre los datos como un bloque.  Por eso es necesario que los tipos sean homogéneos entre todos los elementos. En operaciones vectorizadas no recorremos los elementos en orden. \n",
    "\n",
    "![Image](img/computacion_vectorial.jpg)"
   ]
  },
  {
   "cell_type": "markdown",
   "metadata": {
    "pycharm": {
     "name": "#%% md\n"
    }
   },
   "source": [
    "<a id=\"section_ufunc\"></a> \n",
    "### Universal Functions \n",
    "[volver a TOC](#section_toc)\n",
    "\n",
    "Son funciones que realizan operaciones sobre cada elemento de un array multidimensional.\n",
    "\n",
    "Estas operaciones se paralelizan y el procesador las completa en un tiempo mucho menor que si aplicásemos un loop y operásemos sobre cada uno de los elementos.\n",
    "\n",
    "A continuación tienen una lista de funciones ufunc unarias y binarias.\n",
    "\n",
    "![Image](img/numpy_unary_ufunc.jpg)\n",
    "\n",
    "![Image](img/numpy_binary_ufunc.jpg)"
   ]
  },
  {
   "cell_type": "markdown",
   "metadata": {
    "pycharm": {
     "name": "#%% md\n"
    }
   },
   "source": [
    "En el siguiente ejemplo vamos a comparar el tiempo de ejecución de calcular 1/x con un loop y con una ufunc.\n",
    "\n",
    "`%timeit` nos devuelve el tiempo empleado en la ejecución de la función que recibe como argumento.\n",
    "\n",
    "Construimos el array sobre el cual vamos a evaluar los distintos tiempos de ejecución"
   ]
  },
  {
   "cell_type": "code",
   "execution_count": 2,
   "metadata": {
    "pycharm": {
     "name": "#%%\n"
    }
   },
   "outputs": [],
   "source": [
    "import numpy as np\n",
    "\n",
    "# Definimos el tamaño del array que vamos a construir\n",
    "big_array_size = 1000000\n",
    "\n",
    "# Definimos la semilla del generador random\n",
    "seed_cualquier_numero = 2843\n",
    "\n",
    "# Creamos el generador \n",
    "random_generator_seed = np.random.default_rng(seed_cualquier_numero)\n",
    "\n",
    "# Creamos el array con elementos de distribución uniforme\n",
    "low = 1\n",
    "high = 100\n",
    "big_array = random_generator_seed.uniform(low, high, size=big_array_size)\n"
   ]
  },
  {
   "cell_type": "code",
   "execution_count": 3,
   "metadata": {
    "pycharm": {
     "name": "#%%\n"
    }
   },
   "outputs": [
    {
     "name": "stdout",
     "output_type": "stream",
     "text": [
      "206 ms ± 15.5 ms per loop (mean ± std. dev. of 7 runs, 1 loop each)\n"
     ]
    },
    {
     "data": {
      "text/plain": "<TimeitResult : 206 ms ± 15.5 ms per loop (mean ± std. dev. of 7 runs, 1 loop each)>"
     },
     "execution_count": 3,
     "metadata": {},
     "output_type": "execute_result"
    }
   ],
   "source": [
    "# Enfoque tradicional usando un loop for para calcular 1/x de cada elemento del array\n",
    "def compute_reciprocals(values):\n",
    "    output = np.empty(len(values))\n",
    "    for i in range(len(values)):\n",
    "        output[i] = 1.0 / values[i]\n",
    "    return output\n",
    "\n",
    "# con -o podemos guardar el resultado de timeit en una variable, time_loop en este caso:\n",
    "%timeit -o compute_reciprocals(big_array)"
   ]
  },
  {
   "cell_type": "code",
   "execution_count": 4,
   "metadata": {
    "pycharm": {
     "name": "#%%\n"
    }
   },
   "outputs": [],
   "source": [
    "# esto asigna el valor del tiempo medido a una variable:\n",
    "time_loop = _"
   ]
  },
  {
   "cell_type": "code",
   "execution_count": 5,
   "metadata": {
    "pycharm": {
     "name": "#%%\n"
    }
   },
   "outputs": [
    {
     "data": {
      "text/plain": "0.20605484285715647"
     },
     "execution_count": 5,
     "metadata": {},
     "output_type": "execute_result"
    }
   ],
   "source": [
    "time_loop_average = time_loop.average\n",
    "time_loop_average"
   ]
  },
  {
   "cell_type": "code",
   "execution_count": 6,
   "metadata": {
    "pycharm": {
     "name": "#%%\n"
    }
   },
   "outputs": [
    {
     "name": "stdout",
     "output_type": "stream",
     "text": [
      "2.14 ms ± 469 µs per loop (mean ± std. dev. of 7 runs, 100 loops each)\n"
     ]
    },
    {
     "data": {
      "text/plain": "<TimeitResult : 2.14 ms ± 469 µs per loop (mean ± std. dev. of 7 runs, 100 loops each)>"
     },
     "execution_count": 6,
     "metadata": {},
     "output_type": "execute_result"
    }
   ],
   "source": [
    "# Enfoque broadcast (explicado mas adelante en esta notebook)\n",
    "%timeit -o (1.0 / big_array)"
   ]
  },
  {
   "cell_type": "code",
   "execution_count": 7,
   "metadata": {
    "pycharm": {
     "name": "#%%\n"
    }
   },
   "outputs": [],
   "source": [
    "time_ufunc = _"
   ]
  },
  {
   "cell_type": "code",
   "execution_count": 8,
   "metadata": {
    "pycharm": {
     "name": "#%%\n"
    }
   },
   "outputs": [
    {
     "data": {
      "text/plain": "0.002136735857142672"
     },
     "execution_count": 8,
     "metadata": {},
     "output_type": "execute_result"
    }
   ],
   "source": [
    "time_ufunc_average = time_ufunc.average\n",
    "time_ufunc_average"
   ]
  },
  {
   "cell_type": "code",
   "execution_count": 9,
   "metadata": {
    "pycharm": {
     "name": "#%%\n"
    }
   },
   "outputs": [
    {
     "name": "stdout",
     "output_type": "stream",
     "text": [
      "2.11 ms ± 416 µs per loop (mean ± std. dev. of 7 runs, 100 loops each)\n"
     ]
    },
    {
     "data": {
      "text/plain": "<TimeitResult : 2.11 ms ± 416 µs per loop (mean ± std. dev. of 7 runs, 100 loops each)>"
     },
     "execution_count": 9,
     "metadata": {},
     "output_type": "execute_result"
    }
   ],
   "source": [
    "# Usando numpy.divide (ufunc) la performance es muy similar\n",
    "%timeit -o np.divide(1.0, big_array)"
   ]
  },
  {
   "cell_type": "code",
   "execution_count": 10,
   "metadata": {
    "pycharm": {
     "name": "#%%\n"
    }
   },
   "outputs": [],
   "source": [
    "time_np_divide = _"
   ]
  },
  {
   "cell_type": "code",
   "execution_count": 11,
   "metadata": {
    "pycharm": {
     "name": "#%%\n"
    }
   },
   "outputs": [
    {
     "data": {
      "text/plain": "0.002113667285714525"
     },
     "execution_count": 11,
     "metadata": {},
     "output_type": "execute_result"
    }
   ],
   "source": [
    "time_np_divide_average = time_np_divide.average\n",
    "time_np_divide_average"
   ]
  },
  {
   "cell_type": "code",
   "execution_count": 12,
   "metadata": {
    "pycharm": {
     "name": "#%%\n"
    }
   },
   "outputs": [
    {
     "name": "stdout",
     "output_type": "stream",
     "text": [
      "tiempo promedio loop:  0.20605484285715647\n",
      "tiempo promedio ufunc:  0.002136735857142672\n",
      "tiempo promedio np.divide:  0.002113667285714525\n",
      "el loop emplea  96.43440117708381  veces más tiempo que ufunc\n",
      "el loop emplea  97.48688653592879  veces más tiempo que np.divide\n"
     ]
    }
   ],
   "source": [
    "print(\"tiempo promedio loop: \", time_loop_average)\n",
    "print(\"tiempo promedio ufunc: \", time_ufunc_average)\n",
    "print(\"tiempo promedio np.divide: \", time_np_divide_average)\n",
    "print(\"el loop emplea \", time_loop_average / time_ufunc_average, \" veces más tiempo que ufunc\")\n",
    "print(\"el loop emplea \",time_loop_average / time_np_divide_average, \" veces más tiempo que np.divide\")"
   ]
  },
  {
   "cell_type": "markdown",
   "metadata": {
    "pycharm": {
     "name": "#%% md\n"
    }
   },
   "source": [
    "<a id=\"section_statistical\"></a> \n",
    "### Métodos matemáticos y estadísticos\n",
    "[volver a TOC](#section_toc)\n",
    "\n",
    "La clase array implementa también métodos que calculan de forma eficiente estadísticas sobre un array.\n",
    "\n",
    "Podemos hacer agregaciones como suma, promedio, desvío standard.\n",
    "\n",
    "A continuación hay una lista de algunos de los métodos disponibles en Numpy:\n",
    "\n",
    "![Image](img/numpy_array_statistical_methods.jpg)\n"
   ]
  },
  {
   "cell_type": "markdown",
   "metadata": {
    "pycharm": {
     "name": "#%% md\n"
    }
   },
   "source": [
    "Veamos algunos ejemplos de uso de estos métodos.\n",
    "\n",
    "Construimos un array que usaremos para comparar tiempos de ejecución de distintos métodos:"
   ]
  },
  {
   "cell_type": "code",
   "execution_count": 13,
   "metadata": {
    "pycharm": {
     "name": "#%%\n"
    }
   },
   "outputs": [],
   "source": [
    "# Definimos el tamaño del array que vamos a construir\n",
    "big_array_size = 1000000\n",
    "\n",
    "# Definimos la semilla del generador random\n",
    "seed_cualquier_numero = 4703\n",
    "\n",
    "# Creamos el generador \n",
    "random_generator_seed = np.random.default_rng(seed_cualquier_numero)\n",
    "\n",
    "# Creamos el array\n",
    "low = 1\n",
    "high = 100\n",
    "big_array = random_generator_seed.uniform(low, high, size=big_array_size)\n"
   ]
  },
  {
   "cell_type": "markdown",
   "metadata": {
    "pycharm": {
     "name": "#%% md\n"
    }
   },
   "source": [
    "Calculamos la suma de los elementos del array usando sum \n",
    "https://docs.python.org/3/library/functions.html#sum\n",
    "\n",
    "Y medimos el tiempo empleado en esto"
   ]
  },
  {
   "cell_type": "code",
   "execution_count": 14,
   "metadata": {
    "pycharm": {
     "name": "#%%\n"
    }
   },
   "outputs": [
    {
     "name": "stdout",
     "output_type": "stream",
     "text": [
      "95.2 ms ± 2.02 ms per loop (mean ± std. dev. of 7 runs, 10 loops each)\n"
     ]
    },
    {
     "data": {
      "text/plain": "<TimeitResult : 95.2 ms ± 2.02 ms per loop (mean ± std. dev. of 7 runs, 10 loops each)>"
     },
     "execution_count": 14,
     "metadata": {},
     "output_type": "execute_result"
    }
   ],
   "source": [
    "%timeit -o sum(big_array)"
   ]
  },
  {
   "cell_type": "code",
   "execution_count": 16,
   "metadata": {
    "pycharm": {
     "name": "#%%\n"
    }
   },
   "outputs": [],
   "source": [
    "python_sum_time = _"
   ]
  },
  {
   "cell_type": "code",
   "execution_count": 17,
   "metadata": {
    "pycharm": {
     "name": "#%%\n"
    }
   },
   "outputs": [
    {
     "data": {
      "text/plain": "0.09516511714285311"
     },
     "execution_count": 17,
     "metadata": {},
     "output_type": "execute_result"
    }
   ],
   "source": [
    "python_sum_time_average = python_sum_time.average\n",
    "python_sum_time_average"
   ]
  },
  {
   "cell_type": "markdown",
   "metadata": {
    "pycharm": {
     "name": "#%% md\n"
    }
   },
   "source": [
    "Calculamos ahora la suma de los elementos del array usando sum de Numpy\n",
    "https://docs.scipy.org/doc/numpy/reference/generated/numpy.sum.html\n",
    "\n",
    "Y medimos el tiempo empleado en esto"
   ]
  },
  {
   "cell_type": "code",
   "execution_count": 18,
   "metadata": {
    "pycharm": {
     "name": "#%%\n"
    }
   },
   "outputs": [
    {
     "name": "stdout",
     "output_type": "stream",
     "text": [
      "453 µs ± 93.8 µs per loop (mean ± std. dev. of 7 runs, 1,000 loops each)\n"
     ]
    },
    {
     "data": {
      "text/plain": "<TimeitResult : 453 µs ± 93.8 µs per loop (mean ± std. dev. of 7 runs, 1,000 loops each)>"
     },
     "execution_count": 18,
     "metadata": {},
     "output_type": "execute_result"
    }
   ],
   "source": [
    "%timeit -o np.sum(big_array)"
   ]
  },
  {
   "cell_type": "code",
   "execution_count": 19,
   "metadata": {
    "pycharm": {
     "name": "#%%\n"
    }
   },
   "outputs": [],
   "source": [
    "numpy_sum_time = _"
   ]
  },
  {
   "cell_type": "code",
   "execution_count": 20,
   "metadata": {
    "pycharm": {
     "name": "#%%\n"
    }
   },
   "outputs": [
    {
     "data": {
      "text/plain": "0.0004528255428570966"
     },
     "execution_count": 20,
     "metadata": {},
     "output_type": "execute_result"
    }
   ],
   "source": [
    "numpy_sum_time_average = numpy_sum_time.average\n",
    "numpy_sum_time_average"
   ]
  },
  {
   "cell_type": "code",
   "execution_count": 21,
   "metadata": {
    "pycharm": {
     "name": "#%%\n"
    }
   },
   "outputs": [
    {
     "name": "stdout",
     "output_type": "stream",
     "text": [
      "Para este array la implementación sum de python emplea 210.1584564828435 veces más tiempo que la implementación sum de Numpy\n"
     ]
    }
   ],
   "source": [
    "print(\"Para este array la implementación sum de python emplea\", python_sum_time_average / numpy_sum_time_average, \n",
    "      \"veces más tiempo que la implementación sum de Numpy\")"
   ]
  },
  {
   "cell_type": "markdown",
   "metadata": {
    "pycharm": {
     "name": "#%% md\n"
    }
   },
   "source": [
    "Ahora vamos a mostrar algunos ejemplos de estas funciones sobre una matriz (array de dos dimensiones)."
   ]
  },
  {
   "cell_type": "code",
   "execution_count": 29,
   "metadata": {
    "pycharm": {
     "name": "#%%\n"
    }
   },
   "outputs": [],
   "source": [
    "\n",
    "# Definimos el tamaño de la matriz que vamos a construir\n",
    "big_array_size = (300, 400)\n",
    "\n",
    "# Definimos la semilla del generador random\n",
    "seed_cualquier_numero = 4703\n",
    "\n",
    "# Creamos el generador \n",
    "random_generator_seed = np.random.default_rng(seed_cualquier_numero)\n",
    "\n",
    "# Creamos el array\n",
    "low = 1\n",
    "high = 100\n",
    "big_array = random_generator_seed.uniform(low, high, size=big_array_size)\n"
   ]
  },
  {
   "cell_type": "markdown",
   "metadata": {
    "pycharm": {
     "name": "#%% md\n"
    }
   },
   "source": [
    "* Suma de todos los elementos de la matriz:"
   ]
  },
  {
   "cell_type": "code",
   "execution_count": 30,
   "metadata": {
    "pycharm": {
     "name": "#%%\n"
    }
   },
   "outputs": [
    {
     "name": "stdout",
     "output_type": "stream",
     "text": [
      "Suma de toda la matriz:  6064843.1555379275\n"
     ]
    }
   ],
   "source": [
    "print(\"Suma de toda la matriz: \", big_array.sum())"
   ]
  },
  {
   "cell_type": "markdown",
   "metadata": {
    "pycharm": {
     "name": "#%% md\n"
    }
   },
   "source": [
    "Es lo mismo que escribir:"
   ]
  },
  {
   "cell_type": "code",
   "execution_count": 31,
   "metadata": {
    "pycharm": {
     "name": "#%%\n"
    }
   },
   "outputs": [
    {
     "data": {
      "text/plain": "6064843.1555379275"
     },
     "execution_count": 31,
     "metadata": {},
     "output_type": "execute_result"
    }
   ],
   "source": [
    "np.sum(big_array)"
   ]
  },
  {
   "cell_type": "markdown",
   "metadata": {
    "pycharm": {
     "name": "#%% md\n"
    }
   },
   "source": [
    "* Mínimo de cada columna, debe devolver un array de longitud igual a la cantidad de columnas de la matriz:\n",
    "\n",
    "`axis` representa el eje que se va a **reducir**\n",
    "\n",
    "En una matriz de dos dimensiones axis 0 representa el eje de las filas, y axis 1 el eje de las columnas\n",
    "\n",
    "Para calcular los mínimos de cada columna debemos reducir las filas, por lo tanto el valor de axis es 0"
   ]
  },
  {
   "cell_type": "code",
   "execution_count": 40,
   "metadata": {
    "pycharm": {
     "name": "#%%\n"
    }
   },
   "outputs": [
    {
     "name": "stdout",
     "output_type": "stream",
     "text": [
      "cantidad de columnas de big_array: 400\n",
      "cantidad de elementos en los mínimos por columnas: 400\n"
     ]
    }
   ],
   "source": [
    "minimos_por_columnas = big_array.min(axis=0)\n",
    "\n",
    "cant_columnas = big_array.shape[1]\n",
    "\n",
    "print(\"cantidad de columnas de big_array:\", cant_columnas)\n",
    "\n",
    "print(\"cantidad de elementos en los mínimos por columnas:\",  len(minimos_por_columnas))\n",
    "\n",
    "#print(\"Mínimos de cada columna: \", minimos_por_columnas)"
   ]
  },
  {
   "cell_type": "markdown",
   "metadata": {
    "pycharm": {
     "name": "#%% md\n"
    }
   },
   "source": [
    "* Máximo de cada fila, debe devolver un array de longitud igual a la cantidad de filas de la matriz:\n",
    "\n",
    "`axis` representa el eje que se va a reducir, en este caso debemos reducir las columnas, por lo tanto el valor de axis es 1\n"
   ]
  },
  {
   "cell_type": "code",
   "execution_count": 41,
   "metadata": {
    "pycharm": {
     "name": "#%%\n"
    }
   },
   "outputs": [
    {
     "name": "stdout",
     "output_type": "stream",
     "text": [
      "cantidad de filas de big_array: 300\n",
      "cantidad de elementos en los máximos por filas: 300\n"
     ]
    }
   ],
   "source": [
    "maximos_por_filas = big_array.max(axis=1)\n",
    "\n",
    "cant_filas = big_array.shape[0]\n",
    "\n",
    "print(\"cantidad de filas de big_array:\", cant_filas)\n",
    "\n",
    "print(\"cantidad de elementos en los máximos por filas:\",  len(maximos_por_filas))\n",
    "\n",
    "#print(\"Máximos de cada fila: \", maximos_por_filas)\n"
   ]
  },
  {
   "cell_type": "markdown",
   "metadata": {
    "pycharm": {
     "name": "#%% md\n"
    }
   },
   "source": [
    "* Suma de los elementos de cada fila\n",
    "\n",
    "en este caso tenemos que reducir columnas, por lo tanto el valor de axis es 1\n",
    "\n",
    "> Recuerden que `big_array.sum(axis=1)` es lo mismo que `np.sum(big_array, axis=1)`"
   ]
  },
  {
   "cell_type": "code",
   "execution_count": 42,
   "metadata": {
    "pycharm": {
     "name": "#%%\n"
    }
   },
   "outputs": [
    {
     "name": "stdout",
     "output_type": "stream",
     "text": [
      "Suma de cada fila:  [18910.33036273 20279.14633071 20456.58297344 19796.15514547\n",
      " 20312.11572238 20166.83973085 19571.65484108 20172.65906289\n",
      " 20721.78910578 20739.00568135 19809.70790564 20612.61873513\n",
      " 20425.50278738 19072.25495072 19568.41708099 19652.86151729\n",
      " 20047.75205379 20147.09003941 19804.32615746 20350.81655519\n",
      " 20273.33281219 18769.85722544 19006.4913321  20410.5636523\n",
      " 20236.25697818 20117.99531226 19977.36466832 20933.91456867\n",
      " 20418.5036841  20530.54326175 19540.2517708  21074.26635655\n",
      " 20062.02056112 20900.32366252 19556.19555206 19466.89151054\n",
      " 19189.42374796 20270.07301021 19798.0866719  21040.84115933\n",
      " 20869.09701017 21220.02649443 20568.0745206  20335.83152359\n",
      " 19391.49009386 19843.10897357 21137.342842   20348.00246468\n",
      " 20784.49623609 20575.13714506 20708.73582908 20487.59057178\n",
      " 20920.82869947 20368.86131967 20944.35872889 20794.20724457\n",
      " 20820.72110523 21183.72676242 20784.95677375 19181.92092683\n",
      " 19918.97842758 20160.39077051 20333.78465588 20592.33594627\n",
      " 20769.76227175 19744.28832037 20344.59785219 20253.92385371\n",
      " 20463.90542232 20892.89193501 19930.72498191 19822.01422014\n",
      " 20484.89536505 20207.44208018 20773.73296712 20269.3433323\n",
      " 19851.9948059  19711.77051272 19875.81873293 19869.88166675\n",
      " 19099.62706995 20788.24969907 19685.04923051 20107.71092149\n",
      " 20704.04173086 21695.11069273 19941.96828817 20676.44099056\n",
      " 19019.32098192 19998.4219802  20539.92070271 19521.30641323\n",
      " 20227.14893978 20291.9843155  21025.58061799 19159.26745922\n",
      " 20965.50470429 19677.18219754 19469.94635863 20956.3363126\n",
      " 20325.67140801 20624.62689523 20496.50663821 21251.03706576\n",
      " 20784.09270166 20216.22147481 19935.0421979  20565.50367249\n",
      " 20234.54171223 19487.81791474 19590.88648001 20267.13641698\n",
      " 21907.09311641 20493.05766733 20186.40245607 19698.00736976\n",
      " 20749.68319107 19553.03049679 20090.0687446  20604.7897511\n",
      " 21120.23715088 19760.75869061 19201.34118206 20842.32238028\n",
      " 21231.38864038 21038.48403076 19468.0939751  19853.65153845\n",
      " 20539.01523839 19992.67610549 20643.42229047 20244.54917349\n",
      " 20692.59308889 19342.94589014 21213.35473215 20805.24452935\n",
      " 19656.86978593 19925.59609085 19621.35750974 20178.24176391\n",
      " 20161.63753156 20452.22024522 20141.16469344 20580.59594296\n",
      " 20989.7781856  19639.82082137 20053.52148551 20871.64525923\n",
      " 20348.06195237 20094.56964398 20269.95663688 19903.80330296\n",
      " 20442.11579269 18613.34280509 18900.46160017 19689.31044265\n",
      " 20761.69573378 20561.27762065 19887.80967601 20247.09435444\n",
      " 19780.24864612 20295.05684933 20852.13795255 19696.21593445\n",
      " 19915.41876252 19548.25737618 20452.16875551 20326.32247713\n",
      " 19908.57195205 20007.45269838 20191.27822382 20500.42051246\n",
      " 20029.20848013 20382.83988958 20718.08523312 20005.02158533\n",
      " 20498.5778782  19892.61200249 19869.49669393 20587.6664935\n",
      " 19243.68578063 20618.77067697 19750.69292162 20942.13622424\n",
      " 20056.74608122 20066.59895787 19921.41295753 20371.00182433\n",
      " 19672.36607787 19624.09588453 20496.28181303 19346.58751575\n",
      " 20672.20090601 19947.36663032 21164.84334044 20197.03200007\n",
      " 19320.27184969 19806.91560567 20143.58166505 19797.25689912\n",
      " 20444.84367767 19731.0474788  19421.97561129 20893.33055074\n",
      " 19899.02644453 19670.58840999 20813.68049557 20298.62225329\n",
      " 19151.79812968 21020.42188554 20274.50196958 20038.84389906\n",
      " 19967.24944781 20297.88294757 20150.11800218 20896.99761532\n",
      " 20012.38169545 21010.4701618  20391.02856773 19062.63436312\n",
      " 21234.55041937 19705.23239043 20031.67839936 21199.51382537\n",
      " 19734.71091434 20145.44175709 20024.32760069 20149.77443148\n",
      " 20400.75892092 20516.9721396  21091.05691309 20835.53484254\n",
      " 19485.53685198 18672.93526228 19698.8753128  19721.39378098\n",
      " 19712.6153568  20229.78800303 19931.56351483 20989.21527316\n",
      " 21343.27709206 20683.9293407  20825.16902056 20271.2937058\n",
      " 20546.30130723 19075.67184391 21003.50839484 19724.12916085\n",
      " 20373.99094054 20291.6424822  21229.58327243 20249.32245639\n",
      " 20065.83744629 20118.88767765 19256.47729608 20715.55029336\n",
      " 20022.0541879  19925.2859752  20714.69649775 20945.74457689\n",
      " 19698.11659969 21266.43036908 20745.89029539 19668.79551649\n",
      " 20692.20659016 19214.50114572 20699.92315177 21763.44462157\n",
      " 21494.5635363  20249.74788185 19499.81358764 19401.19280494\n",
      " 20485.87266242 19802.84416858 18641.48665613 19562.60840952\n",
      " 20310.8109787  20281.40019096 20694.79747408 20575.98319236\n",
      " 19530.85286485 19833.5162922  20646.39658855 19577.81100291\n",
      " 20341.59976063 20050.19353032 20317.45085097 20520.26712942\n",
      " 20333.57131511 20534.95831096 20225.79299637 21048.15063457\n",
      " 21183.65986967 19419.4756296  20673.12387284 19901.21612162\n",
      " 20007.76536231 19593.69482166 20064.73543323 21005.13470631]\n"
     ]
    }
   ],
   "source": [
    "#print(\"Suma de cada fila: \", big_array.sum(axis=1))\n",
    "print(\"Suma de cada fila: \", np.sum(big_array, axis=1))"
   ]
  },
  {
   "cell_type": "markdown",
   "metadata": {
    "pycharm": {
     "name": "#%% md\n"
    }
   },
   "source": [
    "<div id=\"caja5\" style=\"float:left;width: 100%;\">\n",
    "  <div style=\"float:left;width: 15%;\"><img src=\"../../../common/icons/ponete_a_prueba.png\" style=\"align:left\"/> </div>\n",
    "  <div style=\"float:left;width: 85%;\"><label>\n",
    "<b>Ejercicios</b>\n",
    "    \n",
    "1) Generemos un array de 1 dimension con 1000 elementos con distribución normal de media 5 y desvío 2, inicialicemos la semilla en el valor 4703.\n",
    "    \n",
    "2) Usando algunas de las funciones de Numpy listadas en Métodos matemáticos y estadísticos, calculemos la media y el desvío de los elementos del array que construimos en el punto 1.\n",
    "    \n",
    "3) Generemos otro array de dimensiones 100 filas, 20 columnas con distribución normal de media 5 y desvío 2.\n",
    "    \n",
    "4) Usando las mismas funciones que en 2) calculemos la media y el desvío de cada fila del resultado de 3.\n",
    "    \n",
    "5) Usando las mismas funciones que en 2) calculemos la media y el desvío de cada columna del resultado de 3.\n",
    "    \n",
    "*¿Los resultados que obtuvieron son los que esperaban?*\n",
    "    \n",
    "**Ayudas**:\n",
    "    \n",
    "1) Generamos datos normales en 1_numpy.ipynb\n",
    "    \n",
    "4 y 5) Recuerden la existencia del parámetro `axis`\n",
    "\n",
    "**Opcional**:\n",
    "    \n",
    "¿Pueden resolver los puntos 4) y 5) con la misma función?</label></div>\n",
    "</div>\n",
    "\n"
   ]
  },
  {
   "cell_type": "code",
   "execution_count": 44,
   "metadata": {
    "pycharm": {
     "name": "#%%\n"
    }
   },
   "outputs": [
    {
     "name": "stdout",
     "output_type": "stream",
     "text": [
      "ej 1: Bien!\n",
      "ej 2 media: Bien!\n",
      "ej 2 desvio: Bien!\n",
      "ej 3: Bien!\n",
      "ej 4 media filas: Bien!\n",
      "ej 4 desvio filas: Bien!\n",
      "ej 5 media columnas: Bien!\n",
      "ej 5 desvio columnas: Bien!\n"
     ]
    }
   ],
   "source": [
    "def ejercicio1_3(media, desvio, tupla_dim):\n",
    "    # cambiar aqui:\n",
    "    seed = 4703\n",
    "    random_generator = np.random.default_rng(4703)\n",
    "    result = random_generator.normal(media, desvio, size= tupla_dim)\n",
    "    return result\n",
    "\n",
    "def ejercicio2_media(array):\n",
    "    # cambiar aqui:\n",
    "    result = np.mean(array)\n",
    "    return result\n",
    "\n",
    "def ejercicio2_desvio(array):\n",
    "    # cambiar aqui:\n",
    "    result = np.std(array)\n",
    "    return result\n",
    "\n",
    "def ejercicio4_media_filas(data):\n",
    "    # cambiar aqui:\n",
    "    result = np.mean(data, axis=1)\n",
    "    return result\n",
    "\n",
    "def ejercicio4_desvio_filas(data):\n",
    "    # cambiar aqui:\n",
    "    result = np.std(data, axis=1)\n",
    "    return result\n",
    "\n",
    "def ejercicio5_media_columnas(data):\n",
    "    # cambiar aqui:\n",
    "    result = np.mean(data, axis=0)\n",
    "    return result\n",
    "\n",
    "def ejercicio5_desvio_columnas(data):\n",
    "    # cambiar aqui:\n",
    "    result = np.std(data, axis=0)\n",
    "    return result\n",
    "\n",
    "import numpy as np\n",
    "\n",
    "########################################\n",
    "# completar con los parametros adecuados\n",
    "########################################\n",
    "datos = ejercicio1_3(media=5,desvio=2,tupla_dim=1000)\n",
    "print(\"ej 1:\", test_2_numpy_vectorizacion.test_ejercicio1(datos))\n",
    "\n",
    "result2_media = ejercicio2_media(datos)\n",
    "print(\"ej 2 media:\", test_2_numpy_vectorizacion.test_ejercicio2_media(datos, result2_media))\n",
    "\n",
    "result2_desvio = ejercicio2_desvio(datos)\n",
    "print(\"ej 2 desvio:\", test_2_numpy_vectorizacion.test_ejercicio2_desvio(datos, result2_desvio))\n",
    "\n",
    "########################################\n",
    "# completar con los parametros adecuados\n",
    "########################################\n",
    "datos_matrix = ejercicio1_3(media=5, desvio=2,tupla_dim=(100,20))\n",
    "print(\"ej 3:\", test_2_numpy_vectorizacion.test_ejercicio3(datos_matrix))\n",
    "\n",
    "result4_media_filas = ejercicio4_media_filas(datos_matrix)\n",
    "print(\"ej 4 media filas:\", test_2_numpy_vectorizacion.test_ejercicio4_media_filas(datos_matrix, result4_media_filas))\n",
    "\n",
    "result4_desvio_filas = ejercicio4_desvio_filas(datos_matrix)\n",
    "print(\"ej 4 desvio filas:\", test_2_numpy_vectorizacion.test_ejercicio4_desvio_filas(datos_matrix, result4_desvio_filas))\n",
    "\n",
    "result5_media_columnas = ejercicio5_media_columnas(datos_matrix)\n",
    "print(\"ej 5 media columnas:\", test_2_numpy_vectorizacion.test_ejercicio5_media_columnas(datos_matrix, result5_media_columnas))\n",
    "\n",
    "result5_desvio_columnas = ejercicio5_desvio_columnas(datos_matrix)\n",
    "print(\"ej 5 desvio columnas:\", test_2_numpy_vectorizacion.test_ejercicio5_desvio_columnas(datos_matrix, result5_desvio_columnas))\n"
   ]
  },
  {
   "cell_type": "markdown",
   "metadata": {
    "pycharm": {
     "name": "#%% md\n"
    }
   },
   "source": [
    "<a id=\"section_broadcasting\"></a> \n",
    "### Broadcasting\n",
    "[volver a TOC](#section_toc)\n",
    "\n",
    "En conjunto con las ufuncs, el broadcasting es una forma de aplicar operaciones sobre los datos sin tener que escribir loops \"for\" en Python nativo que resultan más lentos.\n",
    "\n",
    "Recordemos que cuando operamos sobre arrays de las mismas dimensiones, se pueden hacer operaciones eficientes elemento a elemento.\n",
    "\n",
    "Numpy tiene un conjunto de reglas para aplicar operaciones elemento a elemento en arrays de diferente tamaño. \n",
    "Se proyectan los valores de los arrays igualando las dimensiones de los argumentos, para poder operar sobre los mismos de forma vecotrizada.\n",
    "\n",
    "![Image](img/broadcasting.jpg)\n",
    "\n",
    "El broadcasting en NumPy sigue un conjunto estricto de reglas para determinar la interacción entre las dos arrays:\n",
    "\n",
    "* Regla 1: si los dos arrays difieren en su número de dimensiones (forma), se rellena con 1s a su izquierda aquel que tiene menos dimensiones. \n",
    "\n",
    "* Regla 2: si el tamaño de los dos arrays no coincide en alguna dimensión, el array con tamaño igual a 1 en esa dimensión se estira para que coincida con el tamaño del otro.\n",
    "\n",
    "* Regla 3: si en alguna dimensión los tamaños son diferentes y ninguno es igual a 1, se genera un error."
   ]
  },
  {
   "cell_type": "code",
   "execution_count": 48,
   "metadata": {
    "pycharm": {
     "name": "#%%\n"
    }
   },
   "outputs": [
    {
     "data": {
      "text/plain": "array([ 7,  9, 11])"
     },
     "execution_count": 48,
     "metadata": {},
     "output_type": "execute_result"
    }
   ],
   "source": [
    "a = np.array([2, 4, 6])\n",
    "b = np.array([5, 5, 5])\n",
    "\n",
    "a + b"
   ]
  },
  {
   "cell_type": "markdown",
   "metadata": {
    "pycharm": {
     "name": "#%% md\n"
    }
   },
   "source": [
    "En el ejemplo de arriba, \"a + b\" es una operación eficiente porque \"a\" y \"b\" tienen la mismas dimensiones. \n",
    "\n",
    "Las reglas de \"broadcasting\" de Numpy, permiten que la operación siga siendo eficiente llevando los elementos involucrados a la misma dimensión y tamaño.\n"
   ]
  },
  {
   "cell_type": "markdown",
   "metadata": {
    "pycharm": {
     "name": "#%% md\n"
    }
   },
   "source": [
    "Veamos en código los ejemplos de la imagen:"
   ]
  },
  {
   "cell_type": "code",
   "execution_count": 49,
   "metadata": {
    "pycharm": {
     "name": "#%%\n"
    }
   },
   "outputs": [
    {
     "data": {
      "text/plain": "array([5, 6, 7])"
     },
     "execution_count": 49,
     "metadata": {},
     "output_type": "execute_result"
    }
   ],
   "source": [
    "# linea 1 de la imagen:\n",
    "\n",
    "a = np.array([0, 1, 2])\n",
    "b = 5\n",
    "a + b"
   ]
  },
  {
   "cell_type": "code",
   "execution_count": 50,
   "metadata": {
    "pycharm": {
     "name": "#%%\n"
    }
   },
   "outputs": [
    {
     "data": {
      "text/plain": "array([[1., 2., 3.],\n       [1., 2., 3.],\n       [1., 2., 3.]])"
     },
     "execution_count": 50,
     "metadata": {},
     "output_type": "execute_result"
    }
   ],
   "source": [
    "# linea 2 de la imagen:\n",
    "a = np.ones((3, 3))\n",
    "b = np.array([0, 1, 2])\n",
    "a + b"
   ]
  },
  {
   "cell_type": "code",
   "execution_count": 31,
   "metadata": {
    "pycharm": {
     "name": "#%%\n"
    }
   },
   "outputs": [],
   "source": [
    "# linea 3 de la imagen:"
   ]
  },
  {
   "cell_type": "code",
   "execution_count": 52,
   "metadata": {
    "pycharm": {
     "name": "#%%\n"
    }
   },
   "outputs": [
    {
     "name": "stdout",
     "output_type": "stream",
     "text": [
      "(3, 1)\n"
     ]
    },
    {
     "data": {
      "text/plain": "array([[0],\n       [1],\n       [2]])"
     },
     "execution_count": 52,
     "metadata": {},
     "output_type": "execute_result"
    }
   ],
   "source": [
    "a = np.array([[0], [1], [2]])\n",
    "print(a.shape)\n",
    "a"
   ]
  },
  {
   "cell_type": "code",
   "execution_count": 53,
   "metadata": {
    "pycharm": {
     "name": "#%%\n"
    }
   },
   "outputs": [
    {
     "name": "stdout",
     "output_type": "stream",
     "text": [
      "(3,)\n"
     ]
    },
    {
     "data": {
      "text/plain": "array([0, 1, 2])"
     },
     "execution_count": 53,
     "metadata": {},
     "output_type": "execute_result"
    }
   ],
   "source": [
    "b = np.array([0, 1, 2])\n",
    "print(b.shape)\n",
    "b"
   ]
  },
  {
   "cell_type": "code",
   "execution_count": 54,
   "metadata": {
    "pycharm": {
     "name": "#%%\n"
    }
   },
   "outputs": [
    {
     "data": {
      "text/plain": "array([[0, 1, 2],\n       [1, 2, 3],\n       [2, 3, 4]])"
     },
     "execution_count": 54,
     "metadata": {},
     "output_type": "execute_result"
    }
   ],
   "source": [
    "a + b"
   ]
  }
 ],
 "metadata": {
  "kernelspec": {
   "display_name": "Python 3 (ipykernel)",
   "language": "python",
   "name": "python3"
  },
  "language_info": {
   "codemirror_mode": {
    "name": "ipython",
    "version": 3
   },
   "file_extension": ".py",
   "mimetype": "text/x-python",
   "name": "python",
   "nbconvert_exporter": "python",
   "pygments_lexer": "ipython3",
   "version": "3.8.13"
  }
 },
 "nbformat": 4,
 "nbformat_minor": 4
}