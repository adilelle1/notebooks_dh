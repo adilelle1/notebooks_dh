{
 "cells": [
  {
   "cell_type": "code",
   "execution_count": null,
   "metadata": {
    "pycharm": {
     "name": "#%%\n"
    }
   },
   "outputs": [],
   "source": [
    "%run \"../../../common/0_notebooks_base_setup.py\"   "
   ]
  },
  {
   "cell_type": "markdown",
   "metadata": {
    "pycharm": {
     "name": "#%% md\n"
    }
   },
   "source": [
    "---\n",
    "\n",
    "<img src='../../../common/logo_DH.png' align='left' width=35%/>\n"
   ]
  },
  {
   "cell_type": "markdown",
   "metadata": {
    "pycharm": {
     "name": "#%% md\n"
    }
   },
   "source": [
    "En la práctica de la clase de hoy usaremos un dataset de Kaggle que tiene datos de ventas:\n",
    "\n",
    "https://www.kaggle.com/kyanyoga/sample-sales-data\n",
    "\n",
    "Ustedes tienen un subconjunto de los datos disponibles para resolver los ejercicios de esta práctica."
   ]
  },
  {
   "cell_type": "markdown",
   "metadata": {
    "pycharm": {
     "name": "#%% md\n"
    }
   },
   "source": [
    "## Ejercicio 1\n",
    "Leer los datos del archivo /M1/CLASE_03/Data/sales_data_sample_excercise.csv\n",
    "\n",
    "Este archivo tiene algunos datos numéricos y otros de tipo cadena de caracteres. \n",
    "\n",
    "Las columnas son:\n",
    "\n",
    "* ORDERNUMBER: int, id de la orden\n",
    "\n",
    "* SALES: float, monto abonado\n",
    "\n",
    "* MONTH_ID: int, mes\n",
    "\n",
    "* YEAR_ID: int, año\n",
    "\n",
    "* PRODUCTLINE: str, producto\n",
    "\n",
    "* COUNTRY: str, país de venta\n",
    "\n",
    "¿Recuerdan que todos los elementos de una instancia de ndarray deben ser del mismo tipo? Entonces vamos a leer el archivo y crear una instancia de ndarray de tipo cadena de caracteres.\n",
    "\n",
    "¿Qué pasaría si intentáramos crear una instancia de tipo int? ¿Y de tipo float?\n"
   ]
  },
  {
   "cell_type": "code",
   "execution_count": 5,
   "metadata": {
    "pycharm": {
     "name": "#%%\n"
    }
   },
   "outputs": [
    {
     "data": {
      "text/plain": "array([['10107', '2871', '2', '2003', 'Motorcycles', 'USA'],\n       ['10121', '2765.9', '5', '2003', 'Motorcycles', 'France'],\n       ['10134', '3884.34', '7', '2003', 'Motorcycles', 'France'],\n       ...,\n       ['10386', '5417.57', '3', '2005', 'Ships', 'Spain'],\n       ['10397', '2116.16', '3', '2005', 'Ships', 'France'],\n       ['10414', '3079.44', '5', '2005', 'Ships', 'USA']], dtype='<U16')"
     },
     "execution_count": 5,
     "metadata": {},
     "output_type": "execute_result"
    }
   ],
   "source": [
    "import numpy as np\n",
    "archivo= '../Data/sales_data_sample_excercise.csv'\n",
    "data_str= np.genfromtxt(archivo, delimiter='\\t', dtype=str, skip_header=1)\n",
    "data_str"
   ]
  },
  {
   "cell_type": "code",
   "execution_count": 7,
   "metadata": {
    "pycharm": {
     "name": "#%%\n"
    }
   },
   "outputs": [
    {
     "data": {
      "text/plain": "array([[1.01070e+04, 2.87100e+03, 2.00000e+00, 2.00300e+03,         nan,\n                nan],\n       [1.01210e+04, 2.76590e+03, 5.00000e+00, 2.00300e+03,         nan,\n                nan],\n       [1.01340e+04, 3.88434e+03, 7.00000e+00, 2.00300e+03,         nan,\n                nan],\n       ...,\n       [1.03860e+04, 5.41757e+03, 3.00000e+00, 2.00500e+03,         nan,\n                nan],\n       [1.03970e+04, 2.11616e+03, 3.00000e+00, 2.00500e+03,         nan,\n                nan],\n       [1.04140e+04, 3.07944e+03, 5.00000e+00, 2.00500e+03,         nan,\n                nan]])"
     },
     "execution_count": 7,
     "metadata": {},
     "output_type": "execute_result"
    }
   ],
   "source": [
    "data_float= np.genfromtxt(archivo, delimiter='\\t', dtype=float, skip_header=1)\n",
    "data_float"
   ]
  },
  {
   "cell_type": "markdown",
   "metadata": {
    "pycharm": {
     "name": "#%% md\n"
    }
   },
   "source": [
    "## Ejercicio 2\n",
    "\n",
    "La función `distribution_plotter` grafica los datos que recibe como parámetro en una instancia de numpy array\n",
    "\n",
    "Graficar los precios de ventas en tres países. ¿Qué pueden decir respecto a sus distribuciones?\n",
    "\n",
    "Comparar las distribuciones con la de los precios de ventas sin distinguir por paises"
   ]
  },
  {
   "cell_type": "code",
   "execution_count": 10,
   "metadata": {
    "pycharm": {
     "name": "#%%\n"
    }
   },
   "outputs": [],
   "source": [
    "import seaborn as sns\n",
    "\n",
    "def distribution_plotter(data, label, bin_width=500):    \n",
    "    sns.set(rc={\"figure.figsize\": (7, 5)})\n",
    "    sns.set_style(\"white\")    \n",
    "    dist = sns.histplot(data, stat = 'count', kde = False, \n",
    "                        line_kws = {'linewidth':5}, \n",
    "                        binwidth = bin_width)    \n",
    "    dist.set_title('Distribucion ' + label + '\\n', fontsize = 16)"
   ]
  },
  {
   "cell_type": "code",
   "execution_count": 9,
   "metadata": {
    "pycharm": {
     "name": "#%%\n"
    }
   },
   "outputs": [],
   "source": [
    "spain_mask= data_str[:,-1] == 'Spain'\n",
    "france_mask = data_str[:,-1] == 'France'\n",
    "usa_mask = data_str[:,-1] == 'USA'"
   ]
  },
  {
   "cell_type": "code",
   "execution_count": 18,
   "metadata": {
    "pycharm": {
     "name": "#%%\n"
    }
   },
   "outputs": [
    {
     "data": {
      "text/plain": "<Figure size 504x360 with 1 Axes>",
      "image/png": "[encoded data removed]"
     },
     "metadata": {},
     "output_type": "display_data"
    }
   ],
   "source": [
    "distribution_plotter(data_float[spain_mask][:,1], 'Spain')"
   ]
  },
  {
   "cell_type": "code",
   "execution_count": 17,
   "metadata": {
    "pycharm": {
     "name": "#%%\n"
    }
   },
   "outputs": [
    {
     "data": {
      "text/plain": "<Figure size 504x360 with 1 Axes>",
      "image/png": "[encoded data removed]"
     },
     "metadata": {},
     "output_type": "display_data"
    }
   ],
   "source": [
    "distribution_plotter(data_float[france_mask][:,1], 'France')\n"
   ]
  },
  {
   "cell_type": "code",
   "execution_count": 19,
   "metadata": {
    "pycharm": {
     "name": "#%%\n"
    }
   },
   "outputs": [
    {
     "data": {
      "text/plain": "<Figure size 504x360 with 1 Axes>",
      "image/png": "[encoded data removed]"
     },
     "metadata": {},
     "output_type": "display_data"
    }
   ],
   "source": [
    "distribution_plotter(data_float[usa_mask][:,1], 'USA')\n"
   ]
  },
  {
   "cell_type": "code",
   "execution_count": null,
   "metadata": {
    "pycharm": {
     "name": "#%%\n"
    }
   },
   "outputs": [],
   "source": []
  },
  {
   "cell_type": "markdown",
   "metadata": {
    "pycharm": {
     "name": "#%% md\n"
    }
   },
   "source": [
    "## Ejercicio 3\n",
    "Para los tres países del punto anterior, calcular con dos decimales\n",
    "* Media\n",
    "* Mediana\n",
    "* Rango\n",
    "* Desvío estandard\n",
    "\n",
    "Repetir para todos los datos de ventas sin distinguir por país.\n",
    "\n",
    "¿Qué conclusiones pueden sacar respecto a la información que brinda cada una de estas medidas en este caso particular?"
   ]
  },
  {
   "cell_type": "code",
   "execution_count": null,
   "metadata": {
    "pycharm": {
     "name": "#%%\n"
    }
   },
   "outputs": [],
   "source": [
    "media_sp= np.mean(data_float[spain_mask])\n",
    "media_fr= np.mean(data_float[france_mask])\n",
    "media_us= np.mean(data_float[usa_mask])\n",
    "\n",
    "median_sp= np.median(data_float[spain_mask])\n",
    "median_fr= np.median(data_float[france_mask])\n",
    "median_us= np.median(data_float[usa_mask])\n",
    "\n",
    "rango_sp= np.max(data_float[spain_mask]) - np.min(data_float[spain_mask])\n",
    "rango_fr= np.max(data_float[france_mask]) - np.min(data_float[france_mask])\n",
    "rango_us= np.max(data_float[usa_mask]) - np.min(data_float[usa_mask])\n",
    "\n"
   ]
  },
  {
   "cell_type": "code",
   "execution_count": 16,
   "metadata": {
    "pycharm": {
     "name": "#%%\n"
    }
   },
   "outputs": [
    {
     "name": "stdout",
     "output_type": "stream",
     "text": [
      "['Spain']\n",
      "avg is 3554.640116959064\n",
      "\n",
      "median is 3213.8050000000003\n",
      "\n",
      "range is 11317.2\n",
      "\n",
      "std is 1833.1375953017705\n",
      "\n",
      "--------------------\n",
      "['France']\n",
      "avg is 3537.9507006369427\n",
      "\n",
      "median is 3154.3050000000003\n",
      "\n",
      "range is 11317.2\n",
      "\n",
      "std is 1939.214360481481\n",
      "\n",
      "--------------------\n",
      "['USA']\n",
      "avg is 3613.5287151394423\n",
      "\n",
      "median is 3236.06\n",
      "\n",
      "range is 11317.2\n",
      "\n",
      "std is 1879.9971929724536\n",
      "\n",
      "--------------------\n",
      "['Australia' 'Austria' 'Belgium' 'Canada' 'Denmark' 'Finland' 'France'\n",
      " 'Germany' 'Ireland' 'Italy' 'Japan' 'Norway' 'Philippines' 'Singapore'\n",
      " 'Spain' 'Sweden' 'Switzerland' 'UK' 'USA']\n",
      "avg is 3553.889071909316\n",
      "\n",
      "median is 3184.8\n",
      "\n",
      "range is 11317.2\n",
      "\n",
      "std is 1841.5388520655404\n",
      "\n",
      "--------------------\n"
     ]
    }
   ],
   "source": [
    "all_countries= data_float[:,1] ==  data_float[:,1]\n",
    "countries = [spain_mask,france_mask,usa_mask,all_countries]\n",
    "\n",
    "for country in countries:\n",
    "    media= np.mean(data_float[country][:,1])\n",
    "    mediana= np.median(data_float[country][:,1])\n",
    "    rango= np.max(data_float[spain_mask][:,1]) - np.min(data_float[spain_mask][:,1])\n",
    "    std= np.std(data_float[country][:,1])\n",
    "    print(np.unique(data_str[country][:,-1]))\n",
    "    print(f\"avg is {media}\\n\")\n",
    "    print(f\"median is {mediana}\\n\")\n",
    "    print(f\"range is {rango}\\n\")\n",
    "    print(f\"std is {std}\\n\")\n",
    "    print('--------------------')"
   ]
  }
 ],
 "metadata": {
  "kernelspec": {
   "display_name": "Python 3",
   "language": "python",
   "name": "python3"
  },
  "language_info": {
   "codemirror_mode": {
    "name": "ipython",
    "version": 3
   },
   "file_extension": ".py",
   "mimetype": "text/x-python",
   "name": "python",
   "nbconvert_exporter": "python",
   "pygments_lexer": "ipython3",
   "version": "3.8.5"
  }
 },
 "nbformat": 4,
 "nbformat_minor": 4
}